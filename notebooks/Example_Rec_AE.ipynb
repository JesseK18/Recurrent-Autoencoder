{
  "nbformat": 4,
  "nbformat_minor": 0,
  "metadata": {
    "colab": {
      "name": "Example Rec AE.ipynb",
      "provenance": [],
      "collapsed_sections": [],
      "mount_file_id": "18GuJipgF0Vu9SU1s0YwvJoCqmCyLzR7f",
      "authorship_tag": "ABX9TyPmTV4Wxi6xtIAsk2j47Fjr",
      "include_colab_link": true
    },
    "kernelspec": {
      "name": "python3",
      "display_name": "Python 3"
    },
    "language_info": {
      "name": "python"
    },
    "accelerator": "GPU"
  },
  "cells": [
    {
      "cell_type": "markdown",
      "metadata": {
        "id": "view-in-github",
        "colab_type": "text"
      },
      "source": [
        "<a href=\"https://colab.research.google.com/github/PyLink88/Recurrent-Autoencoder/blob/hyper_tuning/notebooks/Example_Rec_AE.ipynb\" target=\"_parent\"><img src=\"https://colab.research.google.com/assets/colab-badge.svg\" alt=\"Open In Colab\"/></a>"
      ]
    },
    {
      "cell_type": "markdown",
      "metadata": {
        "id": "CQZYJdi0WvH2"
      },
      "source": [
        "# **Installing required dependencies**\n",
        "\n",
        "Before install dependencies, recall to set the \"Runtime\""
      ]
    },
    {
      "cell_type": "code",
      "metadata": {
        "colab": {
          "base_uri": "https://localhost:8080/"
        },
        "id": "n2JW2QS4WTmU",
        "outputId": "5ab48bf5-bf1d-4a6c-dd25-ce16d061b40a"
      },
      "source": [
        "# Installing the necessary dependencies before beginning \n",
        "\n",
        "print(\"Setting up colab environment\")\n",
        "!pip uninstall -y -q pyarrow\n",
        "!pip install -q -U ray[tune]\n",
        "!pip install -q ray[debug]\n",
        "\n",
        "# # A hack to force the runtime to restart, needed to include the above dependencies.\n",
        "print(\"Done installing! Restarting via forced crash.\")\n",
        "import os\n",
        "os._exit(0)"
      ],
      "execution_count": null,
      "outputs": [
        {
          "output_type": "stream",
          "text": [
            "Setting up colab environment\n",
            "\u001b[K     |████████████████████████████████| 49.7MB 61kB/s \n",
            "\u001b[K     |████████████████████████████████| 3.1MB 42.8MB/s \n",
            "\u001b[K     |████████████████████████████████| 133kB 2.3MB/s \n",
            "\u001b[K     |████████████████████████████████| 81kB 12.0MB/s \n",
            "\u001b[K     |████████████████████████████████| 1.3MB 38.6MB/s \n",
            "\u001b[K     |████████████████████████████████| 1.0MB 45.3MB/s \n",
            "\u001b[K     |████████████████████████████████| 81kB 10.1MB/s \n",
            "\u001b[K     |████████████████████████████████| 71kB 11.2MB/s \n",
            "\u001b[K     |████████████████████████████████| 122kB 61.5MB/s \n",
            "\u001b[K     |████████████████████████████████| 143kB 56.7MB/s \n",
            "\u001b[K     |████████████████████████████████| 296kB 49.5MB/s \n",
            "\u001b[K     |████████████████████████████████| 92kB 12.3MB/s \n",
            "\u001b[?25h  Building wheel for gpustat (setup.py) ... \u001b[?25l\u001b[?25hdone\n",
            "\u001b[33m  WARNING: ray 1.3.0 does not provide the extra 'debug'\u001b[0m\n"
          ],
          "name": "stdout"
        }
      ]
    },
    {
      "cell_type": "markdown",
      "metadata": {
        "id": "YMGJXVZEW7Fk"
      },
      "source": [
        "# **# Setting the path (IMPORTANT!!!)**"
      ]
    },
    {
      "cell_type": "code",
      "metadata": {
        "id": "22r5oJjwXAI3"
      },
      "source": [
        "# Setting the path\n",
        "import os\n",
        "os.chdir('/content/drive/MyDrive/RecAE')"
      ],
      "execution_count": 2,
      "outputs": []
    },
    {
      "cell_type": "markdown",
      "metadata": {
        "id": "WoHk8BcvXRa9"
      },
      "source": [
        "# **Data downloading and partitioning**\n"
      ]
    },
    {
      "cell_type": "code",
      "metadata": {
        "colab": {
          "base_uri": "https://localhost:8080/"
        },
        "id": "5JcXFdYaXV6c",
        "outputId": "5a8ac675-7258-443b-8178-8a20485be83b"
      },
      "source": [
        "!python utils/data_preparation.py 1 0.5 0.5 0.05"
      ],
      "execution_count": 3,
      "outputs": [
        {
          "output_type": "stream",
          "text": [
            "Create ECG5000 folder\n",
            "### Starting downloading ECG5000 data ###\n",
            "### Download done! ###\n",
            "Extracting all the files now...\n",
            "Extraction done!\n",
            "Create ECG5000/numpy folder\n",
            "Saved data in numpy\n",
            "Data preparation done!\n"
          ],
          "name": "stdout"
        }
      ]
    },
    {
      "cell_type": "markdown",
      "metadata": {
        "id": "OlvDnm5HXfAt"
      },
      "source": [
        "# **Model training and grid search**\n",
        "\n",
        "For model training with grid search, you can run the following cell, alternatively you can open the file \"main_tune.py\", set your configuration and then running \n",
        "\n",
        "\n",
        "```\n",
        "!python main_tune.py\n",
        "```\n",
        "\n",
        "\n",
        "\n",
        "\n"
      ]
    },
    {
      "cell_type": "code",
      "metadata": {
        "colab": {
          "base_uri": "https://localhost:8080/",
          "height": 1000
        },
        "id": "ojYtLbPfX598",
        "outputId": "f1a5a2de-8ab7-4ebc-b44e-14447286d463"
      },
      "source": [
        "import numpy as np\n",
        "import pandas as pd\n",
        "import os\n",
        "from ray import tune\n",
        "from easydict import EasyDict\n",
        "from functools import partial\n",
        "\n",
        "import torch\n",
        "import torch.nn as nn\n",
        "import torch.optim as optim\n",
        "\n",
        "from agents.rnn_autoencoder import RecurrentAEAgent\n",
        "from graphs.models.recurrent_autoencoder import RecurrentAE\n",
        "from datasets.common_loader import RecAEDataLoader \n",
        "\n",
        "import warnings\n",
        "warnings.filterwarnings(\"ignore\")\n",
        "\n",
        "# Project configuration\n",
        "config_rnn_ae = {\n",
        "\n",
        "    # Experiment information\n",
        "    \"agent\": \"RecurrentAEAgent\",\n",
        "\n",
        "    # Architecture hyperparameters\n",
        "    \"rnn_type\": \"GRU\",\n",
        "    \"rnn_act\": \"None\",\n",
        "    \"n_features\": 1, # Number of different input signals\n",
        "\n",
        "    # Optimization hyperparameters\n",
        "    \"batch_size_val\": 256,\n",
        "    \"max_epoch\": 3,\n",
        "\n",
        "    # AUC hyperparameters\n",
        "    'sampler_random_state': 88,\n",
        "\n",
        "    # Folder where to retrieve the data and their names (IMPORTANT: it must be a global dir)\n",
        "    \"data_folder\":  \"/content/drive/MyDrive/RecAE/data/ECG5000/numpy/\",\n",
        "    \"X_train\": \"X_train.npy\",\n",
        "    \"y_train\": \"y_train.npy\",\n",
        "    \"X_train_p\": \"X_train_p.npy\",\n",
        "    \"y_train_p\": \"y_train_p.npy\",\n",
        "    \"X_val\": \"X_val.npy\",\n",
        "    \"y_val\": \"y_val.npy\",\n",
        "    \"X_test\": \"X_test.npy\",\n",
        "    \"y_test\": \"y_test.npy\",\n",
        "    \"X_val_p\": \"X_val_p.npy\",\n",
        "    \"y_val_p\": \"y_val_p.npy\",\n",
        "\n",
        "    # GPU settings\n",
        "    \"cuda\": True,\n",
        "    \"device\": \"cuda\",\n",
        "    \"gpu_device\": 0,\n",
        "    \"seed\": 58,\n",
        "\n",
        "    # Tune\n",
        "    'tune': True\n",
        "}\n",
        "\n",
        "# From dict to easydict\n",
        "config_rnn_ae = EasyDict(config_rnn_ae)\n",
        "\n",
        "# First two parameters must be \"config\" and \"checkpoint_dir\"\n",
        "def tune_model(config, checkpoint_dir = None, config_rnn_ae = None):\n",
        "    \n",
        "    loss_type, lambda_reg = config['loss_param']\n",
        "    config['loss_type'] = loss_type\n",
        "    config['lambda_reg'] = lambda_reg\n",
        "\n",
        "    # TO DO add the following to directly to the agent class \n",
        "    if config[\"loss_type\"] == 'MAE':\n",
        "      config_rnn_ae.training_type = 'one_class'\n",
        "    else:\n",
        "      config_rnn_ae.training_type = 'more_class'\n",
        "\n",
        "    # Create an instance of the agent\n",
        "    agent = RecurrentAEAgent(config_rnn_ae)\n",
        "\n",
        "    # Create an instance from the data loader\n",
        "    agent.data_loader = RecAEDataLoader(config[\"batch_size\"], agent.config) \n",
        "\n",
        "    # Setting the model\n",
        "    agent.model = RecurrentAE(config[\"latent_dim\"], agent.config)\n",
        "    agent.model.to(agent.device)\n",
        "\n",
        "    # Setting the loss\n",
        "    agent.loss = agent.possible_loss[config[\"loss_type\"]]\n",
        "    agent.loss.to(agent.device)\n",
        "\n",
        "    # Setting the optimizer\n",
        "    agent.optimizer = torch.optim.Adam(agent.model.parameters(), lr = config[\"lr\"])\n",
        "    agent.train_tune(config['lambda_reg'], checkpoint_dir)\n",
        "\n",
        "    # Finalizing\n",
        "    agent.finalize_tune(checkpoint_dir)   \n",
        "    perf = agent.best_valid\n",
        "\n",
        "    # Metric to be reported by tune\n",
        "    tune.report(mean_accuracy = perf)\n",
        "\n",
        "\n",
        "# Folder where to save experiments the results\n",
        "my_dir = \"/content/drive/MyDrive/RecAE/experiments\"\n",
        "\n",
        "# Project name\n",
        "project_name ='ECG_5000' # Give a name like the dataset\n",
        "\n",
        "# Creating nested conditional grid \n",
        "def _iter_loss():\n",
        "    for loss in ['MAE','MAEAUC']:\n",
        "        if loss == 'MAE':\n",
        "            yield loss, 0\n",
        "        else:\n",
        "            for lambda_reg in [0.001,0.01, 0.1, 1, 10]:\n",
        "                yield loss, lambda_reg\n",
        "\n",
        "analysis = tune.run(partial(tune_model, config_rnn_ae = config_rnn_ae), \n",
        "                config = {\"latent_dim\": tune.grid_search([35, 70, 105]),\n",
        "                          \"lr\": tune.grid_search([0.001, 0.01]),\n",
        "                          \"batch_size\": tune.grid_search([256]),\n",
        "                          \"loss_param\": tune.grid_search(list(_iter_loss()))}, \n",
        "                resources_per_trial = {\"cpu\": 2, \"gpu\": 1}, \n",
        "                name = project_name, \n",
        "                local_dir = my_dir)\n",
        "\n",
        "\n",
        "# Saving all results\n",
        "df = analysis.dataframe()\n",
        "df.to_pickle(my_dir + '/df_analysis.pkl')\n",
        "\n",
        "\n",
        "\n",
        "                    \n",
        "\n",
        "\n",
        "\n"
      ],
      "execution_count": null,
      "outputs": [
        {
          "output_type": "stream",
          "text": [
            "/usr/local/lib/python3.7/dist-packages/ray/autoscaler/_private/cli_logger.py:61: FutureWarning: Not all Ray CLI dependencies were found. In Ray 1.4+, the Ray CLI, autoscaler, and dashboard will only be usable via `pip install 'ray[default]'`. Please update your install command.\n",
            "  \"update your install command.\", FutureWarning)\n",
            "2021-05-25 07:18:10,077\tINFO services.py:1269 -- View the Ray dashboard at \u001b[1m\u001b[32mhttp://127.0.0.1:8265\u001b[39m\u001b[22m\n",
            "2021-05-25 07:18:11,682\tWARNING experiment.py:294 -- No name detected on trainable. Using DEFAULT.\n",
            "2021-05-25 07:18:11,683\tINFO registry.py:65 -- Detected unknown callable for trainable. Converting to class.\n"
          ],
          "name": "stderr"
        },
        {
          "output_type": "display_data",
          "data": {
            "text/html": [
              "== Status ==<br>Memory usage on this node: 1.3/12.7 GiB<br>Using FIFO scheduling algorithm.<br>Resources requested: 2.0/2 CPUs, 1.0/1 GPUs, 0.0/7.33 GiB heap, 0.0/3.67 GiB objects (0.0/1.0 accelerator_type:T4)<br>Result logdir: /content/drive/MyDrive/RecAE/experiments/ECG_5000<br>Number of trials: 36/36 (35 PENDING, 1 RUNNING)<br><table>\n",
              "<thead>\n",
              "<tr><th>Trial name         </th><th>status  </th><th>loc  </th><th style=\"text-align: right;\">  batch_size</th><th style=\"text-align: right;\">  latent_dim</th><th>loss_param       </th><th style=\"text-align: right;\">   lr</th></tr>\n",
              "</thead>\n",
              "<tbody>\n",
              "<tr><td>DEFAULT_5d087_00000</td><td>RUNNING </td><td>     </td><td style=\"text-align: right;\">         256</td><td style=\"text-align: right;\">          35</td><td>(&#x27;MAE&#x27;, 0)       </td><td style=\"text-align: right;\">0.001</td></tr>\n",
              "<tr><td>DEFAULT_5d087_00001</td><td>PENDING </td><td>     </td><td style=\"text-align: right;\">         256</td><td style=\"text-align: right;\">          70</td><td>(&#x27;MAE&#x27;, 0)       </td><td style=\"text-align: right;\">0.001</td></tr>\n",
              "<tr><td>DEFAULT_5d087_00002</td><td>PENDING </td><td>     </td><td style=\"text-align: right;\">         256</td><td style=\"text-align: right;\">         105</td><td>(&#x27;MAE&#x27;, 0)       </td><td style=\"text-align: right;\">0.001</td></tr>\n",
              "<tr><td>DEFAULT_5d087_00003</td><td>PENDING </td><td>     </td><td style=\"text-align: right;\">         256</td><td style=\"text-align: right;\">          35</td><td>(&#x27;MAEAUC&#x27;, 0.001)</td><td style=\"text-align: right;\">0.001</td></tr>\n",
              "<tr><td>DEFAULT_5d087_00004</td><td>PENDING </td><td>     </td><td style=\"text-align: right;\">         256</td><td style=\"text-align: right;\">          70</td><td>(&#x27;MAEAUC&#x27;, 0.001)</td><td style=\"text-align: right;\">0.001</td></tr>\n",
              "<tr><td>DEFAULT_5d087_00005</td><td>PENDING </td><td>     </td><td style=\"text-align: right;\">         256</td><td style=\"text-align: right;\">         105</td><td>(&#x27;MAEAUC&#x27;, 0.001)</td><td style=\"text-align: right;\">0.001</td></tr>\n",
              "<tr><td>DEFAULT_5d087_00006</td><td>PENDING </td><td>     </td><td style=\"text-align: right;\">         256</td><td style=\"text-align: right;\">          35</td><td>(&#x27;MAEAUC&#x27;, 0.01) </td><td style=\"text-align: right;\">0.001</td></tr>\n",
              "<tr><td>DEFAULT_5d087_00007</td><td>PENDING </td><td>     </td><td style=\"text-align: right;\">         256</td><td style=\"text-align: right;\">          70</td><td>(&#x27;MAEAUC&#x27;, 0.01) </td><td style=\"text-align: right;\">0.001</td></tr>\n",
              "<tr><td>DEFAULT_5d087_00008</td><td>PENDING </td><td>     </td><td style=\"text-align: right;\">         256</td><td style=\"text-align: right;\">         105</td><td>(&#x27;MAEAUC&#x27;, 0.01) </td><td style=\"text-align: right;\">0.001</td></tr>\n",
              "<tr><td>DEFAULT_5d087_00009</td><td>PENDING </td><td>     </td><td style=\"text-align: right;\">         256</td><td style=\"text-align: right;\">          35</td><td>(&#x27;MAEAUC&#x27;, 0.1)  </td><td style=\"text-align: right;\">0.001</td></tr>\n",
              "<tr><td>DEFAULT_5d087_00010</td><td>PENDING </td><td>     </td><td style=\"text-align: right;\">         256</td><td style=\"text-align: right;\">          70</td><td>(&#x27;MAEAUC&#x27;, 0.1)  </td><td style=\"text-align: right;\">0.001</td></tr>\n",
              "<tr><td>DEFAULT_5d087_00011</td><td>PENDING </td><td>     </td><td style=\"text-align: right;\">         256</td><td style=\"text-align: right;\">         105</td><td>(&#x27;MAEAUC&#x27;, 0.1)  </td><td style=\"text-align: right;\">0.001</td></tr>\n",
              "<tr><td>DEFAULT_5d087_00012</td><td>PENDING </td><td>     </td><td style=\"text-align: right;\">         256</td><td style=\"text-align: right;\">          35</td><td>(&#x27;MAEAUC&#x27;, 1)    </td><td style=\"text-align: right;\">0.001</td></tr>\n",
              "<tr><td>DEFAULT_5d087_00013</td><td>PENDING </td><td>     </td><td style=\"text-align: right;\">         256</td><td style=\"text-align: right;\">          70</td><td>(&#x27;MAEAUC&#x27;, 1)    </td><td style=\"text-align: right;\">0.001</td></tr>\n",
              "<tr><td>DEFAULT_5d087_00014</td><td>PENDING </td><td>     </td><td style=\"text-align: right;\">         256</td><td style=\"text-align: right;\">         105</td><td>(&#x27;MAEAUC&#x27;, 1)    </td><td style=\"text-align: right;\">0.001</td></tr>\n",
              "<tr><td>DEFAULT_5d087_00015</td><td>PENDING </td><td>     </td><td style=\"text-align: right;\">         256</td><td style=\"text-align: right;\">          35</td><td>(&#x27;MAEAUC&#x27;, 10)   </td><td style=\"text-align: right;\">0.001</td></tr>\n",
              "<tr><td>DEFAULT_5d087_00016</td><td>PENDING </td><td>     </td><td style=\"text-align: right;\">         256</td><td style=\"text-align: right;\">          70</td><td>(&#x27;MAEAUC&#x27;, 10)   </td><td style=\"text-align: right;\">0.001</td></tr>\n",
              "<tr><td>DEFAULT_5d087_00017</td><td>PENDING </td><td>     </td><td style=\"text-align: right;\">         256</td><td style=\"text-align: right;\">         105</td><td>(&#x27;MAEAUC&#x27;, 10)   </td><td style=\"text-align: right;\">0.001</td></tr>\n",
              "<tr><td>DEFAULT_5d087_00018</td><td>PENDING </td><td>     </td><td style=\"text-align: right;\">         256</td><td style=\"text-align: right;\">          35</td><td>(&#x27;MAE&#x27;, 0)       </td><td style=\"text-align: right;\">0.01 </td></tr>\n",
              "<tr><td>DEFAULT_5d087_00019</td><td>PENDING </td><td>     </td><td style=\"text-align: right;\">         256</td><td style=\"text-align: right;\">          70</td><td>(&#x27;MAE&#x27;, 0)       </td><td style=\"text-align: right;\">0.01 </td></tr>\n",
              "</tbody>\n",
              "</table><br>... 16 more trials not shown (16 PENDING)<br><br>"
            ],
            "text/plain": [
              "<IPython.core.display.HTML object>"
            ]
          },
          "metadata": {
            "tags": []
          }
        },
        {
          "output_type": "stream",
          "text": [
            "\u001b[2m\u001b[36m(pid=545)\u001b[0m Operation will be on *****GPU-CUDA***** \n"
          ],
          "name": "stdout"
        },
        {
          "output_type": "display_data",
          "data": {
            "text/html": [
              "== Status ==<br>Memory usage on this node: 1.9/12.7 GiB<br>Using FIFO scheduling algorithm.<br>Resources requested: 2.0/2 CPUs, 1.0/1 GPUs, 0.0/7.33 GiB heap, 0.0/3.67 GiB objects (0.0/1.0 accelerator_type:T4)<br>Result logdir: /content/drive/MyDrive/RecAE/experiments/ECG_5000<br>Number of trials: 36/36 (35 PENDING, 1 RUNNING)<br><table>\n",
              "<thead>\n",
              "<tr><th>Trial name         </th><th>status  </th><th>loc  </th><th style=\"text-align: right;\">  batch_size</th><th style=\"text-align: right;\">  latent_dim</th><th>loss_param       </th><th style=\"text-align: right;\">   lr</th></tr>\n",
              "</thead>\n",
              "<tbody>\n",
              "<tr><td>DEFAULT_5d087_00000</td><td>RUNNING </td><td>     </td><td style=\"text-align: right;\">         256</td><td style=\"text-align: right;\">          35</td><td>(&#x27;MAE&#x27;, 0)       </td><td style=\"text-align: right;\">0.001</td></tr>\n",
              "<tr><td>DEFAULT_5d087_00001</td><td>PENDING </td><td>     </td><td style=\"text-align: right;\">         256</td><td style=\"text-align: right;\">          70</td><td>(&#x27;MAE&#x27;, 0)       </td><td style=\"text-align: right;\">0.001</td></tr>\n",
              "<tr><td>DEFAULT_5d087_00002</td><td>PENDING </td><td>     </td><td style=\"text-align: right;\">         256</td><td style=\"text-align: right;\">         105</td><td>(&#x27;MAE&#x27;, 0)       </td><td style=\"text-align: right;\">0.001</td></tr>\n",
              "<tr><td>DEFAULT_5d087_00003</td><td>PENDING </td><td>     </td><td style=\"text-align: right;\">         256</td><td style=\"text-align: right;\">          35</td><td>(&#x27;MAEAUC&#x27;, 0.001)</td><td style=\"text-align: right;\">0.001</td></tr>\n",
              "<tr><td>DEFAULT_5d087_00004</td><td>PENDING </td><td>     </td><td style=\"text-align: right;\">         256</td><td style=\"text-align: right;\">          70</td><td>(&#x27;MAEAUC&#x27;, 0.001)</td><td style=\"text-align: right;\">0.001</td></tr>\n",
              "<tr><td>DEFAULT_5d087_00005</td><td>PENDING </td><td>     </td><td style=\"text-align: right;\">         256</td><td style=\"text-align: right;\">         105</td><td>(&#x27;MAEAUC&#x27;, 0.001)</td><td style=\"text-align: right;\">0.001</td></tr>\n",
              "<tr><td>DEFAULT_5d087_00006</td><td>PENDING </td><td>     </td><td style=\"text-align: right;\">         256</td><td style=\"text-align: right;\">          35</td><td>(&#x27;MAEAUC&#x27;, 0.01) </td><td style=\"text-align: right;\">0.001</td></tr>\n",
              "<tr><td>DEFAULT_5d087_00007</td><td>PENDING </td><td>     </td><td style=\"text-align: right;\">         256</td><td style=\"text-align: right;\">          70</td><td>(&#x27;MAEAUC&#x27;, 0.01) </td><td style=\"text-align: right;\">0.001</td></tr>\n",
              "<tr><td>DEFAULT_5d087_00008</td><td>PENDING </td><td>     </td><td style=\"text-align: right;\">         256</td><td style=\"text-align: right;\">         105</td><td>(&#x27;MAEAUC&#x27;, 0.01) </td><td style=\"text-align: right;\">0.001</td></tr>\n",
              "<tr><td>DEFAULT_5d087_00009</td><td>PENDING </td><td>     </td><td style=\"text-align: right;\">         256</td><td style=\"text-align: right;\">          35</td><td>(&#x27;MAEAUC&#x27;, 0.1)  </td><td style=\"text-align: right;\">0.001</td></tr>\n",
              "<tr><td>DEFAULT_5d087_00010</td><td>PENDING </td><td>     </td><td style=\"text-align: right;\">         256</td><td style=\"text-align: right;\">          70</td><td>(&#x27;MAEAUC&#x27;, 0.1)  </td><td style=\"text-align: right;\">0.001</td></tr>\n",
              "<tr><td>DEFAULT_5d087_00011</td><td>PENDING </td><td>     </td><td style=\"text-align: right;\">         256</td><td style=\"text-align: right;\">         105</td><td>(&#x27;MAEAUC&#x27;, 0.1)  </td><td style=\"text-align: right;\">0.001</td></tr>\n",
              "<tr><td>DEFAULT_5d087_00012</td><td>PENDING </td><td>     </td><td style=\"text-align: right;\">         256</td><td style=\"text-align: right;\">          35</td><td>(&#x27;MAEAUC&#x27;, 1)    </td><td style=\"text-align: right;\">0.001</td></tr>\n",
              "<tr><td>DEFAULT_5d087_00013</td><td>PENDING </td><td>     </td><td style=\"text-align: right;\">         256</td><td style=\"text-align: right;\">          70</td><td>(&#x27;MAEAUC&#x27;, 1)    </td><td style=\"text-align: right;\">0.001</td></tr>\n",
              "<tr><td>DEFAULT_5d087_00014</td><td>PENDING </td><td>     </td><td style=\"text-align: right;\">         256</td><td style=\"text-align: right;\">         105</td><td>(&#x27;MAEAUC&#x27;, 1)    </td><td style=\"text-align: right;\">0.001</td></tr>\n",
              "<tr><td>DEFAULT_5d087_00015</td><td>PENDING </td><td>     </td><td style=\"text-align: right;\">         256</td><td style=\"text-align: right;\">          35</td><td>(&#x27;MAEAUC&#x27;, 10)   </td><td style=\"text-align: right;\">0.001</td></tr>\n",
              "<tr><td>DEFAULT_5d087_00016</td><td>PENDING </td><td>     </td><td style=\"text-align: right;\">         256</td><td style=\"text-align: right;\">          70</td><td>(&#x27;MAEAUC&#x27;, 10)   </td><td style=\"text-align: right;\">0.001</td></tr>\n",
              "<tr><td>DEFAULT_5d087_00017</td><td>PENDING </td><td>     </td><td style=\"text-align: right;\">         256</td><td style=\"text-align: right;\">         105</td><td>(&#x27;MAEAUC&#x27;, 10)   </td><td style=\"text-align: right;\">0.001</td></tr>\n",
              "<tr><td>DEFAULT_5d087_00018</td><td>PENDING </td><td>     </td><td style=\"text-align: right;\">         256</td><td style=\"text-align: right;\">          35</td><td>(&#x27;MAE&#x27;, 0)       </td><td style=\"text-align: right;\">0.01 </td></tr>\n",
              "<tr><td>DEFAULT_5d087_00019</td><td>PENDING </td><td>     </td><td style=\"text-align: right;\">         256</td><td style=\"text-align: right;\">          70</td><td>(&#x27;MAE&#x27;, 0)       </td><td style=\"text-align: right;\">0.01 </td></tr>\n",
              "</tbody>\n",
              "</table><br>... 16 more trials not shown (16 PENDING)<br><br>"
            ],
            "text/plain": [
              "<IPython.core.display.HTML object>"
            ]
          },
          "metadata": {
            "tags": []
          }
        },
        {
          "output_type": "stream",
          "text": [
            "Result for DEFAULT_5d087_00000:\n",
            "  date: 2021-05-25_07-18-25\n",
            "  done: false\n",
            "  experiment_id: 8a90f6d5017e4b0097cc562b1a23b830\n",
            "  hostname: d76bb801c9dd\n",
            "  iterations_since_restore: 1\n",
            "  mean_accuracy: 1.9955949187278748\n",
            "  node_ip: 172.28.0.2\n",
            "  pid: 545\n",
            "  should_checkpoint: true\n",
            "  time_since_restore: 12.324602842330933\n",
            "  time_this_iter_s: 12.324602842330933\n",
            "  time_total_s: 12.324602842330933\n",
            "  timestamp: 1621927105\n",
            "  timesteps_since_restore: 0\n",
            "  training_iteration: 1\n",
            "  trial_id: 5d087_00000\n",
            "  \n"
          ],
          "name": "stdout"
        },
        {
          "output_type": "display_data",
          "data": {
            "text/html": [
              "== Status ==<br>Memory usage on this node: 3.0/12.7 GiB<br>Using FIFO scheduling algorithm.<br>Resources requested: 2.0/2 CPUs, 1.0/1 GPUs, 0.0/7.33 GiB heap, 0.0/3.67 GiB objects (0.0/1.0 accelerator_type:T4)<br>Result logdir: /content/drive/MyDrive/RecAE/experiments/ECG_5000<br>Number of trials: 36/36 (35 PENDING, 1 RUNNING)<br><table>\n",
              "<thead>\n",
              "<tr><th>Trial name         </th><th>status  </th><th>loc           </th><th style=\"text-align: right;\">  batch_size</th><th style=\"text-align: right;\">  latent_dim</th><th>loss_param       </th><th style=\"text-align: right;\">   lr</th><th style=\"text-align: right;\">    acc</th><th style=\"text-align: right;\">  iter</th><th style=\"text-align: right;\">  total time (s)</th></tr>\n",
              "</thead>\n",
              "<tbody>\n",
              "<tr><td>DEFAULT_5d087_00000</td><td>RUNNING </td><td>172.28.0.2:545</td><td style=\"text-align: right;\">         256</td><td style=\"text-align: right;\">          35</td><td>(&#x27;MAE&#x27;, 0)       </td><td style=\"text-align: right;\">0.001</td><td style=\"text-align: right;\">1.99559</td><td style=\"text-align: right;\">     1</td><td style=\"text-align: right;\">         12.3246</td></tr>\n",
              "<tr><td>DEFAULT_5d087_00001</td><td>PENDING </td><td>              </td><td style=\"text-align: right;\">         256</td><td style=\"text-align: right;\">          70</td><td>(&#x27;MAE&#x27;, 0)       </td><td style=\"text-align: right;\">0.001</td><td style=\"text-align: right;\">       </td><td style=\"text-align: right;\">      </td><td style=\"text-align: right;\">                </td></tr>\n",
              "<tr><td>DEFAULT_5d087_00002</td><td>PENDING </td><td>              </td><td style=\"text-align: right;\">         256</td><td style=\"text-align: right;\">         105</td><td>(&#x27;MAE&#x27;, 0)       </td><td style=\"text-align: right;\">0.001</td><td style=\"text-align: right;\">       </td><td style=\"text-align: right;\">      </td><td style=\"text-align: right;\">                </td></tr>\n",
              "<tr><td>DEFAULT_5d087_00003</td><td>PENDING </td><td>              </td><td style=\"text-align: right;\">         256</td><td style=\"text-align: right;\">          35</td><td>(&#x27;MAEAUC&#x27;, 0.001)</td><td style=\"text-align: right;\">0.001</td><td style=\"text-align: right;\">       </td><td style=\"text-align: right;\">      </td><td style=\"text-align: right;\">                </td></tr>\n",
              "<tr><td>DEFAULT_5d087_00004</td><td>PENDING </td><td>              </td><td style=\"text-align: right;\">         256</td><td style=\"text-align: right;\">          70</td><td>(&#x27;MAEAUC&#x27;, 0.001)</td><td style=\"text-align: right;\">0.001</td><td style=\"text-align: right;\">       </td><td style=\"text-align: right;\">      </td><td style=\"text-align: right;\">                </td></tr>\n",
              "<tr><td>DEFAULT_5d087_00005</td><td>PENDING </td><td>              </td><td style=\"text-align: right;\">         256</td><td style=\"text-align: right;\">         105</td><td>(&#x27;MAEAUC&#x27;, 0.001)</td><td style=\"text-align: right;\">0.001</td><td style=\"text-align: right;\">       </td><td style=\"text-align: right;\">      </td><td style=\"text-align: right;\">                </td></tr>\n",
              "<tr><td>DEFAULT_5d087_00006</td><td>PENDING </td><td>              </td><td style=\"text-align: right;\">         256</td><td style=\"text-align: right;\">          35</td><td>(&#x27;MAEAUC&#x27;, 0.01) </td><td style=\"text-align: right;\">0.001</td><td style=\"text-align: right;\">       </td><td style=\"text-align: right;\">      </td><td style=\"text-align: right;\">                </td></tr>\n",
              "<tr><td>DEFAULT_5d087_00007</td><td>PENDING </td><td>              </td><td style=\"text-align: right;\">         256</td><td style=\"text-align: right;\">          70</td><td>(&#x27;MAEAUC&#x27;, 0.01) </td><td style=\"text-align: right;\">0.001</td><td style=\"text-align: right;\">       </td><td style=\"text-align: right;\">      </td><td style=\"text-align: right;\">                </td></tr>\n",
              "<tr><td>DEFAULT_5d087_00008</td><td>PENDING </td><td>              </td><td style=\"text-align: right;\">         256</td><td style=\"text-align: right;\">         105</td><td>(&#x27;MAEAUC&#x27;, 0.01) </td><td style=\"text-align: right;\">0.001</td><td style=\"text-align: right;\">       </td><td style=\"text-align: right;\">      </td><td style=\"text-align: right;\">                </td></tr>\n",
              "<tr><td>DEFAULT_5d087_00009</td><td>PENDING </td><td>              </td><td style=\"text-align: right;\">         256</td><td style=\"text-align: right;\">          35</td><td>(&#x27;MAEAUC&#x27;, 0.1)  </td><td style=\"text-align: right;\">0.001</td><td style=\"text-align: right;\">       </td><td style=\"text-align: right;\">      </td><td style=\"text-align: right;\">                </td></tr>\n",
              "<tr><td>DEFAULT_5d087_00010</td><td>PENDING </td><td>              </td><td style=\"text-align: right;\">         256</td><td style=\"text-align: right;\">          70</td><td>(&#x27;MAEAUC&#x27;, 0.1)  </td><td style=\"text-align: right;\">0.001</td><td style=\"text-align: right;\">       </td><td style=\"text-align: right;\">      </td><td style=\"text-align: right;\">                </td></tr>\n",
              "<tr><td>DEFAULT_5d087_00011</td><td>PENDING </td><td>              </td><td style=\"text-align: right;\">         256</td><td style=\"text-align: right;\">         105</td><td>(&#x27;MAEAUC&#x27;, 0.1)  </td><td style=\"text-align: right;\">0.001</td><td style=\"text-align: right;\">       </td><td style=\"text-align: right;\">      </td><td style=\"text-align: right;\">                </td></tr>\n",
              "<tr><td>DEFAULT_5d087_00012</td><td>PENDING </td><td>              </td><td style=\"text-align: right;\">         256</td><td style=\"text-align: right;\">          35</td><td>(&#x27;MAEAUC&#x27;, 1)    </td><td style=\"text-align: right;\">0.001</td><td style=\"text-align: right;\">       </td><td style=\"text-align: right;\">      </td><td style=\"text-align: right;\">                </td></tr>\n",
              "<tr><td>DEFAULT_5d087_00013</td><td>PENDING </td><td>              </td><td style=\"text-align: right;\">         256</td><td style=\"text-align: right;\">          70</td><td>(&#x27;MAEAUC&#x27;, 1)    </td><td style=\"text-align: right;\">0.001</td><td style=\"text-align: right;\">       </td><td style=\"text-align: right;\">      </td><td style=\"text-align: right;\">                </td></tr>\n",
              "<tr><td>DEFAULT_5d087_00014</td><td>PENDING </td><td>              </td><td style=\"text-align: right;\">         256</td><td style=\"text-align: right;\">         105</td><td>(&#x27;MAEAUC&#x27;, 1)    </td><td style=\"text-align: right;\">0.001</td><td style=\"text-align: right;\">       </td><td style=\"text-align: right;\">      </td><td style=\"text-align: right;\">                </td></tr>\n",
              "<tr><td>DEFAULT_5d087_00015</td><td>PENDING </td><td>              </td><td style=\"text-align: right;\">         256</td><td style=\"text-align: right;\">          35</td><td>(&#x27;MAEAUC&#x27;, 10)   </td><td style=\"text-align: right;\">0.001</td><td style=\"text-align: right;\">       </td><td style=\"text-align: right;\">      </td><td style=\"text-align: right;\">                </td></tr>\n",
              "<tr><td>DEFAULT_5d087_00016</td><td>PENDING </td><td>              </td><td style=\"text-align: right;\">         256</td><td style=\"text-align: right;\">          70</td><td>(&#x27;MAEAUC&#x27;, 10)   </td><td style=\"text-align: right;\">0.001</td><td style=\"text-align: right;\">       </td><td style=\"text-align: right;\">      </td><td style=\"text-align: right;\">                </td></tr>\n",
              "<tr><td>DEFAULT_5d087_00017</td><td>PENDING </td><td>              </td><td style=\"text-align: right;\">         256</td><td style=\"text-align: right;\">         105</td><td>(&#x27;MAEAUC&#x27;, 10)   </td><td style=\"text-align: right;\">0.001</td><td style=\"text-align: right;\">       </td><td style=\"text-align: right;\">      </td><td style=\"text-align: right;\">                </td></tr>\n",
              "<tr><td>DEFAULT_5d087_00018</td><td>PENDING </td><td>              </td><td style=\"text-align: right;\">         256</td><td style=\"text-align: right;\">          35</td><td>(&#x27;MAE&#x27;, 0)       </td><td style=\"text-align: right;\">0.01 </td><td style=\"text-align: right;\">       </td><td style=\"text-align: right;\">      </td><td style=\"text-align: right;\">                </td></tr>\n",
              "<tr><td>DEFAULT_5d087_00019</td><td>PENDING </td><td>              </td><td style=\"text-align: right;\">         256</td><td style=\"text-align: right;\">          70</td><td>(&#x27;MAE&#x27;, 0)       </td><td style=\"text-align: right;\">0.01 </td><td style=\"text-align: right;\">       </td><td style=\"text-align: right;\">      </td><td style=\"text-align: right;\">                </td></tr>\n",
              "</tbody>\n",
              "</table><br>... 16 more trials not shown (16 PENDING)<br><br>"
            ],
            "text/plain": [
              "<IPython.core.display.HTML object>"
            ]
          },
          "metadata": {
            "tags": []
          }
        },
        {
          "output_type": "stream",
          "text": [
            "2021-05-25 07:18:25,794\tINFO logger.py:690 -- Removed the following hyperparameter values when logging to tensorboard: {'loss_param': ('MAE', 0)}\n"
          ],
          "name": "stderr"
        },
        {
          "output_type": "stream",
          "text": [
            "Result for DEFAULT_5d087_00000:\n",
            "  date: 2021-05-25_07-18-25\n",
            "  done: true\n",
            "  experiment_id: 8a90f6d5017e4b0097cc562b1a23b830\n",
            "  experiment_tag: 0_batch_size=256,latent_dim=35,loss_param=('MAE', 0),lr=0.001\n",
            "  hostname: d76bb801c9dd\n",
            "  iterations_since_restore: 1\n",
            "  mean_accuracy: 1.9955949187278748\n",
            "  node_ip: 172.28.0.2\n",
            "  pid: 545\n",
            "  should_checkpoint: true\n",
            "  time_since_restore: 12.324602842330933\n",
            "  time_this_iter_s: 12.324602842330933\n",
            "  time_total_s: 12.324602842330933\n",
            "  timestamp: 1621927105\n",
            "  timesteps_since_restore: 0\n",
            "  training_iteration: 1\n",
            "  trial_id: 5d087_00000\n",
            "  \n",
            "\u001b[2m\u001b[36m(pid=544)\u001b[0m Operation will be on *****GPU-CUDA***** \n",
            "Result for DEFAULT_5d087_00001:\n",
            "  date: 2021-05-25_07-18-31\n",
            "  done: false\n",
            "  experiment_id: b46cfb2e576f407a948124fcabaac7a4\n",
            "  hostname: d76bb801c9dd\n",
            "  iterations_since_restore: 1\n",
            "  mean_accuracy: 1.9824655055999756\n",
            "  node_ip: 172.28.0.2\n",
            "  pid: 544\n",
            "  should_checkpoint: true\n",
            "  time_since_restore: 4.704089879989624\n",
            "  time_this_iter_s: 4.704089879989624\n",
            "  time_total_s: 4.704089879989624\n",
            "  timestamp: 1621927111\n",
            "  timesteps_since_restore: 0\n",
            "  training_iteration: 1\n",
            "  trial_id: 5d087_00001\n",
            "  \n"
          ],
          "name": "stdout"
        },
        {
          "output_type": "display_data",
          "data": {
            "text/html": [
              "== Status ==<br>Memory usage on this node: 2.9/12.7 GiB<br>Using FIFO scheduling algorithm.<br>Resources requested: 2.0/2 CPUs, 1.0/1 GPUs, 0.0/7.33 GiB heap, 0.0/3.67 GiB objects (0.0/1.0 accelerator_type:T4)<br>Result logdir: /content/drive/MyDrive/RecAE/experiments/ECG_5000<br>Number of trials: 36/36 (34 PENDING, 1 RUNNING, 1 TERMINATED)<br><table>\n",
              "<thead>\n",
              "<tr><th>Trial name         </th><th>status    </th><th>loc           </th><th style=\"text-align: right;\">  batch_size</th><th style=\"text-align: right;\">  latent_dim</th><th>loss_param       </th><th style=\"text-align: right;\">   lr</th><th style=\"text-align: right;\">    acc</th><th style=\"text-align: right;\">  iter</th><th style=\"text-align: right;\">  total time (s)</th></tr>\n",
              "</thead>\n",
              "<tbody>\n",
              "<tr><td>DEFAULT_5d087_00001</td><td>RUNNING   </td><td>172.28.0.2:544</td><td style=\"text-align: right;\">         256</td><td style=\"text-align: right;\">          70</td><td>(&#x27;MAE&#x27;, 0)       </td><td style=\"text-align: right;\">0.001</td><td style=\"text-align: right;\">1.98247</td><td style=\"text-align: right;\">     1</td><td style=\"text-align: right;\">         4.70409</td></tr>\n",
              "<tr><td>DEFAULT_5d087_00002</td><td>PENDING   </td><td>              </td><td style=\"text-align: right;\">         256</td><td style=\"text-align: right;\">         105</td><td>(&#x27;MAE&#x27;, 0)       </td><td style=\"text-align: right;\">0.001</td><td style=\"text-align: right;\">       </td><td style=\"text-align: right;\">      </td><td style=\"text-align: right;\">                </td></tr>\n",
              "<tr><td>DEFAULT_5d087_00003</td><td>PENDING   </td><td>              </td><td style=\"text-align: right;\">         256</td><td style=\"text-align: right;\">          35</td><td>(&#x27;MAEAUC&#x27;, 0.001)</td><td style=\"text-align: right;\">0.001</td><td style=\"text-align: right;\">       </td><td style=\"text-align: right;\">      </td><td style=\"text-align: right;\">                </td></tr>\n",
              "<tr><td>DEFAULT_5d087_00004</td><td>PENDING   </td><td>              </td><td style=\"text-align: right;\">         256</td><td style=\"text-align: right;\">          70</td><td>(&#x27;MAEAUC&#x27;, 0.001)</td><td style=\"text-align: right;\">0.001</td><td style=\"text-align: right;\">       </td><td style=\"text-align: right;\">      </td><td style=\"text-align: right;\">                </td></tr>\n",
              "<tr><td>DEFAULT_5d087_00005</td><td>PENDING   </td><td>              </td><td style=\"text-align: right;\">         256</td><td style=\"text-align: right;\">         105</td><td>(&#x27;MAEAUC&#x27;, 0.001)</td><td style=\"text-align: right;\">0.001</td><td style=\"text-align: right;\">       </td><td style=\"text-align: right;\">      </td><td style=\"text-align: right;\">                </td></tr>\n",
              "<tr><td>DEFAULT_5d087_00006</td><td>PENDING   </td><td>              </td><td style=\"text-align: right;\">         256</td><td style=\"text-align: right;\">          35</td><td>(&#x27;MAEAUC&#x27;, 0.01) </td><td style=\"text-align: right;\">0.001</td><td style=\"text-align: right;\">       </td><td style=\"text-align: right;\">      </td><td style=\"text-align: right;\">                </td></tr>\n",
              "<tr><td>DEFAULT_5d087_00007</td><td>PENDING   </td><td>              </td><td style=\"text-align: right;\">         256</td><td style=\"text-align: right;\">          70</td><td>(&#x27;MAEAUC&#x27;, 0.01) </td><td style=\"text-align: right;\">0.001</td><td style=\"text-align: right;\">       </td><td style=\"text-align: right;\">      </td><td style=\"text-align: right;\">                </td></tr>\n",
              "<tr><td>DEFAULT_5d087_00008</td><td>PENDING   </td><td>              </td><td style=\"text-align: right;\">         256</td><td style=\"text-align: right;\">         105</td><td>(&#x27;MAEAUC&#x27;, 0.01) </td><td style=\"text-align: right;\">0.001</td><td style=\"text-align: right;\">       </td><td style=\"text-align: right;\">      </td><td style=\"text-align: right;\">                </td></tr>\n",
              "<tr><td>DEFAULT_5d087_00009</td><td>PENDING   </td><td>              </td><td style=\"text-align: right;\">         256</td><td style=\"text-align: right;\">          35</td><td>(&#x27;MAEAUC&#x27;, 0.1)  </td><td style=\"text-align: right;\">0.001</td><td style=\"text-align: right;\">       </td><td style=\"text-align: right;\">      </td><td style=\"text-align: right;\">                </td></tr>\n",
              "<tr><td>DEFAULT_5d087_00010</td><td>PENDING   </td><td>              </td><td style=\"text-align: right;\">         256</td><td style=\"text-align: right;\">          70</td><td>(&#x27;MAEAUC&#x27;, 0.1)  </td><td style=\"text-align: right;\">0.001</td><td style=\"text-align: right;\">       </td><td style=\"text-align: right;\">      </td><td style=\"text-align: right;\">                </td></tr>\n",
              "<tr><td>DEFAULT_5d087_00011</td><td>PENDING   </td><td>              </td><td style=\"text-align: right;\">         256</td><td style=\"text-align: right;\">         105</td><td>(&#x27;MAEAUC&#x27;, 0.1)  </td><td style=\"text-align: right;\">0.001</td><td style=\"text-align: right;\">       </td><td style=\"text-align: right;\">      </td><td style=\"text-align: right;\">                </td></tr>\n",
              "<tr><td>DEFAULT_5d087_00012</td><td>PENDING   </td><td>              </td><td style=\"text-align: right;\">         256</td><td style=\"text-align: right;\">          35</td><td>(&#x27;MAEAUC&#x27;, 1)    </td><td style=\"text-align: right;\">0.001</td><td style=\"text-align: right;\">       </td><td style=\"text-align: right;\">      </td><td style=\"text-align: right;\">                </td></tr>\n",
              "<tr><td>DEFAULT_5d087_00013</td><td>PENDING   </td><td>              </td><td style=\"text-align: right;\">         256</td><td style=\"text-align: right;\">          70</td><td>(&#x27;MAEAUC&#x27;, 1)    </td><td style=\"text-align: right;\">0.001</td><td style=\"text-align: right;\">       </td><td style=\"text-align: right;\">      </td><td style=\"text-align: right;\">                </td></tr>\n",
              "<tr><td>DEFAULT_5d087_00014</td><td>PENDING   </td><td>              </td><td style=\"text-align: right;\">         256</td><td style=\"text-align: right;\">         105</td><td>(&#x27;MAEAUC&#x27;, 1)    </td><td style=\"text-align: right;\">0.001</td><td style=\"text-align: right;\">       </td><td style=\"text-align: right;\">      </td><td style=\"text-align: right;\">                </td></tr>\n",
              "<tr><td>DEFAULT_5d087_00015</td><td>PENDING   </td><td>              </td><td style=\"text-align: right;\">         256</td><td style=\"text-align: right;\">          35</td><td>(&#x27;MAEAUC&#x27;, 10)   </td><td style=\"text-align: right;\">0.001</td><td style=\"text-align: right;\">       </td><td style=\"text-align: right;\">      </td><td style=\"text-align: right;\">                </td></tr>\n",
              "<tr><td>DEFAULT_5d087_00016</td><td>PENDING   </td><td>              </td><td style=\"text-align: right;\">         256</td><td style=\"text-align: right;\">          70</td><td>(&#x27;MAEAUC&#x27;, 10)   </td><td style=\"text-align: right;\">0.001</td><td style=\"text-align: right;\">       </td><td style=\"text-align: right;\">      </td><td style=\"text-align: right;\">                </td></tr>\n",
              "<tr><td>DEFAULT_5d087_00017</td><td>PENDING   </td><td>              </td><td style=\"text-align: right;\">         256</td><td style=\"text-align: right;\">         105</td><td>(&#x27;MAEAUC&#x27;, 10)   </td><td style=\"text-align: right;\">0.001</td><td style=\"text-align: right;\">       </td><td style=\"text-align: right;\">      </td><td style=\"text-align: right;\">                </td></tr>\n",
              "<tr><td>DEFAULT_5d087_00018</td><td>PENDING   </td><td>              </td><td style=\"text-align: right;\">         256</td><td style=\"text-align: right;\">          35</td><td>(&#x27;MAE&#x27;, 0)       </td><td style=\"text-align: right;\">0.01 </td><td style=\"text-align: right;\">       </td><td style=\"text-align: right;\">      </td><td style=\"text-align: right;\">                </td></tr>\n",
              "<tr><td>DEFAULT_5d087_00019</td><td>PENDING   </td><td>              </td><td style=\"text-align: right;\">         256</td><td style=\"text-align: right;\">          70</td><td>(&#x27;MAE&#x27;, 0)       </td><td style=\"text-align: right;\">0.01 </td><td style=\"text-align: right;\">       </td><td style=\"text-align: right;\">      </td><td style=\"text-align: right;\">                </td></tr>\n",
              "<tr><td>DEFAULT_5d087_00000</td><td>TERMINATED</td><td>              </td><td style=\"text-align: right;\">         256</td><td style=\"text-align: right;\">          35</td><td>(&#x27;MAE&#x27;, 0)       </td><td style=\"text-align: right;\">0.001</td><td style=\"text-align: right;\">1.99559</td><td style=\"text-align: right;\">     1</td><td style=\"text-align: right;\">        12.3246 </td></tr>\n",
              "</tbody>\n",
              "</table><br>... 16 more trials not shown (16 PENDING)<br><br>"
            ],
            "text/plain": [
              "<IPython.core.display.HTML object>"
            ]
          },
          "metadata": {
            "tags": []
          }
        },
        {
          "output_type": "stream",
          "text": [
            "2021-05-25 07:18:32,155\tINFO logger.py:690 -- Removed the following hyperparameter values when logging to tensorboard: {'loss_param': ('MAE', 0)}\n"
          ],
          "name": "stderr"
        },
        {
          "output_type": "stream",
          "text": [
            "Result for DEFAULT_5d087_00001:\n",
            "  date: 2021-05-25_07-18-31\n",
            "  done: true\n",
            "  experiment_id: b46cfb2e576f407a948124fcabaac7a4\n",
            "  experiment_tag: 1_batch_size=256,latent_dim=70,loss_param=('MAE', 0),lr=0.001\n",
            "  hostname: d76bb801c9dd\n",
            "  iterations_since_restore: 1\n",
            "  mean_accuracy: 1.9824655055999756\n",
            "  node_ip: 172.28.0.2\n",
            "  pid: 544\n",
            "  should_checkpoint: true\n",
            "  time_since_restore: 4.704089879989624\n",
            "  time_this_iter_s: 4.704089879989624\n",
            "  time_total_s: 4.704089879989624\n",
            "  timestamp: 1621927111\n",
            "  timesteps_since_restore: 0\n",
            "  training_iteration: 1\n",
            "  trial_id: 5d087_00001\n",
            "  \n"
          ],
          "name": "stdout"
        },
        {
          "output_type": "stream",
          "text": [
            "\u001b[2m\u001b[33m(raylet)\u001b[0m /usr/local/lib/python3.7/dist-packages/ray/autoscaler/_private/cli_logger.py:61: FutureWarning: Not all Ray CLI dependencies were found. In Ray 1.4+, the Ray CLI, autoscaler, and dashboard will only be usable via `pip install 'ray[default]'`. Please update your install command.\n",
            "\u001b[2m\u001b[33m(raylet)\u001b[0m   \"update your install command.\", FutureWarning)\n"
          ],
          "name": "stderr"
        },
        {
          "output_type": "stream",
          "text": [
            "\u001b[2m\u001b[36m(pid=619)\u001b[0m Operation will be on *****GPU-CUDA***** \n",
            "Result for DEFAULT_5d087_00002:\n",
            "  date: 2021-05-25_07-18-38\n",
            "  done: false\n",
            "  experiment_id: a2c31ecb4c5c4faab481ebb67e493b85\n",
            "  hostname: d76bb801c9dd\n",
            "  iterations_since_restore: 1\n",
            "  mean_accuracy: 1.9895454049110413\n",
            "  node_ip: 172.28.0.2\n",
            "  pid: 619\n",
            "  should_checkpoint: true\n",
            "  time_since_restore: 4.801422357559204\n",
            "  time_this_iter_s: 4.801422357559204\n",
            "  time_total_s: 4.801422357559204\n",
            "  timestamp: 1621927118\n",
            "  timesteps_since_restore: 0\n",
            "  training_iteration: 1\n",
            "  trial_id: 5d087_00002\n",
            "  \n"
          ],
          "name": "stdout"
        },
        {
          "output_type": "display_data",
          "data": {
            "text/html": [
              "== Status ==<br>Memory usage on this node: 2.9/12.7 GiB<br>Using FIFO scheduling algorithm.<br>Resources requested: 2.0/2 CPUs, 1.0/1 GPUs, 0.0/7.33 GiB heap, 0.0/3.67 GiB objects (0.0/1.0 accelerator_type:T4)<br>Result logdir: /content/drive/MyDrive/RecAE/experiments/ECG_5000<br>Number of trials: 36/36 (33 PENDING, 1 RUNNING, 2 TERMINATED)<br><table>\n",
              "<thead>\n",
              "<tr><th>Trial name         </th><th>status    </th><th>loc           </th><th style=\"text-align: right;\">  batch_size</th><th style=\"text-align: right;\">  latent_dim</th><th>loss_param       </th><th style=\"text-align: right;\">   lr</th><th style=\"text-align: right;\">    acc</th><th style=\"text-align: right;\">  iter</th><th style=\"text-align: right;\">  total time (s)</th></tr>\n",
              "</thead>\n",
              "<tbody>\n",
              "<tr><td>DEFAULT_5d087_00002</td><td>RUNNING   </td><td>172.28.0.2:619</td><td style=\"text-align: right;\">         256</td><td style=\"text-align: right;\">         105</td><td>(&#x27;MAE&#x27;, 0)       </td><td style=\"text-align: right;\">0.001</td><td style=\"text-align: right;\">1.98955</td><td style=\"text-align: right;\">     1</td><td style=\"text-align: right;\">         4.80142</td></tr>\n",
              "<tr><td>DEFAULT_5d087_00003</td><td>PENDING   </td><td>              </td><td style=\"text-align: right;\">         256</td><td style=\"text-align: right;\">          35</td><td>(&#x27;MAEAUC&#x27;, 0.001)</td><td style=\"text-align: right;\">0.001</td><td style=\"text-align: right;\">       </td><td style=\"text-align: right;\">      </td><td style=\"text-align: right;\">                </td></tr>\n",
              "<tr><td>DEFAULT_5d087_00004</td><td>PENDING   </td><td>              </td><td style=\"text-align: right;\">         256</td><td style=\"text-align: right;\">          70</td><td>(&#x27;MAEAUC&#x27;, 0.001)</td><td style=\"text-align: right;\">0.001</td><td style=\"text-align: right;\">       </td><td style=\"text-align: right;\">      </td><td style=\"text-align: right;\">                </td></tr>\n",
              "<tr><td>DEFAULT_5d087_00005</td><td>PENDING   </td><td>              </td><td style=\"text-align: right;\">         256</td><td style=\"text-align: right;\">         105</td><td>(&#x27;MAEAUC&#x27;, 0.001)</td><td style=\"text-align: right;\">0.001</td><td style=\"text-align: right;\">       </td><td style=\"text-align: right;\">      </td><td style=\"text-align: right;\">                </td></tr>\n",
              "<tr><td>DEFAULT_5d087_00006</td><td>PENDING   </td><td>              </td><td style=\"text-align: right;\">         256</td><td style=\"text-align: right;\">          35</td><td>(&#x27;MAEAUC&#x27;, 0.01) </td><td style=\"text-align: right;\">0.001</td><td style=\"text-align: right;\">       </td><td style=\"text-align: right;\">      </td><td style=\"text-align: right;\">                </td></tr>\n",
              "<tr><td>DEFAULT_5d087_00007</td><td>PENDING   </td><td>              </td><td style=\"text-align: right;\">         256</td><td style=\"text-align: right;\">          70</td><td>(&#x27;MAEAUC&#x27;, 0.01) </td><td style=\"text-align: right;\">0.001</td><td style=\"text-align: right;\">       </td><td style=\"text-align: right;\">      </td><td style=\"text-align: right;\">                </td></tr>\n",
              "<tr><td>DEFAULT_5d087_00008</td><td>PENDING   </td><td>              </td><td style=\"text-align: right;\">         256</td><td style=\"text-align: right;\">         105</td><td>(&#x27;MAEAUC&#x27;, 0.01) </td><td style=\"text-align: right;\">0.001</td><td style=\"text-align: right;\">       </td><td style=\"text-align: right;\">      </td><td style=\"text-align: right;\">                </td></tr>\n",
              "<tr><td>DEFAULT_5d087_00009</td><td>PENDING   </td><td>              </td><td style=\"text-align: right;\">         256</td><td style=\"text-align: right;\">          35</td><td>(&#x27;MAEAUC&#x27;, 0.1)  </td><td style=\"text-align: right;\">0.001</td><td style=\"text-align: right;\">       </td><td style=\"text-align: right;\">      </td><td style=\"text-align: right;\">                </td></tr>\n",
              "<tr><td>DEFAULT_5d087_00010</td><td>PENDING   </td><td>              </td><td style=\"text-align: right;\">         256</td><td style=\"text-align: right;\">          70</td><td>(&#x27;MAEAUC&#x27;, 0.1)  </td><td style=\"text-align: right;\">0.001</td><td style=\"text-align: right;\">       </td><td style=\"text-align: right;\">      </td><td style=\"text-align: right;\">                </td></tr>\n",
              "<tr><td>DEFAULT_5d087_00011</td><td>PENDING   </td><td>              </td><td style=\"text-align: right;\">         256</td><td style=\"text-align: right;\">         105</td><td>(&#x27;MAEAUC&#x27;, 0.1)  </td><td style=\"text-align: right;\">0.001</td><td style=\"text-align: right;\">       </td><td style=\"text-align: right;\">      </td><td style=\"text-align: right;\">                </td></tr>\n",
              "<tr><td>DEFAULT_5d087_00012</td><td>PENDING   </td><td>              </td><td style=\"text-align: right;\">         256</td><td style=\"text-align: right;\">          35</td><td>(&#x27;MAEAUC&#x27;, 1)    </td><td style=\"text-align: right;\">0.001</td><td style=\"text-align: right;\">       </td><td style=\"text-align: right;\">      </td><td style=\"text-align: right;\">                </td></tr>\n",
              "<tr><td>DEFAULT_5d087_00013</td><td>PENDING   </td><td>              </td><td style=\"text-align: right;\">         256</td><td style=\"text-align: right;\">          70</td><td>(&#x27;MAEAUC&#x27;, 1)    </td><td style=\"text-align: right;\">0.001</td><td style=\"text-align: right;\">       </td><td style=\"text-align: right;\">      </td><td style=\"text-align: right;\">                </td></tr>\n",
              "<tr><td>DEFAULT_5d087_00014</td><td>PENDING   </td><td>              </td><td style=\"text-align: right;\">         256</td><td style=\"text-align: right;\">         105</td><td>(&#x27;MAEAUC&#x27;, 1)    </td><td style=\"text-align: right;\">0.001</td><td style=\"text-align: right;\">       </td><td style=\"text-align: right;\">      </td><td style=\"text-align: right;\">                </td></tr>\n",
              "<tr><td>DEFAULT_5d087_00015</td><td>PENDING   </td><td>              </td><td style=\"text-align: right;\">         256</td><td style=\"text-align: right;\">          35</td><td>(&#x27;MAEAUC&#x27;, 10)   </td><td style=\"text-align: right;\">0.001</td><td style=\"text-align: right;\">       </td><td style=\"text-align: right;\">      </td><td style=\"text-align: right;\">                </td></tr>\n",
              "<tr><td>DEFAULT_5d087_00016</td><td>PENDING   </td><td>              </td><td style=\"text-align: right;\">         256</td><td style=\"text-align: right;\">          70</td><td>(&#x27;MAEAUC&#x27;, 10)   </td><td style=\"text-align: right;\">0.001</td><td style=\"text-align: right;\">       </td><td style=\"text-align: right;\">      </td><td style=\"text-align: right;\">                </td></tr>\n",
              "<tr><td>DEFAULT_5d087_00017</td><td>PENDING   </td><td>              </td><td style=\"text-align: right;\">         256</td><td style=\"text-align: right;\">         105</td><td>(&#x27;MAEAUC&#x27;, 10)   </td><td style=\"text-align: right;\">0.001</td><td style=\"text-align: right;\">       </td><td style=\"text-align: right;\">      </td><td style=\"text-align: right;\">                </td></tr>\n",
              "<tr><td>DEFAULT_5d087_00018</td><td>PENDING   </td><td>              </td><td style=\"text-align: right;\">         256</td><td style=\"text-align: right;\">          35</td><td>(&#x27;MAE&#x27;, 0)       </td><td style=\"text-align: right;\">0.01 </td><td style=\"text-align: right;\">       </td><td style=\"text-align: right;\">      </td><td style=\"text-align: right;\">                </td></tr>\n",
              "<tr><td>DEFAULT_5d087_00019</td><td>PENDING   </td><td>              </td><td style=\"text-align: right;\">         256</td><td style=\"text-align: right;\">          70</td><td>(&#x27;MAE&#x27;, 0)       </td><td style=\"text-align: right;\">0.01 </td><td style=\"text-align: right;\">       </td><td style=\"text-align: right;\">      </td><td style=\"text-align: right;\">                </td></tr>\n",
              "<tr><td>DEFAULT_5d087_00000</td><td>TERMINATED</td><td>              </td><td style=\"text-align: right;\">         256</td><td style=\"text-align: right;\">          35</td><td>(&#x27;MAE&#x27;, 0)       </td><td style=\"text-align: right;\">0.001</td><td style=\"text-align: right;\">1.99559</td><td style=\"text-align: right;\">     1</td><td style=\"text-align: right;\">        12.3246 </td></tr>\n",
              "<tr><td>DEFAULT_5d087_00001</td><td>TERMINATED</td><td>              </td><td style=\"text-align: right;\">         256</td><td style=\"text-align: right;\">          70</td><td>(&#x27;MAE&#x27;, 0)       </td><td style=\"text-align: right;\">0.001</td><td style=\"text-align: right;\">1.98247</td><td style=\"text-align: right;\">     1</td><td style=\"text-align: right;\">         4.70409</td></tr>\n",
              "</tbody>\n",
              "</table><br>... 16 more trials not shown (16 PENDING)<br><br>"
            ],
            "text/plain": [
              "<IPython.core.display.HTML object>"
            ]
          },
          "metadata": {
            "tags": []
          }
        },
        {
          "output_type": "stream",
          "text": [
            "Result for DEFAULT_5d087_00002:\n",
            "  date: 2021-05-25_07-18-38\n",
            "  done: true\n",
            "  experiment_id: a2c31ecb4c5c4faab481ebb67e493b85\n",
            "  experiment_tag: 2_batch_size=256,latent_dim=105,loss_param=('MAE', 0),lr=0.001\n",
            "  hostname: d76bb801c9dd\n",
            "  iterations_since_restore: 1\n",
            "  mean_accuracy: 1.9895454049110413\n",
            "  node_ip: 172.28.0.2\n",
            "  pid: 619\n",
            "  should_checkpoint: true\n",
            "  time_since_restore: 4.801422357559204\n",
            "  time_this_iter_s: 4.801422357559204\n",
            "  time_total_s: 4.801422357559204\n",
            "  timestamp: 1621927118\n",
            "  timesteps_since_restore: 0\n",
            "  training_iteration: 1\n",
            "  trial_id: 5d087_00002\n",
            "  \n"
          ],
          "name": "stdout"
        },
        {
          "output_type": "stream",
          "text": [
            "2021-05-25 07:18:38,940\tINFO logger.py:690 -- Removed the following hyperparameter values when logging to tensorboard: {'loss_param': ('MAE', 0)}\n",
            "\u001b[2m\u001b[33m(raylet)\u001b[0m /usr/local/lib/python3.7/dist-packages/ray/autoscaler/_private/cli_logger.py:61: FutureWarning: Not all Ray CLI dependencies were found. In Ray 1.4+, the Ray CLI, autoscaler, and dashboard will only be usable via `pip install 'ray[default]'`. Please update your install command.\n",
            "\u001b[2m\u001b[33m(raylet)\u001b[0m   \"update your install command.\", FutureWarning)\n"
          ],
          "name": "stderr"
        },
        {
          "output_type": "stream",
          "text": [
            "\u001b[2m\u001b[36m(pid=645)\u001b[0m Operation will be on *****GPU-CUDA***** \n"
          ],
          "name": "stdout"
        },
        {
          "output_type": "stream",
          "text": [
            "\u001b[2m\u001b[36m(pid=645)\u001b[0m /usr/local/lib/python3.7/dist-packages/sklearn/model_selection/_split.py:667: UserWarning: The least populated class in y has only 2 members, which is less than n_splits=5.\n",
            "\u001b[2m\u001b[36m(pid=645)\u001b[0m   % (min_groups, self.n_splits)), UserWarning)\n",
            "\u001b[2m\u001b[36m(pid=645)\u001b[0m /usr/local/lib/python3.7/dist-packages/sklearn/model_selection/_split.py:667: UserWarning: The least populated class in y has only 2 members, which is less than n_splits=5.\n",
            "\u001b[2m\u001b[36m(pid=645)\u001b[0m   % (min_groups, self.n_splits)), UserWarning)\n",
            "\u001b[2m\u001b[36m(pid=645)\u001b[0m /usr/local/lib/python3.7/dist-packages/sklearn/model_selection/_split.py:667: UserWarning: The least populated class in y has only 2 members, which is less than n_splits=5.\n",
            "\u001b[2m\u001b[36m(pid=645)\u001b[0m   % (min_groups, self.n_splits)), UserWarning)\n"
          ],
          "name": "stderr"
        },
        {
          "output_type": "stream",
          "text": [
            "Result for DEFAULT_5d087_00003:\n",
            "  date: 2021-05-25_07-18-45\n",
            "  done: false\n",
            "  experiment_id: 71963cc407594c70999d2a8648c769d0\n",
            "  hostname: d76bb801c9dd\n",
            "  iterations_since_restore: 1\n",
            "  mean_accuracy: 1.9957271218299866\n",
            "  node_ip: 172.28.0.2\n",
            "  pid: 645\n",
            "  should_checkpoint: true\n",
            "  time_since_restore: 4.737469673156738\n",
            "  time_this_iter_s: 4.737469673156738\n",
            "  time_total_s: 4.737469673156738\n",
            "  timestamp: 1621927125\n",
            "  timesteps_since_restore: 0\n",
            "  training_iteration: 1\n",
            "  trial_id: 5d087_00003\n",
            "  \n"
          ],
          "name": "stdout"
        },
        {
          "output_type": "display_data",
          "data": {
            "text/html": [
              "== Status ==<br>Memory usage on this node: 2.9/12.7 GiB<br>Using FIFO scheduling algorithm.<br>Resources requested: 2.0/2 CPUs, 1.0/1 GPUs, 0.0/7.33 GiB heap, 0.0/3.67 GiB objects (0.0/1.0 accelerator_type:T4)<br>Result logdir: /content/drive/MyDrive/RecAE/experiments/ECG_5000<br>Number of trials: 36/36 (32 PENDING, 1 RUNNING, 3 TERMINATED)<br><table>\n",
              "<thead>\n",
              "<tr><th>Trial name         </th><th>status    </th><th>loc           </th><th style=\"text-align: right;\">  batch_size</th><th style=\"text-align: right;\">  latent_dim</th><th>loss_param       </th><th style=\"text-align: right;\">   lr</th><th style=\"text-align: right;\">    acc</th><th style=\"text-align: right;\">  iter</th><th style=\"text-align: right;\">  total time (s)</th></tr>\n",
              "</thead>\n",
              "<tbody>\n",
              "<tr><td>DEFAULT_5d087_00003</td><td>RUNNING   </td><td>172.28.0.2:645</td><td style=\"text-align: right;\">         256</td><td style=\"text-align: right;\">          35</td><td>(&#x27;MAEAUC&#x27;, 0.001)</td><td style=\"text-align: right;\">0.001</td><td style=\"text-align: right;\">1.99573</td><td style=\"text-align: right;\">     1</td><td style=\"text-align: right;\">         4.73747</td></tr>\n",
              "<tr><td>DEFAULT_5d087_00004</td><td>PENDING   </td><td>              </td><td style=\"text-align: right;\">         256</td><td style=\"text-align: right;\">          70</td><td>(&#x27;MAEAUC&#x27;, 0.001)</td><td style=\"text-align: right;\">0.001</td><td style=\"text-align: right;\">       </td><td style=\"text-align: right;\">      </td><td style=\"text-align: right;\">                </td></tr>\n",
              "<tr><td>DEFAULT_5d087_00005</td><td>PENDING   </td><td>              </td><td style=\"text-align: right;\">         256</td><td style=\"text-align: right;\">         105</td><td>(&#x27;MAEAUC&#x27;, 0.001)</td><td style=\"text-align: right;\">0.001</td><td style=\"text-align: right;\">       </td><td style=\"text-align: right;\">      </td><td style=\"text-align: right;\">                </td></tr>\n",
              "<tr><td>DEFAULT_5d087_00006</td><td>PENDING   </td><td>              </td><td style=\"text-align: right;\">         256</td><td style=\"text-align: right;\">          35</td><td>(&#x27;MAEAUC&#x27;, 0.01) </td><td style=\"text-align: right;\">0.001</td><td style=\"text-align: right;\">       </td><td style=\"text-align: right;\">      </td><td style=\"text-align: right;\">                </td></tr>\n",
              "<tr><td>DEFAULT_5d087_00007</td><td>PENDING   </td><td>              </td><td style=\"text-align: right;\">         256</td><td style=\"text-align: right;\">          70</td><td>(&#x27;MAEAUC&#x27;, 0.01) </td><td style=\"text-align: right;\">0.001</td><td style=\"text-align: right;\">       </td><td style=\"text-align: right;\">      </td><td style=\"text-align: right;\">                </td></tr>\n",
              "<tr><td>DEFAULT_5d087_00008</td><td>PENDING   </td><td>              </td><td style=\"text-align: right;\">         256</td><td style=\"text-align: right;\">         105</td><td>(&#x27;MAEAUC&#x27;, 0.01) </td><td style=\"text-align: right;\">0.001</td><td style=\"text-align: right;\">       </td><td style=\"text-align: right;\">      </td><td style=\"text-align: right;\">                </td></tr>\n",
              "<tr><td>DEFAULT_5d087_00009</td><td>PENDING   </td><td>              </td><td style=\"text-align: right;\">         256</td><td style=\"text-align: right;\">          35</td><td>(&#x27;MAEAUC&#x27;, 0.1)  </td><td style=\"text-align: right;\">0.001</td><td style=\"text-align: right;\">       </td><td style=\"text-align: right;\">      </td><td style=\"text-align: right;\">                </td></tr>\n",
              "<tr><td>DEFAULT_5d087_00010</td><td>PENDING   </td><td>              </td><td style=\"text-align: right;\">         256</td><td style=\"text-align: right;\">          70</td><td>(&#x27;MAEAUC&#x27;, 0.1)  </td><td style=\"text-align: right;\">0.001</td><td style=\"text-align: right;\">       </td><td style=\"text-align: right;\">      </td><td style=\"text-align: right;\">                </td></tr>\n",
              "<tr><td>DEFAULT_5d087_00011</td><td>PENDING   </td><td>              </td><td style=\"text-align: right;\">         256</td><td style=\"text-align: right;\">         105</td><td>(&#x27;MAEAUC&#x27;, 0.1)  </td><td style=\"text-align: right;\">0.001</td><td style=\"text-align: right;\">       </td><td style=\"text-align: right;\">      </td><td style=\"text-align: right;\">                </td></tr>\n",
              "<tr><td>DEFAULT_5d087_00012</td><td>PENDING   </td><td>              </td><td style=\"text-align: right;\">         256</td><td style=\"text-align: right;\">          35</td><td>(&#x27;MAEAUC&#x27;, 1)    </td><td style=\"text-align: right;\">0.001</td><td style=\"text-align: right;\">       </td><td style=\"text-align: right;\">      </td><td style=\"text-align: right;\">                </td></tr>\n",
              "<tr><td>DEFAULT_5d087_00013</td><td>PENDING   </td><td>              </td><td style=\"text-align: right;\">         256</td><td style=\"text-align: right;\">          70</td><td>(&#x27;MAEAUC&#x27;, 1)    </td><td style=\"text-align: right;\">0.001</td><td style=\"text-align: right;\">       </td><td style=\"text-align: right;\">      </td><td style=\"text-align: right;\">                </td></tr>\n",
              "<tr><td>DEFAULT_5d087_00014</td><td>PENDING   </td><td>              </td><td style=\"text-align: right;\">         256</td><td style=\"text-align: right;\">         105</td><td>(&#x27;MAEAUC&#x27;, 1)    </td><td style=\"text-align: right;\">0.001</td><td style=\"text-align: right;\">       </td><td style=\"text-align: right;\">      </td><td style=\"text-align: right;\">                </td></tr>\n",
              "<tr><td>DEFAULT_5d087_00015</td><td>PENDING   </td><td>              </td><td style=\"text-align: right;\">         256</td><td style=\"text-align: right;\">          35</td><td>(&#x27;MAEAUC&#x27;, 10)   </td><td style=\"text-align: right;\">0.001</td><td style=\"text-align: right;\">       </td><td style=\"text-align: right;\">      </td><td style=\"text-align: right;\">                </td></tr>\n",
              "<tr><td>DEFAULT_5d087_00016</td><td>PENDING   </td><td>              </td><td style=\"text-align: right;\">         256</td><td style=\"text-align: right;\">          70</td><td>(&#x27;MAEAUC&#x27;, 10)   </td><td style=\"text-align: right;\">0.001</td><td style=\"text-align: right;\">       </td><td style=\"text-align: right;\">      </td><td style=\"text-align: right;\">                </td></tr>\n",
              "<tr><td>DEFAULT_5d087_00017</td><td>PENDING   </td><td>              </td><td style=\"text-align: right;\">         256</td><td style=\"text-align: right;\">         105</td><td>(&#x27;MAEAUC&#x27;, 10)   </td><td style=\"text-align: right;\">0.001</td><td style=\"text-align: right;\">       </td><td style=\"text-align: right;\">      </td><td style=\"text-align: right;\">                </td></tr>\n",
              "<tr><td>DEFAULT_5d087_00018</td><td>PENDING   </td><td>              </td><td style=\"text-align: right;\">         256</td><td style=\"text-align: right;\">          35</td><td>(&#x27;MAE&#x27;, 0)       </td><td style=\"text-align: right;\">0.01 </td><td style=\"text-align: right;\">       </td><td style=\"text-align: right;\">      </td><td style=\"text-align: right;\">                </td></tr>\n",
              "<tr><td>DEFAULT_5d087_00019</td><td>PENDING   </td><td>              </td><td style=\"text-align: right;\">         256</td><td style=\"text-align: right;\">          70</td><td>(&#x27;MAE&#x27;, 0)       </td><td style=\"text-align: right;\">0.01 </td><td style=\"text-align: right;\">       </td><td style=\"text-align: right;\">      </td><td style=\"text-align: right;\">                </td></tr>\n",
              "<tr><td>DEFAULT_5d087_00000</td><td>TERMINATED</td><td>              </td><td style=\"text-align: right;\">         256</td><td style=\"text-align: right;\">          35</td><td>(&#x27;MAE&#x27;, 0)       </td><td style=\"text-align: right;\">0.001</td><td style=\"text-align: right;\">1.99559</td><td style=\"text-align: right;\">     1</td><td style=\"text-align: right;\">        12.3246 </td></tr>\n",
              "<tr><td>DEFAULT_5d087_00001</td><td>TERMINATED</td><td>              </td><td style=\"text-align: right;\">         256</td><td style=\"text-align: right;\">          70</td><td>(&#x27;MAE&#x27;, 0)       </td><td style=\"text-align: right;\">0.001</td><td style=\"text-align: right;\">1.98247</td><td style=\"text-align: right;\">     1</td><td style=\"text-align: right;\">         4.70409</td></tr>\n",
              "<tr><td>DEFAULT_5d087_00002</td><td>TERMINATED</td><td>              </td><td style=\"text-align: right;\">         256</td><td style=\"text-align: right;\">         105</td><td>(&#x27;MAE&#x27;, 0)       </td><td style=\"text-align: right;\">0.001</td><td style=\"text-align: right;\">1.98955</td><td style=\"text-align: right;\">     1</td><td style=\"text-align: right;\">         4.80142</td></tr>\n",
              "</tbody>\n",
              "</table><br>... 16 more trials not shown (16 PENDING)<br><br>"
            ],
            "text/plain": [
              "<IPython.core.display.HTML object>"
            ]
          },
          "metadata": {
            "tags": []
          }
        },
        {
          "output_type": "stream",
          "text": [
            "2021-05-25 07:18:45,493\tINFO logger.py:690 -- Removed the following hyperparameter values when logging to tensorboard: {'loss_param': ('MAEAUC', 0.001)}\n"
          ],
          "name": "stderr"
        },
        {
          "output_type": "stream",
          "text": [
            "Result for DEFAULT_5d087_00003:\n",
            "  date: 2021-05-25_07-18-45\n",
            "  done: true\n",
            "  experiment_id: 71963cc407594c70999d2a8648c769d0\n",
            "  experiment_tag: 3_batch_size=256,latent_dim=35,loss_param=('MAEAUC', 0.001),lr=0.001\n",
            "  hostname: d76bb801c9dd\n",
            "  iterations_since_restore: 1\n",
            "  mean_accuracy: 1.9957271218299866\n",
            "  node_ip: 172.28.0.2\n",
            "  pid: 645\n",
            "  should_checkpoint: true\n",
            "  time_since_restore: 4.737469673156738\n",
            "  time_this_iter_s: 4.737469673156738\n",
            "  time_total_s: 4.737469673156738\n",
            "  timestamp: 1621927125\n",
            "  timesteps_since_restore: 0\n",
            "  training_iteration: 1\n",
            "  trial_id: 5d087_00003\n",
            "  \n"
          ],
          "name": "stdout"
        },
        {
          "output_type": "stream",
          "text": [
            "\u001b[2m\u001b[33m(raylet)\u001b[0m /usr/local/lib/python3.7/dist-packages/ray/autoscaler/_private/cli_logger.py:61: FutureWarning: Not all Ray CLI dependencies were found. In Ray 1.4+, the Ray CLI, autoscaler, and dashboard will only be usable via `pip install 'ray[default]'`. Please update your install command.\n",
            "\u001b[2m\u001b[33m(raylet)\u001b[0m   \"update your install command.\", FutureWarning)\n"
          ],
          "name": "stderr"
        },
        {
          "output_type": "stream",
          "text": [
            "\u001b[2m\u001b[36m(pid=673)\u001b[0m Operation will be on *****GPU-CUDA***** \n"
          ],
          "name": "stdout"
        },
        {
          "output_type": "stream",
          "text": [
            "\u001b[2m\u001b[36m(pid=673)\u001b[0m /usr/local/lib/python3.7/dist-packages/sklearn/model_selection/_split.py:667: UserWarning: The least populated class in y has only 2 members, which is less than n_splits=5.\n",
            "\u001b[2m\u001b[36m(pid=673)\u001b[0m   % (min_groups, self.n_splits)), UserWarning)\n",
            "\u001b[2m\u001b[36m(pid=673)\u001b[0m /usr/local/lib/python3.7/dist-packages/sklearn/model_selection/_split.py:667: UserWarning: The least populated class in y has only 2 members, which is less than n_splits=5.\n",
            "\u001b[2m\u001b[36m(pid=673)\u001b[0m   % (min_groups, self.n_splits)), UserWarning)\n",
            "\u001b[2m\u001b[36m(pid=673)\u001b[0m /usr/local/lib/python3.7/dist-packages/sklearn/model_selection/_split.py:667: UserWarning: The least populated class in y has only 2 members, which is less than n_splits=5.\n",
            "\u001b[2m\u001b[36m(pid=673)\u001b[0m   % (min_groups, self.n_splits)), UserWarning)\n"
          ],
          "name": "stderr"
        },
        {
          "output_type": "stream",
          "text": [
            "Result for DEFAULT_5d087_00004:\n",
            "  date: 2021-05-25_07-18-52\n",
            "  done: false\n",
            "  experiment_id: bff50b988dfa4f51a5ea58a3c0ed4fe7\n",
            "  hostname: d76bb801c9dd\n",
            "  iterations_since_restore: 1\n",
            "  mean_accuracy: 1.996859073638916\n",
            "  node_ip: 172.28.0.2\n",
            "  pid: 673\n",
            "  should_checkpoint: true\n",
            "  time_since_restore: 4.745166778564453\n",
            "  time_this_iter_s: 4.745166778564453\n",
            "  time_total_s: 4.745166778564453\n",
            "  timestamp: 1621927132\n",
            "  timesteps_since_restore: 0\n",
            "  training_iteration: 1\n",
            "  trial_id: 5d087_00004\n",
            "  \n"
          ],
          "name": "stdout"
        },
        {
          "output_type": "display_data",
          "data": {
            "text/html": [
              "== Status ==<br>Memory usage on this node: 2.9/12.7 GiB<br>Using FIFO scheduling algorithm.<br>Resources requested: 2.0/2 CPUs, 1.0/1 GPUs, 0.0/7.33 GiB heap, 0.0/3.67 GiB objects (0.0/1.0 accelerator_type:T4)<br>Result logdir: /content/drive/MyDrive/RecAE/experiments/ECG_5000<br>Number of trials: 36/36 (31 PENDING, 1 RUNNING, 4 TERMINATED)<br><table>\n",
              "<thead>\n",
              "<tr><th>Trial name         </th><th>status    </th><th>loc           </th><th style=\"text-align: right;\">  batch_size</th><th style=\"text-align: right;\">  latent_dim</th><th>loss_param       </th><th style=\"text-align: right;\">   lr</th><th style=\"text-align: right;\">    acc</th><th style=\"text-align: right;\">  iter</th><th style=\"text-align: right;\">  total time (s)</th></tr>\n",
              "</thead>\n",
              "<tbody>\n",
              "<tr><td>DEFAULT_5d087_00004</td><td>RUNNING   </td><td>172.28.0.2:673</td><td style=\"text-align: right;\">         256</td><td style=\"text-align: right;\">          70</td><td>(&#x27;MAEAUC&#x27;, 0.001)</td><td style=\"text-align: right;\">0.001</td><td style=\"text-align: right;\">1.99686</td><td style=\"text-align: right;\">     1</td><td style=\"text-align: right;\">         4.74517</td></tr>\n",
              "<tr><td>DEFAULT_5d087_00005</td><td>PENDING   </td><td>              </td><td style=\"text-align: right;\">         256</td><td style=\"text-align: right;\">         105</td><td>(&#x27;MAEAUC&#x27;, 0.001)</td><td style=\"text-align: right;\">0.001</td><td style=\"text-align: right;\">       </td><td style=\"text-align: right;\">      </td><td style=\"text-align: right;\">                </td></tr>\n",
              "<tr><td>DEFAULT_5d087_00006</td><td>PENDING   </td><td>              </td><td style=\"text-align: right;\">         256</td><td style=\"text-align: right;\">          35</td><td>(&#x27;MAEAUC&#x27;, 0.01) </td><td style=\"text-align: right;\">0.001</td><td style=\"text-align: right;\">       </td><td style=\"text-align: right;\">      </td><td style=\"text-align: right;\">                </td></tr>\n",
              "<tr><td>DEFAULT_5d087_00007</td><td>PENDING   </td><td>              </td><td style=\"text-align: right;\">         256</td><td style=\"text-align: right;\">          70</td><td>(&#x27;MAEAUC&#x27;, 0.01) </td><td style=\"text-align: right;\">0.001</td><td style=\"text-align: right;\">       </td><td style=\"text-align: right;\">      </td><td style=\"text-align: right;\">                </td></tr>\n",
              "<tr><td>DEFAULT_5d087_00008</td><td>PENDING   </td><td>              </td><td style=\"text-align: right;\">         256</td><td style=\"text-align: right;\">         105</td><td>(&#x27;MAEAUC&#x27;, 0.01) </td><td style=\"text-align: right;\">0.001</td><td style=\"text-align: right;\">       </td><td style=\"text-align: right;\">      </td><td style=\"text-align: right;\">                </td></tr>\n",
              "<tr><td>DEFAULT_5d087_00009</td><td>PENDING   </td><td>              </td><td style=\"text-align: right;\">         256</td><td style=\"text-align: right;\">          35</td><td>(&#x27;MAEAUC&#x27;, 0.1)  </td><td style=\"text-align: right;\">0.001</td><td style=\"text-align: right;\">       </td><td style=\"text-align: right;\">      </td><td style=\"text-align: right;\">                </td></tr>\n",
              "<tr><td>DEFAULT_5d087_00010</td><td>PENDING   </td><td>              </td><td style=\"text-align: right;\">         256</td><td style=\"text-align: right;\">          70</td><td>(&#x27;MAEAUC&#x27;, 0.1)  </td><td style=\"text-align: right;\">0.001</td><td style=\"text-align: right;\">       </td><td style=\"text-align: right;\">      </td><td style=\"text-align: right;\">                </td></tr>\n",
              "<tr><td>DEFAULT_5d087_00011</td><td>PENDING   </td><td>              </td><td style=\"text-align: right;\">         256</td><td style=\"text-align: right;\">         105</td><td>(&#x27;MAEAUC&#x27;, 0.1)  </td><td style=\"text-align: right;\">0.001</td><td style=\"text-align: right;\">       </td><td style=\"text-align: right;\">      </td><td style=\"text-align: right;\">                </td></tr>\n",
              "<tr><td>DEFAULT_5d087_00012</td><td>PENDING   </td><td>              </td><td style=\"text-align: right;\">         256</td><td style=\"text-align: right;\">          35</td><td>(&#x27;MAEAUC&#x27;, 1)    </td><td style=\"text-align: right;\">0.001</td><td style=\"text-align: right;\">       </td><td style=\"text-align: right;\">      </td><td style=\"text-align: right;\">                </td></tr>\n",
              "<tr><td>DEFAULT_5d087_00013</td><td>PENDING   </td><td>              </td><td style=\"text-align: right;\">         256</td><td style=\"text-align: right;\">          70</td><td>(&#x27;MAEAUC&#x27;, 1)    </td><td style=\"text-align: right;\">0.001</td><td style=\"text-align: right;\">       </td><td style=\"text-align: right;\">      </td><td style=\"text-align: right;\">                </td></tr>\n",
              "<tr><td>DEFAULT_5d087_00014</td><td>PENDING   </td><td>              </td><td style=\"text-align: right;\">         256</td><td style=\"text-align: right;\">         105</td><td>(&#x27;MAEAUC&#x27;, 1)    </td><td style=\"text-align: right;\">0.001</td><td style=\"text-align: right;\">       </td><td style=\"text-align: right;\">      </td><td style=\"text-align: right;\">                </td></tr>\n",
              "<tr><td>DEFAULT_5d087_00015</td><td>PENDING   </td><td>              </td><td style=\"text-align: right;\">         256</td><td style=\"text-align: right;\">          35</td><td>(&#x27;MAEAUC&#x27;, 10)   </td><td style=\"text-align: right;\">0.001</td><td style=\"text-align: right;\">       </td><td style=\"text-align: right;\">      </td><td style=\"text-align: right;\">                </td></tr>\n",
              "<tr><td>DEFAULT_5d087_00016</td><td>PENDING   </td><td>              </td><td style=\"text-align: right;\">         256</td><td style=\"text-align: right;\">          70</td><td>(&#x27;MAEAUC&#x27;, 10)   </td><td style=\"text-align: right;\">0.001</td><td style=\"text-align: right;\">       </td><td style=\"text-align: right;\">      </td><td style=\"text-align: right;\">                </td></tr>\n",
              "<tr><td>DEFAULT_5d087_00017</td><td>PENDING   </td><td>              </td><td style=\"text-align: right;\">         256</td><td style=\"text-align: right;\">         105</td><td>(&#x27;MAEAUC&#x27;, 10)   </td><td style=\"text-align: right;\">0.001</td><td style=\"text-align: right;\">       </td><td style=\"text-align: right;\">      </td><td style=\"text-align: right;\">                </td></tr>\n",
              "<tr><td>DEFAULT_5d087_00018</td><td>PENDING   </td><td>              </td><td style=\"text-align: right;\">         256</td><td style=\"text-align: right;\">          35</td><td>(&#x27;MAE&#x27;, 0)       </td><td style=\"text-align: right;\">0.01 </td><td style=\"text-align: right;\">       </td><td style=\"text-align: right;\">      </td><td style=\"text-align: right;\">                </td></tr>\n",
              "<tr><td>DEFAULT_5d087_00019</td><td>PENDING   </td><td>              </td><td style=\"text-align: right;\">         256</td><td style=\"text-align: right;\">          70</td><td>(&#x27;MAE&#x27;, 0)       </td><td style=\"text-align: right;\">0.01 </td><td style=\"text-align: right;\">       </td><td style=\"text-align: right;\">      </td><td style=\"text-align: right;\">                </td></tr>\n",
              "<tr><td>DEFAULT_5d087_00000</td><td>TERMINATED</td><td>              </td><td style=\"text-align: right;\">         256</td><td style=\"text-align: right;\">          35</td><td>(&#x27;MAE&#x27;, 0)       </td><td style=\"text-align: right;\">0.001</td><td style=\"text-align: right;\">1.99559</td><td style=\"text-align: right;\">     1</td><td style=\"text-align: right;\">        12.3246 </td></tr>\n",
              "<tr><td>DEFAULT_5d087_00001</td><td>TERMINATED</td><td>              </td><td style=\"text-align: right;\">         256</td><td style=\"text-align: right;\">          70</td><td>(&#x27;MAE&#x27;, 0)       </td><td style=\"text-align: right;\">0.001</td><td style=\"text-align: right;\">1.98247</td><td style=\"text-align: right;\">     1</td><td style=\"text-align: right;\">         4.70409</td></tr>\n",
              "<tr><td>DEFAULT_5d087_00002</td><td>TERMINATED</td><td>              </td><td style=\"text-align: right;\">         256</td><td style=\"text-align: right;\">         105</td><td>(&#x27;MAE&#x27;, 0)       </td><td style=\"text-align: right;\">0.001</td><td style=\"text-align: right;\">1.98955</td><td style=\"text-align: right;\">     1</td><td style=\"text-align: right;\">         4.80142</td></tr>\n",
              "<tr><td>DEFAULT_5d087_00003</td><td>TERMINATED</td><td>              </td><td style=\"text-align: right;\">         256</td><td style=\"text-align: right;\">          35</td><td>(&#x27;MAEAUC&#x27;, 0.001)</td><td style=\"text-align: right;\">0.001</td><td style=\"text-align: right;\">1.99573</td><td style=\"text-align: right;\">     1</td><td style=\"text-align: right;\">         4.73747</td></tr>\n",
              "</tbody>\n",
              "</table><br>... 16 more trials not shown (16 PENDING)<br><br>"
            ],
            "text/plain": [
              "<IPython.core.display.HTML object>"
            ]
          },
          "metadata": {
            "tags": []
          }
        },
        {
          "output_type": "stream",
          "text": [
            "2021-05-25 07:18:52,127\tINFO logger.py:690 -- Removed the following hyperparameter values when logging to tensorboard: {'loss_param': ('MAEAUC', 0.001)}\n"
          ],
          "name": "stderr"
        },
        {
          "output_type": "stream",
          "text": [
            "Result for DEFAULT_5d087_00004:\n",
            "  date: 2021-05-25_07-18-52\n",
            "  done: true\n",
            "  experiment_id: bff50b988dfa4f51a5ea58a3c0ed4fe7\n",
            "  experiment_tag: 4_batch_size=256,latent_dim=70,loss_param=('MAEAUC', 0.001),lr=0.001\n",
            "  hostname: d76bb801c9dd\n",
            "  iterations_since_restore: 1\n",
            "  mean_accuracy: 1.996859073638916\n",
            "  node_ip: 172.28.0.2\n",
            "  pid: 673\n",
            "  should_checkpoint: true\n",
            "  time_since_restore: 4.745166778564453\n",
            "  time_this_iter_s: 4.745166778564453\n",
            "  time_total_s: 4.745166778564453\n",
            "  timestamp: 1621927132\n",
            "  timesteps_since_restore: 0\n",
            "  training_iteration: 1\n",
            "  trial_id: 5d087_00004\n",
            "  \n"
          ],
          "name": "stdout"
        },
        {
          "output_type": "stream",
          "text": [
            "\u001b[2m\u001b[33m(raylet)\u001b[0m /usr/local/lib/python3.7/dist-packages/ray/autoscaler/_private/cli_logger.py:61: FutureWarning: Not all Ray CLI dependencies were found. In Ray 1.4+, the Ray CLI, autoscaler, and dashboard will only be usable via `pip install 'ray[default]'`. Please update your install command.\n",
            "\u001b[2m\u001b[33m(raylet)\u001b[0m   \"update your install command.\", FutureWarning)\n"
          ],
          "name": "stderr"
        },
        {
          "output_type": "stream",
          "text": [
            "\u001b[2m\u001b[36m(pid=701)\u001b[0m Operation will be on *****GPU-CUDA***** \n"
          ],
          "name": "stdout"
        },
        {
          "output_type": "stream",
          "text": [
            "\u001b[2m\u001b[36m(pid=701)\u001b[0m /usr/local/lib/python3.7/dist-packages/sklearn/model_selection/_split.py:667: UserWarning: The least populated class in y has only 2 members, which is less than n_splits=5.\n",
            "\u001b[2m\u001b[36m(pid=701)\u001b[0m   % (min_groups, self.n_splits)), UserWarning)\n",
            "\u001b[2m\u001b[36m(pid=701)\u001b[0m /usr/local/lib/python3.7/dist-packages/sklearn/model_selection/_split.py:667: UserWarning: The least populated class in y has only 2 members, which is less than n_splits=5.\n",
            "\u001b[2m\u001b[36m(pid=701)\u001b[0m   % (min_groups, self.n_splits)), UserWarning)\n",
            "\u001b[2m\u001b[36m(pid=701)\u001b[0m /usr/local/lib/python3.7/dist-packages/sklearn/model_selection/_split.py:667: UserWarning: The least populated class in y has only 2 members, which is less than n_splits=5.\n",
            "\u001b[2m\u001b[36m(pid=701)\u001b[0m   % (min_groups, self.n_splits)), UserWarning)\n"
          ],
          "name": "stderr"
        },
        {
          "output_type": "stream",
          "text": [
            "Result for DEFAULT_5d087_00005:\n",
            "  date: 2021-05-25_07-18-58\n",
            "  done: false\n",
            "  experiment_id: a514d5798ff94bd7ba1c2fcadaa640ca\n",
            "  hostname: d76bb801c9dd\n",
            "  iterations_since_restore: 1\n",
            "  mean_accuracy: 1.9794228076934814\n",
            "  node_ip: 172.28.0.2\n",
            "  pid: 701\n",
            "  should_checkpoint: true\n",
            "  time_since_restore: 4.701293706893921\n",
            "  time_this_iter_s: 4.701293706893921\n",
            "  time_total_s: 4.701293706893921\n",
            "  timestamp: 1621927138\n",
            "  timesteps_since_restore: 0\n",
            "  training_iteration: 1\n",
            "  trial_id: 5d087_00005\n",
            "  \n"
          ],
          "name": "stdout"
        },
        {
          "output_type": "display_data",
          "data": {
            "text/html": [
              "== Status ==<br>Memory usage on this node: 2.9/12.7 GiB<br>Using FIFO scheduling algorithm.<br>Resources requested: 2.0/2 CPUs, 1.0/1 GPUs, 0.0/7.33 GiB heap, 0.0/3.67 GiB objects (0.0/1.0 accelerator_type:T4)<br>Result logdir: /content/drive/MyDrive/RecAE/experiments/ECG_5000<br>Number of trials: 36/36 (30 PENDING, 1 RUNNING, 5 TERMINATED)<br><table>\n",
              "<thead>\n",
              "<tr><th>Trial name         </th><th>status    </th><th>loc           </th><th style=\"text-align: right;\">  batch_size</th><th style=\"text-align: right;\">  latent_dim</th><th>loss_param       </th><th style=\"text-align: right;\">   lr</th><th style=\"text-align: right;\">    acc</th><th style=\"text-align: right;\">  iter</th><th style=\"text-align: right;\">  total time (s)</th></tr>\n",
              "</thead>\n",
              "<tbody>\n",
              "<tr><td>DEFAULT_5d087_00005</td><td>RUNNING   </td><td>172.28.0.2:701</td><td style=\"text-align: right;\">         256</td><td style=\"text-align: right;\">         105</td><td>(&#x27;MAEAUC&#x27;, 0.001)</td><td style=\"text-align: right;\">0.001</td><td style=\"text-align: right;\">1.97942</td><td style=\"text-align: right;\">     1</td><td style=\"text-align: right;\">         4.70129</td></tr>\n",
              "<tr><td>DEFAULT_5d087_00006</td><td>PENDING   </td><td>              </td><td style=\"text-align: right;\">         256</td><td style=\"text-align: right;\">          35</td><td>(&#x27;MAEAUC&#x27;, 0.01) </td><td style=\"text-align: right;\">0.001</td><td style=\"text-align: right;\">       </td><td style=\"text-align: right;\">      </td><td style=\"text-align: right;\">                </td></tr>\n",
              "<tr><td>DEFAULT_5d087_00007</td><td>PENDING   </td><td>              </td><td style=\"text-align: right;\">         256</td><td style=\"text-align: right;\">          70</td><td>(&#x27;MAEAUC&#x27;, 0.01) </td><td style=\"text-align: right;\">0.001</td><td style=\"text-align: right;\">       </td><td style=\"text-align: right;\">      </td><td style=\"text-align: right;\">                </td></tr>\n",
              "<tr><td>DEFAULT_5d087_00008</td><td>PENDING   </td><td>              </td><td style=\"text-align: right;\">         256</td><td style=\"text-align: right;\">         105</td><td>(&#x27;MAEAUC&#x27;, 0.01) </td><td style=\"text-align: right;\">0.001</td><td style=\"text-align: right;\">       </td><td style=\"text-align: right;\">      </td><td style=\"text-align: right;\">                </td></tr>\n",
              "<tr><td>DEFAULT_5d087_00009</td><td>PENDING   </td><td>              </td><td style=\"text-align: right;\">         256</td><td style=\"text-align: right;\">          35</td><td>(&#x27;MAEAUC&#x27;, 0.1)  </td><td style=\"text-align: right;\">0.001</td><td style=\"text-align: right;\">       </td><td style=\"text-align: right;\">      </td><td style=\"text-align: right;\">                </td></tr>\n",
              "<tr><td>DEFAULT_5d087_00010</td><td>PENDING   </td><td>              </td><td style=\"text-align: right;\">         256</td><td style=\"text-align: right;\">          70</td><td>(&#x27;MAEAUC&#x27;, 0.1)  </td><td style=\"text-align: right;\">0.001</td><td style=\"text-align: right;\">       </td><td style=\"text-align: right;\">      </td><td style=\"text-align: right;\">                </td></tr>\n",
              "<tr><td>DEFAULT_5d087_00011</td><td>PENDING   </td><td>              </td><td style=\"text-align: right;\">         256</td><td style=\"text-align: right;\">         105</td><td>(&#x27;MAEAUC&#x27;, 0.1)  </td><td style=\"text-align: right;\">0.001</td><td style=\"text-align: right;\">       </td><td style=\"text-align: right;\">      </td><td style=\"text-align: right;\">                </td></tr>\n",
              "<tr><td>DEFAULT_5d087_00012</td><td>PENDING   </td><td>              </td><td style=\"text-align: right;\">         256</td><td style=\"text-align: right;\">          35</td><td>(&#x27;MAEAUC&#x27;, 1)    </td><td style=\"text-align: right;\">0.001</td><td style=\"text-align: right;\">       </td><td style=\"text-align: right;\">      </td><td style=\"text-align: right;\">                </td></tr>\n",
              "<tr><td>DEFAULT_5d087_00013</td><td>PENDING   </td><td>              </td><td style=\"text-align: right;\">         256</td><td style=\"text-align: right;\">          70</td><td>(&#x27;MAEAUC&#x27;, 1)    </td><td style=\"text-align: right;\">0.001</td><td style=\"text-align: right;\">       </td><td style=\"text-align: right;\">      </td><td style=\"text-align: right;\">                </td></tr>\n",
              "<tr><td>DEFAULT_5d087_00014</td><td>PENDING   </td><td>              </td><td style=\"text-align: right;\">         256</td><td style=\"text-align: right;\">         105</td><td>(&#x27;MAEAUC&#x27;, 1)    </td><td style=\"text-align: right;\">0.001</td><td style=\"text-align: right;\">       </td><td style=\"text-align: right;\">      </td><td style=\"text-align: right;\">                </td></tr>\n",
              "<tr><td>DEFAULT_5d087_00015</td><td>PENDING   </td><td>              </td><td style=\"text-align: right;\">         256</td><td style=\"text-align: right;\">          35</td><td>(&#x27;MAEAUC&#x27;, 10)   </td><td style=\"text-align: right;\">0.001</td><td style=\"text-align: right;\">       </td><td style=\"text-align: right;\">      </td><td style=\"text-align: right;\">                </td></tr>\n",
              "<tr><td>DEFAULT_5d087_00016</td><td>PENDING   </td><td>              </td><td style=\"text-align: right;\">         256</td><td style=\"text-align: right;\">          70</td><td>(&#x27;MAEAUC&#x27;, 10)   </td><td style=\"text-align: right;\">0.001</td><td style=\"text-align: right;\">       </td><td style=\"text-align: right;\">      </td><td style=\"text-align: right;\">                </td></tr>\n",
              "<tr><td>DEFAULT_5d087_00017</td><td>PENDING   </td><td>              </td><td style=\"text-align: right;\">         256</td><td style=\"text-align: right;\">         105</td><td>(&#x27;MAEAUC&#x27;, 10)   </td><td style=\"text-align: right;\">0.001</td><td style=\"text-align: right;\">       </td><td style=\"text-align: right;\">      </td><td style=\"text-align: right;\">                </td></tr>\n",
              "<tr><td>DEFAULT_5d087_00018</td><td>PENDING   </td><td>              </td><td style=\"text-align: right;\">         256</td><td style=\"text-align: right;\">          35</td><td>(&#x27;MAE&#x27;, 0)       </td><td style=\"text-align: right;\">0.01 </td><td style=\"text-align: right;\">       </td><td style=\"text-align: right;\">      </td><td style=\"text-align: right;\">                </td></tr>\n",
              "<tr><td>DEFAULT_5d087_00019</td><td>PENDING   </td><td>              </td><td style=\"text-align: right;\">         256</td><td style=\"text-align: right;\">          70</td><td>(&#x27;MAE&#x27;, 0)       </td><td style=\"text-align: right;\">0.01 </td><td style=\"text-align: right;\">       </td><td style=\"text-align: right;\">      </td><td style=\"text-align: right;\">                </td></tr>\n",
              "<tr><td>DEFAULT_5d087_00000</td><td>TERMINATED</td><td>              </td><td style=\"text-align: right;\">         256</td><td style=\"text-align: right;\">          35</td><td>(&#x27;MAE&#x27;, 0)       </td><td style=\"text-align: right;\">0.001</td><td style=\"text-align: right;\">1.99559</td><td style=\"text-align: right;\">     1</td><td style=\"text-align: right;\">        12.3246 </td></tr>\n",
              "<tr><td>DEFAULT_5d087_00001</td><td>TERMINATED</td><td>              </td><td style=\"text-align: right;\">         256</td><td style=\"text-align: right;\">          70</td><td>(&#x27;MAE&#x27;, 0)       </td><td style=\"text-align: right;\">0.001</td><td style=\"text-align: right;\">1.98247</td><td style=\"text-align: right;\">     1</td><td style=\"text-align: right;\">         4.70409</td></tr>\n",
              "<tr><td>DEFAULT_5d087_00002</td><td>TERMINATED</td><td>              </td><td style=\"text-align: right;\">         256</td><td style=\"text-align: right;\">         105</td><td>(&#x27;MAE&#x27;, 0)       </td><td style=\"text-align: right;\">0.001</td><td style=\"text-align: right;\">1.98955</td><td style=\"text-align: right;\">     1</td><td style=\"text-align: right;\">         4.80142</td></tr>\n",
              "<tr><td>DEFAULT_5d087_00003</td><td>TERMINATED</td><td>              </td><td style=\"text-align: right;\">         256</td><td style=\"text-align: right;\">          35</td><td>(&#x27;MAEAUC&#x27;, 0.001)</td><td style=\"text-align: right;\">0.001</td><td style=\"text-align: right;\">1.99573</td><td style=\"text-align: right;\">     1</td><td style=\"text-align: right;\">         4.73747</td></tr>\n",
              "<tr><td>DEFAULT_5d087_00004</td><td>TERMINATED</td><td>              </td><td style=\"text-align: right;\">         256</td><td style=\"text-align: right;\">          70</td><td>(&#x27;MAEAUC&#x27;, 0.001)</td><td style=\"text-align: right;\">0.001</td><td style=\"text-align: right;\">1.99686</td><td style=\"text-align: right;\">     1</td><td style=\"text-align: right;\">         4.74517</td></tr>\n",
              "</tbody>\n",
              "</table><br>... 16 more trials not shown (16 PENDING)<br><br>"
            ],
            "text/plain": [
              "<IPython.core.display.HTML object>"
            ]
          },
          "metadata": {
            "tags": []
          }
        },
        {
          "output_type": "stream",
          "text": [
            "2021-05-25 07:18:58,628\tINFO logger.py:690 -- Removed the following hyperparameter values when logging to tensorboard: {'loss_param': ('MAEAUC', 0.001)}\n"
          ],
          "name": "stderr"
        },
        {
          "output_type": "stream",
          "text": [
            "Result for DEFAULT_5d087_00005:\n",
            "  date: 2021-05-25_07-18-58\n",
            "  done: true\n",
            "  experiment_id: a514d5798ff94bd7ba1c2fcadaa640ca\n",
            "  experiment_tag: 5_batch_size=256,latent_dim=105,loss_param=('MAEAUC', 0.001),lr=0.001\n",
            "  hostname: d76bb801c9dd\n",
            "  iterations_since_restore: 1\n",
            "  mean_accuracy: 1.9794228076934814\n",
            "  node_ip: 172.28.0.2\n",
            "  pid: 701\n",
            "  should_checkpoint: true\n",
            "  time_since_restore: 4.701293706893921\n",
            "  time_this_iter_s: 4.701293706893921\n",
            "  time_total_s: 4.701293706893921\n",
            "  timestamp: 1621927138\n",
            "  timesteps_since_restore: 0\n",
            "  training_iteration: 1\n",
            "  trial_id: 5d087_00005\n",
            "  \n"
          ],
          "name": "stdout"
        },
        {
          "output_type": "stream",
          "text": [
            "\u001b[2m\u001b[33m(raylet)\u001b[0m /usr/local/lib/python3.7/dist-packages/ray/autoscaler/_private/cli_logger.py:61: FutureWarning: Not all Ray CLI dependencies were found. In Ray 1.4+, the Ray CLI, autoscaler, and dashboard will only be usable via `pip install 'ray[default]'`. Please update your install command.\n",
            "\u001b[2m\u001b[33m(raylet)\u001b[0m   \"update your install command.\", FutureWarning)\n"
          ],
          "name": "stderr"
        },
        {
          "output_type": "stream",
          "text": [
            "\u001b[2m\u001b[36m(pid=729)\u001b[0m Operation will be on *****GPU-CUDA***** \n"
          ],
          "name": "stdout"
        },
        {
          "output_type": "stream",
          "text": [
            "\u001b[2m\u001b[36m(pid=729)\u001b[0m /usr/local/lib/python3.7/dist-packages/sklearn/model_selection/_split.py:667: UserWarning: The least populated class in y has only 2 members, which is less than n_splits=5.\n",
            "\u001b[2m\u001b[36m(pid=729)\u001b[0m   % (min_groups, self.n_splits)), UserWarning)\n",
            "\u001b[2m\u001b[36m(pid=729)\u001b[0m /usr/local/lib/python3.7/dist-packages/sklearn/model_selection/_split.py:667: UserWarning: The least populated class in y has only 2 members, which is less than n_splits=5.\n",
            "\u001b[2m\u001b[36m(pid=729)\u001b[0m   % (min_groups, self.n_splits)), UserWarning)\n",
            "\u001b[2m\u001b[36m(pid=729)\u001b[0m /usr/local/lib/python3.7/dist-packages/sklearn/model_selection/_split.py:667: UserWarning: The least populated class in y has only 2 members, which is less than n_splits=5.\n",
            "\u001b[2m\u001b[36m(pid=729)\u001b[0m   % (min_groups, self.n_splits)), UserWarning)\n"
          ],
          "name": "stderr"
        },
        {
          "output_type": "stream",
          "text": [
            "Result for DEFAULT_5d087_00006:\n",
            "  date: 2021-05-25_07-19-05\n",
            "  done: false\n",
            "  experiment_id: 89b50a0c2a414aeea99d2eb17f698186\n",
            "  hostname: d76bb801c9dd\n",
            "  iterations_since_restore: 1\n",
            "  mean_accuracy: 1.9973565340042114\n",
            "  node_ip: 172.28.0.2\n",
            "  pid: 729\n",
            "  should_checkpoint: true\n",
            "  time_since_restore: 4.596568584442139\n",
            "  time_this_iter_s: 4.596568584442139\n",
            "  time_total_s: 4.596568584442139\n",
            "  timestamp: 1621927145\n",
            "  timesteps_since_restore: 0\n",
            "  training_iteration: 1\n",
            "  trial_id: 5d087_00006\n",
            "  \n"
          ],
          "name": "stdout"
        },
        {
          "output_type": "display_data",
          "data": {
            "text/html": [
              "== Status ==<br>Memory usage on this node: 2.9/12.7 GiB<br>Using FIFO scheduling algorithm.<br>Resources requested: 2.0/2 CPUs, 1.0/1 GPUs, 0.0/7.33 GiB heap, 0.0/3.67 GiB objects (0.0/1.0 accelerator_type:T4)<br>Result logdir: /content/drive/MyDrive/RecAE/experiments/ECG_5000<br>Number of trials: 36/36 (29 PENDING, 1 RUNNING, 6 TERMINATED)<br><table>\n",
              "<thead>\n",
              "<tr><th>Trial name         </th><th>status    </th><th>loc           </th><th style=\"text-align: right;\">  batch_size</th><th style=\"text-align: right;\">  latent_dim</th><th>loss_param       </th><th style=\"text-align: right;\">   lr</th><th style=\"text-align: right;\">    acc</th><th style=\"text-align: right;\">  iter</th><th style=\"text-align: right;\">  total time (s)</th></tr>\n",
              "</thead>\n",
              "<tbody>\n",
              "<tr><td>DEFAULT_5d087_00006</td><td>RUNNING   </td><td>172.28.0.2:729</td><td style=\"text-align: right;\">         256</td><td style=\"text-align: right;\">          35</td><td>(&#x27;MAEAUC&#x27;, 0.01) </td><td style=\"text-align: right;\">0.001</td><td style=\"text-align: right;\">1.99736</td><td style=\"text-align: right;\">     1</td><td style=\"text-align: right;\">         4.59657</td></tr>\n",
              "<tr><td>DEFAULT_5d087_00007</td><td>PENDING   </td><td>              </td><td style=\"text-align: right;\">         256</td><td style=\"text-align: right;\">          70</td><td>(&#x27;MAEAUC&#x27;, 0.01) </td><td style=\"text-align: right;\">0.001</td><td style=\"text-align: right;\">       </td><td style=\"text-align: right;\">      </td><td style=\"text-align: right;\">                </td></tr>\n",
              "<tr><td>DEFAULT_5d087_00008</td><td>PENDING   </td><td>              </td><td style=\"text-align: right;\">         256</td><td style=\"text-align: right;\">         105</td><td>(&#x27;MAEAUC&#x27;, 0.01) </td><td style=\"text-align: right;\">0.001</td><td style=\"text-align: right;\">       </td><td style=\"text-align: right;\">      </td><td style=\"text-align: right;\">                </td></tr>\n",
              "<tr><td>DEFAULT_5d087_00009</td><td>PENDING   </td><td>              </td><td style=\"text-align: right;\">         256</td><td style=\"text-align: right;\">          35</td><td>(&#x27;MAEAUC&#x27;, 0.1)  </td><td style=\"text-align: right;\">0.001</td><td style=\"text-align: right;\">       </td><td style=\"text-align: right;\">      </td><td style=\"text-align: right;\">                </td></tr>\n",
              "<tr><td>DEFAULT_5d087_00010</td><td>PENDING   </td><td>              </td><td style=\"text-align: right;\">         256</td><td style=\"text-align: right;\">          70</td><td>(&#x27;MAEAUC&#x27;, 0.1)  </td><td style=\"text-align: right;\">0.001</td><td style=\"text-align: right;\">       </td><td style=\"text-align: right;\">      </td><td style=\"text-align: right;\">                </td></tr>\n",
              "<tr><td>DEFAULT_5d087_00011</td><td>PENDING   </td><td>              </td><td style=\"text-align: right;\">         256</td><td style=\"text-align: right;\">         105</td><td>(&#x27;MAEAUC&#x27;, 0.1)  </td><td style=\"text-align: right;\">0.001</td><td style=\"text-align: right;\">       </td><td style=\"text-align: right;\">      </td><td style=\"text-align: right;\">                </td></tr>\n",
              "<tr><td>DEFAULT_5d087_00012</td><td>PENDING   </td><td>              </td><td style=\"text-align: right;\">         256</td><td style=\"text-align: right;\">          35</td><td>(&#x27;MAEAUC&#x27;, 1)    </td><td style=\"text-align: right;\">0.001</td><td style=\"text-align: right;\">       </td><td style=\"text-align: right;\">      </td><td style=\"text-align: right;\">                </td></tr>\n",
              "<tr><td>DEFAULT_5d087_00013</td><td>PENDING   </td><td>              </td><td style=\"text-align: right;\">         256</td><td style=\"text-align: right;\">          70</td><td>(&#x27;MAEAUC&#x27;, 1)    </td><td style=\"text-align: right;\">0.001</td><td style=\"text-align: right;\">       </td><td style=\"text-align: right;\">      </td><td style=\"text-align: right;\">                </td></tr>\n",
              "<tr><td>DEFAULT_5d087_00014</td><td>PENDING   </td><td>              </td><td style=\"text-align: right;\">         256</td><td style=\"text-align: right;\">         105</td><td>(&#x27;MAEAUC&#x27;, 1)    </td><td style=\"text-align: right;\">0.001</td><td style=\"text-align: right;\">       </td><td style=\"text-align: right;\">      </td><td style=\"text-align: right;\">                </td></tr>\n",
              "<tr><td>DEFAULT_5d087_00015</td><td>PENDING   </td><td>              </td><td style=\"text-align: right;\">         256</td><td style=\"text-align: right;\">          35</td><td>(&#x27;MAEAUC&#x27;, 10)   </td><td style=\"text-align: right;\">0.001</td><td style=\"text-align: right;\">       </td><td style=\"text-align: right;\">      </td><td style=\"text-align: right;\">                </td></tr>\n",
              "<tr><td>DEFAULT_5d087_00016</td><td>PENDING   </td><td>              </td><td style=\"text-align: right;\">         256</td><td style=\"text-align: right;\">          70</td><td>(&#x27;MAEAUC&#x27;, 10)   </td><td style=\"text-align: right;\">0.001</td><td style=\"text-align: right;\">       </td><td style=\"text-align: right;\">      </td><td style=\"text-align: right;\">                </td></tr>\n",
              "<tr><td>DEFAULT_5d087_00017</td><td>PENDING   </td><td>              </td><td style=\"text-align: right;\">         256</td><td style=\"text-align: right;\">         105</td><td>(&#x27;MAEAUC&#x27;, 10)   </td><td style=\"text-align: right;\">0.001</td><td style=\"text-align: right;\">       </td><td style=\"text-align: right;\">      </td><td style=\"text-align: right;\">                </td></tr>\n",
              "<tr><td>DEFAULT_5d087_00018</td><td>PENDING   </td><td>              </td><td style=\"text-align: right;\">         256</td><td style=\"text-align: right;\">          35</td><td>(&#x27;MAE&#x27;, 0)       </td><td style=\"text-align: right;\">0.01 </td><td style=\"text-align: right;\">       </td><td style=\"text-align: right;\">      </td><td style=\"text-align: right;\">                </td></tr>\n",
              "<tr><td>DEFAULT_5d087_00019</td><td>PENDING   </td><td>              </td><td style=\"text-align: right;\">         256</td><td style=\"text-align: right;\">          70</td><td>(&#x27;MAE&#x27;, 0)       </td><td style=\"text-align: right;\">0.01 </td><td style=\"text-align: right;\">       </td><td style=\"text-align: right;\">      </td><td style=\"text-align: right;\">                </td></tr>\n",
              "<tr><td>DEFAULT_5d087_00000</td><td>TERMINATED</td><td>              </td><td style=\"text-align: right;\">         256</td><td style=\"text-align: right;\">          35</td><td>(&#x27;MAE&#x27;, 0)       </td><td style=\"text-align: right;\">0.001</td><td style=\"text-align: right;\">1.99559</td><td style=\"text-align: right;\">     1</td><td style=\"text-align: right;\">        12.3246 </td></tr>\n",
              "<tr><td>DEFAULT_5d087_00001</td><td>TERMINATED</td><td>              </td><td style=\"text-align: right;\">         256</td><td style=\"text-align: right;\">          70</td><td>(&#x27;MAE&#x27;, 0)       </td><td style=\"text-align: right;\">0.001</td><td style=\"text-align: right;\">1.98247</td><td style=\"text-align: right;\">     1</td><td style=\"text-align: right;\">         4.70409</td></tr>\n",
              "<tr><td>DEFAULT_5d087_00002</td><td>TERMINATED</td><td>              </td><td style=\"text-align: right;\">         256</td><td style=\"text-align: right;\">         105</td><td>(&#x27;MAE&#x27;, 0)       </td><td style=\"text-align: right;\">0.001</td><td style=\"text-align: right;\">1.98955</td><td style=\"text-align: right;\">     1</td><td style=\"text-align: right;\">         4.80142</td></tr>\n",
              "<tr><td>DEFAULT_5d087_00003</td><td>TERMINATED</td><td>              </td><td style=\"text-align: right;\">         256</td><td style=\"text-align: right;\">          35</td><td>(&#x27;MAEAUC&#x27;, 0.001)</td><td style=\"text-align: right;\">0.001</td><td style=\"text-align: right;\">1.99573</td><td style=\"text-align: right;\">     1</td><td style=\"text-align: right;\">         4.73747</td></tr>\n",
              "<tr><td>DEFAULT_5d087_00004</td><td>TERMINATED</td><td>              </td><td style=\"text-align: right;\">         256</td><td style=\"text-align: right;\">          70</td><td>(&#x27;MAEAUC&#x27;, 0.001)</td><td style=\"text-align: right;\">0.001</td><td style=\"text-align: right;\">1.99686</td><td style=\"text-align: right;\">     1</td><td style=\"text-align: right;\">         4.74517</td></tr>\n",
              "<tr><td>DEFAULT_5d087_00005</td><td>TERMINATED</td><td>              </td><td style=\"text-align: right;\">         256</td><td style=\"text-align: right;\">         105</td><td>(&#x27;MAEAUC&#x27;, 0.001)</td><td style=\"text-align: right;\">0.001</td><td style=\"text-align: right;\">1.97942</td><td style=\"text-align: right;\">     1</td><td style=\"text-align: right;\">         4.70129</td></tr>\n",
              "</tbody>\n",
              "</table><br>... 16 more trials not shown (16 PENDING)<br><br>"
            ],
            "text/plain": [
              "<IPython.core.display.HTML object>"
            ]
          },
          "metadata": {
            "tags": []
          }
        },
        {
          "output_type": "stream",
          "text": [
            "2021-05-25 07:19:05,093\tINFO logger.py:690 -- Removed the following hyperparameter values when logging to tensorboard: {'loss_param': ('MAEAUC', 0.01)}\n"
          ],
          "name": "stderr"
        },
        {
          "output_type": "stream",
          "text": [
            "Result for DEFAULT_5d087_00006:\n",
            "  date: 2021-05-25_07-19-05\n",
            "  done: true\n",
            "  experiment_id: 89b50a0c2a414aeea99d2eb17f698186\n",
            "  experiment_tag: 6_batch_size=256,latent_dim=35,loss_param=('MAEAUC', 0.01),lr=0.001\n",
            "  hostname: d76bb801c9dd\n",
            "  iterations_since_restore: 1\n",
            "  mean_accuracy: 1.9973565340042114\n",
            "  node_ip: 172.28.0.2\n",
            "  pid: 729\n",
            "  should_checkpoint: true\n",
            "  time_since_restore: 4.596568584442139\n",
            "  time_this_iter_s: 4.596568584442139\n",
            "  time_total_s: 4.596568584442139\n",
            "  timestamp: 1621927145\n",
            "  timesteps_since_restore: 0\n",
            "  training_iteration: 1\n",
            "  trial_id: 5d087_00006\n",
            "  \n"
          ],
          "name": "stdout"
        },
        {
          "output_type": "stream",
          "text": [
            "\u001b[2m\u001b[33m(raylet)\u001b[0m /usr/local/lib/python3.7/dist-packages/ray/autoscaler/_private/cli_logger.py:61: FutureWarning: Not all Ray CLI dependencies were found. In Ray 1.4+, the Ray CLI, autoscaler, and dashboard will only be usable via `pip install 'ray[default]'`. Please update your install command.\n",
            "\u001b[2m\u001b[33m(raylet)\u001b[0m   \"update your install command.\", FutureWarning)\n"
          ],
          "name": "stderr"
        },
        {
          "output_type": "stream",
          "text": [
            "\u001b[2m\u001b[36m(pid=757)\u001b[0m Operation will be on *****GPU-CUDA***** \n"
          ],
          "name": "stdout"
        },
        {
          "output_type": "stream",
          "text": [
            "\u001b[2m\u001b[36m(pid=757)\u001b[0m /usr/local/lib/python3.7/dist-packages/sklearn/model_selection/_split.py:667: UserWarning: The least populated class in y has only 2 members, which is less than n_splits=5.\n",
            "\u001b[2m\u001b[36m(pid=757)\u001b[0m   % (min_groups, self.n_splits)), UserWarning)\n",
            "\u001b[2m\u001b[36m(pid=757)\u001b[0m /usr/local/lib/python3.7/dist-packages/sklearn/model_selection/_split.py:667: UserWarning: The least populated class in y has only 2 members, which is less than n_splits=5.\n",
            "\u001b[2m\u001b[36m(pid=757)\u001b[0m   % (min_groups, self.n_splits)), UserWarning)\n",
            "\u001b[2m\u001b[36m(pid=757)\u001b[0m /usr/local/lib/python3.7/dist-packages/sklearn/model_selection/_split.py:667: UserWarning: The least populated class in y has only 2 members, which is less than n_splits=5.\n",
            "\u001b[2m\u001b[36m(pid=757)\u001b[0m   % (min_groups, self.n_splits)), UserWarning)\n"
          ],
          "name": "stderr"
        },
        {
          "output_type": "stream",
          "text": [
            "Result for DEFAULT_5d087_00007:\n",
            "  date: 2021-05-25_07-19-11\n",
            "  done: false\n",
            "  experiment_id: 895c7d5a1f1c4d3aa9773ac8e15079ea\n",
            "  hostname: d76bb801c9dd\n",
            "  iterations_since_restore: 1\n",
            "  mean_accuracy: 1.9901302456855774\n",
            "  node_ip: 172.28.0.2\n",
            "  pid: 757\n",
            "  should_checkpoint: true\n",
            "  time_since_restore: 4.6764373779296875\n",
            "  time_this_iter_s: 4.6764373779296875\n",
            "  time_total_s: 4.6764373779296875\n",
            "  timestamp: 1621927151\n",
            "  timesteps_since_restore: 0\n",
            "  training_iteration: 1\n",
            "  trial_id: 5d087_00007\n",
            "  \n"
          ],
          "name": "stdout"
        },
        {
          "output_type": "display_data",
          "data": {
            "text/html": [
              "== Status ==<br>Memory usage on this node: 3.0/12.7 GiB<br>Using FIFO scheduling algorithm.<br>Resources requested: 2.0/2 CPUs, 1.0/1 GPUs, 0.0/7.33 GiB heap, 0.0/3.67 GiB objects (0.0/1.0 accelerator_type:T4)<br>Result logdir: /content/drive/MyDrive/RecAE/experiments/ECG_5000<br>Number of trials: 36/36 (28 PENDING, 1 RUNNING, 7 TERMINATED)<br><table>\n",
              "<thead>\n",
              "<tr><th>Trial name         </th><th>status    </th><th>loc           </th><th style=\"text-align: right;\">  batch_size</th><th style=\"text-align: right;\">  latent_dim</th><th>loss_param       </th><th style=\"text-align: right;\">   lr</th><th style=\"text-align: right;\">    acc</th><th style=\"text-align: right;\">  iter</th><th style=\"text-align: right;\">  total time (s)</th></tr>\n",
              "</thead>\n",
              "<tbody>\n",
              "<tr><td>DEFAULT_5d087_00007</td><td>RUNNING   </td><td>172.28.0.2:757</td><td style=\"text-align: right;\">         256</td><td style=\"text-align: right;\">          70</td><td>(&#x27;MAEAUC&#x27;, 0.01) </td><td style=\"text-align: right;\">0.001</td><td style=\"text-align: right;\">1.99013</td><td style=\"text-align: right;\">     1</td><td style=\"text-align: right;\">         4.67644</td></tr>\n",
              "<tr><td>DEFAULT_5d087_00008</td><td>PENDING   </td><td>              </td><td style=\"text-align: right;\">         256</td><td style=\"text-align: right;\">         105</td><td>(&#x27;MAEAUC&#x27;, 0.01) </td><td style=\"text-align: right;\">0.001</td><td style=\"text-align: right;\">       </td><td style=\"text-align: right;\">      </td><td style=\"text-align: right;\">                </td></tr>\n",
              "<tr><td>DEFAULT_5d087_00009</td><td>PENDING   </td><td>              </td><td style=\"text-align: right;\">         256</td><td style=\"text-align: right;\">          35</td><td>(&#x27;MAEAUC&#x27;, 0.1)  </td><td style=\"text-align: right;\">0.001</td><td style=\"text-align: right;\">       </td><td style=\"text-align: right;\">      </td><td style=\"text-align: right;\">                </td></tr>\n",
              "<tr><td>DEFAULT_5d087_00010</td><td>PENDING   </td><td>              </td><td style=\"text-align: right;\">         256</td><td style=\"text-align: right;\">          70</td><td>(&#x27;MAEAUC&#x27;, 0.1)  </td><td style=\"text-align: right;\">0.001</td><td style=\"text-align: right;\">       </td><td style=\"text-align: right;\">      </td><td style=\"text-align: right;\">                </td></tr>\n",
              "<tr><td>DEFAULT_5d087_00011</td><td>PENDING   </td><td>              </td><td style=\"text-align: right;\">         256</td><td style=\"text-align: right;\">         105</td><td>(&#x27;MAEAUC&#x27;, 0.1)  </td><td style=\"text-align: right;\">0.001</td><td style=\"text-align: right;\">       </td><td style=\"text-align: right;\">      </td><td style=\"text-align: right;\">                </td></tr>\n",
              "<tr><td>DEFAULT_5d087_00012</td><td>PENDING   </td><td>              </td><td style=\"text-align: right;\">         256</td><td style=\"text-align: right;\">          35</td><td>(&#x27;MAEAUC&#x27;, 1)    </td><td style=\"text-align: right;\">0.001</td><td style=\"text-align: right;\">       </td><td style=\"text-align: right;\">      </td><td style=\"text-align: right;\">                </td></tr>\n",
              "<tr><td>DEFAULT_5d087_00013</td><td>PENDING   </td><td>              </td><td style=\"text-align: right;\">         256</td><td style=\"text-align: right;\">          70</td><td>(&#x27;MAEAUC&#x27;, 1)    </td><td style=\"text-align: right;\">0.001</td><td style=\"text-align: right;\">       </td><td style=\"text-align: right;\">      </td><td style=\"text-align: right;\">                </td></tr>\n",
              "<tr><td>DEFAULT_5d087_00014</td><td>PENDING   </td><td>              </td><td style=\"text-align: right;\">         256</td><td style=\"text-align: right;\">         105</td><td>(&#x27;MAEAUC&#x27;, 1)    </td><td style=\"text-align: right;\">0.001</td><td style=\"text-align: right;\">       </td><td style=\"text-align: right;\">      </td><td style=\"text-align: right;\">                </td></tr>\n",
              "<tr><td>DEFAULT_5d087_00015</td><td>PENDING   </td><td>              </td><td style=\"text-align: right;\">         256</td><td style=\"text-align: right;\">          35</td><td>(&#x27;MAEAUC&#x27;, 10)   </td><td style=\"text-align: right;\">0.001</td><td style=\"text-align: right;\">       </td><td style=\"text-align: right;\">      </td><td style=\"text-align: right;\">                </td></tr>\n",
              "<tr><td>DEFAULT_5d087_00016</td><td>PENDING   </td><td>              </td><td style=\"text-align: right;\">         256</td><td style=\"text-align: right;\">          70</td><td>(&#x27;MAEAUC&#x27;, 10)   </td><td style=\"text-align: right;\">0.001</td><td style=\"text-align: right;\">       </td><td style=\"text-align: right;\">      </td><td style=\"text-align: right;\">                </td></tr>\n",
              "<tr><td>DEFAULT_5d087_00017</td><td>PENDING   </td><td>              </td><td style=\"text-align: right;\">         256</td><td style=\"text-align: right;\">         105</td><td>(&#x27;MAEAUC&#x27;, 10)   </td><td style=\"text-align: right;\">0.001</td><td style=\"text-align: right;\">       </td><td style=\"text-align: right;\">      </td><td style=\"text-align: right;\">                </td></tr>\n",
              "<tr><td>DEFAULT_5d087_00018</td><td>PENDING   </td><td>              </td><td style=\"text-align: right;\">         256</td><td style=\"text-align: right;\">          35</td><td>(&#x27;MAE&#x27;, 0)       </td><td style=\"text-align: right;\">0.01 </td><td style=\"text-align: right;\">       </td><td style=\"text-align: right;\">      </td><td style=\"text-align: right;\">                </td></tr>\n",
              "<tr><td>DEFAULT_5d087_00019</td><td>PENDING   </td><td>              </td><td style=\"text-align: right;\">         256</td><td style=\"text-align: right;\">          70</td><td>(&#x27;MAE&#x27;, 0)       </td><td style=\"text-align: right;\">0.01 </td><td style=\"text-align: right;\">       </td><td style=\"text-align: right;\">      </td><td style=\"text-align: right;\">                </td></tr>\n",
              "<tr><td>DEFAULT_5d087_00000</td><td>TERMINATED</td><td>              </td><td style=\"text-align: right;\">         256</td><td style=\"text-align: right;\">          35</td><td>(&#x27;MAE&#x27;, 0)       </td><td style=\"text-align: right;\">0.001</td><td style=\"text-align: right;\">1.99559</td><td style=\"text-align: right;\">     1</td><td style=\"text-align: right;\">        12.3246 </td></tr>\n",
              "<tr><td>DEFAULT_5d087_00001</td><td>TERMINATED</td><td>              </td><td style=\"text-align: right;\">         256</td><td style=\"text-align: right;\">          70</td><td>(&#x27;MAE&#x27;, 0)       </td><td style=\"text-align: right;\">0.001</td><td style=\"text-align: right;\">1.98247</td><td style=\"text-align: right;\">     1</td><td style=\"text-align: right;\">         4.70409</td></tr>\n",
              "<tr><td>DEFAULT_5d087_00002</td><td>TERMINATED</td><td>              </td><td style=\"text-align: right;\">         256</td><td style=\"text-align: right;\">         105</td><td>(&#x27;MAE&#x27;, 0)       </td><td style=\"text-align: right;\">0.001</td><td style=\"text-align: right;\">1.98955</td><td style=\"text-align: right;\">     1</td><td style=\"text-align: right;\">         4.80142</td></tr>\n",
              "<tr><td>DEFAULT_5d087_00003</td><td>TERMINATED</td><td>              </td><td style=\"text-align: right;\">         256</td><td style=\"text-align: right;\">          35</td><td>(&#x27;MAEAUC&#x27;, 0.001)</td><td style=\"text-align: right;\">0.001</td><td style=\"text-align: right;\">1.99573</td><td style=\"text-align: right;\">     1</td><td style=\"text-align: right;\">         4.73747</td></tr>\n",
              "<tr><td>DEFAULT_5d087_00004</td><td>TERMINATED</td><td>              </td><td style=\"text-align: right;\">         256</td><td style=\"text-align: right;\">          70</td><td>(&#x27;MAEAUC&#x27;, 0.001)</td><td style=\"text-align: right;\">0.001</td><td style=\"text-align: right;\">1.99686</td><td style=\"text-align: right;\">     1</td><td style=\"text-align: right;\">         4.74517</td></tr>\n",
              "<tr><td>DEFAULT_5d087_00005</td><td>TERMINATED</td><td>              </td><td style=\"text-align: right;\">         256</td><td style=\"text-align: right;\">         105</td><td>(&#x27;MAEAUC&#x27;, 0.001)</td><td style=\"text-align: right;\">0.001</td><td style=\"text-align: right;\">1.97942</td><td style=\"text-align: right;\">     1</td><td style=\"text-align: right;\">         4.70129</td></tr>\n",
              "<tr><td>DEFAULT_5d087_00006</td><td>TERMINATED</td><td>              </td><td style=\"text-align: right;\">         256</td><td style=\"text-align: right;\">          35</td><td>(&#x27;MAEAUC&#x27;, 0.01) </td><td style=\"text-align: right;\">0.001</td><td style=\"text-align: right;\">1.99736</td><td style=\"text-align: right;\">     1</td><td style=\"text-align: right;\">         4.59657</td></tr>\n",
              "</tbody>\n",
              "</table><br>... 16 more trials not shown (16 PENDING)<br><br>"
            ],
            "text/plain": [
              "<IPython.core.display.HTML object>"
            ]
          },
          "metadata": {
            "tags": []
          }
        },
        {
          "output_type": "stream",
          "text": [
            "2021-05-25 07:19:11,551\tINFO logger.py:690 -- Removed the following hyperparameter values when logging to tensorboard: {'loss_param': ('MAEAUC', 0.01)}\n"
          ],
          "name": "stderr"
        },
        {
          "output_type": "stream",
          "text": [
            "Result for DEFAULT_5d087_00007:\n",
            "  date: 2021-05-25_07-19-11\n",
            "  done: true\n",
            "  experiment_id: 895c7d5a1f1c4d3aa9773ac8e15079ea\n",
            "  experiment_tag: 7_batch_size=256,latent_dim=70,loss_param=('MAEAUC', 0.01),lr=0.001\n",
            "  hostname: d76bb801c9dd\n",
            "  iterations_since_restore: 1\n",
            "  mean_accuracy: 1.9901302456855774\n",
            "  node_ip: 172.28.0.2\n",
            "  pid: 757\n",
            "  should_checkpoint: true\n",
            "  time_since_restore: 4.6764373779296875\n",
            "  time_this_iter_s: 4.6764373779296875\n",
            "  time_total_s: 4.6764373779296875\n",
            "  timestamp: 1621927151\n",
            "  timesteps_since_restore: 0\n",
            "  training_iteration: 1\n",
            "  trial_id: 5d087_00007\n",
            "  \n"
          ],
          "name": "stdout"
        },
        {
          "output_type": "stream",
          "text": [
            "\u001b[2m\u001b[33m(raylet)\u001b[0m /usr/local/lib/python3.7/dist-packages/ray/autoscaler/_private/cli_logger.py:61: FutureWarning: Not all Ray CLI dependencies were found. In Ray 1.4+, the Ray CLI, autoscaler, and dashboard will only be usable via `pip install 'ray[default]'`. Please update your install command.\n",
            "\u001b[2m\u001b[33m(raylet)\u001b[0m   \"update your install command.\", FutureWarning)\n"
          ],
          "name": "stderr"
        },
        {
          "output_type": "stream",
          "text": [
            "\u001b[2m\u001b[36m(pid=785)\u001b[0m Operation will be on *****GPU-CUDA***** \n"
          ],
          "name": "stdout"
        },
        {
          "output_type": "stream",
          "text": [
            "\u001b[2m\u001b[36m(pid=785)\u001b[0m /usr/local/lib/python3.7/dist-packages/sklearn/model_selection/_split.py:667: UserWarning: The least populated class in y has only 2 members, which is less than n_splits=5.\n",
            "\u001b[2m\u001b[36m(pid=785)\u001b[0m   % (min_groups, self.n_splits)), UserWarning)\n",
            "\u001b[2m\u001b[36m(pid=785)\u001b[0m /usr/local/lib/python3.7/dist-packages/sklearn/model_selection/_split.py:667: UserWarning: The least populated class in y has only 2 members, which is less than n_splits=5.\n",
            "\u001b[2m\u001b[36m(pid=785)\u001b[0m   % (min_groups, self.n_splits)), UserWarning)\n",
            "\u001b[2m\u001b[36m(pid=785)\u001b[0m /usr/local/lib/python3.7/dist-packages/sklearn/model_selection/_split.py:667: UserWarning: The least populated class in y has only 2 members, which is less than n_splits=5.\n",
            "\u001b[2m\u001b[36m(pid=785)\u001b[0m   % (min_groups, self.n_splits)), UserWarning)\n"
          ],
          "name": "stderr"
        },
        {
          "output_type": "stream",
          "text": [
            "Result for DEFAULT_5d087_00008:\n",
            "  date: 2021-05-25_07-19-18\n",
            "  done: false\n",
            "  experiment_id: 055ef6f0a69e43aa8b57fac959ff3c47\n",
            "  hostname: d76bb801c9dd\n",
            "  iterations_since_restore: 1\n",
            "  mean_accuracy: 1.9714453220367432\n",
            "  node_ip: 172.28.0.2\n",
            "  pid: 785\n",
            "  should_checkpoint: true\n",
            "  time_since_restore: 4.666591167449951\n",
            "  time_this_iter_s: 4.666591167449951\n",
            "  time_total_s: 4.666591167449951\n",
            "  timestamp: 1621927158\n",
            "  timesteps_since_restore: 0\n",
            "  training_iteration: 1\n",
            "  trial_id: 5d087_00008\n",
            "  \n"
          ],
          "name": "stdout"
        },
        {
          "output_type": "display_data",
          "data": {
            "text/html": [
              "== Status ==<br>Memory usage on this node: 2.9/12.7 GiB<br>Using FIFO scheduling algorithm.<br>Resources requested: 2.0/2 CPUs, 1.0/1 GPUs, 0.0/7.33 GiB heap, 0.0/3.67 GiB objects (0.0/1.0 accelerator_type:T4)<br>Result logdir: /content/drive/MyDrive/RecAE/experiments/ECG_5000<br>Number of trials: 36/36 (27 PENDING, 1 RUNNING, 8 TERMINATED)<br><table>\n",
              "<thead>\n",
              "<tr><th>Trial name         </th><th>status    </th><th>loc           </th><th style=\"text-align: right;\">  batch_size</th><th style=\"text-align: right;\">  latent_dim</th><th>loss_param       </th><th style=\"text-align: right;\">   lr</th><th style=\"text-align: right;\">    acc</th><th style=\"text-align: right;\">  iter</th><th style=\"text-align: right;\">  total time (s)</th></tr>\n",
              "</thead>\n",
              "<tbody>\n",
              "<tr><td>DEFAULT_5d087_00008</td><td>RUNNING   </td><td>172.28.0.2:785</td><td style=\"text-align: right;\">         256</td><td style=\"text-align: right;\">         105</td><td>(&#x27;MAEAUC&#x27;, 0.01) </td><td style=\"text-align: right;\">0.001</td><td style=\"text-align: right;\">1.97145</td><td style=\"text-align: right;\">     1</td><td style=\"text-align: right;\">         4.66659</td></tr>\n",
              "<tr><td>DEFAULT_5d087_00009</td><td>PENDING   </td><td>              </td><td style=\"text-align: right;\">         256</td><td style=\"text-align: right;\">          35</td><td>(&#x27;MAEAUC&#x27;, 0.1)  </td><td style=\"text-align: right;\">0.001</td><td style=\"text-align: right;\">       </td><td style=\"text-align: right;\">      </td><td style=\"text-align: right;\">                </td></tr>\n",
              "<tr><td>DEFAULT_5d087_00010</td><td>PENDING   </td><td>              </td><td style=\"text-align: right;\">         256</td><td style=\"text-align: right;\">          70</td><td>(&#x27;MAEAUC&#x27;, 0.1)  </td><td style=\"text-align: right;\">0.001</td><td style=\"text-align: right;\">       </td><td style=\"text-align: right;\">      </td><td style=\"text-align: right;\">                </td></tr>\n",
              "<tr><td>DEFAULT_5d087_00011</td><td>PENDING   </td><td>              </td><td style=\"text-align: right;\">         256</td><td style=\"text-align: right;\">         105</td><td>(&#x27;MAEAUC&#x27;, 0.1)  </td><td style=\"text-align: right;\">0.001</td><td style=\"text-align: right;\">       </td><td style=\"text-align: right;\">      </td><td style=\"text-align: right;\">                </td></tr>\n",
              "<tr><td>DEFAULT_5d087_00012</td><td>PENDING   </td><td>              </td><td style=\"text-align: right;\">         256</td><td style=\"text-align: right;\">          35</td><td>(&#x27;MAEAUC&#x27;, 1)    </td><td style=\"text-align: right;\">0.001</td><td style=\"text-align: right;\">       </td><td style=\"text-align: right;\">      </td><td style=\"text-align: right;\">                </td></tr>\n",
              "<tr><td>DEFAULT_5d087_00013</td><td>PENDING   </td><td>              </td><td style=\"text-align: right;\">         256</td><td style=\"text-align: right;\">          70</td><td>(&#x27;MAEAUC&#x27;, 1)    </td><td style=\"text-align: right;\">0.001</td><td style=\"text-align: right;\">       </td><td style=\"text-align: right;\">      </td><td style=\"text-align: right;\">                </td></tr>\n",
              "<tr><td>DEFAULT_5d087_00014</td><td>PENDING   </td><td>              </td><td style=\"text-align: right;\">         256</td><td style=\"text-align: right;\">         105</td><td>(&#x27;MAEAUC&#x27;, 1)    </td><td style=\"text-align: right;\">0.001</td><td style=\"text-align: right;\">       </td><td style=\"text-align: right;\">      </td><td style=\"text-align: right;\">                </td></tr>\n",
              "<tr><td>DEFAULT_5d087_00015</td><td>PENDING   </td><td>              </td><td style=\"text-align: right;\">         256</td><td style=\"text-align: right;\">          35</td><td>(&#x27;MAEAUC&#x27;, 10)   </td><td style=\"text-align: right;\">0.001</td><td style=\"text-align: right;\">       </td><td style=\"text-align: right;\">      </td><td style=\"text-align: right;\">                </td></tr>\n",
              "<tr><td>DEFAULT_5d087_00016</td><td>PENDING   </td><td>              </td><td style=\"text-align: right;\">         256</td><td style=\"text-align: right;\">          70</td><td>(&#x27;MAEAUC&#x27;, 10)   </td><td style=\"text-align: right;\">0.001</td><td style=\"text-align: right;\">       </td><td style=\"text-align: right;\">      </td><td style=\"text-align: right;\">                </td></tr>\n",
              "<tr><td>DEFAULT_5d087_00017</td><td>PENDING   </td><td>              </td><td style=\"text-align: right;\">         256</td><td style=\"text-align: right;\">         105</td><td>(&#x27;MAEAUC&#x27;, 10)   </td><td style=\"text-align: right;\">0.001</td><td style=\"text-align: right;\">       </td><td style=\"text-align: right;\">      </td><td style=\"text-align: right;\">                </td></tr>\n",
              "<tr><td>DEFAULT_5d087_00018</td><td>PENDING   </td><td>              </td><td style=\"text-align: right;\">         256</td><td style=\"text-align: right;\">          35</td><td>(&#x27;MAE&#x27;, 0)       </td><td style=\"text-align: right;\">0.01 </td><td style=\"text-align: right;\">       </td><td style=\"text-align: right;\">      </td><td style=\"text-align: right;\">                </td></tr>\n",
              "<tr><td>DEFAULT_5d087_00019</td><td>PENDING   </td><td>              </td><td style=\"text-align: right;\">         256</td><td style=\"text-align: right;\">          70</td><td>(&#x27;MAE&#x27;, 0)       </td><td style=\"text-align: right;\">0.01 </td><td style=\"text-align: right;\">       </td><td style=\"text-align: right;\">      </td><td style=\"text-align: right;\">                </td></tr>\n",
              "<tr><td>DEFAULT_5d087_00000</td><td>TERMINATED</td><td>              </td><td style=\"text-align: right;\">         256</td><td style=\"text-align: right;\">          35</td><td>(&#x27;MAE&#x27;, 0)       </td><td style=\"text-align: right;\">0.001</td><td style=\"text-align: right;\">1.99559</td><td style=\"text-align: right;\">     1</td><td style=\"text-align: right;\">        12.3246 </td></tr>\n",
              "<tr><td>DEFAULT_5d087_00001</td><td>TERMINATED</td><td>              </td><td style=\"text-align: right;\">         256</td><td style=\"text-align: right;\">          70</td><td>(&#x27;MAE&#x27;, 0)       </td><td style=\"text-align: right;\">0.001</td><td style=\"text-align: right;\">1.98247</td><td style=\"text-align: right;\">     1</td><td style=\"text-align: right;\">         4.70409</td></tr>\n",
              "<tr><td>DEFAULT_5d087_00002</td><td>TERMINATED</td><td>              </td><td style=\"text-align: right;\">         256</td><td style=\"text-align: right;\">         105</td><td>(&#x27;MAE&#x27;, 0)       </td><td style=\"text-align: right;\">0.001</td><td style=\"text-align: right;\">1.98955</td><td style=\"text-align: right;\">     1</td><td style=\"text-align: right;\">         4.80142</td></tr>\n",
              "<tr><td>DEFAULT_5d087_00003</td><td>TERMINATED</td><td>              </td><td style=\"text-align: right;\">         256</td><td style=\"text-align: right;\">          35</td><td>(&#x27;MAEAUC&#x27;, 0.001)</td><td style=\"text-align: right;\">0.001</td><td style=\"text-align: right;\">1.99573</td><td style=\"text-align: right;\">     1</td><td style=\"text-align: right;\">         4.73747</td></tr>\n",
              "<tr><td>DEFAULT_5d087_00004</td><td>TERMINATED</td><td>              </td><td style=\"text-align: right;\">         256</td><td style=\"text-align: right;\">          70</td><td>(&#x27;MAEAUC&#x27;, 0.001)</td><td style=\"text-align: right;\">0.001</td><td style=\"text-align: right;\">1.99686</td><td style=\"text-align: right;\">     1</td><td style=\"text-align: right;\">         4.74517</td></tr>\n",
              "<tr><td>DEFAULT_5d087_00005</td><td>TERMINATED</td><td>              </td><td style=\"text-align: right;\">         256</td><td style=\"text-align: right;\">         105</td><td>(&#x27;MAEAUC&#x27;, 0.001)</td><td style=\"text-align: right;\">0.001</td><td style=\"text-align: right;\">1.97942</td><td style=\"text-align: right;\">     1</td><td style=\"text-align: right;\">         4.70129</td></tr>\n",
              "<tr><td>DEFAULT_5d087_00006</td><td>TERMINATED</td><td>              </td><td style=\"text-align: right;\">         256</td><td style=\"text-align: right;\">          35</td><td>(&#x27;MAEAUC&#x27;, 0.01) </td><td style=\"text-align: right;\">0.001</td><td style=\"text-align: right;\">1.99736</td><td style=\"text-align: right;\">     1</td><td style=\"text-align: right;\">         4.59657</td></tr>\n",
              "<tr><td>DEFAULT_5d087_00007</td><td>TERMINATED</td><td>              </td><td style=\"text-align: right;\">         256</td><td style=\"text-align: right;\">          70</td><td>(&#x27;MAEAUC&#x27;, 0.01) </td><td style=\"text-align: right;\">0.001</td><td style=\"text-align: right;\">1.99013</td><td style=\"text-align: right;\">     1</td><td style=\"text-align: right;\">         4.67644</td></tr>\n",
              "</tbody>\n",
              "</table><br>... 16 more trials not shown (16 PENDING)<br><br>"
            ],
            "text/plain": [
              "<IPython.core.display.HTML object>"
            ]
          },
          "metadata": {
            "tags": []
          }
        },
        {
          "output_type": "stream",
          "text": [
            "2021-05-25 07:19:18,080\tINFO logger.py:690 -- Removed the following hyperparameter values when logging to tensorboard: {'loss_param': ('MAEAUC', 0.01)}\n"
          ],
          "name": "stderr"
        },
        {
          "output_type": "stream",
          "text": [
            "Result for DEFAULT_5d087_00008:\n",
            "  date: 2021-05-25_07-19-18\n",
            "  done: true\n",
            "  experiment_id: 055ef6f0a69e43aa8b57fac959ff3c47\n",
            "  experiment_tag: 8_batch_size=256,latent_dim=105,loss_param=('MAEAUC', 0.01),lr=0.001\n",
            "  hostname: d76bb801c9dd\n",
            "  iterations_since_restore: 1\n",
            "  mean_accuracy: 1.9714453220367432\n",
            "  node_ip: 172.28.0.2\n",
            "  pid: 785\n",
            "  should_checkpoint: true\n",
            "  time_since_restore: 4.666591167449951\n",
            "  time_this_iter_s: 4.666591167449951\n",
            "  time_total_s: 4.666591167449951\n",
            "  timestamp: 1621927158\n",
            "  timesteps_since_restore: 0\n",
            "  training_iteration: 1\n",
            "  trial_id: 5d087_00008\n",
            "  \n"
          ],
          "name": "stdout"
        },
        {
          "output_type": "stream",
          "text": [
            "\u001b[2m\u001b[33m(raylet)\u001b[0m /usr/local/lib/python3.7/dist-packages/ray/autoscaler/_private/cli_logger.py:61: FutureWarning: Not all Ray CLI dependencies were found. In Ray 1.4+, the Ray CLI, autoscaler, and dashboard will only be usable via `pip install 'ray[default]'`. Please update your install command.\n",
            "\u001b[2m\u001b[33m(raylet)\u001b[0m   \"update your install command.\", FutureWarning)\n"
          ],
          "name": "stderr"
        },
        {
          "output_type": "stream",
          "text": [
            "\u001b[2m\u001b[36m(pid=811)\u001b[0m Operation will be on *****GPU-CUDA***** \n"
          ],
          "name": "stdout"
        },
        {
          "output_type": "stream",
          "text": [
            "\u001b[2m\u001b[36m(pid=811)\u001b[0m /usr/local/lib/python3.7/dist-packages/sklearn/model_selection/_split.py:667: UserWarning: The least populated class in y has only 2 members, which is less than n_splits=5.\n",
            "\u001b[2m\u001b[36m(pid=811)\u001b[0m   % (min_groups, self.n_splits)), UserWarning)\n",
            "\u001b[2m\u001b[36m(pid=811)\u001b[0m /usr/local/lib/python3.7/dist-packages/sklearn/model_selection/_split.py:667: UserWarning: The least populated class in y has only 2 members, which is less than n_splits=5.\n",
            "\u001b[2m\u001b[36m(pid=811)\u001b[0m   % (min_groups, self.n_splits)), UserWarning)\n",
            "\u001b[2m\u001b[36m(pid=811)\u001b[0m /usr/local/lib/python3.7/dist-packages/sklearn/model_selection/_split.py:667: UserWarning: The least populated class in y has only 2 members, which is less than n_splits=5.\n",
            "\u001b[2m\u001b[36m(pid=811)\u001b[0m   % (min_groups, self.n_splits)), UserWarning)\n"
          ],
          "name": "stderr"
        },
        {
          "output_type": "stream",
          "text": [
            "Result for DEFAULT_5d087_00009:\n",
            "  date: 2021-05-25_07-19-24\n",
            "  done: false\n",
            "  experiment_id: 39ac348989b8482e8836a6b27932eda2\n",
            "  hostname: d76bb801c9dd\n",
            "  iterations_since_restore: 1\n",
            "  mean_accuracy: 1.9968501925468445\n",
            "  node_ip: 172.28.0.2\n",
            "  pid: 811\n",
            "  should_checkpoint: true\n",
            "  time_since_restore: 4.697997331619263\n",
            "  time_this_iter_s: 4.697997331619263\n",
            "  time_total_s: 4.697997331619263\n",
            "  timestamp: 1621927164\n",
            "  timesteps_since_restore: 0\n",
            "  training_iteration: 1\n",
            "  trial_id: 5d087_00009\n",
            "  \n"
          ],
          "name": "stdout"
        },
        {
          "output_type": "display_data",
          "data": {
            "text/html": [
              "== Status ==<br>Memory usage on this node: 2.9/12.7 GiB<br>Using FIFO scheduling algorithm.<br>Resources requested: 2.0/2 CPUs, 1.0/1 GPUs, 0.0/7.33 GiB heap, 0.0/3.67 GiB objects (0.0/1.0 accelerator_type:T4)<br>Result logdir: /content/drive/MyDrive/RecAE/experiments/ECG_5000<br>Number of trials: 36/36 (26 PENDING, 1 RUNNING, 9 TERMINATED)<br><table>\n",
              "<thead>\n",
              "<tr><th>Trial name         </th><th>status    </th><th>loc           </th><th style=\"text-align: right;\">  batch_size</th><th style=\"text-align: right;\">  latent_dim</th><th>loss_param       </th><th style=\"text-align: right;\">   lr</th><th style=\"text-align: right;\">    acc</th><th style=\"text-align: right;\">  iter</th><th style=\"text-align: right;\">  total time (s)</th></tr>\n",
              "</thead>\n",
              "<tbody>\n",
              "<tr><td>DEFAULT_5d087_00009</td><td>RUNNING   </td><td>172.28.0.2:811</td><td style=\"text-align: right;\">         256</td><td style=\"text-align: right;\">          35</td><td>(&#x27;MAEAUC&#x27;, 0.1)  </td><td style=\"text-align: right;\">0.001</td><td style=\"text-align: right;\">1.99685</td><td style=\"text-align: right;\">     1</td><td style=\"text-align: right;\">         4.698  </td></tr>\n",
              "<tr><td>DEFAULT_5d087_00010</td><td>PENDING   </td><td>              </td><td style=\"text-align: right;\">         256</td><td style=\"text-align: right;\">          70</td><td>(&#x27;MAEAUC&#x27;, 0.1)  </td><td style=\"text-align: right;\">0.001</td><td style=\"text-align: right;\">       </td><td style=\"text-align: right;\">      </td><td style=\"text-align: right;\">                </td></tr>\n",
              "<tr><td>DEFAULT_5d087_00011</td><td>PENDING   </td><td>              </td><td style=\"text-align: right;\">         256</td><td style=\"text-align: right;\">         105</td><td>(&#x27;MAEAUC&#x27;, 0.1)  </td><td style=\"text-align: right;\">0.001</td><td style=\"text-align: right;\">       </td><td style=\"text-align: right;\">      </td><td style=\"text-align: right;\">                </td></tr>\n",
              "<tr><td>DEFAULT_5d087_00012</td><td>PENDING   </td><td>              </td><td style=\"text-align: right;\">         256</td><td style=\"text-align: right;\">          35</td><td>(&#x27;MAEAUC&#x27;, 1)    </td><td style=\"text-align: right;\">0.001</td><td style=\"text-align: right;\">       </td><td style=\"text-align: right;\">      </td><td style=\"text-align: right;\">                </td></tr>\n",
              "<tr><td>DEFAULT_5d087_00013</td><td>PENDING   </td><td>              </td><td style=\"text-align: right;\">         256</td><td style=\"text-align: right;\">          70</td><td>(&#x27;MAEAUC&#x27;, 1)    </td><td style=\"text-align: right;\">0.001</td><td style=\"text-align: right;\">       </td><td style=\"text-align: right;\">      </td><td style=\"text-align: right;\">                </td></tr>\n",
              "<tr><td>DEFAULT_5d087_00014</td><td>PENDING   </td><td>              </td><td style=\"text-align: right;\">         256</td><td style=\"text-align: right;\">         105</td><td>(&#x27;MAEAUC&#x27;, 1)    </td><td style=\"text-align: right;\">0.001</td><td style=\"text-align: right;\">       </td><td style=\"text-align: right;\">      </td><td style=\"text-align: right;\">                </td></tr>\n",
              "<tr><td>DEFAULT_5d087_00015</td><td>PENDING   </td><td>              </td><td style=\"text-align: right;\">         256</td><td style=\"text-align: right;\">          35</td><td>(&#x27;MAEAUC&#x27;, 10)   </td><td style=\"text-align: right;\">0.001</td><td style=\"text-align: right;\">       </td><td style=\"text-align: right;\">      </td><td style=\"text-align: right;\">                </td></tr>\n",
              "<tr><td>DEFAULT_5d087_00016</td><td>PENDING   </td><td>              </td><td style=\"text-align: right;\">         256</td><td style=\"text-align: right;\">          70</td><td>(&#x27;MAEAUC&#x27;, 10)   </td><td style=\"text-align: right;\">0.001</td><td style=\"text-align: right;\">       </td><td style=\"text-align: right;\">      </td><td style=\"text-align: right;\">                </td></tr>\n",
              "<tr><td>DEFAULT_5d087_00017</td><td>PENDING   </td><td>              </td><td style=\"text-align: right;\">         256</td><td style=\"text-align: right;\">         105</td><td>(&#x27;MAEAUC&#x27;, 10)   </td><td style=\"text-align: right;\">0.001</td><td style=\"text-align: right;\">       </td><td style=\"text-align: right;\">      </td><td style=\"text-align: right;\">                </td></tr>\n",
              "<tr><td>DEFAULT_5d087_00018</td><td>PENDING   </td><td>              </td><td style=\"text-align: right;\">         256</td><td style=\"text-align: right;\">          35</td><td>(&#x27;MAE&#x27;, 0)       </td><td style=\"text-align: right;\">0.01 </td><td style=\"text-align: right;\">       </td><td style=\"text-align: right;\">      </td><td style=\"text-align: right;\">                </td></tr>\n",
              "<tr><td>DEFAULT_5d087_00019</td><td>PENDING   </td><td>              </td><td style=\"text-align: right;\">         256</td><td style=\"text-align: right;\">          70</td><td>(&#x27;MAE&#x27;, 0)       </td><td style=\"text-align: right;\">0.01 </td><td style=\"text-align: right;\">       </td><td style=\"text-align: right;\">      </td><td style=\"text-align: right;\">                </td></tr>\n",
              "<tr><td>DEFAULT_5d087_00000</td><td>TERMINATED</td><td>              </td><td style=\"text-align: right;\">         256</td><td style=\"text-align: right;\">          35</td><td>(&#x27;MAE&#x27;, 0)       </td><td style=\"text-align: right;\">0.001</td><td style=\"text-align: right;\">1.99559</td><td style=\"text-align: right;\">     1</td><td style=\"text-align: right;\">        12.3246 </td></tr>\n",
              "<tr><td>DEFAULT_5d087_00001</td><td>TERMINATED</td><td>              </td><td style=\"text-align: right;\">         256</td><td style=\"text-align: right;\">          70</td><td>(&#x27;MAE&#x27;, 0)       </td><td style=\"text-align: right;\">0.001</td><td style=\"text-align: right;\">1.98247</td><td style=\"text-align: right;\">     1</td><td style=\"text-align: right;\">         4.70409</td></tr>\n",
              "<tr><td>DEFAULT_5d087_00002</td><td>TERMINATED</td><td>              </td><td style=\"text-align: right;\">         256</td><td style=\"text-align: right;\">         105</td><td>(&#x27;MAE&#x27;, 0)       </td><td style=\"text-align: right;\">0.001</td><td style=\"text-align: right;\">1.98955</td><td style=\"text-align: right;\">     1</td><td style=\"text-align: right;\">         4.80142</td></tr>\n",
              "<tr><td>DEFAULT_5d087_00003</td><td>TERMINATED</td><td>              </td><td style=\"text-align: right;\">         256</td><td style=\"text-align: right;\">          35</td><td>(&#x27;MAEAUC&#x27;, 0.001)</td><td style=\"text-align: right;\">0.001</td><td style=\"text-align: right;\">1.99573</td><td style=\"text-align: right;\">     1</td><td style=\"text-align: right;\">         4.73747</td></tr>\n",
              "<tr><td>DEFAULT_5d087_00004</td><td>TERMINATED</td><td>              </td><td style=\"text-align: right;\">         256</td><td style=\"text-align: right;\">          70</td><td>(&#x27;MAEAUC&#x27;, 0.001)</td><td style=\"text-align: right;\">0.001</td><td style=\"text-align: right;\">1.99686</td><td style=\"text-align: right;\">     1</td><td style=\"text-align: right;\">         4.74517</td></tr>\n",
              "<tr><td>DEFAULT_5d087_00005</td><td>TERMINATED</td><td>              </td><td style=\"text-align: right;\">         256</td><td style=\"text-align: right;\">         105</td><td>(&#x27;MAEAUC&#x27;, 0.001)</td><td style=\"text-align: right;\">0.001</td><td style=\"text-align: right;\">1.97942</td><td style=\"text-align: right;\">     1</td><td style=\"text-align: right;\">         4.70129</td></tr>\n",
              "<tr><td>DEFAULT_5d087_00006</td><td>TERMINATED</td><td>              </td><td style=\"text-align: right;\">         256</td><td style=\"text-align: right;\">          35</td><td>(&#x27;MAEAUC&#x27;, 0.01) </td><td style=\"text-align: right;\">0.001</td><td style=\"text-align: right;\">1.99736</td><td style=\"text-align: right;\">     1</td><td style=\"text-align: right;\">         4.59657</td></tr>\n",
              "<tr><td>DEFAULT_5d087_00007</td><td>TERMINATED</td><td>              </td><td style=\"text-align: right;\">         256</td><td style=\"text-align: right;\">          70</td><td>(&#x27;MAEAUC&#x27;, 0.01) </td><td style=\"text-align: right;\">0.001</td><td style=\"text-align: right;\">1.99013</td><td style=\"text-align: right;\">     1</td><td style=\"text-align: right;\">         4.67644</td></tr>\n",
              "<tr><td>DEFAULT_5d087_00008</td><td>TERMINATED</td><td>              </td><td style=\"text-align: right;\">         256</td><td style=\"text-align: right;\">         105</td><td>(&#x27;MAEAUC&#x27;, 0.01) </td><td style=\"text-align: right;\">0.001</td><td style=\"text-align: right;\">1.97145</td><td style=\"text-align: right;\">     1</td><td style=\"text-align: right;\">         4.66659</td></tr>\n",
              "</tbody>\n",
              "</table><br>... 16 more trials not shown (16 PENDING)<br><br>"
            ],
            "text/plain": [
              "<IPython.core.display.HTML object>"
            ]
          },
          "metadata": {
            "tags": []
          }
        },
        {
          "output_type": "stream",
          "text": [
            "2021-05-25 07:19:24,565\tINFO logger.py:690 -- Removed the following hyperparameter values when logging to tensorboard: {'loss_param': ('MAEAUC', 0.1)}\n"
          ],
          "name": "stderr"
        },
        {
          "output_type": "stream",
          "text": [
            "Result for DEFAULT_5d087_00009:\n",
            "  date: 2021-05-25_07-19-24\n",
            "  done: true\n",
            "  experiment_id: 39ac348989b8482e8836a6b27932eda2\n",
            "  experiment_tag: 9_batch_size=256,latent_dim=35,loss_param=('MAEAUC', 0.1),lr=0.001\n",
            "  hostname: d76bb801c9dd\n",
            "  iterations_since_restore: 1\n",
            "  mean_accuracy: 1.9968501925468445\n",
            "  node_ip: 172.28.0.2\n",
            "  pid: 811\n",
            "  should_checkpoint: true\n",
            "  time_since_restore: 4.697997331619263\n",
            "  time_this_iter_s: 4.697997331619263\n",
            "  time_total_s: 4.697997331619263\n",
            "  timestamp: 1621927164\n",
            "  timesteps_since_restore: 0\n",
            "  training_iteration: 1\n",
            "  trial_id: 5d087_00009\n",
            "  \n"
          ],
          "name": "stdout"
        },
        {
          "output_type": "stream",
          "text": [
            "\u001b[2m\u001b[33m(raylet)\u001b[0m /usr/local/lib/python3.7/dist-packages/ray/autoscaler/_private/cli_logger.py:61: FutureWarning: Not all Ray CLI dependencies were found. In Ray 1.4+, the Ray CLI, autoscaler, and dashboard will only be usable via `pip install 'ray[default]'`. Please update your install command.\n",
            "\u001b[2m\u001b[33m(raylet)\u001b[0m   \"update your install command.\", FutureWarning)\n"
          ],
          "name": "stderr"
        },
        {
          "output_type": "stream",
          "text": [
            "\u001b[2m\u001b[36m(pid=839)\u001b[0m Operation will be on *****GPU-CUDA***** \n"
          ],
          "name": "stdout"
        },
        {
          "output_type": "stream",
          "text": [
            "\u001b[2m\u001b[36m(pid=839)\u001b[0m /usr/local/lib/python3.7/dist-packages/sklearn/model_selection/_split.py:667: UserWarning: The least populated class in y has only 2 members, which is less than n_splits=5.\n",
            "\u001b[2m\u001b[36m(pid=839)\u001b[0m   % (min_groups, self.n_splits)), UserWarning)\n",
            "\u001b[2m\u001b[36m(pid=839)\u001b[0m /usr/local/lib/python3.7/dist-packages/sklearn/model_selection/_split.py:667: UserWarning: The least populated class in y has only 2 members, which is less than n_splits=5.\n",
            "\u001b[2m\u001b[36m(pid=839)\u001b[0m   % (min_groups, self.n_splits)), UserWarning)\n",
            "\u001b[2m\u001b[36m(pid=839)\u001b[0m /usr/local/lib/python3.7/dist-packages/sklearn/model_selection/_split.py:667: UserWarning: The least populated class in y has only 2 members, which is less than n_splits=5.\n",
            "\u001b[2m\u001b[36m(pid=839)\u001b[0m   % (min_groups, self.n_splits)), UserWarning)\n"
          ],
          "name": "stderr"
        },
        {
          "output_type": "stream",
          "text": [
            "Result for DEFAULT_5d087_00010:\n",
            "  date: 2021-05-25_07-19-30\n",
            "  done: false\n",
            "  experiment_id: 0669aaa1c77a47738cf30279f9ed0eec\n",
            "  hostname: d76bb801c9dd\n",
            "  iterations_since_restore: 1\n",
            "  mean_accuracy: 1.9864827990531921\n",
            "  node_ip: 172.28.0.2\n",
            "  pid: 839\n",
            "  should_checkpoint: true\n",
            "  time_since_restore: 4.63374137878418\n",
            "  time_this_iter_s: 4.63374137878418\n",
            "  time_total_s: 4.63374137878418\n",
            "  timestamp: 1621927170\n",
            "  timesteps_since_restore: 0\n",
            "  training_iteration: 1\n",
            "  trial_id: 5d087_00010\n",
            "  \n"
          ],
          "name": "stdout"
        },
        {
          "output_type": "display_data",
          "data": {
            "text/html": [
              "== Status ==<br>Memory usage on this node: 2.9/12.7 GiB<br>Using FIFO scheduling algorithm.<br>Resources requested: 2.0/2 CPUs, 1.0/1 GPUs, 0.0/7.33 GiB heap, 0.0/3.67 GiB objects (0.0/1.0 accelerator_type:T4)<br>Result logdir: /content/drive/MyDrive/RecAE/experiments/ECG_5000<br>Number of trials: 36/36 (25 PENDING, 1 RUNNING, 10 TERMINATED)<br><table>\n",
              "<thead>\n",
              "<tr><th>Trial name         </th><th>status    </th><th>loc           </th><th style=\"text-align: right;\">  batch_size</th><th style=\"text-align: right;\">  latent_dim</th><th>loss_param       </th><th style=\"text-align: right;\">   lr</th><th style=\"text-align: right;\">    acc</th><th style=\"text-align: right;\">  iter</th><th style=\"text-align: right;\">  total time (s)</th></tr>\n",
              "</thead>\n",
              "<tbody>\n",
              "<tr><td>DEFAULT_5d087_00010</td><td>RUNNING   </td><td>172.28.0.2:839</td><td style=\"text-align: right;\">         256</td><td style=\"text-align: right;\">          70</td><td>(&#x27;MAEAUC&#x27;, 0.1)  </td><td style=\"text-align: right;\">0.001</td><td style=\"text-align: right;\">1.98648</td><td style=\"text-align: right;\">     1</td><td style=\"text-align: right;\">         4.63374</td></tr>\n",
              "<tr><td>DEFAULT_5d087_00011</td><td>PENDING   </td><td>              </td><td style=\"text-align: right;\">         256</td><td style=\"text-align: right;\">         105</td><td>(&#x27;MAEAUC&#x27;, 0.1)  </td><td style=\"text-align: right;\">0.001</td><td style=\"text-align: right;\">       </td><td style=\"text-align: right;\">      </td><td style=\"text-align: right;\">                </td></tr>\n",
              "<tr><td>DEFAULT_5d087_00012</td><td>PENDING   </td><td>              </td><td style=\"text-align: right;\">         256</td><td style=\"text-align: right;\">          35</td><td>(&#x27;MAEAUC&#x27;, 1)    </td><td style=\"text-align: right;\">0.001</td><td style=\"text-align: right;\">       </td><td style=\"text-align: right;\">      </td><td style=\"text-align: right;\">                </td></tr>\n",
              "<tr><td>DEFAULT_5d087_00013</td><td>PENDING   </td><td>              </td><td style=\"text-align: right;\">         256</td><td style=\"text-align: right;\">          70</td><td>(&#x27;MAEAUC&#x27;, 1)    </td><td style=\"text-align: right;\">0.001</td><td style=\"text-align: right;\">       </td><td style=\"text-align: right;\">      </td><td style=\"text-align: right;\">                </td></tr>\n",
              "<tr><td>DEFAULT_5d087_00014</td><td>PENDING   </td><td>              </td><td style=\"text-align: right;\">         256</td><td style=\"text-align: right;\">         105</td><td>(&#x27;MAEAUC&#x27;, 1)    </td><td style=\"text-align: right;\">0.001</td><td style=\"text-align: right;\">       </td><td style=\"text-align: right;\">      </td><td style=\"text-align: right;\">                </td></tr>\n",
              "<tr><td>DEFAULT_5d087_00015</td><td>PENDING   </td><td>              </td><td style=\"text-align: right;\">         256</td><td style=\"text-align: right;\">          35</td><td>(&#x27;MAEAUC&#x27;, 10)   </td><td style=\"text-align: right;\">0.001</td><td style=\"text-align: right;\">       </td><td style=\"text-align: right;\">      </td><td style=\"text-align: right;\">                </td></tr>\n",
              "<tr><td>DEFAULT_5d087_00016</td><td>PENDING   </td><td>              </td><td style=\"text-align: right;\">         256</td><td style=\"text-align: right;\">          70</td><td>(&#x27;MAEAUC&#x27;, 10)   </td><td style=\"text-align: right;\">0.001</td><td style=\"text-align: right;\">       </td><td style=\"text-align: right;\">      </td><td style=\"text-align: right;\">                </td></tr>\n",
              "<tr><td>DEFAULT_5d087_00017</td><td>PENDING   </td><td>              </td><td style=\"text-align: right;\">         256</td><td style=\"text-align: right;\">         105</td><td>(&#x27;MAEAUC&#x27;, 10)   </td><td style=\"text-align: right;\">0.001</td><td style=\"text-align: right;\">       </td><td style=\"text-align: right;\">      </td><td style=\"text-align: right;\">                </td></tr>\n",
              "<tr><td>DEFAULT_5d087_00018</td><td>PENDING   </td><td>              </td><td style=\"text-align: right;\">         256</td><td style=\"text-align: right;\">          35</td><td>(&#x27;MAE&#x27;, 0)       </td><td style=\"text-align: right;\">0.01 </td><td style=\"text-align: right;\">       </td><td style=\"text-align: right;\">      </td><td style=\"text-align: right;\">                </td></tr>\n",
              "<tr><td>DEFAULT_5d087_00019</td><td>PENDING   </td><td>              </td><td style=\"text-align: right;\">         256</td><td style=\"text-align: right;\">          70</td><td>(&#x27;MAE&#x27;, 0)       </td><td style=\"text-align: right;\">0.01 </td><td style=\"text-align: right;\">       </td><td style=\"text-align: right;\">      </td><td style=\"text-align: right;\">                </td></tr>\n",
              "<tr><td>DEFAULT_5d087_00020</td><td>PENDING   </td><td>              </td><td style=\"text-align: right;\">         256</td><td style=\"text-align: right;\">         105</td><td>(&#x27;MAE&#x27;, 0)       </td><td style=\"text-align: right;\">0.01 </td><td style=\"text-align: right;\">       </td><td style=\"text-align: right;\">      </td><td style=\"text-align: right;\">                </td></tr>\n",
              "<tr><td>DEFAULT_5d087_00000</td><td>TERMINATED</td><td>              </td><td style=\"text-align: right;\">         256</td><td style=\"text-align: right;\">          35</td><td>(&#x27;MAE&#x27;, 0)       </td><td style=\"text-align: right;\">0.001</td><td style=\"text-align: right;\">1.99559</td><td style=\"text-align: right;\">     1</td><td style=\"text-align: right;\">        12.3246 </td></tr>\n",
              "<tr><td>DEFAULT_5d087_00001</td><td>TERMINATED</td><td>              </td><td style=\"text-align: right;\">         256</td><td style=\"text-align: right;\">          70</td><td>(&#x27;MAE&#x27;, 0)       </td><td style=\"text-align: right;\">0.001</td><td style=\"text-align: right;\">1.98247</td><td style=\"text-align: right;\">     1</td><td style=\"text-align: right;\">         4.70409</td></tr>\n",
              "<tr><td>DEFAULT_5d087_00002</td><td>TERMINATED</td><td>              </td><td style=\"text-align: right;\">         256</td><td style=\"text-align: right;\">         105</td><td>(&#x27;MAE&#x27;, 0)       </td><td style=\"text-align: right;\">0.001</td><td style=\"text-align: right;\">1.98955</td><td style=\"text-align: right;\">     1</td><td style=\"text-align: right;\">         4.80142</td></tr>\n",
              "<tr><td>DEFAULT_5d087_00003</td><td>TERMINATED</td><td>              </td><td style=\"text-align: right;\">         256</td><td style=\"text-align: right;\">          35</td><td>(&#x27;MAEAUC&#x27;, 0.001)</td><td style=\"text-align: right;\">0.001</td><td style=\"text-align: right;\">1.99573</td><td style=\"text-align: right;\">     1</td><td style=\"text-align: right;\">         4.73747</td></tr>\n",
              "<tr><td>DEFAULT_5d087_00004</td><td>TERMINATED</td><td>              </td><td style=\"text-align: right;\">         256</td><td style=\"text-align: right;\">          70</td><td>(&#x27;MAEAUC&#x27;, 0.001)</td><td style=\"text-align: right;\">0.001</td><td style=\"text-align: right;\">1.99686</td><td style=\"text-align: right;\">     1</td><td style=\"text-align: right;\">         4.74517</td></tr>\n",
              "<tr><td>DEFAULT_5d087_00005</td><td>TERMINATED</td><td>              </td><td style=\"text-align: right;\">         256</td><td style=\"text-align: right;\">         105</td><td>(&#x27;MAEAUC&#x27;, 0.001)</td><td style=\"text-align: right;\">0.001</td><td style=\"text-align: right;\">1.97942</td><td style=\"text-align: right;\">     1</td><td style=\"text-align: right;\">         4.70129</td></tr>\n",
              "<tr><td>DEFAULT_5d087_00006</td><td>TERMINATED</td><td>              </td><td style=\"text-align: right;\">         256</td><td style=\"text-align: right;\">          35</td><td>(&#x27;MAEAUC&#x27;, 0.01) </td><td style=\"text-align: right;\">0.001</td><td style=\"text-align: right;\">1.99736</td><td style=\"text-align: right;\">     1</td><td style=\"text-align: right;\">         4.59657</td></tr>\n",
              "<tr><td>DEFAULT_5d087_00007</td><td>TERMINATED</td><td>              </td><td style=\"text-align: right;\">         256</td><td style=\"text-align: right;\">          70</td><td>(&#x27;MAEAUC&#x27;, 0.01) </td><td style=\"text-align: right;\">0.001</td><td style=\"text-align: right;\">1.99013</td><td style=\"text-align: right;\">     1</td><td style=\"text-align: right;\">         4.67644</td></tr>\n",
              "<tr><td>DEFAULT_5d087_00008</td><td>TERMINATED</td><td>              </td><td style=\"text-align: right;\">         256</td><td style=\"text-align: right;\">         105</td><td>(&#x27;MAEAUC&#x27;, 0.01) </td><td style=\"text-align: right;\">0.001</td><td style=\"text-align: right;\">1.97145</td><td style=\"text-align: right;\">     1</td><td style=\"text-align: right;\">         4.66659</td></tr>\n",
              "<tr><td>DEFAULT_5d087_00009</td><td>TERMINATED</td><td>              </td><td style=\"text-align: right;\">         256</td><td style=\"text-align: right;\">          35</td><td>(&#x27;MAEAUC&#x27;, 0.1)  </td><td style=\"text-align: right;\">0.001</td><td style=\"text-align: right;\">1.99685</td><td style=\"text-align: right;\">     1</td><td style=\"text-align: right;\">         4.698  </td></tr>\n",
              "</tbody>\n",
              "</table><br>... 16 more trials not shown (15 PENDING)<br><br>"
            ],
            "text/plain": [
              "<IPython.core.display.HTML object>"
            ]
          },
          "metadata": {
            "tags": []
          }
        },
        {
          "output_type": "stream",
          "text": [
            "2021-05-25 07:19:31,046\tINFO logger.py:690 -- Removed the following hyperparameter values when logging to tensorboard: {'loss_param': ('MAEAUC', 0.1)}\n"
          ],
          "name": "stderr"
        },
        {
          "output_type": "stream",
          "text": [
            "Result for DEFAULT_5d087_00010:\n",
            "  date: 2021-05-25_07-19-30\n",
            "  done: true\n",
            "  experiment_id: 0669aaa1c77a47738cf30279f9ed0eec\n",
            "  experiment_tag: 10_batch_size=256,latent_dim=70,loss_param=('MAEAUC', 0.1),lr=0.001\n",
            "  hostname: d76bb801c9dd\n",
            "  iterations_since_restore: 1\n",
            "  mean_accuracy: 1.9864827990531921\n",
            "  node_ip: 172.28.0.2\n",
            "  pid: 839\n",
            "  should_checkpoint: true\n",
            "  time_since_restore: 4.63374137878418\n",
            "  time_this_iter_s: 4.63374137878418\n",
            "  time_total_s: 4.63374137878418\n",
            "  timestamp: 1621927170\n",
            "  timesteps_since_restore: 0\n",
            "  training_iteration: 1\n",
            "  trial_id: 5d087_00010\n",
            "  \n"
          ],
          "name": "stdout"
        },
        {
          "output_type": "stream",
          "text": [
            "\u001b[2m\u001b[33m(raylet)\u001b[0m /usr/local/lib/python3.7/dist-packages/ray/autoscaler/_private/cli_logger.py:61: FutureWarning: Not all Ray CLI dependencies were found. In Ray 1.4+, the Ray CLI, autoscaler, and dashboard will only be usable via `pip install 'ray[default]'`. Please update your install command.\n",
            "\u001b[2m\u001b[33m(raylet)\u001b[0m   \"update your install command.\", FutureWarning)\n"
          ],
          "name": "stderr"
        },
        {
          "output_type": "stream",
          "text": [
            "\u001b[2m\u001b[36m(pid=868)\u001b[0m Operation will be on *****GPU-CUDA***** \n"
          ],
          "name": "stdout"
        },
        {
          "output_type": "stream",
          "text": [
            "\u001b[2m\u001b[36m(pid=868)\u001b[0m /usr/local/lib/python3.7/dist-packages/sklearn/model_selection/_split.py:667: UserWarning: The least populated class in y has only 2 members, which is less than n_splits=5.\n",
            "\u001b[2m\u001b[36m(pid=868)\u001b[0m   % (min_groups, self.n_splits)), UserWarning)\n",
            "\u001b[2m\u001b[36m(pid=868)\u001b[0m /usr/local/lib/python3.7/dist-packages/sklearn/model_selection/_split.py:667: UserWarning: The least populated class in y has only 2 members, which is less than n_splits=5.\n",
            "\u001b[2m\u001b[36m(pid=868)\u001b[0m   % (min_groups, self.n_splits)), UserWarning)\n",
            "\u001b[2m\u001b[36m(pid=868)\u001b[0m /usr/local/lib/python3.7/dist-packages/sklearn/model_selection/_split.py:667: UserWarning: The least populated class in y has only 2 members, which is less than n_splits=5.\n",
            "\u001b[2m\u001b[36m(pid=868)\u001b[0m   % (min_groups, self.n_splits)), UserWarning)\n"
          ],
          "name": "stderr"
        },
        {
          "output_type": "stream",
          "text": [
            "Result for DEFAULT_5d087_00011:\n",
            "  date: 2021-05-25_07-19-37\n",
            "  done: false\n",
            "  experiment_id: e83a0bdbd91d4f0cb0d02d8c108af9ef\n",
            "  hostname: d76bb801c9dd\n",
            "  iterations_since_restore: 1\n",
            "  mean_accuracy: 1.9591625928878784\n",
            "  node_ip: 172.28.0.2\n",
            "  pid: 868\n",
            "  should_checkpoint: true\n",
            "  time_since_restore: 4.817519664764404\n",
            "  time_this_iter_s: 4.817519664764404\n",
            "  time_total_s: 4.817519664764404\n",
            "  timestamp: 1621927177\n",
            "  timesteps_since_restore: 0\n",
            "  training_iteration: 1\n",
            "  trial_id: 5d087_00011\n",
            "  \n"
          ],
          "name": "stdout"
        },
        {
          "output_type": "display_data",
          "data": {
            "text/html": [
              "== Status ==<br>Memory usage on this node: 2.9/12.7 GiB<br>Using FIFO scheduling algorithm.<br>Resources requested: 2.0/2 CPUs, 1.0/1 GPUs, 0.0/7.33 GiB heap, 0.0/3.67 GiB objects (0.0/1.0 accelerator_type:T4)<br>Result logdir: /content/drive/MyDrive/RecAE/experiments/ECG_5000<br>Number of trials: 36/36 (24 PENDING, 1 RUNNING, 11 TERMINATED)<br><table>\n",
              "<thead>\n",
              "<tr><th>Trial name         </th><th>status    </th><th>loc           </th><th style=\"text-align: right;\">  batch_size</th><th style=\"text-align: right;\">  latent_dim</th><th>loss_param       </th><th style=\"text-align: right;\">   lr</th><th style=\"text-align: right;\">    acc</th><th style=\"text-align: right;\">  iter</th><th style=\"text-align: right;\">  total time (s)</th></tr>\n",
              "</thead>\n",
              "<tbody>\n",
              "<tr><td>DEFAULT_5d087_00011</td><td>RUNNING   </td><td>172.28.0.2:868</td><td style=\"text-align: right;\">         256</td><td style=\"text-align: right;\">         105</td><td>(&#x27;MAEAUC&#x27;, 0.1)  </td><td style=\"text-align: right;\">0.001</td><td style=\"text-align: right;\">1.95916</td><td style=\"text-align: right;\">     1</td><td style=\"text-align: right;\">         4.81752</td></tr>\n",
              "<tr><td>DEFAULT_5d087_00012</td><td>PENDING   </td><td>              </td><td style=\"text-align: right;\">         256</td><td style=\"text-align: right;\">          35</td><td>(&#x27;MAEAUC&#x27;, 1)    </td><td style=\"text-align: right;\">0.001</td><td style=\"text-align: right;\">       </td><td style=\"text-align: right;\">      </td><td style=\"text-align: right;\">                </td></tr>\n",
              "<tr><td>DEFAULT_5d087_00013</td><td>PENDING   </td><td>              </td><td style=\"text-align: right;\">         256</td><td style=\"text-align: right;\">          70</td><td>(&#x27;MAEAUC&#x27;, 1)    </td><td style=\"text-align: right;\">0.001</td><td style=\"text-align: right;\">       </td><td style=\"text-align: right;\">      </td><td style=\"text-align: right;\">                </td></tr>\n",
              "<tr><td>DEFAULT_5d087_00014</td><td>PENDING   </td><td>              </td><td style=\"text-align: right;\">         256</td><td style=\"text-align: right;\">         105</td><td>(&#x27;MAEAUC&#x27;, 1)    </td><td style=\"text-align: right;\">0.001</td><td style=\"text-align: right;\">       </td><td style=\"text-align: right;\">      </td><td style=\"text-align: right;\">                </td></tr>\n",
              "<tr><td>DEFAULT_5d087_00015</td><td>PENDING   </td><td>              </td><td style=\"text-align: right;\">         256</td><td style=\"text-align: right;\">          35</td><td>(&#x27;MAEAUC&#x27;, 10)   </td><td style=\"text-align: right;\">0.001</td><td style=\"text-align: right;\">       </td><td style=\"text-align: right;\">      </td><td style=\"text-align: right;\">                </td></tr>\n",
              "<tr><td>DEFAULT_5d087_00016</td><td>PENDING   </td><td>              </td><td style=\"text-align: right;\">         256</td><td style=\"text-align: right;\">          70</td><td>(&#x27;MAEAUC&#x27;, 10)   </td><td style=\"text-align: right;\">0.001</td><td style=\"text-align: right;\">       </td><td style=\"text-align: right;\">      </td><td style=\"text-align: right;\">                </td></tr>\n",
              "<tr><td>DEFAULT_5d087_00017</td><td>PENDING   </td><td>              </td><td style=\"text-align: right;\">         256</td><td style=\"text-align: right;\">         105</td><td>(&#x27;MAEAUC&#x27;, 10)   </td><td style=\"text-align: right;\">0.001</td><td style=\"text-align: right;\">       </td><td style=\"text-align: right;\">      </td><td style=\"text-align: right;\">                </td></tr>\n",
              "<tr><td>DEFAULT_5d087_00018</td><td>PENDING   </td><td>              </td><td style=\"text-align: right;\">         256</td><td style=\"text-align: right;\">          35</td><td>(&#x27;MAE&#x27;, 0)       </td><td style=\"text-align: right;\">0.01 </td><td style=\"text-align: right;\">       </td><td style=\"text-align: right;\">      </td><td style=\"text-align: right;\">                </td></tr>\n",
              "<tr><td>DEFAULT_5d087_00019</td><td>PENDING   </td><td>              </td><td style=\"text-align: right;\">         256</td><td style=\"text-align: right;\">          70</td><td>(&#x27;MAE&#x27;, 0)       </td><td style=\"text-align: right;\">0.01 </td><td style=\"text-align: right;\">       </td><td style=\"text-align: right;\">      </td><td style=\"text-align: right;\">                </td></tr>\n",
              "<tr><td>DEFAULT_5d087_00020</td><td>PENDING   </td><td>              </td><td style=\"text-align: right;\">         256</td><td style=\"text-align: right;\">         105</td><td>(&#x27;MAE&#x27;, 0)       </td><td style=\"text-align: right;\">0.01 </td><td style=\"text-align: right;\">       </td><td style=\"text-align: right;\">      </td><td style=\"text-align: right;\">                </td></tr>\n",
              "<tr><td>DEFAULT_5d087_00021</td><td>PENDING   </td><td>              </td><td style=\"text-align: right;\">         256</td><td style=\"text-align: right;\">          35</td><td>(&#x27;MAEAUC&#x27;, 0.001)</td><td style=\"text-align: right;\">0.01 </td><td style=\"text-align: right;\">       </td><td style=\"text-align: right;\">      </td><td style=\"text-align: right;\">                </td></tr>\n",
              "<tr><td>DEFAULT_5d087_00000</td><td>TERMINATED</td><td>              </td><td style=\"text-align: right;\">         256</td><td style=\"text-align: right;\">          35</td><td>(&#x27;MAE&#x27;, 0)       </td><td style=\"text-align: right;\">0.001</td><td style=\"text-align: right;\">1.99559</td><td style=\"text-align: right;\">     1</td><td style=\"text-align: right;\">        12.3246 </td></tr>\n",
              "<tr><td>DEFAULT_5d087_00001</td><td>TERMINATED</td><td>              </td><td style=\"text-align: right;\">         256</td><td style=\"text-align: right;\">          70</td><td>(&#x27;MAE&#x27;, 0)       </td><td style=\"text-align: right;\">0.001</td><td style=\"text-align: right;\">1.98247</td><td style=\"text-align: right;\">     1</td><td style=\"text-align: right;\">         4.70409</td></tr>\n",
              "<tr><td>DEFAULT_5d087_00002</td><td>TERMINATED</td><td>              </td><td style=\"text-align: right;\">         256</td><td style=\"text-align: right;\">         105</td><td>(&#x27;MAE&#x27;, 0)       </td><td style=\"text-align: right;\">0.001</td><td style=\"text-align: right;\">1.98955</td><td style=\"text-align: right;\">     1</td><td style=\"text-align: right;\">         4.80142</td></tr>\n",
              "<tr><td>DEFAULT_5d087_00003</td><td>TERMINATED</td><td>              </td><td style=\"text-align: right;\">         256</td><td style=\"text-align: right;\">          35</td><td>(&#x27;MAEAUC&#x27;, 0.001)</td><td style=\"text-align: right;\">0.001</td><td style=\"text-align: right;\">1.99573</td><td style=\"text-align: right;\">     1</td><td style=\"text-align: right;\">         4.73747</td></tr>\n",
              "<tr><td>DEFAULT_5d087_00004</td><td>TERMINATED</td><td>              </td><td style=\"text-align: right;\">         256</td><td style=\"text-align: right;\">          70</td><td>(&#x27;MAEAUC&#x27;, 0.001)</td><td style=\"text-align: right;\">0.001</td><td style=\"text-align: right;\">1.99686</td><td style=\"text-align: right;\">     1</td><td style=\"text-align: right;\">         4.74517</td></tr>\n",
              "<tr><td>DEFAULT_5d087_00005</td><td>TERMINATED</td><td>              </td><td style=\"text-align: right;\">         256</td><td style=\"text-align: right;\">         105</td><td>(&#x27;MAEAUC&#x27;, 0.001)</td><td style=\"text-align: right;\">0.001</td><td style=\"text-align: right;\">1.97942</td><td style=\"text-align: right;\">     1</td><td style=\"text-align: right;\">         4.70129</td></tr>\n",
              "<tr><td>DEFAULT_5d087_00006</td><td>TERMINATED</td><td>              </td><td style=\"text-align: right;\">         256</td><td style=\"text-align: right;\">          35</td><td>(&#x27;MAEAUC&#x27;, 0.01) </td><td style=\"text-align: right;\">0.001</td><td style=\"text-align: right;\">1.99736</td><td style=\"text-align: right;\">     1</td><td style=\"text-align: right;\">         4.59657</td></tr>\n",
              "<tr><td>DEFAULT_5d087_00007</td><td>TERMINATED</td><td>              </td><td style=\"text-align: right;\">         256</td><td style=\"text-align: right;\">          70</td><td>(&#x27;MAEAUC&#x27;, 0.01) </td><td style=\"text-align: right;\">0.001</td><td style=\"text-align: right;\">1.99013</td><td style=\"text-align: right;\">     1</td><td style=\"text-align: right;\">         4.67644</td></tr>\n",
              "<tr><td>DEFAULT_5d087_00008</td><td>TERMINATED</td><td>              </td><td style=\"text-align: right;\">         256</td><td style=\"text-align: right;\">         105</td><td>(&#x27;MAEAUC&#x27;, 0.01) </td><td style=\"text-align: right;\">0.001</td><td style=\"text-align: right;\">1.97145</td><td style=\"text-align: right;\">     1</td><td style=\"text-align: right;\">         4.66659</td></tr>\n",
              "<tr><td>DEFAULT_5d087_00009</td><td>TERMINATED</td><td>              </td><td style=\"text-align: right;\">         256</td><td style=\"text-align: right;\">          35</td><td>(&#x27;MAEAUC&#x27;, 0.1)  </td><td style=\"text-align: right;\">0.001</td><td style=\"text-align: right;\">1.99685</td><td style=\"text-align: right;\">     1</td><td style=\"text-align: right;\">         4.698  </td></tr>\n",
              "</tbody>\n",
              "</table><br>... 16 more trials not shown (14 PENDING, 1 TERMINATED)<br><br>"
            ],
            "text/plain": [
              "<IPython.core.display.HTML object>"
            ]
          },
          "metadata": {
            "tags": []
          }
        },
        {
          "output_type": "stream",
          "text": [
            "2021-05-25 07:19:37,692\tINFO logger.py:690 -- Removed the following hyperparameter values when logging to tensorboard: {'loss_param': ('MAEAUC', 0.1)}\n"
          ],
          "name": "stderr"
        },
        {
          "output_type": "stream",
          "text": [
            "Result for DEFAULT_5d087_00011:\n",
            "  date: 2021-05-25_07-19-37\n",
            "  done: true\n",
            "  experiment_id: e83a0bdbd91d4f0cb0d02d8c108af9ef\n",
            "  experiment_tag: 11_batch_size=256,latent_dim=105,loss_param=('MAEAUC', 0.1),lr=0.001\n",
            "  hostname: d76bb801c9dd\n",
            "  iterations_since_restore: 1\n",
            "  mean_accuracy: 1.9591625928878784\n",
            "  node_ip: 172.28.0.2\n",
            "  pid: 868\n",
            "  should_checkpoint: true\n",
            "  time_since_restore: 4.817519664764404\n",
            "  time_this_iter_s: 4.817519664764404\n",
            "  time_total_s: 4.817519664764404\n",
            "  timestamp: 1621927177\n",
            "  timesteps_since_restore: 0\n",
            "  training_iteration: 1\n",
            "  trial_id: 5d087_00011\n",
            "  \n"
          ],
          "name": "stdout"
        },
        {
          "output_type": "stream",
          "text": [
            "\u001b[2m\u001b[33m(raylet)\u001b[0m /usr/local/lib/python3.7/dist-packages/ray/autoscaler/_private/cli_logger.py:61: FutureWarning: Not all Ray CLI dependencies were found. In Ray 1.4+, the Ray CLI, autoscaler, and dashboard will only be usable via `pip install 'ray[default]'`. Please update your install command.\n",
            "\u001b[2m\u001b[33m(raylet)\u001b[0m   \"update your install command.\", FutureWarning)\n"
          ],
          "name": "stderr"
        },
        {
          "output_type": "stream",
          "text": [
            "\u001b[2m\u001b[36m(pid=899)\u001b[0m Operation will be on *****GPU-CUDA***** \n"
          ],
          "name": "stdout"
        },
        {
          "output_type": "stream",
          "text": [
            "\u001b[2m\u001b[36m(pid=899)\u001b[0m /usr/local/lib/python3.7/dist-packages/sklearn/model_selection/_split.py:667: UserWarning: The least populated class in y has only 2 members, which is less than n_splits=5.\n",
            "\u001b[2m\u001b[36m(pid=899)\u001b[0m   % (min_groups, self.n_splits)), UserWarning)\n",
            "\u001b[2m\u001b[36m(pid=899)\u001b[0m /usr/local/lib/python3.7/dist-packages/sklearn/model_selection/_split.py:667: UserWarning: The least populated class in y has only 2 members, which is less than n_splits=5.\n",
            "\u001b[2m\u001b[36m(pid=899)\u001b[0m   % (min_groups, self.n_splits)), UserWarning)\n",
            "\u001b[2m\u001b[36m(pid=899)\u001b[0m /usr/local/lib/python3.7/dist-packages/sklearn/model_selection/_split.py:667: UserWarning: The least populated class in y has only 2 members, which is less than n_splits=5.\n",
            "\u001b[2m\u001b[36m(pid=899)\u001b[0m   % (min_groups, self.n_splits)), UserWarning)\n"
          ],
          "name": "stderr"
        },
        {
          "output_type": "stream",
          "text": [
            "Result for DEFAULT_5d087_00012:\n",
            "  date: 2021-05-25_07-19-44\n",
            "  done: false\n",
            "  experiment_id: 162b51f24c2040d289ae765e5da1c274\n",
            "  hostname: d76bb801c9dd\n",
            "  iterations_since_restore: 1\n",
            "  mean_accuracy: 2.007238268852234\n",
            "  node_ip: 172.28.0.2\n",
            "  pid: 899\n",
            "  should_checkpoint: true\n",
            "  time_since_restore: 4.595227241516113\n",
            "  time_this_iter_s: 4.595227241516113\n",
            "  time_total_s: 4.595227241516113\n",
            "  timestamp: 1621927184\n",
            "  timesteps_since_restore: 0\n",
            "  training_iteration: 1\n",
            "  trial_id: 5d087_00012\n",
            "  \n"
          ],
          "name": "stdout"
        },
        {
          "output_type": "display_data",
          "data": {
            "text/html": [
              "== Status ==<br>Memory usage on this node: 2.9/12.7 GiB<br>Using FIFO scheduling algorithm.<br>Resources requested: 2.0/2 CPUs, 1.0/1 GPUs, 0.0/7.33 GiB heap, 0.0/3.67 GiB objects (0.0/1.0 accelerator_type:T4)<br>Result logdir: /content/drive/MyDrive/RecAE/experiments/ECG_5000<br>Number of trials: 36/36 (23 PENDING, 1 RUNNING, 12 TERMINATED)<br><table>\n",
              "<thead>\n",
              "<tr><th>Trial name         </th><th>status    </th><th>loc           </th><th style=\"text-align: right;\">  batch_size</th><th style=\"text-align: right;\">  latent_dim</th><th>loss_param       </th><th style=\"text-align: right;\">   lr</th><th style=\"text-align: right;\">    acc</th><th style=\"text-align: right;\">  iter</th><th style=\"text-align: right;\">  total time (s)</th></tr>\n",
              "</thead>\n",
              "<tbody>\n",
              "<tr><td>DEFAULT_5d087_00012</td><td>RUNNING   </td><td>172.28.0.2:899</td><td style=\"text-align: right;\">         256</td><td style=\"text-align: right;\">          35</td><td>(&#x27;MAEAUC&#x27;, 1)    </td><td style=\"text-align: right;\">0.001</td><td style=\"text-align: right;\">2.00724</td><td style=\"text-align: right;\">     1</td><td style=\"text-align: right;\">         4.59523</td></tr>\n",
              "<tr><td>DEFAULT_5d087_00013</td><td>PENDING   </td><td>              </td><td style=\"text-align: right;\">         256</td><td style=\"text-align: right;\">          70</td><td>(&#x27;MAEAUC&#x27;, 1)    </td><td style=\"text-align: right;\">0.001</td><td style=\"text-align: right;\">       </td><td style=\"text-align: right;\">      </td><td style=\"text-align: right;\">                </td></tr>\n",
              "<tr><td>DEFAULT_5d087_00014</td><td>PENDING   </td><td>              </td><td style=\"text-align: right;\">         256</td><td style=\"text-align: right;\">         105</td><td>(&#x27;MAEAUC&#x27;, 1)    </td><td style=\"text-align: right;\">0.001</td><td style=\"text-align: right;\">       </td><td style=\"text-align: right;\">      </td><td style=\"text-align: right;\">                </td></tr>\n",
              "<tr><td>DEFAULT_5d087_00015</td><td>PENDING   </td><td>              </td><td style=\"text-align: right;\">         256</td><td style=\"text-align: right;\">          35</td><td>(&#x27;MAEAUC&#x27;, 10)   </td><td style=\"text-align: right;\">0.001</td><td style=\"text-align: right;\">       </td><td style=\"text-align: right;\">      </td><td style=\"text-align: right;\">                </td></tr>\n",
              "<tr><td>DEFAULT_5d087_00016</td><td>PENDING   </td><td>              </td><td style=\"text-align: right;\">         256</td><td style=\"text-align: right;\">          70</td><td>(&#x27;MAEAUC&#x27;, 10)   </td><td style=\"text-align: right;\">0.001</td><td style=\"text-align: right;\">       </td><td style=\"text-align: right;\">      </td><td style=\"text-align: right;\">                </td></tr>\n",
              "<tr><td>DEFAULT_5d087_00017</td><td>PENDING   </td><td>              </td><td style=\"text-align: right;\">         256</td><td style=\"text-align: right;\">         105</td><td>(&#x27;MAEAUC&#x27;, 10)   </td><td style=\"text-align: right;\">0.001</td><td style=\"text-align: right;\">       </td><td style=\"text-align: right;\">      </td><td style=\"text-align: right;\">                </td></tr>\n",
              "<tr><td>DEFAULT_5d087_00018</td><td>PENDING   </td><td>              </td><td style=\"text-align: right;\">         256</td><td style=\"text-align: right;\">          35</td><td>(&#x27;MAE&#x27;, 0)       </td><td style=\"text-align: right;\">0.01 </td><td style=\"text-align: right;\">       </td><td style=\"text-align: right;\">      </td><td style=\"text-align: right;\">                </td></tr>\n",
              "<tr><td>DEFAULT_5d087_00019</td><td>PENDING   </td><td>              </td><td style=\"text-align: right;\">         256</td><td style=\"text-align: right;\">          70</td><td>(&#x27;MAE&#x27;, 0)       </td><td style=\"text-align: right;\">0.01 </td><td style=\"text-align: right;\">       </td><td style=\"text-align: right;\">      </td><td style=\"text-align: right;\">                </td></tr>\n",
              "<tr><td>DEFAULT_5d087_00020</td><td>PENDING   </td><td>              </td><td style=\"text-align: right;\">         256</td><td style=\"text-align: right;\">         105</td><td>(&#x27;MAE&#x27;, 0)       </td><td style=\"text-align: right;\">0.01 </td><td style=\"text-align: right;\">       </td><td style=\"text-align: right;\">      </td><td style=\"text-align: right;\">                </td></tr>\n",
              "<tr><td>DEFAULT_5d087_00021</td><td>PENDING   </td><td>              </td><td style=\"text-align: right;\">         256</td><td style=\"text-align: right;\">          35</td><td>(&#x27;MAEAUC&#x27;, 0.001)</td><td style=\"text-align: right;\">0.01 </td><td style=\"text-align: right;\">       </td><td style=\"text-align: right;\">      </td><td style=\"text-align: right;\">                </td></tr>\n",
              "<tr><td>DEFAULT_5d087_00022</td><td>PENDING   </td><td>              </td><td style=\"text-align: right;\">         256</td><td style=\"text-align: right;\">          70</td><td>(&#x27;MAEAUC&#x27;, 0.001)</td><td style=\"text-align: right;\">0.01 </td><td style=\"text-align: right;\">       </td><td style=\"text-align: right;\">      </td><td style=\"text-align: right;\">                </td></tr>\n",
              "<tr><td>DEFAULT_5d087_00000</td><td>TERMINATED</td><td>              </td><td style=\"text-align: right;\">         256</td><td style=\"text-align: right;\">          35</td><td>(&#x27;MAE&#x27;, 0)       </td><td style=\"text-align: right;\">0.001</td><td style=\"text-align: right;\">1.99559</td><td style=\"text-align: right;\">     1</td><td style=\"text-align: right;\">        12.3246 </td></tr>\n",
              "<tr><td>DEFAULT_5d087_00001</td><td>TERMINATED</td><td>              </td><td style=\"text-align: right;\">         256</td><td style=\"text-align: right;\">          70</td><td>(&#x27;MAE&#x27;, 0)       </td><td style=\"text-align: right;\">0.001</td><td style=\"text-align: right;\">1.98247</td><td style=\"text-align: right;\">     1</td><td style=\"text-align: right;\">         4.70409</td></tr>\n",
              "<tr><td>DEFAULT_5d087_00002</td><td>TERMINATED</td><td>              </td><td style=\"text-align: right;\">         256</td><td style=\"text-align: right;\">         105</td><td>(&#x27;MAE&#x27;, 0)       </td><td style=\"text-align: right;\">0.001</td><td style=\"text-align: right;\">1.98955</td><td style=\"text-align: right;\">     1</td><td style=\"text-align: right;\">         4.80142</td></tr>\n",
              "<tr><td>DEFAULT_5d087_00003</td><td>TERMINATED</td><td>              </td><td style=\"text-align: right;\">         256</td><td style=\"text-align: right;\">          35</td><td>(&#x27;MAEAUC&#x27;, 0.001)</td><td style=\"text-align: right;\">0.001</td><td style=\"text-align: right;\">1.99573</td><td style=\"text-align: right;\">     1</td><td style=\"text-align: right;\">         4.73747</td></tr>\n",
              "<tr><td>DEFAULT_5d087_00004</td><td>TERMINATED</td><td>              </td><td style=\"text-align: right;\">         256</td><td style=\"text-align: right;\">          70</td><td>(&#x27;MAEAUC&#x27;, 0.001)</td><td style=\"text-align: right;\">0.001</td><td style=\"text-align: right;\">1.99686</td><td style=\"text-align: right;\">     1</td><td style=\"text-align: right;\">         4.74517</td></tr>\n",
              "<tr><td>DEFAULT_5d087_00005</td><td>TERMINATED</td><td>              </td><td style=\"text-align: right;\">         256</td><td style=\"text-align: right;\">         105</td><td>(&#x27;MAEAUC&#x27;, 0.001)</td><td style=\"text-align: right;\">0.001</td><td style=\"text-align: right;\">1.97942</td><td style=\"text-align: right;\">     1</td><td style=\"text-align: right;\">         4.70129</td></tr>\n",
              "<tr><td>DEFAULT_5d087_00006</td><td>TERMINATED</td><td>              </td><td style=\"text-align: right;\">         256</td><td style=\"text-align: right;\">          35</td><td>(&#x27;MAEAUC&#x27;, 0.01) </td><td style=\"text-align: right;\">0.001</td><td style=\"text-align: right;\">1.99736</td><td style=\"text-align: right;\">     1</td><td style=\"text-align: right;\">         4.59657</td></tr>\n",
              "<tr><td>DEFAULT_5d087_00007</td><td>TERMINATED</td><td>              </td><td style=\"text-align: right;\">         256</td><td style=\"text-align: right;\">          70</td><td>(&#x27;MAEAUC&#x27;, 0.01) </td><td style=\"text-align: right;\">0.001</td><td style=\"text-align: right;\">1.99013</td><td style=\"text-align: right;\">     1</td><td style=\"text-align: right;\">         4.67644</td></tr>\n",
              "<tr><td>DEFAULT_5d087_00008</td><td>TERMINATED</td><td>              </td><td style=\"text-align: right;\">         256</td><td style=\"text-align: right;\">         105</td><td>(&#x27;MAEAUC&#x27;, 0.01) </td><td style=\"text-align: right;\">0.001</td><td style=\"text-align: right;\">1.97145</td><td style=\"text-align: right;\">     1</td><td style=\"text-align: right;\">         4.66659</td></tr>\n",
              "<tr><td>DEFAULT_5d087_00009</td><td>TERMINATED</td><td>              </td><td style=\"text-align: right;\">         256</td><td style=\"text-align: right;\">          35</td><td>(&#x27;MAEAUC&#x27;, 0.1)  </td><td style=\"text-align: right;\">0.001</td><td style=\"text-align: right;\">1.99685</td><td style=\"text-align: right;\">     1</td><td style=\"text-align: right;\">         4.698  </td></tr>\n",
              "</tbody>\n",
              "</table><br>... 16 more trials not shown (13 PENDING, 2 TERMINATED)<br><br>"
            ],
            "text/plain": [
              "<IPython.core.display.HTML object>"
            ]
          },
          "metadata": {
            "tags": []
          }
        },
        {
          "output_type": "stream",
          "text": [
            "2021-05-25 07:19:44,256\tINFO logger.py:690 -- Removed the following hyperparameter values when logging to tensorboard: {'loss_param': ('MAEAUC', 1)}\n"
          ],
          "name": "stderr"
        },
        {
          "output_type": "stream",
          "text": [
            "Result for DEFAULT_5d087_00012:\n",
            "  date: 2021-05-25_07-19-44\n",
            "  done: true\n",
            "  experiment_id: 162b51f24c2040d289ae765e5da1c274\n",
            "  experiment_tag: 12_batch_size=256,latent_dim=35,loss_param=('MAEAUC', 1),lr=0.001\n",
            "  hostname: d76bb801c9dd\n",
            "  iterations_since_restore: 1\n",
            "  mean_accuracy: 2.007238268852234\n",
            "  node_ip: 172.28.0.2\n",
            "  pid: 899\n",
            "  should_checkpoint: true\n",
            "  time_since_restore: 4.595227241516113\n",
            "  time_this_iter_s: 4.595227241516113\n",
            "  time_total_s: 4.595227241516113\n",
            "  timestamp: 1621927184\n",
            "  timesteps_since_restore: 0\n",
            "  training_iteration: 1\n",
            "  trial_id: 5d087_00012\n",
            "  \n"
          ],
          "name": "stdout"
        },
        {
          "output_type": "stream",
          "text": [
            "\u001b[2m\u001b[33m(raylet)\u001b[0m /usr/local/lib/python3.7/dist-packages/ray/autoscaler/_private/cli_logger.py:61: FutureWarning: Not all Ray CLI dependencies were found. In Ray 1.4+, the Ray CLI, autoscaler, and dashboard will only be usable via `pip install 'ray[default]'`. Please update your install command.\n",
            "\u001b[2m\u001b[33m(raylet)\u001b[0m   \"update your install command.\", FutureWarning)\n"
          ],
          "name": "stderr"
        },
        {
          "output_type": "stream",
          "text": [
            "\u001b[2m\u001b[36m(pid=927)\u001b[0m Operation will be on *****GPU-CUDA***** \n"
          ],
          "name": "stdout"
        },
        {
          "output_type": "stream",
          "text": [
            "\u001b[2m\u001b[36m(pid=927)\u001b[0m /usr/local/lib/python3.7/dist-packages/sklearn/model_selection/_split.py:667: UserWarning: The least populated class in y has only 2 members, which is less than n_splits=5.\n",
            "\u001b[2m\u001b[36m(pid=927)\u001b[0m   % (min_groups, self.n_splits)), UserWarning)\n",
            "\u001b[2m\u001b[36m(pid=927)\u001b[0m /usr/local/lib/python3.7/dist-packages/sklearn/model_selection/_split.py:667: UserWarning: The least populated class in y has only 2 members, which is less than n_splits=5.\n",
            "\u001b[2m\u001b[36m(pid=927)\u001b[0m   % (min_groups, self.n_splits)), UserWarning)\n",
            "\u001b[2m\u001b[36m(pid=927)\u001b[0m /usr/local/lib/python3.7/dist-packages/sklearn/model_selection/_split.py:667: UserWarning: The least populated class in y has only 2 members, which is less than n_splits=5.\n",
            "\u001b[2m\u001b[36m(pid=927)\u001b[0m   % (min_groups, self.n_splits)), UserWarning)\n"
          ],
          "name": "stderr"
        },
        {
          "output_type": "stream",
          "text": [
            "Result for DEFAULT_5d087_00013:\n",
            "  date: 2021-05-25_07-19-50\n",
            "  done: false\n",
            "  experiment_id: b3f5875dfa3342fab5bbd7736057cfad\n",
            "  hostname: d76bb801c9dd\n",
            "  iterations_since_restore: 1\n",
            "  mean_accuracy: 2.003124415874481\n",
            "  node_ip: 172.28.0.2\n",
            "  pid: 927\n",
            "  should_checkpoint: true\n",
            "  time_since_restore: 4.7073400020599365\n",
            "  time_this_iter_s: 4.7073400020599365\n",
            "  time_total_s: 4.7073400020599365\n",
            "  timestamp: 1621927190\n",
            "  timesteps_since_restore: 0\n",
            "  training_iteration: 1\n",
            "  trial_id: 5d087_00013\n",
            "  \n"
          ],
          "name": "stdout"
        },
        {
          "output_type": "display_data",
          "data": {
            "text/html": [
              "== Status ==<br>Memory usage on this node: 2.9/12.7 GiB<br>Using FIFO scheduling algorithm.<br>Resources requested: 2.0/2 CPUs, 1.0/1 GPUs, 0.0/7.33 GiB heap, 0.0/3.67 GiB objects (0.0/1.0 accelerator_type:T4)<br>Result logdir: /content/drive/MyDrive/RecAE/experiments/ECG_5000<br>Number of trials: 36/36 (22 PENDING, 1 RUNNING, 13 TERMINATED)<br><table>\n",
              "<thead>\n",
              "<tr><th>Trial name         </th><th>status    </th><th>loc           </th><th style=\"text-align: right;\">  batch_size</th><th style=\"text-align: right;\">  latent_dim</th><th>loss_param       </th><th style=\"text-align: right;\">   lr</th><th style=\"text-align: right;\">    acc</th><th style=\"text-align: right;\">  iter</th><th style=\"text-align: right;\">  total time (s)</th></tr>\n",
              "</thead>\n",
              "<tbody>\n",
              "<tr><td>DEFAULT_5d087_00013</td><td>RUNNING   </td><td>172.28.0.2:927</td><td style=\"text-align: right;\">         256</td><td style=\"text-align: right;\">          70</td><td>(&#x27;MAEAUC&#x27;, 1)    </td><td style=\"text-align: right;\">0.001</td><td style=\"text-align: right;\">2.00312</td><td style=\"text-align: right;\">     1</td><td style=\"text-align: right;\">         4.70734</td></tr>\n",
              "<tr><td>DEFAULT_5d087_00014</td><td>PENDING   </td><td>              </td><td style=\"text-align: right;\">         256</td><td style=\"text-align: right;\">         105</td><td>(&#x27;MAEAUC&#x27;, 1)    </td><td style=\"text-align: right;\">0.001</td><td style=\"text-align: right;\">       </td><td style=\"text-align: right;\">      </td><td style=\"text-align: right;\">                </td></tr>\n",
              "<tr><td>DEFAULT_5d087_00015</td><td>PENDING   </td><td>              </td><td style=\"text-align: right;\">         256</td><td style=\"text-align: right;\">          35</td><td>(&#x27;MAEAUC&#x27;, 10)   </td><td style=\"text-align: right;\">0.001</td><td style=\"text-align: right;\">       </td><td style=\"text-align: right;\">      </td><td style=\"text-align: right;\">                </td></tr>\n",
              "<tr><td>DEFAULT_5d087_00016</td><td>PENDING   </td><td>              </td><td style=\"text-align: right;\">         256</td><td style=\"text-align: right;\">          70</td><td>(&#x27;MAEAUC&#x27;, 10)   </td><td style=\"text-align: right;\">0.001</td><td style=\"text-align: right;\">       </td><td style=\"text-align: right;\">      </td><td style=\"text-align: right;\">                </td></tr>\n",
              "<tr><td>DEFAULT_5d087_00017</td><td>PENDING   </td><td>              </td><td style=\"text-align: right;\">         256</td><td style=\"text-align: right;\">         105</td><td>(&#x27;MAEAUC&#x27;, 10)   </td><td style=\"text-align: right;\">0.001</td><td style=\"text-align: right;\">       </td><td style=\"text-align: right;\">      </td><td style=\"text-align: right;\">                </td></tr>\n",
              "<tr><td>DEFAULT_5d087_00018</td><td>PENDING   </td><td>              </td><td style=\"text-align: right;\">         256</td><td style=\"text-align: right;\">          35</td><td>(&#x27;MAE&#x27;, 0)       </td><td style=\"text-align: right;\">0.01 </td><td style=\"text-align: right;\">       </td><td style=\"text-align: right;\">      </td><td style=\"text-align: right;\">                </td></tr>\n",
              "<tr><td>DEFAULT_5d087_00019</td><td>PENDING   </td><td>              </td><td style=\"text-align: right;\">         256</td><td style=\"text-align: right;\">          70</td><td>(&#x27;MAE&#x27;, 0)       </td><td style=\"text-align: right;\">0.01 </td><td style=\"text-align: right;\">       </td><td style=\"text-align: right;\">      </td><td style=\"text-align: right;\">                </td></tr>\n",
              "<tr><td>DEFAULT_5d087_00020</td><td>PENDING   </td><td>              </td><td style=\"text-align: right;\">         256</td><td style=\"text-align: right;\">         105</td><td>(&#x27;MAE&#x27;, 0)       </td><td style=\"text-align: right;\">0.01 </td><td style=\"text-align: right;\">       </td><td style=\"text-align: right;\">      </td><td style=\"text-align: right;\">                </td></tr>\n",
              "<tr><td>DEFAULT_5d087_00021</td><td>PENDING   </td><td>              </td><td style=\"text-align: right;\">         256</td><td style=\"text-align: right;\">          35</td><td>(&#x27;MAEAUC&#x27;, 0.001)</td><td style=\"text-align: right;\">0.01 </td><td style=\"text-align: right;\">       </td><td style=\"text-align: right;\">      </td><td style=\"text-align: right;\">                </td></tr>\n",
              "<tr><td>DEFAULT_5d087_00022</td><td>PENDING   </td><td>              </td><td style=\"text-align: right;\">         256</td><td style=\"text-align: right;\">          70</td><td>(&#x27;MAEAUC&#x27;, 0.001)</td><td style=\"text-align: right;\">0.01 </td><td style=\"text-align: right;\">       </td><td style=\"text-align: right;\">      </td><td style=\"text-align: right;\">                </td></tr>\n",
              "<tr><td>DEFAULT_5d087_00023</td><td>PENDING   </td><td>              </td><td style=\"text-align: right;\">         256</td><td style=\"text-align: right;\">         105</td><td>(&#x27;MAEAUC&#x27;, 0.001)</td><td style=\"text-align: right;\">0.01 </td><td style=\"text-align: right;\">       </td><td style=\"text-align: right;\">      </td><td style=\"text-align: right;\">                </td></tr>\n",
              "<tr><td>DEFAULT_5d087_00000</td><td>TERMINATED</td><td>              </td><td style=\"text-align: right;\">         256</td><td style=\"text-align: right;\">          35</td><td>(&#x27;MAE&#x27;, 0)       </td><td style=\"text-align: right;\">0.001</td><td style=\"text-align: right;\">1.99559</td><td style=\"text-align: right;\">     1</td><td style=\"text-align: right;\">        12.3246 </td></tr>\n",
              "<tr><td>DEFAULT_5d087_00001</td><td>TERMINATED</td><td>              </td><td style=\"text-align: right;\">         256</td><td style=\"text-align: right;\">          70</td><td>(&#x27;MAE&#x27;, 0)       </td><td style=\"text-align: right;\">0.001</td><td style=\"text-align: right;\">1.98247</td><td style=\"text-align: right;\">     1</td><td style=\"text-align: right;\">         4.70409</td></tr>\n",
              "<tr><td>DEFAULT_5d087_00002</td><td>TERMINATED</td><td>              </td><td style=\"text-align: right;\">         256</td><td style=\"text-align: right;\">         105</td><td>(&#x27;MAE&#x27;, 0)       </td><td style=\"text-align: right;\">0.001</td><td style=\"text-align: right;\">1.98955</td><td style=\"text-align: right;\">     1</td><td style=\"text-align: right;\">         4.80142</td></tr>\n",
              "<tr><td>DEFAULT_5d087_00003</td><td>TERMINATED</td><td>              </td><td style=\"text-align: right;\">         256</td><td style=\"text-align: right;\">          35</td><td>(&#x27;MAEAUC&#x27;, 0.001)</td><td style=\"text-align: right;\">0.001</td><td style=\"text-align: right;\">1.99573</td><td style=\"text-align: right;\">     1</td><td style=\"text-align: right;\">         4.73747</td></tr>\n",
              "<tr><td>DEFAULT_5d087_00004</td><td>TERMINATED</td><td>              </td><td style=\"text-align: right;\">         256</td><td style=\"text-align: right;\">          70</td><td>(&#x27;MAEAUC&#x27;, 0.001)</td><td style=\"text-align: right;\">0.001</td><td style=\"text-align: right;\">1.99686</td><td style=\"text-align: right;\">     1</td><td style=\"text-align: right;\">         4.74517</td></tr>\n",
              "<tr><td>DEFAULT_5d087_00005</td><td>TERMINATED</td><td>              </td><td style=\"text-align: right;\">         256</td><td style=\"text-align: right;\">         105</td><td>(&#x27;MAEAUC&#x27;, 0.001)</td><td style=\"text-align: right;\">0.001</td><td style=\"text-align: right;\">1.97942</td><td style=\"text-align: right;\">     1</td><td style=\"text-align: right;\">         4.70129</td></tr>\n",
              "<tr><td>DEFAULT_5d087_00006</td><td>TERMINATED</td><td>              </td><td style=\"text-align: right;\">         256</td><td style=\"text-align: right;\">          35</td><td>(&#x27;MAEAUC&#x27;, 0.01) </td><td style=\"text-align: right;\">0.001</td><td style=\"text-align: right;\">1.99736</td><td style=\"text-align: right;\">     1</td><td style=\"text-align: right;\">         4.59657</td></tr>\n",
              "<tr><td>DEFAULT_5d087_00007</td><td>TERMINATED</td><td>              </td><td style=\"text-align: right;\">         256</td><td style=\"text-align: right;\">          70</td><td>(&#x27;MAEAUC&#x27;, 0.01) </td><td style=\"text-align: right;\">0.001</td><td style=\"text-align: right;\">1.99013</td><td style=\"text-align: right;\">     1</td><td style=\"text-align: right;\">         4.67644</td></tr>\n",
              "<tr><td>DEFAULT_5d087_00008</td><td>TERMINATED</td><td>              </td><td style=\"text-align: right;\">         256</td><td style=\"text-align: right;\">         105</td><td>(&#x27;MAEAUC&#x27;, 0.01) </td><td style=\"text-align: right;\">0.001</td><td style=\"text-align: right;\">1.97145</td><td style=\"text-align: right;\">     1</td><td style=\"text-align: right;\">         4.66659</td></tr>\n",
              "<tr><td>DEFAULT_5d087_00009</td><td>TERMINATED</td><td>              </td><td style=\"text-align: right;\">         256</td><td style=\"text-align: right;\">          35</td><td>(&#x27;MAEAUC&#x27;, 0.1)  </td><td style=\"text-align: right;\">0.001</td><td style=\"text-align: right;\">1.99685</td><td style=\"text-align: right;\">     1</td><td style=\"text-align: right;\">         4.698  </td></tr>\n",
              "</tbody>\n",
              "</table><br>... 16 more trials not shown (12 PENDING, 3 TERMINATED)<br><br>"
            ],
            "text/plain": [
              "<IPython.core.display.HTML object>"
            ]
          },
          "metadata": {
            "tags": []
          }
        },
        {
          "output_type": "stream",
          "text": [
            "2021-05-25 07:19:50,830\tINFO logger.py:690 -- Removed the following hyperparameter values when logging to tensorboard: {'loss_param': ('MAEAUC', 1)}\n"
          ],
          "name": "stderr"
        },
        {
          "output_type": "stream",
          "text": [
            "Result for DEFAULT_5d087_00013:\n",
            "  date: 2021-05-25_07-19-50\n",
            "  done: true\n",
            "  experiment_id: b3f5875dfa3342fab5bbd7736057cfad\n",
            "  experiment_tag: 13_batch_size=256,latent_dim=70,loss_param=('MAEAUC', 1),lr=0.001\n",
            "  hostname: d76bb801c9dd\n",
            "  iterations_since_restore: 1\n",
            "  mean_accuracy: 2.003124415874481\n",
            "  node_ip: 172.28.0.2\n",
            "  pid: 927\n",
            "  should_checkpoint: true\n",
            "  time_since_restore: 4.7073400020599365\n",
            "  time_this_iter_s: 4.7073400020599365\n",
            "  time_total_s: 4.7073400020599365\n",
            "  timestamp: 1621927190\n",
            "  timesteps_since_restore: 0\n",
            "  training_iteration: 1\n",
            "  trial_id: 5d087_00013\n",
            "  \n"
          ],
          "name": "stdout"
        },
        {
          "output_type": "stream",
          "text": [
            "\u001b[2m\u001b[33m(raylet)\u001b[0m /usr/local/lib/python3.7/dist-packages/ray/autoscaler/_private/cli_logger.py:61: FutureWarning: Not all Ray CLI dependencies were found. In Ray 1.4+, the Ray CLI, autoscaler, and dashboard will only be usable via `pip install 'ray[default]'`. Please update your install command.\n",
            "\u001b[2m\u001b[33m(raylet)\u001b[0m   \"update your install command.\", FutureWarning)\n"
          ],
          "name": "stderr"
        },
        {
          "output_type": "stream",
          "text": [
            "\u001b[2m\u001b[36m(pid=953)\u001b[0m Operation will be on *****GPU-CUDA***** \n"
          ],
          "name": "stdout"
        },
        {
          "output_type": "stream",
          "text": [
            "\u001b[2m\u001b[36m(pid=953)\u001b[0m /usr/local/lib/python3.7/dist-packages/sklearn/model_selection/_split.py:667: UserWarning: The least populated class in y has only 2 members, which is less than n_splits=5.\n",
            "\u001b[2m\u001b[36m(pid=953)\u001b[0m   % (min_groups, self.n_splits)), UserWarning)\n",
            "\u001b[2m\u001b[36m(pid=953)\u001b[0m /usr/local/lib/python3.7/dist-packages/sklearn/model_selection/_split.py:667: UserWarning: The least populated class in y has only 2 members, which is less than n_splits=5.\n",
            "\u001b[2m\u001b[36m(pid=953)\u001b[0m   % (min_groups, self.n_splits)), UserWarning)\n",
            "\u001b[2m\u001b[36m(pid=953)\u001b[0m /usr/local/lib/python3.7/dist-packages/sklearn/model_selection/_split.py:667: UserWarning: The least populated class in y has only 2 members, which is less than n_splits=5.\n",
            "\u001b[2m\u001b[36m(pid=953)\u001b[0m   % (min_groups, self.n_splits)), UserWarning)\n"
          ],
          "name": "stderr"
        },
        {
          "output_type": "stream",
          "text": [
            "Result for DEFAULT_5d087_00014:\n",
            "  date: 2021-05-25_07-19-57\n",
            "  done: false\n",
            "  experiment_id: 3f69766cdf514d6dabdb4c5ac3915b14\n",
            "  hostname: d76bb801c9dd\n",
            "  iterations_since_restore: 1\n",
            "  mean_accuracy: 2.0002068877220154\n",
            "  node_ip: 172.28.0.2\n",
            "  pid: 953\n",
            "  should_checkpoint: true\n",
            "  time_since_restore: 4.678420782089233\n",
            "  time_this_iter_s: 4.678420782089233\n",
            "  time_total_s: 4.678420782089233\n",
            "  timestamp: 1621927197\n",
            "  timesteps_since_restore: 0\n",
            "  training_iteration: 1\n",
            "  trial_id: 5d087_00014\n",
            "  \n"
          ],
          "name": "stdout"
        },
        {
          "output_type": "display_data",
          "data": {
            "text/html": [
              "== Status ==<br>Memory usage on this node: 2.9/12.7 GiB<br>Using FIFO scheduling algorithm.<br>Resources requested: 2.0/2 CPUs, 1.0/1 GPUs, 0.0/7.33 GiB heap, 0.0/3.67 GiB objects (0.0/1.0 accelerator_type:T4)<br>Result logdir: /content/drive/MyDrive/RecAE/experiments/ECG_5000<br>Number of trials: 36/36 (21 PENDING, 1 RUNNING, 14 TERMINATED)<br><table>\n",
              "<thead>\n",
              "<tr><th>Trial name         </th><th>status    </th><th>loc           </th><th style=\"text-align: right;\">  batch_size</th><th style=\"text-align: right;\">  latent_dim</th><th>loss_param       </th><th style=\"text-align: right;\">   lr</th><th style=\"text-align: right;\">    acc</th><th style=\"text-align: right;\">  iter</th><th style=\"text-align: right;\">  total time (s)</th></tr>\n",
              "</thead>\n",
              "<tbody>\n",
              "<tr><td>DEFAULT_5d087_00014</td><td>RUNNING   </td><td>172.28.0.2:953</td><td style=\"text-align: right;\">         256</td><td style=\"text-align: right;\">         105</td><td>(&#x27;MAEAUC&#x27;, 1)    </td><td style=\"text-align: right;\">0.001</td><td style=\"text-align: right;\">2.00021</td><td style=\"text-align: right;\">     1</td><td style=\"text-align: right;\">         4.67842</td></tr>\n",
              "<tr><td>DEFAULT_5d087_00015</td><td>PENDING   </td><td>              </td><td style=\"text-align: right;\">         256</td><td style=\"text-align: right;\">          35</td><td>(&#x27;MAEAUC&#x27;, 10)   </td><td style=\"text-align: right;\">0.001</td><td style=\"text-align: right;\">       </td><td style=\"text-align: right;\">      </td><td style=\"text-align: right;\">                </td></tr>\n",
              "<tr><td>DEFAULT_5d087_00016</td><td>PENDING   </td><td>              </td><td style=\"text-align: right;\">         256</td><td style=\"text-align: right;\">          70</td><td>(&#x27;MAEAUC&#x27;, 10)   </td><td style=\"text-align: right;\">0.001</td><td style=\"text-align: right;\">       </td><td style=\"text-align: right;\">      </td><td style=\"text-align: right;\">                </td></tr>\n",
              "<tr><td>DEFAULT_5d087_00017</td><td>PENDING   </td><td>              </td><td style=\"text-align: right;\">         256</td><td style=\"text-align: right;\">         105</td><td>(&#x27;MAEAUC&#x27;, 10)   </td><td style=\"text-align: right;\">0.001</td><td style=\"text-align: right;\">       </td><td style=\"text-align: right;\">      </td><td style=\"text-align: right;\">                </td></tr>\n",
              "<tr><td>DEFAULT_5d087_00018</td><td>PENDING   </td><td>              </td><td style=\"text-align: right;\">         256</td><td style=\"text-align: right;\">          35</td><td>(&#x27;MAE&#x27;, 0)       </td><td style=\"text-align: right;\">0.01 </td><td style=\"text-align: right;\">       </td><td style=\"text-align: right;\">      </td><td style=\"text-align: right;\">                </td></tr>\n",
              "<tr><td>DEFAULT_5d087_00019</td><td>PENDING   </td><td>              </td><td style=\"text-align: right;\">         256</td><td style=\"text-align: right;\">          70</td><td>(&#x27;MAE&#x27;, 0)       </td><td style=\"text-align: right;\">0.01 </td><td style=\"text-align: right;\">       </td><td style=\"text-align: right;\">      </td><td style=\"text-align: right;\">                </td></tr>\n",
              "<tr><td>DEFAULT_5d087_00020</td><td>PENDING   </td><td>              </td><td style=\"text-align: right;\">         256</td><td style=\"text-align: right;\">         105</td><td>(&#x27;MAE&#x27;, 0)       </td><td style=\"text-align: right;\">0.01 </td><td style=\"text-align: right;\">       </td><td style=\"text-align: right;\">      </td><td style=\"text-align: right;\">                </td></tr>\n",
              "<tr><td>DEFAULT_5d087_00021</td><td>PENDING   </td><td>              </td><td style=\"text-align: right;\">         256</td><td style=\"text-align: right;\">          35</td><td>(&#x27;MAEAUC&#x27;, 0.001)</td><td style=\"text-align: right;\">0.01 </td><td style=\"text-align: right;\">       </td><td style=\"text-align: right;\">      </td><td style=\"text-align: right;\">                </td></tr>\n",
              "<tr><td>DEFAULT_5d087_00022</td><td>PENDING   </td><td>              </td><td style=\"text-align: right;\">         256</td><td style=\"text-align: right;\">          70</td><td>(&#x27;MAEAUC&#x27;, 0.001)</td><td style=\"text-align: right;\">0.01 </td><td style=\"text-align: right;\">       </td><td style=\"text-align: right;\">      </td><td style=\"text-align: right;\">                </td></tr>\n",
              "<tr><td>DEFAULT_5d087_00023</td><td>PENDING   </td><td>              </td><td style=\"text-align: right;\">         256</td><td style=\"text-align: right;\">         105</td><td>(&#x27;MAEAUC&#x27;, 0.001)</td><td style=\"text-align: right;\">0.01 </td><td style=\"text-align: right;\">       </td><td style=\"text-align: right;\">      </td><td style=\"text-align: right;\">                </td></tr>\n",
              "<tr><td>DEFAULT_5d087_00024</td><td>PENDING   </td><td>              </td><td style=\"text-align: right;\">         256</td><td style=\"text-align: right;\">          35</td><td>(&#x27;MAEAUC&#x27;, 0.01) </td><td style=\"text-align: right;\">0.01 </td><td style=\"text-align: right;\">       </td><td style=\"text-align: right;\">      </td><td style=\"text-align: right;\">                </td></tr>\n",
              "<tr><td>DEFAULT_5d087_00000</td><td>TERMINATED</td><td>              </td><td style=\"text-align: right;\">         256</td><td style=\"text-align: right;\">          35</td><td>(&#x27;MAE&#x27;, 0)       </td><td style=\"text-align: right;\">0.001</td><td style=\"text-align: right;\">1.99559</td><td style=\"text-align: right;\">     1</td><td style=\"text-align: right;\">        12.3246 </td></tr>\n",
              "<tr><td>DEFAULT_5d087_00001</td><td>TERMINATED</td><td>              </td><td style=\"text-align: right;\">         256</td><td style=\"text-align: right;\">          70</td><td>(&#x27;MAE&#x27;, 0)       </td><td style=\"text-align: right;\">0.001</td><td style=\"text-align: right;\">1.98247</td><td style=\"text-align: right;\">     1</td><td style=\"text-align: right;\">         4.70409</td></tr>\n",
              "<tr><td>DEFAULT_5d087_00002</td><td>TERMINATED</td><td>              </td><td style=\"text-align: right;\">         256</td><td style=\"text-align: right;\">         105</td><td>(&#x27;MAE&#x27;, 0)       </td><td style=\"text-align: right;\">0.001</td><td style=\"text-align: right;\">1.98955</td><td style=\"text-align: right;\">     1</td><td style=\"text-align: right;\">         4.80142</td></tr>\n",
              "<tr><td>DEFAULT_5d087_00003</td><td>TERMINATED</td><td>              </td><td style=\"text-align: right;\">         256</td><td style=\"text-align: right;\">          35</td><td>(&#x27;MAEAUC&#x27;, 0.001)</td><td style=\"text-align: right;\">0.001</td><td style=\"text-align: right;\">1.99573</td><td style=\"text-align: right;\">     1</td><td style=\"text-align: right;\">         4.73747</td></tr>\n",
              "<tr><td>DEFAULT_5d087_00004</td><td>TERMINATED</td><td>              </td><td style=\"text-align: right;\">         256</td><td style=\"text-align: right;\">          70</td><td>(&#x27;MAEAUC&#x27;, 0.001)</td><td style=\"text-align: right;\">0.001</td><td style=\"text-align: right;\">1.99686</td><td style=\"text-align: right;\">     1</td><td style=\"text-align: right;\">         4.74517</td></tr>\n",
              "<tr><td>DEFAULT_5d087_00005</td><td>TERMINATED</td><td>              </td><td style=\"text-align: right;\">         256</td><td style=\"text-align: right;\">         105</td><td>(&#x27;MAEAUC&#x27;, 0.001)</td><td style=\"text-align: right;\">0.001</td><td style=\"text-align: right;\">1.97942</td><td style=\"text-align: right;\">     1</td><td style=\"text-align: right;\">         4.70129</td></tr>\n",
              "<tr><td>DEFAULT_5d087_00006</td><td>TERMINATED</td><td>              </td><td style=\"text-align: right;\">         256</td><td style=\"text-align: right;\">          35</td><td>(&#x27;MAEAUC&#x27;, 0.01) </td><td style=\"text-align: right;\">0.001</td><td style=\"text-align: right;\">1.99736</td><td style=\"text-align: right;\">     1</td><td style=\"text-align: right;\">         4.59657</td></tr>\n",
              "<tr><td>DEFAULT_5d087_00007</td><td>TERMINATED</td><td>              </td><td style=\"text-align: right;\">         256</td><td style=\"text-align: right;\">          70</td><td>(&#x27;MAEAUC&#x27;, 0.01) </td><td style=\"text-align: right;\">0.001</td><td style=\"text-align: right;\">1.99013</td><td style=\"text-align: right;\">     1</td><td style=\"text-align: right;\">         4.67644</td></tr>\n",
              "<tr><td>DEFAULT_5d087_00008</td><td>TERMINATED</td><td>              </td><td style=\"text-align: right;\">         256</td><td style=\"text-align: right;\">         105</td><td>(&#x27;MAEAUC&#x27;, 0.01) </td><td style=\"text-align: right;\">0.001</td><td style=\"text-align: right;\">1.97145</td><td style=\"text-align: right;\">     1</td><td style=\"text-align: right;\">         4.66659</td></tr>\n",
              "<tr><td>DEFAULT_5d087_00009</td><td>TERMINATED</td><td>              </td><td style=\"text-align: right;\">         256</td><td style=\"text-align: right;\">          35</td><td>(&#x27;MAEAUC&#x27;, 0.1)  </td><td style=\"text-align: right;\">0.001</td><td style=\"text-align: right;\">1.99685</td><td style=\"text-align: right;\">     1</td><td style=\"text-align: right;\">         4.698  </td></tr>\n",
              "</tbody>\n",
              "</table><br>... 16 more trials not shown (11 PENDING, 4 TERMINATED)<br><br>"
            ],
            "text/plain": [
              "<IPython.core.display.HTML object>"
            ]
          },
          "metadata": {
            "tags": []
          }
        },
        {
          "output_type": "stream",
          "text": [
            "2021-05-25 07:19:57,501\tINFO logger.py:690 -- Removed the following hyperparameter values when logging to tensorboard: {'loss_param': ('MAEAUC', 1)}\n"
          ],
          "name": "stderr"
        },
        {
          "output_type": "stream",
          "text": [
            "Result for DEFAULT_5d087_00014:\n",
            "  date: 2021-05-25_07-19-57\n",
            "  done: true\n",
            "  experiment_id: 3f69766cdf514d6dabdb4c5ac3915b14\n",
            "  experiment_tag: 14_batch_size=256,latent_dim=105,loss_param=('MAEAUC', 1),lr=0.001\n",
            "  hostname: d76bb801c9dd\n",
            "  iterations_since_restore: 1\n",
            "  mean_accuracy: 2.0002068877220154\n",
            "  node_ip: 172.28.0.2\n",
            "  pid: 953\n",
            "  should_checkpoint: true\n",
            "  time_since_restore: 4.678420782089233\n",
            "  time_this_iter_s: 4.678420782089233\n",
            "  time_total_s: 4.678420782089233\n",
            "  timestamp: 1621927197\n",
            "  timesteps_since_restore: 0\n",
            "  training_iteration: 1\n",
            "  trial_id: 5d087_00014\n",
            "  \n"
          ],
          "name": "stdout"
        },
        {
          "output_type": "stream",
          "text": [
            "\u001b[2m\u001b[33m(raylet)\u001b[0m /usr/local/lib/python3.7/dist-packages/ray/autoscaler/_private/cli_logger.py:61: FutureWarning: Not all Ray CLI dependencies were found. In Ray 1.4+, the Ray CLI, autoscaler, and dashboard will only be usable via `pip install 'ray[default]'`. Please update your install command.\n",
            "\u001b[2m\u001b[33m(raylet)\u001b[0m   \"update your install command.\", FutureWarning)\n"
          ],
          "name": "stderr"
        },
        {
          "output_type": "stream",
          "text": [
            "\u001b[2m\u001b[36m(pid=983)\u001b[0m Operation will be on *****GPU-CUDA***** \n"
          ],
          "name": "stdout"
        },
        {
          "output_type": "stream",
          "text": [
            "\u001b[2m\u001b[36m(pid=983)\u001b[0m /usr/local/lib/python3.7/dist-packages/sklearn/model_selection/_split.py:667: UserWarning: The least populated class in y has only 2 members, which is less than n_splits=5.\n",
            "\u001b[2m\u001b[36m(pid=983)\u001b[0m   % (min_groups, self.n_splits)), UserWarning)\n",
            "\u001b[2m\u001b[36m(pid=983)\u001b[0m /usr/local/lib/python3.7/dist-packages/sklearn/model_selection/_split.py:667: UserWarning: The least populated class in y has only 2 members, which is less than n_splits=5.\n",
            "\u001b[2m\u001b[36m(pid=983)\u001b[0m   % (min_groups, self.n_splits)), UserWarning)\n",
            "\u001b[2m\u001b[36m(pid=983)\u001b[0m /usr/local/lib/python3.7/dist-packages/sklearn/model_selection/_split.py:667: UserWarning: The least populated class in y has only 2 members, which is less than n_splits=5.\n",
            "\u001b[2m\u001b[36m(pid=983)\u001b[0m   % (min_groups, self.n_splits)), UserWarning)\n"
          ],
          "name": "stderr"
        },
        {
          "output_type": "stream",
          "text": [
            "Result for DEFAULT_5d087_00015:\n",
            "  date: 2021-05-25_07-20-03\n",
            "  done: false\n",
            "  experiment_id: 8d2d57d99662450d8dec6ae5dcc808f6\n",
            "  hostname: d76bb801c9dd\n",
            "  iterations_since_restore: 1\n",
            "  mean_accuracy: 2.0374852418899536\n",
            "  node_ip: 172.28.0.2\n",
            "  pid: 983\n",
            "  should_checkpoint: true\n",
            "  time_since_restore: 4.657319068908691\n",
            "  time_this_iter_s: 4.657319068908691\n",
            "  time_total_s: 4.657319068908691\n",
            "  timestamp: 1621927203\n",
            "  timesteps_since_restore: 0\n",
            "  training_iteration: 1\n",
            "  trial_id: 5d087_00015\n",
            "  \n"
          ],
          "name": "stdout"
        },
        {
          "output_type": "display_data",
          "data": {
            "text/html": [
              "== Status ==<br>Memory usage on this node: 2.9/12.7 GiB<br>Using FIFO scheduling algorithm.<br>Resources requested: 2.0/2 CPUs, 1.0/1 GPUs, 0.0/7.33 GiB heap, 0.0/3.67 GiB objects (0.0/1.0 accelerator_type:T4)<br>Result logdir: /content/drive/MyDrive/RecAE/experiments/ECG_5000<br>Number of trials: 36/36 (20 PENDING, 1 RUNNING, 15 TERMINATED)<br><table>\n",
              "<thead>\n",
              "<tr><th>Trial name         </th><th>status    </th><th>loc           </th><th style=\"text-align: right;\">  batch_size</th><th style=\"text-align: right;\">  latent_dim</th><th>loss_param       </th><th style=\"text-align: right;\">   lr</th><th style=\"text-align: right;\">    acc</th><th style=\"text-align: right;\">  iter</th><th style=\"text-align: right;\">  total time (s)</th></tr>\n",
              "</thead>\n",
              "<tbody>\n",
              "<tr><td>DEFAULT_5d087_00015</td><td>RUNNING   </td><td>172.28.0.2:983</td><td style=\"text-align: right;\">         256</td><td style=\"text-align: right;\">          35</td><td>(&#x27;MAEAUC&#x27;, 10)   </td><td style=\"text-align: right;\">0.001</td><td style=\"text-align: right;\">2.03749</td><td style=\"text-align: right;\">     1</td><td style=\"text-align: right;\">         4.65732</td></tr>\n",
              "<tr><td>DEFAULT_5d087_00016</td><td>PENDING   </td><td>              </td><td style=\"text-align: right;\">         256</td><td style=\"text-align: right;\">          70</td><td>(&#x27;MAEAUC&#x27;, 10)   </td><td style=\"text-align: right;\">0.001</td><td style=\"text-align: right;\">       </td><td style=\"text-align: right;\">      </td><td style=\"text-align: right;\">                </td></tr>\n",
              "<tr><td>DEFAULT_5d087_00017</td><td>PENDING   </td><td>              </td><td style=\"text-align: right;\">         256</td><td style=\"text-align: right;\">         105</td><td>(&#x27;MAEAUC&#x27;, 10)   </td><td style=\"text-align: right;\">0.001</td><td style=\"text-align: right;\">       </td><td style=\"text-align: right;\">      </td><td style=\"text-align: right;\">                </td></tr>\n",
              "<tr><td>DEFAULT_5d087_00018</td><td>PENDING   </td><td>              </td><td style=\"text-align: right;\">         256</td><td style=\"text-align: right;\">          35</td><td>(&#x27;MAE&#x27;, 0)       </td><td style=\"text-align: right;\">0.01 </td><td style=\"text-align: right;\">       </td><td style=\"text-align: right;\">      </td><td style=\"text-align: right;\">                </td></tr>\n",
              "<tr><td>DEFAULT_5d087_00019</td><td>PENDING   </td><td>              </td><td style=\"text-align: right;\">         256</td><td style=\"text-align: right;\">          70</td><td>(&#x27;MAE&#x27;, 0)       </td><td style=\"text-align: right;\">0.01 </td><td style=\"text-align: right;\">       </td><td style=\"text-align: right;\">      </td><td style=\"text-align: right;\">                </td></tr>\n",
              "<tr><td>DEFAULT_5d087_00020</td><td>PENDING   </td><td>              </td><td style=\"text-align: right;\">         256</td><td style=\"text-align: right;\">         105</td><td>(&#x27;MAE&#x27;, 0)       </td><td style=\"text-align: right;\">0.01 </td><td style=\"text-align: right;\">       </td><td style=\"text-align: right;\">      </td><td style=\"text-align: right;\">                </td></tr>\n",
              "<tr><td>DEFAULT_5d087_00021</td><td>PENDING   </td><td>              </td><td style=\"text-align: right;\">         256</td><td style=\"text-align: right;\">          35</td><td>(&#x27;MAEAUC&#x27;, 0.001)</td><td style=\"text-align: right;\">0.01 </td><td style=\"text-align: right;\">       </td><td style=\"text-align: right;\">      </td><td style=\"text-align: right;\">                </td></tr>\n",
              "<tr><td>DEFAULT_5d087_00022</td><td>PENDING   </td><td>              </td><td style=\"text-align: right;\">         256</td><td style=\"text-align: right;\">          70</td><td>(&#x27;MAEAUC&#x27;, 0.001)</td><td style=\"text-align: right;\">0.01 </td><td style=\"text-align: right;\">       </td><td style=\"text-align: right;\">      </td><td style=\"text-align: right;\">                </td></tr>\n",
              "<tr><td>DEFAULT_5d087_00023</td><td>PENDING   </td><td>              </td><td style=\"text-align: right;\">         256</td><td style=\"text-align: right;\">         105</td><td>(&#x27;MAEAUC&#x27;, 0.001)</td><td style=\"text-align: right;\">0.01 </td><td style=\"text-align: right;\">       </td><td style=\"text-align: right;\">      </td><td style=\"text-align: right;\">                </td></tr>\n",
              "<tr><td>DEFAULT_5d087_00024</td><td>PENDING   </td><td>              </td><td style=\"text-align: right;\">         256</td><td style=\"text-align: right;\">          35</td><td>(&#x27;MAEAUC&#x27;, 0.01) </td><td style=\"text-align: right;\">0.01 </td><td style=\"text-align: right;\">       </td><td style=\"text-align: right;\">      </td><td style=\"text-align: right;\">                </td></tr>\n",
              "<tr><td>DEFAULT_5d087_00025</td><td>PENDING   </td><td>              </td><td style=\"text-align: right;\">         256</td><td style=\"text-align: right;\">          70</td><td>(&#x27;MAEAUC&#x27;, 0.01) </td><td style=\"text-align: right;\">0.01 </td><td style=\"text-align: right;\">       </td><td style=\"text-align: right;\">      </td><td style=\"text-align: right;\">                </td></tr>\n",
              "<tr><td>DEFAULT_5d087_00000</td><td>TERMINATED</td><td>              </td><td style=\"text-align: right;\">         256</td><td style=\"text-align: right;\">          35</td><td>(&#x27;MAE&#x27;, 0)       </td><td style=\"text-align: right;\">0.001</td><td style=\"text-align: right;\">1.99559</td><td style=\"text-align: right;\">     1</td><td style=\"text-align: right;\">        12.3246 </td></tr>\n",
              "<tr><td>DEFAULT_5d087_00001</td><td>TERMINATED</td><td>              </td><td style=\"text-align: right;\">         256</td><td style=\"text-align: right;\">          70</td><td>(&#x27;MAE&#x27;, 0)       </td><td style=\"text-align: right;\">0.001</td><td style=\"text-align: right;\">1.98247</td><td style=\"text-align: right;\">     1</td><td style=\"text-align: right;\">         4.70409</td></tr>\n",
              "<tr><td>DEFAULT_5d087_00002</td><td>TERMINATED</td><td>              </td><td style=\"text-align: right;\">         256</td><td style=\"text-align: right;\">         105</td><td>(&#x27;MAE&#x27;, 0)       </td><td style=\"text-align: right;\">0.001</td><td style=\"text-align: right;\">1.98955</td><td style=\"text-align: right;\">     1</td><td style=\"text-align: right;\">         4.80142</td></tr>\n",
              "<tr><td>DEFAULT_5d087_00003</td><td>TERMINATED</td><td>              </td><td style=\"text-align: right;\">         256</td><td style=\"text-align: right;\">          35</td><td>(&#x27;MAEAUC&#x27;, 0.001)</td><td style=\"text-align: right;\">0.001</td><td style=\"text-align: right;\">1.99573</td><td style=\"text-align: right;\">     1</td><td style=\"text-align: right;\">         4.73747</td></tr>\n",
              "<tr><td>DEFAULT_5d087_00004</td><td>TERMINATED</td><td>              </td><td style=\"text-align: right;\">         256</td><td style=\"text-align: right;\">          70</td><td>(&#x27;MAEAUC&#x27;, 0.001)</td><td style=\"text-align: right;\">0.001</td><td style=\"text-align: right;\">1.99686</td><td style=\"text-align: right;\">     1</td><td style=\"text-align: right;\">         4.74517</td></tr>\n",
              "<tr><td>DEFAULT_5d087_00005</td><td>TERMINATED</td><td>              </td><td style=\"text-align: right;\">         256</td><td style=\"text-align: right;\">         105</td><td>(&#x27;MAEAUC&#x27;, 0.001)</td><td style=\"text-align: right;\">0.001</td><td style=\"text-align: right;\">1.97942</td><td style=\"text-align: right;\">     1</td><td style=\"text-align: right;\">         4.70129</td></tr>\n",
              "<tr><td>DEFAULT_5d087_00006</td><td>TERMINATED</td><td>              </td><td style=\"text-align: right;\">         256</td><td style=\"text-align: right;\">          35</td><td>(&#x27;MAEAUC&#x27;, 0.01) </td><td style=\"text-align: right;\">0.001</td><td style=\"text-align: right;\">1.99736</td><td style=\"text-align: right;\">     1</td><td style=\"text-align: right;\">         4.59657</td></tr>\n",
              "<tr><td>DEFAULT_5d087_00007</td><td>TERMINATED</td><td>              </td><td style=\"text-align: right;\">         256</td><td style=\"text-align: right;\">          70</td><td>(&#x27;MAEAUC&#x27;, 0.01) </td><td style=\"text-align: right;\">0.001</td><td style=\"text-align: right;\">1.99013</td><td style=\"text-align: right;\">     1</td><td style=\"text-align: right;\">         4.67644</td></tr>\n",
              "<tr><td>DEFAULT_5d087_00008</td><td>TERMINATED</td><td>              </td><td style=\"text-align: right;\">         256</td><td style=\"text-align: right;\">         105</td><td>(&#x27;MAEAUC&#x27;, 0.01) </td><td style=\"text-align: right;\">0.001</td><td style=\"text-align: right;\">1.97145</td><td style=\"text-align: right;\">     1</td><td style=\"text-align: right;\">         4.66659</td></tr>\n",
              "<tr><td>DEFAULT_5d087_00009</td><td>TERMINATED</td><td>              </td><td style=\"text-align: right;\">         256</td><td style=\"text-align: right;\">          35</td><td>(&#x27;MAEAUC&#x27;, 0.1)  </td><td style=\"text-align: right;\">0.001</td><td style=\"text-align: right;\">1.99685</td><td style=\"text-align: right;\">     1</td><td style=\"text-align: right;\">         4.698  </td></tr>\n",
              "</tbody>\n",
              "</table><br>... 16 more trials not shown (10 PENDING, 5 TERMINATED)<br><br>"
            ],
            "text/plain": [
              "<IPython.core.display.HTML object>"
            ]
          },
          "metadata": {
            "tags": []
          }
        },
        {
          "output_type": "stream",
          "text": [
            "2021-05-25 07:20:03,968\tINFO logger.py:690 -- Removed the following hyperparameter values when logging to tensorboard: {'loss_param': ('MAEAUC', 10)}\n"
          ],
          "name": "stderr"
        },
        {
          "output_type": "stream",
          "text": [
            "Result for DEFAULT_5d087_00015:\n",
            "  date: 2021-05-25_07-20-03\n",
            "  done: true\n",
            "  experiment_id: 8d2d57d99662450d8dec6ae5dcc808f6\n",
            "  experiment_tag: 15_batch_size=256,latent_dim=35,loss_param=('MAEAUC', 10),lr=0.001\n",
            "  hostname: d76bb801c9dd\n",
            "  iterations_since_restore: 1\n",
            "  mean_accuracy: 2.0374852418899536\n",
            "  node_ip: 172.28.0.2\n",
            "  pid: 983\n",
            "  should_checkpoint: true\n",
            "  time_since_restore: 4.657319068908691\n",
            "  time_this_iter_s: 4.657319068908691\n",
            "  time_total_s: 4.657319068908691\n",
            "  timestamp: 1621927203\n",
            "  timesteps_since_restore: 0\n",
            "  training_iteration: 1\n",
            "  trial_id: 5d087_00015\n",
            "  \n"
          ],
          "name": "stdout"
        },
        {
          "output_type": "stream",
          "text": [
            "\u001b[2m\u001b[33m(raylet)\u001b[0m /usr/local/lib/python3.7/dist-packages/ray/autoscaler/_private/cli_logger.py:61: FutureWarning: Not all Ray CLI dependencies were found. In Ray 1.4+, the Ray CLI, autoscaler, and dashboard will only be usable via `pip install 'ray[default]'`. Please update your install command.\n",
            "\u001b[2m\u001b[33m(raylet)\u001b[0m   \"update your install command.\", FutureWarning)\n"
          ],
          "name": "stderr"
        },
        {
          "output_type": "stream",
          "text": [
            "\u001b[2m\u001b[36m(pid=1011)\u001b[0m Operation will be on *****GPU-CUDA***** \n"
          ],
          "name": "stdout"
        },
        {
          "output_type": "stream",
          "text": [
            "\u001b[2m\u001b[36m(pid=1011)\u001b[0m /usr/local/lib/python3.7/dist-packages/sklearn/model_selection/_split.py:667: UserWarning: The least populated class in y has only 2 members, which is less than n_splits=5.\n",
            "\u001b[2m\u001b[36m(pid=1011)\u001b[0m   % (min_groups, self.n_splits)), UserWarning)\n",
            "\u001b[2m\u001b[36m(pid=1011)\u001b[0m /usr/local/lib/python3.7/dist-packages/sklearn/model_selection/_split.py:667: UserWarning: The least populated class in y has only 2 members, which is less than n_splits=5.\n",
            "\u001b[2m\u001b[36m(pid=1011)\u001b[0m   % (min_groups, self.n_splits)), UserWarning)\n",
            "\u001b[2m\u001b[36m(pid=1011)\u001b[0m /usr/local/lib/python3.7/dist-packages/sklearn/model_selection/_split.py:667: UserWarning: The least populated class in y has only 2 members, which is less than n_splits=5.\n",
            "\u001b[2m\u001b[36m(pid=1011)\u001b[0m   % (min_groups, self.n_splits)), UserWarning)\n"
          ],
          "name": "stderr"
        },
        {
          "output_type": "stream",
          "text": [
            "Result for DEFAULT_5d087_00016:\n",
            "  date: 2021-05-25_07-20-10\n",
            "  done: false\n",
            "  experiment_id: dce53aa57b5f42c28333b9bccb4c35f2\n",
            "  hostname: d76bb801c9dd\n",
            "  iterations_since_restore: 1\n",
            "  mean_accuracy: 2.059616446495056\n",
            "  node_ip: 172.28.0.2\n",
            "  pid: 1011\n",
            "  should_checkpoint: true\n",
            "  time_since_restore: 4.651840448379517\n",
            "  time_this_iter_s: 4.651840448379517\n",
            "  time_total_s: 4.651840448379517\n",
            "  timestamp: 1621927210\n",
            "  timesteps_since_restore: 0\n",
            "  training_iteration: 1\n",
            "  trial_id: 5d087_00016\n",
            "  \n"
          ],
          "name": "stdout"
        },
        {
          "output_type": "display_data",
          "data": {
            "text/html": [
              "== Status ==<br>Memory usage on this node: 2.9/12.7 GiB<br>Using FIFO scheduling algorithm.<br>Resources requested: 2.0/2 CPUs, 1.0/1 GPUs, 0.0/7.33 GiB heap, 0.0/3.67 GiB objects (0.0/1.0 accelerator_type:T4)<br>Result logdir: /content/drive/MyDrive/RecAE/experiments/ECG_5000<br>Number of trials: 36/36 (19 PENDING, 1 RUNNING, 16 TERMINATED)<br><table>\n",
              "<thead>\n",
              "<tr><th>Trial name         </th><th>status    </th><th>loc            </th><th style=\"text-align: right;\">  batch_size</th><th style=\"text-align: right;\">  latent_dim</th><th>loss_param       </th><th style=\"text-align: right;\">   lr</th><th style=\"text-align: right;\">    acc</th><th style=\"text-align: right;\">  iter</th><th style=\"text-align: right;\">  total time (s)</th></tr>\n",
              "</thead>\n",
              "<tbody>\n",
              "<tr><td>DEFAULT_5d087_00016</td><td>RUNNING   </td><td>172.28.0.2:1011</td><td style=\"text-align: right;\">         256</td><td style=\"text-align: right;\">          70</td><td>(&#x27;MAEAUC&#x27;, 10)   </td><td style=\"text-align: right;\">0.001</td><td style=\"text-align: right;\">2.05962</td><td style=\"text-align: right;\">     1</td><td style=\"text-align: right;\">         4.65184</td></tr>\n",
              "<tr><td>DEFAULT_5d087_00017</td><td>PENDING   </td><td>               </td><td style=\"text-align: right;\">         256</td><td style=\"text-align: right;\">         105</td><td>(&#x27;MAEAUC&#x27;, 10)   </td><td style=\"text-align: right;\">0.001</td><td style=\"text-align: right;\">       </td><td style=\"text-align: right;\">      </td><td style=\"text-align: right;\">                </td></tr>\n",
              "<tr><td>DEFAULT_5d087_00018</td><td>PENDING   </td><td>               </td><td style=\"text-align: right;\">         256</td><td style=\"text-align: right;\">          35</td><td>(&#x27;MAE&#x27;, 0)       </td><td style=\"text-align: right;\">0.01 </td><td style=\"text-align: right;\">       </td><td style=\"text-align: right;\">      </td><td style=\"text-align: right;\">                </td></tr>\n",
              "<tr><td>DEFAULT_5d087_00019</td><td>PENDING   </td><td>               </td><td style=\"text-align: right;\">         256</td><td style=\"text-align: right;\">          70</td><td>(&#x27;MAE&#x27;, 0)       </td><td style=\"text-align: right;\">0.01 </td><td style=\"text-align: right;\">       </td><td style=\"text-align: right;\">      </td><td style=\"text-align: right;\">                </td></tr>\n",
              "<tr><td>DEFAULT_5d087_00020</td><td>PENDING   </td><td>               </td><td style=\"text-align: right;\">         256</td><td style=\"text-align: right;\">         105</td><td>(&#x27;MAE&#x27;, 0)       </td><td style=\"text-align: right;\">0.01 </td><td style=\"text-align: right;\">       </td><td style=\"text-align: right;\">      </td><td style=\"text-align: right;\">                </td></tr>\n",
              "<tr><td>DEFAULT_5d087_00021</td><td>PENDING   </td><td>               </td><td style=\"text-align: right;\">         256</td><td style=\"text-align: right;\">          35</td><td>(&#x27;MAEAUC&#x27;, 0.001)</td><td style=\"text-align: right;\">0.01 </td><td style=\"text-align: right;\">       </td><td style=\"text-align: right;\">      </td><td style=\"text-align: right;\">                </td></tr>\n",
              "<tr><td>DEFAULT_5d087_00022</td><td>PENDING   </td><td>               </td><td style=\"text-align: right;\">         256</td><td style=\"text-align: right;\">          70</td><td>(&#x27;MAEAUC&#x27;, 0.001)</td><td style=\"text-align: right;\">0.01 </td><td style=\"text-align: right;\">       </td><td style=\"text-align: right;\">      </td><td style=\"text-align: right;\">                </td></tr>\n",
              "<tr><td>DEFAULT_5d087_00023</td><td>PENDING   </td><td>               </td><td style=\"text-align: right;\">         256</td><td style=\"text-align: right;\">         105</td><td>(&#x27;MAEAUC&#x27;, 0.001)</td><td style=\"text-align: right;\">0.01 </td><td style=\"text-align: right;\">       </td><td style=\"text-align: right;\">      </td><td style=\"text-align: right;\">                </td></tr>\n",
              "<tr><td>DEFAULT_5d087_00024</td><td>PENDING   </td><td>               </td><td style=\"text-align: right;\">         256</td><td style=\"text-align: right;\">          35</td><td>(&#x27;MAEAUC&#x27;, 0.01) </td><td style=\"text-align: right;\">0.01 </td><td style=\"text-align: right;\">       </td><td style=\"text-align: right;\">      </td><td style=\"text-align: right;\">                </td></tr>\n",
              "<tr><td>DEFAULT_5d087_00025</td><td>PENDING   </td><td>               </td><td style=\"text-align: right;\">         256</td><td style=\"text-align: right;\">          70</td><td>(&#x27;MAEAUC&#x27;, 0.01) </td><td style=\"text-align: right;\">0.01 </td><td style=\"text-align: right;\">       </td><td style=\"text-align: right;\">      </td><td style=\"text-align: right;\">                </td></tr>\n",
              "<tr><td>DEFAULT_5d087_00026</td><td>PENDING   </td><td>               </td><td style=\"text-align: right;\">         256</td><td style=\"text-align: right;\">         105</td><td>(&#x27;MAEAUC&#x27;, 0.01) </td><td style=\"text-align: right;\">0.01 </td><td style=\"text-align: right;\">       </td><td style=\"text-align: right;\">      </td><td style=\"text-align: right;\">                </td></tr>\n",
              "<tr><td>DEFAULT_5d087_00000</td><td>TERMINATED</td><td>               </td><td style=\"text-align: right;\">         256</td><td style=\"text-align: right;\">          35</td><td>(&#x27;MAE&#x27;, 0)       </td><td style=\"text-align: right;\">0.001</td><td style=\"text-align: right;\">1.99559</td><td style=\"text-align: right;\">     1</td><td style=\"text-align: right;\">        12.3246 </td></tr>\n",
              "<tr><td>DEFAULT_5d087_00001</td><td>TERMINATED</td><td>               </td><td style=\"text-align: right;\">         256</td><td style=\"text-align: right;\">          70</td><td>(&#x27;MAE&#x27;, 0)       </td><td style=\"text-align: right;\">0.001</td><td style=\"text-align: right;\">1.98247</td><td style=\"text-align: right;\">     1</td><td style=\"text-align: right;\">         4.70409</td></tr>\n",
              "<tr><td>DEFAULT_5d087_00002</td><td>TERMINATED</td><td>               </td><td style=\"text-align: right;\">         256</td><td style=\"text-align: right;\">         105</td><td>(&#x27;MAE&#x27;, 0)       </td><td style=\"text-align: right;\">0.001</td><td style=\"text-align: right;\">1.98955</td><td style=\"text-align: right;\">     1</td><td style=\"text-align: right;\">         4.80142</td></tr>\n",
              "<tr><td>DEFAULT_5d087_00003</td><td>TERMINATED</td><td>               </td><td style=\"text-align: right;\">         256</td><td style=\"text-align: right;\">          35</td><td>(&#x27;MAEAUC&#x27;, 0.001)</td><td style=\"text-align: right;\">0.001</td><td style=\"text-align: right;\">1.99573</td><td style=\"text-align: right;\">     1</td><td style=\"text-align: right;\">         4.73747</td></tr>\n",
              "<tr><td>DEFAULT_5d087_00004</td><td>TERMINATED</td><td>               </td><td style=\"text-align: right;\">         256</td><td style=\"text-align: right;\">          70</td><td>(&#x27;MAEAUC&#x27;, 0.001)</td><td style=\"text-align: right;\">0.001</td><td style=\"text-align: right;\">1.99686</td><td style=\"text-align: right;\">     1</td><td style=\"text-align: right;\">         4.74517</td></tr>\n",
              "<tr><td>DEFAULT_5d087_00005</td><td>TERMINATED</td><td>               </td><td style=\"text-align: right;\">         256</td><td style=\"text-align: right;\">         105</td><td>(&#x27;MAEAUC&#x27;, 0.001)</td><td style=\"text-align: right;\">0.001</td><td style=\"text-align: right;\">1.97942</td><td style=\"text-align: right;\">     1</td><td style=\"text-align: right;\">         4.70129</td></tr>\n",
              "<tr><td>DEFAULT_5d087_00006</td><td>TERMINATED</td><td>               </td><td style=\"text-align: right;\">         256</td><td style=\"text-align: right;\">          35</td><td>(&#x27;MAEAUC&#x27;, 0.01) </td><td style=\"text-align: right;\">0.001</td><td style=\"text-align: right;\">1.99736</td><td style=\"text-align: right;\">     1</td><td style=\"text-align: right;\">         4.59657</td></tr>\n",
              "<tr><td>DEFAULT_5d087_00007</td><td>TERMINATED</td><td>               </td><td style=\"text-align: right;\">         256</td><td style=\"text-align: right;\">          70</td><td>(&#x27;MAEAUC&#x27;, 0.01) </td><td style=\"text-align: right;\">0.001</td><td style=\"text-align: right;\">1.99013</td><td style=\"text-align: right;\">     1</td><td style=\"text-align: right;\">         4.67644</td></tr>\n",
              "<tr><td>DEFAULT_5d087_00008</td><td>TERMINATED</td><td>               </td><td style=\"text-align: right;\">         256</td><td style=\"text-align: right;\">         105</td><td>(&#x27;MAEAUC&#x27;, 0.01) </td><td style=\"text-align: right;\">0.001</td><td style=\"text-align: right;\">1.97145</td><td style=\"text-align: right;\">     1</td><td style=\"text-align: right;\">         4.66659</td></tr>\n",
              "<tr><td>DEFAULT_5d087_00009</td><td>TERMINATED</td><td>               </td><td style=\"text-align: right;\">         256</td><td style=\"text-align: right;\">          35</td><td>(&#x27;MAEAUC&#x27;, 0.1)  </td><td style=\"text-align: right;\">0.001</td><td style=\"text-align: right;\">1.99685</td><td style=\"text-align: right;\">     1</td><td style=\"text-align: right;\">         4.698  </td></tr>\n",
              "</tbody>\n",
              "</table><br>... 16 more trials not shown (9 PENDING, 6 TERMINATED)<br><br>"
            ],
            "text/plain": [
              "<IPython.core.display.HTML object>"
            ]
          },
          "metadata": {
            "tags": []
          }
        },
        {
          "output_type": "stream",
          "text": [
            "2021-05-25 07:20:10,509\tINFO logger.py:690 -- Removed the following hyperparameter values when logging to tensorboard: {'loss_param': ('MAEAUC', 10)}\n"
          ],
          "name": "stderr"
        },
        {
          "output_type": "stream",
          "text": [
            "Result for DEFAULT_5d087_00016:\n",
            "  date: 2021-05-25_07-20-10\n",
            "  done: true\n",
            "  experiment_id: dce53aa57b5f42c28333b9bccb4c35f2\n",
            "  experiment_tag: 16_batch_size=256,latent_dim=70,loss_param=('MAEAUC', 10),lr=0.001\n",
            "  hostname: d76bb801c9dd\n",
            "  iterations_since_restore: 1\n",
            "  mean_accuracy: 2.059616446495056\n",
            "  node_ip: 172.28.0.2\n",
            "  pid: 1011\n",
            "  should_checkpoint: true\n",
            "  time_since_restore: 4.651840448379517\n",
            "  time_this_iter_s: 4.651840448379517\n",
            "  time_total_s: 4.651840448379517\n",
            "  timestamp: 1621927210\n",
            "  timesteps_since_restore: 0\n",
            "  training_iteration: 1\n",
            "  trial_id: 5d087_00016\n",
            "  \n"
          ],
          "name": "stdout"
        },
        {
          "output_type": "stream",
          "text": [
            "\u001b[2m\u001b[33m(raylet)\u001b[0m /usr/local/lib/python3.7/dist-packages/ray/autoscaler/_private/cli_logger.py:61: FutureWarning: Not all Ray CLI dependencies were found. In Ray 1.4+, the Ray CLI, autoscaler, and dashboard will only be usable via `pip install 'ray[default]'`. Please update your install command.\n",
            "\u001b[2m\u001b[33m(raylet)\u001b[0m   \"update your install command.\", FutureWarning)\n"
          ],
          "name": "stderr"
        },
        {
          "output_type": "stream",
          "text": [
            "\u001b[2m\u001b[36m(pid=1037)\u001b[0m Operation will be on *****GPU-CUDA***** \n"
          ],
          "name": "stdout"
        },
        {
          "output_type": "stream",
          "text": [
            "\u001b[2m\u001b[36m(pid=1037)\u001b[0m /usr/local/lib/python3.7/dist-packages/sklearn/model_selection/_split.py:667: UserWarning: The least populated class in y has only 2 members, which is less than n_splits=5.\n",
            "\u001b[2m\u001b[36m(pid=1037)\u001b[0m   % (min_groups, self.n_splits)), UserWarning)\n",
            "\u001b[2m\u001b[36m(pid=1037)\u001b[0m /usr/local/lib/python3.7/dist-packages/sklearn/model_selection/_split.py:667: UserWarning: The least populated class in y has only 2 members, which is less than n_splits=5.\n",
            "\u001b[2m\u001b[36m(pid=1037)\u001b[0m   % (min_groups, self.n_splits)), UserWarning)\n",
            "\u001b[2m\u001b[36m(pid=1037)\u001b[0m /usr/local/lib/python3.7/dist-packages/sklearn/model_selection/_split.py:667: UserWarning: The least populated class in y has only 2 members, which is less than n_splits=5.\n",
            "\u001b[2m\u001b[36m(pid=1037)\u001b[0m   % (min_groups, self.n_splits)), UserWarning)\n"
          ],
          "name": "stderr"
        },
        {
          "output_type": "stream",
          "text": [
            "Result for DEFAULT_5d087_00017:\n",
            "  date: 2021-05-25_07-20-17\n",
            "  done: false\n",
            "  experiment_id: 13bd2b85e1684b55a3191da092c7e0ac\n",
            "  hostname: d76bb801c9dd\n",
            "  iterations_since_restore: 1\n",
            "  mean_accuracy: 2.157340705394745\n",
            "  node_ip: 172.28.0.2\n",
            "  pid: 1037\n",
            "  should_checkpoint: true\n",
            "  time_since_restore: 4.661738395690918\n",
            "  time_this_iter_s: 4.661738395690918\n",
            "  time_total_s: 4.661738395690918\n",
            "  timestamp: 1621927217\n",
            "  timesteps_since_restore: 0\n",
            "  training_iteration: 1\n",
            "  trial_id: 5d087_00017\n",
            "  \n"
          ],
          "name": "stdout"
        },
        {
          "output_type": "display_data",
          "data": {
            "text/html": [
              "== Status ==<br>Memory usage on this node: 2.9/12.7 GiB<br>Using FIFO scheduling algorithm.<br>Resources requested: 2.0/2 CPUs, 1.0/1 GPUs, 0.0/7.33 GiB heap, 0.0/3.67 GiB objects (0.0/1.0 accelerator_type:T4)<br>Result logdir: /content/drive/MyDrive/RecAE/experiments/ECG_5000<br>Number of trials: 36/36 (18 PENDING, 1 RUNNING, 17 TERMINATED)<br><table>\n",
              "<thead>\n",
              "<tr><th>Trial name         </th><th>status    </th><th>loc            </th><th style=\"text-align: right;\">  batch_size</th><th style=\"text-align: right;\">  latent_dim</th><th>loss_param       </th><th style=\"text-align: right;\">   lr</th><th style=\"text-align: right;\">    acc</th><th style=\"text-align: right;\">  iter</th><th style=\"text-align: right;\">  total time (s)</th></tr>\n",
              "</thead>\n",
              "<tbody>\n",
              "<tr><td>DEFAULT_5d087_00017</td><td>RUNNING   </td><td>172.28.0.2:1037</td><td style=\"text-align: right;\">         256</td><td style=\"text-align: right;\">         105</td><td>(&#x27;MAEAUC&#x27;, 10)   </td><td style=\"text-align: right;\">0.001</td><td style=\"text-align: right;\">2.15734</td><td style=\"text-align: right;\">     1</td><td style=\"text-align: right;\">         4.66174</td></tr>\n",
              "<tr><td>DEFAULT_5d087_00018</td><td>PENDING   </td><td>               </td><td style=\"text-align: right;\">         256</td><td style=\"text-align: right;\">          35</td><td>(&#x27;MAE&#x27;, 0)       </td><td style=\"text-align: right;\">0.01 </td><td style=\"text-align: right;\">       </td><td style=\"text-align: right;\">      </td><td style=\"text-align: right;\">                </td></tr>\n",
              "<tr><td>DEFAULT_5d087_00019</td><td>PENDING   </td><td>               </td><td style=\"text-align: right;\">         256</td><td style=\"text-align: right;\">          70</td><td>(&#x27;MAE&#x27;, 0)       </td><td style=\"text-align: right;\">0.01 </td><td style=\"text-align: right;\">       </td><td style=\"text-align: right;\">      </td><td style=\"text-align: right;\">                </td></tr>\n",
              "<tr><td>DEFAULT_5d087_00020</td><td>PENDING   </td><td>               </td><td style=\"text-align: right;\">         256</td><td style=\"text-align: right;\">         105</td><td>(&#x27;MAE&#x27;, 0)       </td><td style=\"text-align: right;\">0.01 </td><td style=\"text-align: right;\">       </td><td style=\"text-align: right;\">      </td><td style=\"text-align: right;\">                </td></tr>\n",
              "<tr><td>DEFAULT_5d087_00021</td><td>PENDING   </td><td>               </td><td style=\"text-align: right;\">         256</td><td style=\"text-align: right;\">          35</td><td>(&#x27;MAEAUC&#x27;, 0.001)</td><td style=\"text-align: right;\">0.01 </td><td style=\"text-align: right;\">       </td><td style=\"text-align: right;\">      </td><td style=\"text-align: right;\">                </td></tr>\n",
              "<tr><td>DEFAULT_5d087_00022</td><td>PENDING   </td><td>               </td><td style=\"text-align: right;\">         256</td><td style=\"text-align: right;\">          70</td><td>(&#x27;MAEAUC&#x27;, 0.001)</td><td style=\"text-align: right;\">0.01 </td><td style=\"text-align: right;\">       </td><td style=\"text-align: right;\">      </td><td style=\"text-align: right;\">                </td></tr>\n",
              "<tr><td>DEFAULT_5d087_00023</td><td>PENDING   </td><td>               </td><td style=\"text-align: right;\">         256</td><td style=\"text-align: right;\">         105</td><td>(&#x27;MAEAUC&#x27;, 0.001)</td><td style=\"text-align: right;\">0.01 </td><td style=\"text-align: right;\">       </td><td style=\"text-align: right;\">      </td><td style=\"text-align: right;\">                </td></tr>\n",
              "<tr><td>DEFAULT_5d087_00024</td><td>PENDING   </td><td>               </td><td style=\"text-align: right;\">         256</td><td style=\"text-align: right;\">          35</td><td>(&#x27;MAEAUC&#x27;, 0.01) </td><td style=\"text-align: right;\">0.01 </td><td style=\"text-align: right;\">       </td><td style=\"text-align: right;\">      </td><td style=\"text-align: right;\">                </td></tr>\n",
              "<tr><td>DEFAULT_5d087_00025</td><td>PENDING   </td><td>               </td><td style=\"text-align: right;\">         256</td><td style=\"text-align: right;\">          70</td><td>(&#x27;MAEAUC&#x27;, 0.01) </td><td style=\"text-align: right;\">0.01 </td><td style=\"text-align: right;\">       </td><td style=\"text-align: right;\">      </td><td style=\"text-align: right;\">                </td></tr>\n",
              "<tr><td>DEFAULT_5d087_00026</td><td>PENDING   </td><td>               </td><td style=\"text-align: right;\">         256</td><td style=\"text-align: right;\">         105</td><td>(&#x27;MAEAUC&#x27;, 0.01) </td><td style=\"text-align: right;\">0.01 </td><td style=\"text-align: right;\">       </td><td style=\"text-align: right;\">      </td><td style=\"text-align: right;\">                </td></tr>\n",
              "<tr><td>DEFAULT_5d087_00027</td><td>PENDING   </td><td>               </td><td style=\"text-align: right;\">         256</td><td style=\"text-align: right;\">          35</td><td>(&#x27;MAEAUC&#x27;, 0.1)  </td><td style=\"text-align: right;\">0.01 </td><td style=\"text-align: right;\">       </td><td style=\"text-align: right;\">      </td><td style=\"text-align: right;\">                </td></tr>\n",
              "<tr><td>DEFAULT_5d087_00000</td><td>TERMINATED</td><td>               </td><td style=\"text-align: right;\">         256</td><td style=\"text-align: right;\">          35</td><td>(&#x27;MAE&#x27;, 0)       </td><td style=\"text-align: right;\">0.001</td><td style=\"text-align: right;\">1.99559</td><td style=\"text-align: right;\">     1</td><td style=\"text-align: right;\">        12.3246 </td></tr>\n",
              "<tr><td>DEFAULT_5d087_00001</td><td>TERMINATED</td><td>               </td><td style=\"text-align: right;\">         256</td><td style=\"text-align: right;\">          70</td><td>(&#x27;MAE&#x27;, 0)       </td><td style=\"text-align: right;\">0.001</td><td style=\"text-align: right;\">1.98247</td><td style=\"text-align: right;\">     1</td><td style=\"text-align: right;\">         4.70409</td></tr>\n",
              "<tr><td>DEFAULT_5d087_00002</td><td>TERMINATED</td><td>               </td><td style=\"text-align: right;\">         256</td><td style=\"text-align: right;\">         105</td><td>(&#x27;MAE&#x27;, 0)       </td><td style=\"text-align: right;\">0.001</td><td style=\"text-align: right;\">1.98955</td><td style=\"text-align: right;\">     1</td><td style=\"text-align: right;\">         4.80142</td></tr>\n",
              "<tr><td>DEFAULT_5d087_00003</td><td>TERMINATED</td><td>               </td><td style=\"text-align: right;\">         256</td><td style=\"text-align: right;\">          35</td><td>(&#x27;MAEAUC&#x27;, 0.001)</td><td style=\"text-align: right;\">0.001</td><td style=\"text-align: right;\">1.99573</td><td style=\"text-align: right;\">     1</td><td style=\"text-align: right;\">         4.73747</td></tr>\n",
              "<tr><td>DEFAULT_5d087_00004</td><td>TERMINATED</td><td>               </td><td style=\"text-align: right;\">         256</td><td style=\"text-align: right;\">          70</td><td>(&#x27;MAEAUC&#x27;, 0.001)</td><td style=\"text-align: right;\">0.001</td><td style=\"text-align: right;\">1.99686</td><td style=\"text-align: right;\">     1</td><td style=\"text-align: right;\">         4.74517</td></tr>\n",
              "<tr><td>DEFAULT_5d087_00005</td><td>TERMINATED</td><td>               </td><td style=\"text-align: right;\">         256</td><td style=\"text-align: right;\">         105</td><td>(&#x27;MAEAUC&#x27;, 0.001)</td><td style=\"text-align: right;\">0.001</td><td style=\"text-align: right;\">1.97942</td><td style=\"text-align: right;\">     1</td><td style=\"text-align: right;\">         4.70129</td></tr>\n",
              "<tr><td>DEFAULT_5d087_00006</td><td>TERMINATED</td><td>               </td><td style=\"text-align: right;\">         256</td><td style=\"text-align: right;\">          35</td><td>(&#x27;MAEAUC&#x27;, 0.01) </td><td style=\"text-align: right;\">0.001</td><td style=\"text-align: right;\">1.99736</td><td style=\"text-align: right;\">     1</td><td style=\"text-align: right;\">         4.59657</td></tr>\n",
              "<tr><td>DEFAULT_5d087_00007</td><td>TERMINATED</td><td>               </td><td style=\"text-align: right;\">         256</td><td style=\"text-align: right;\">          70</td><td>(&#x27;MAEAUC&#x27;, 0.01) </td><td style=\"text-align: right;\">0.001</td><td style=\"text-align: right;\">1.99013</td><td style=\"text-align: right;\">     1</td><td style=\"text-align: right;\">         4.67644</td></tr>\n",
              "<tr><td>DEFAULT_5d087_00008</td><td>TERMINATED</td><td>               </td><td style=\"text-align: right;\">         256</td><td style=\"text-align: right;\">         105</td><td>(&#x27;MAEAUC&#x27;, 0.01) </td><td style=\"text-align: right;\">0.001</td><td style=\"text-align: right;\">1.97145</td><td style=\"text-align: right;\">     1</td><td style=\"text-align: right;\">         4.66659</td></tr>\n",
              "<tr><td>DEFAULT_5d087_00009</td><td>TERMINATED</td><td>               </td><td style=\"text-align: right;\">         256</td><td style=\"text-align: right;\">          35</td><td>(&#x27;MAEAUC&#x27;, 0.1)  </td><td style=\"text-align: right;\">0.001</td><td style=\"text-align: right;\">1.99685</td><td style=\"text-align: right;\">     1</td><td style=\"text-align: right;\">         4.698  </td></tr>\n",
              "</tbody>\n",
              "</table><br>... 16 more trials not shown (8 PENDING, 7 TERMINATED)<br><br>"
            ],
            "text/plain": [
              "<IPython.core.display.HTML object>"
            ]
          },
          "metadata": {
            "tags": []
          }
        },
        {
          "output_type": "stream",
          "text": [
            "2021-05-25 07:20:17,086\tINFO logger.py:690 -- Removed the following hyperparameter values when logging to tensorboard: {'loss_param': ('MAEAUC', 10)}\n"
          ],
          "name": "stderr"
        },
        {
          "output_type": "stream",
          "text": [
            "Result for DEFAULT_5d087_00017:\n",
            "  date: 2021-05-25_07-20-17\n",
            "  done: true\n",
            "  experiment_id: 13bd2b85e1684b55a3191da092c7e0ac\n",
            "  experiment_tag: 17_batch_size=256,latent_dim=105,loss_param=('MAEAUC', 10),lr=0.001\n",
            "  hostname: d76bb801c9dd\n",
            "  iterations_since_restore: 1\n",
            "  mean_accuracy: 2.157340705394745\n",
            "  node_ip: 172.28.0.2\n",
            "  pid: 1037\n",
            "  should_checkpoint: true\n",
            "  time_since_restore: 4.661738395690918\n",
            "  time_this_iter_s: 4.661738395690918\n",
            "  time_total_s: 4.661738395690918\n",
            "  timestamp: 1621927217\n",
            "  timesteps_since_restore: 0\n",
            "  training_iteration: 1\n",
            "  trial_id: 5d087_00017\n",
            "  \n"
          ],
          "name": "stdout"
        },
        {
          "output_type": "stream",
          "text": [
            "\u001b[2m\u001b[33m(raylet)\u001b[0m /usr/local/lib/python3.7/dist-packages/ray/autoscaler/_private/cli_logger.py:61: FutureWarning: Not all Ray CLI dependencies were found. In Ray 1.4+, the Ray CLI, autoscaler, and dashboard will only be usable via `pip install 'ray[default]'`. Please update your install command.\n",
            "\u001b[2m\u001b[33m(raylet)\u001b[0m   \"update your install command.\", FutureWarning)\n"
          ],
          "name": "stderr"
        },
        {
          "output_type": "stream",
          "text": [
            "\u001b[2m\u001b[36m(pid=1065)\u001b[0m Operation will be on *****GPU-CUDA***** \n",
            "Result for DEFAULT_5d087_00018:\n",
            "  date: 2021-05-25_07-20-23\n",
            "  done: false\n",
            "  experiment_id: bfa215e4de124909a9d2860dc49b65c9\n",
            "  hostname: d76bb801c9dd\n",
            "  iterations_since_restore: 1\n",
            "  mean_accuracy: 1.9082365036010742\n",
            "  node_ip: 172.28.0.2\n",
            "  pid: 1065\n",
            "  should_checkpoint: true\n",
            "  time_since_restore: 4.680803537368774\n",
            "  time_this_iter_s: 4.680803537368774\n",
            "  time_total_s: 4.680803537368774\n",
            "  timestamp: 1621927223\n",
            "  timesteps_since_restore: 0\n",
            "  training_iteration: 1\n",
            "  trial_id: 5d087_00018\n",
            "  \n"
          ],
          "name": "stdout"
        },
        {
          "output_type": "display_data",
          "data": {
            "text/html": [
              "== Status ==<br>Memory usage on this node: 2.9/12.7 GiB<br>Using FIFO scheduling algorithm.<br>Resources requested: 2.0/2 CPUs, 1.0/1 GPUs, 0.0/7.33 GiB heap, 0.0/3.67 GiB objects (0.0/1.0 accelerator_type:T4)<br>Result logdir: /content/drive/MyDrive/RecAE/experiments/ECG_5000<br>Number of trials: 36/36 (17 PENDING, 1 RUNNING, 18 TERMINATED)<br><table>\n",
              "<thead>\n",
              "<tr><th>Trial name         </th><th>status    </th><th>loc            </th><th style=\"text-align: right;\">  batch_size</th><th style=\"text-align: right;\">  latent_dim</th><th>loss_param       </th><th style=\"text-align: right;\">   lr</th><th style=\"text-align: right;\">    acc</th><th style=\"text-align: right;\">  iter</th><th style=\"text-align: right;\">  total time (s)</th></tr>\n",
              "</thead>\n",
              "<tbody>\n",
              "<tr><td>DEFAULT_5d087_00018</td><td>RUNNING   </td><td>172.28.0.2:1065</td><td style=\"text-align: right;\">         256</td><td style=\"text-align: right;\">          35</td><td>(&#x27;MAE&#x27;, 0)       </td><td style=\"text-align: right;\">0.01 </td><td style=\"text-align: right;\">1.90824</td><td style=\"text-align: right;\">     1</td><td style=\"text-align: right;\">         4.6808 </td></tr>\n",
              "<tr><td>DEFAULT_5d087_00019</td><td>PENDING   </td><td>               </td><td style=\"text-align: right;\">         256</td><td style=\"text-align: right;\">          70</td><td>(&#x27;MAE&#x27;, 0)       </td><td style=\"text-align: right;\">0.01 </td><td style=\"text-align: right;\">       </td><td style=\"text-align: right;\">      </td><td style=\"text-align: right;\">                </td></tr>\n",
              "<tr><td>DEFAULT_5d087_00020</td><td>PENDING   </td><td>               </td><td style=\"text-align: right;\">         256</td><td style=\"text-align: right;\">         105</td><td>(&#x27;MAE&#x27;, 0)       </td><td style=\"text-align: right;\">0.01 </td><td style=\"text-align: right;\">       </td><td style=\"text-align: right;\">      </td><td style=\"text-align: right;\">                </td></tr>\n",
              "<tr><td>DEFAULT_5d087_00021</td><td>PENDING   </td><td>               </td><td style=\"text-align: right;\">         256</td><td style=\"text-align: right;\">          35</td><td>(&#x27;MAEAUC&#x27;, 0.001)</td><td style=\"text-align: right;\">0.01 </td><td style=\"text-align: right;\">       </td><td style=\"text-align: right;\">      </td><td style=\"text-align: right;\">                </td></tr>\n",
              "<tr><td>DEFAULT_5d087_00022</td><td>PENDING   </td><td>               </td><td style=\"text-align: right;\">         256</td><td style=\"text-align: right;\">          70</td><td>(&#x27;MAEAUC&#x27;, 0.001)</td><td style=\"text-align: right;\">0.01 </td><td style=\"text-align: right;\">       </td><td style=\"text-align: right;\">      </td><td style=\"text-align: right;\">                </td></tr>\n",
              "<tr><td>DEFAULT_5d087_00023</td><td>PENDING   </td><td>               </td><td style=\"text-align: right;\">         256</td><td style=\"text-align: right;\">         105</td><td>(&#x27;MAEAUC&#x27;, 0.001)</td><td style=\"text-align: right;\">0.01 </td><td style=\"text-align: right;\">       </td><td style=\"text-align: right;\">      </td><td style=\"text-align: right;\">                </td></tr>\n",
              "<tr><td>DEFAULT_5d087_00024</td><td>PENDING   </td><td>               </td><td style=\"text-align: right;\">         256</td><td style=\"text-align: right;\">          35</td><td>(&#x27;MAEAUC&#x27;, 0.01) </td><td style=\"text-align: right;\">0.01 </td><td style=\"text-align: right;\">       </td><td style=\"text-align: right;\">      </td><td style=\"text-align: right;\">                </td></tr>\n",
              "<tr><td>DEFAULT_5d087_00025</td><td>PENDING   </td><td>               </td><td style=\"text-align: right;\">         256</td><td style=\"text-align: right;\">          70</td><td>(&#x27;MAEAUC&#x27;, 0.01) </td><td style=\"text-align: right;\">0.01 </td><td style=\"text-align: right;\">       </td><td style=\"text-align: right;\">      </td><td style=\"text-align: right;\">                </td></tr>\n",
              "<tr><td>DEFAULT_5d087_00026</td><td>PENDING   </td><td>               </td><td style=\"text-align: right;\">         256</td><td style=\"text-align: right;\">         105</td><td>(&#x27;MAEAUC&#x27;, 0.01) </td><td style=\"text-align: right;\">0.01 </td><td style=\"text-align: right;\">       </td><td style=\"text-align: right;\">      </td><td style=\"text-align: right;\">                </td></tr>\n",
              "<tr><td>DEFAULT_5d087_00027</td><td>PENDING   </td><td>               </td><td style=\"text-align: right;\">         256</td><td style=\"text-align: right;\">          35</td><td>(&#x27;MAEAUC&#x27;, 0.1)  </td><td style=\"text-align: right;\">0.01 </td><td style=\"text-align: right;\">       </td><td style=\"text-align: right;\">      </td><td style=\"text-align: right;\">                </td></tr>\n",
              "<tr><td>DEFAULT_5d087_00028</td><td>PENDING   </td><td>               </td><td style=\"text-align: right;\">         256</td><td style=\"text-align: right;\">          70</td><td>(&#x27;MAEAUC&#x27;, 0.1)  </td><td style=\"text-align: right;\">0.01 </td><td style=\"text-align: right;\">       </td><td style=\"text-align: right;\">      </td><td style=\"text-align: right;\">                </td></tr>\n",
              "<tr><td>DEFAULT_5d087_00000</td><td>TERMINATED</td><td>               </td><td style=\"text-align: right;\">         256</td><td style=\"text-align: right;\">          35</td><td>(&#x27;MAE&#x27;, 0)       </td><td style=\"text-align: right;\">0.001</td><td style=\"text-align: right;\">1.99559</td><td style=\"text-align: right;\">     1</td><td style=\"text-align: right;\">        12.3246 </td></tr>\n",
              "<tr><td>DEFAULT_5d087_00001</td><td>TERMINATED</td><td>               </td><td style=\"text-align: right;\">         256</td><td style=\"text-align: right;\">          70</td><td>(&#x27;MAE&#x27;, 0)       </td><td style=\"text-align: right;\">0.001</td><td style=\"text-align: right;\">1.98247</td><td style=\"text-align: right;\">     1</td><td style=\"text-align: right;\">         4.70409</td></tr>\n",
              "<tr><td>DEFAULT_5d087_00002</td><td>TERMINATED</td><td>               </td><td style=\"text-align: right;\">         256</td><td style=\"text-align: right;\">         105</td><td>(&#x27;MAE&#x27;, 0)       </td><td style=\"text-align: right;\">0.001</td><td style=\"text-align: right;\">1.98955</td><td style=\"text-align: right;\">     1</td><td style=\"text-align: right;\">         4.80142</td></tr>\n",
              "<tr><td>DEFAULT_5d087_00003</td><td>TERMINATED</td><td>               </td><td style=\"text-align: right;\">         256</td><td style=\"text-align: right;\">          35</td><td>(&#x27;MAEAUC&#x27;, 0.001)</td><td style=\"text-align: right;\">0.001</td><td style=\"text-align: right;\">1.99573</td><td style=\"text-align: right;\">     1</td><td style=\"text-align: right;\">         4.73747</td></tr>\n",
              "<tr><td>DEFAULT_5d087_00004</td><td>TERMINATED</td><td>               </td><td style=\"text-align: right;\">         256</td><td style=\"text-align: right;\">          70</td><td>(&#x27;MAEAUC&#x27;, 0.001)</td><td style=\"text-align: right;\">0.001</td><td style=\"text-align: right;\">1.99686</td><td style=\"text-align: right;\">     1</td><td style=\"text-align: right;\">         4.74517</td></tr>\n",
              "<tr><td>DEFAULT_5d087_00005</td><td>TERMINATED</td><td>               </td><td style=\"text-align: right;\">         256</td><td style=\"text-align: right;\">         105</td><td>(&#x27;MAEAUC&#x27;, 0.001)</td><td style=\"text-align: right;\">0.001</td><td style=\"text-align: right;\">1.97942</td><td style=\"text-align: right;\">     1</td><td style=\"text-align: right;\">         4.70129</td></tr>\n",
              "<tr><td>DEFAULT_5d087_00006</td><td>TERMINATED</td><td>               </td><td style=\"text-align: right;\">         256</td><td style=\"text-align: right;\">          35</td><td>(&#x27;MAEAUC&#x27;, 0.01) </td><td style=\"text-align: right;\">0.001</td><td style=\"text-align: right;\">1.99736</td><td style=\"text-align: right;\">     1</td><td style=\"text-align: right;\">         4.59657</td></tr>\n",
              "<tr><td>DEFAULT_5d087_00007</td><td>TERMINATED</td><td>               </td><td style=\"text-align: right;\">         256</td><td style=\"text-align: right;\">          70</td><td>(&#x27;MAEAUC&#x27;, 0.01) </td><td style=\"text-align: right;\">0.001</td><td style=\"text-align: right;\">1.99013</td><td style=\"text-align: right;\">     1</td><td style=\"text-align: right;\">         4.67644</td></tr>\n",
              "<tr><td>DEFAULT_5d087_00008</td><td>TERMINATED</td><td>               </td><td style=\"text-align: right;\">         256</td><td style=\"text-align: right;\">         105</td><td>(&#x27;MAEAUC&#x27;, 0.01) </td><td style=\"text-align: right;\">0.001</td><td style=\"text-align: right;\">1.97145</td><td style=\"text-align: right;\">     1</td><td style=\"text-align: right;\">         4.66659</td></tr>\n",
              "<tr><td>DEFAULT_5d087_00009</td><td>TERMINATED</td><td>               </td><td style=\"text-align: right;\">         256</td><td style=\"text-align: right;\">          35</td><td>(&#x27;MAEAUC&#x27;, 0.1)  </td><td style=\"text-align: right;\">0.001</td><td style=\"text-align: right;\">1.99685</td><td style=\"text-align: right;\">     1</td><td style=\"text-align: right;\">         4.698  </td></tr>\n",
              "</tbody>\n",
              "</table><br>... 16 more trials not shown (7 PENDING, 8 TERMINATED)<br><br>"
            ],
            "text/plain": [
              "<IPython.core.display.HTML object>"
            ]
          },
          "metadata": {
            "tags": []
          }
        },
        {
          "output_type": "stream",
          "text": [
            "2021-05-25 07:20:23,590\tINFO logger.py:690 -- Removed the following hyperparameter values when logging to tensorboard: {'loss_param': ('MAE', 0)}\n"
          ],
          "name": "stderr"
        },
        {
          "output_type": "stream",
          "text": [
            "Result for DEFAULT_5d087_00018:\n",
            "  date: 2021-05-25_07-20-23\n",
            "  done: true\n",
            "  experiment_id: bfa215e4de124909a9d2860dc49b65c9\n",
            "  experiment_tag: 18_batch_size=256,latent_dim=35,loss_param=('MAE', 0),lr=0.01\n",
            "  hostname: d76bb801c9dd\n",
            "  iterations_since_restore: 1\n",
            "  mean_accuracy: 1.9082365036010742\n",
            "  node_ip: 172.28.0.2\n",
            "  pid: 1065\n",
            "  should_checkpoint: true\n",
            "  time_since_restore: 4.680803537368774\n",
            "  time_this_iter_s: 4.680803537368774\n",
            "  time_total_s: 4.680803537368774\n",
            "  timestamp: 1621927223\n",
            "  timesteps_since_restore: 0\n",
            "  training_iteration: 1\n",
            "  trial_id: 5d087_00018\n",
            "  \n"
          ],
          "name": "stdout"
        },
        {
          "output_type": "stream",
          "text": [
            "\u001b[2m\u001b[33m(raylet)\u001b[0m /usr/local/lib/python3.7/dist-packages/ray/autoscaler/_private/cli_logger.py:61: FutureWarning: Not all Ray CLI dependencies were found. In Ray 1.4+, the Ray CLI, autoscaler, and dashboard will only be usable via `pip install 'ray[default]'`. Please update your install command.\n",
            "\u001b[2m\u001b[33m(raylet)\u001b[0m   \"update your install command.\", FutureWarning)\n"
          ],
          "name": "stderr"
        },
        {
          "output_type": "stream",
          "text": [
            "\u001b[2m\u001b[36m(pid=1093)\u001b[0m Operation will be on *****GPU-CUDA***** \n",
            "Result for DEFAULT_5d087_00019:\n",
            "  date: 2021-05-25_07-20-30\n",
            "  done: false\n",
            "  experiment_id: 41b775fea52c4b4fa2bdc8be1c55305b\n",
            "  hostname: d76bb801c9dd\n",
            "  iterations_since_restore: 1\n",
            "  mean_accuracy: 1.8907568454742432\n",
            "  node_ip: 172.28.0.2\n",
            "  pid: 1093\n",
            "  should_checkpoint: true\n",
            "  time_since_restore: 4.89584755897522\n",
            "  time_this_iter_s: 4.89584755897522\n",
            "  time_total_s: 4.89584755897522\n",
            "  timestamp: 1621927230\n",
            "  timesteps_since_restore: 0\n",
            "  training_iteration: 1\n",
            "  trial_id: 5d087_00019\n",
            "  \n"
          ],
          "name": "stdout"
        },
        {
          "output_type": "display_data",
          "data": {
            "text/html": [
              "== Status ==<br>Memory usage on this node: 2.9/12.7 GiB<br>Using FIFO scheduling algorithm.<br>Resources requested: 2.0/2 CPUs, 1.0/1 GPUs, 0.0/7.33 GiB heap, 0.0/3.67 GiB objects (0.0/1.0 accelerator_type:T4)<br>Result logdir: /content/drive/MyDrive/RecAE/experiments/ECG_5000<br>Number of trials: 36/36 (16 PENDING, 1 RUNNING, 19 TERMINATED)<br><table>\n",
              "<thead>\n",
              "<tr><th>Trial name         </th><th>status    </th><th>loc            </th><th style=\"text-align: right;\">  batch_size</th><th style=\"text-align: right;\">  latent_dim</th><th>loss_param       </th><th style=\"text-align: right;\">   lr</th><th style=\"text-align: right;\">    acc</th><th style=\"text-align: right;\">  iter</th><th style=\"text-align: right;\">  total time (s)</th></tr>\n",
              "</thead>\n",
              "<tbody>\n",
              "<tr><td>DEFAULT_5d087_00019</td><td>RUNNING   </td><td>172.28.0.2:1093</td><td style=\"text-align: right;\">         256</td><td style=\"text-align: right;\">          70</td><td>(&#x27;MAE&#x27;, 0)       </td><td style=\"text-align: right;\">0.01 </td><td style=\"text-align: right;\">1.89076</td><td style=\"text-align: right;\">     1</td><td style=\"text-align: right;\">         4.89585</td></tr>\n",
              "<tr><td>DEFAULT_5d087_00020</td><td>PENDING   </td><td>               </td><td style=\"text-align: right;\">         256</td><td style=\"text-align: right;\">         105</td><td>(&#x27;MAE&#x27;, 0)       </td><td style=\"text-align: right;\">0.01 </td><td style=\"text-align: right;\">       </td><td style=\"text-align: right;\">      </td><td style=\"text-align: right;\">                </td></tr>\n",
              "<tr><td>DEFAULT_5d087_00021</td><td>PENDING   </td><td>               </td><td style=\"text-align: right;\">         256</td><td style=\"text-align: right;\">          35</td><td>(&#x27;MAEAUC&#x27;, 0.001)</td><td style=\"text-align: right;\">0.01 </td><td style=\"text-align: right;\">       </td><td style=\"text-align: right;\">      </td><td style=\"text-align: right;\">                </td></tr>\n",
              "<tr><td>DEFAULT_5d087_00022</td><td>PENDING   </td><td>               </td><td style=\"text-align: right;\">         256</td><td style=\"text-align: right;\">          70</td><td>(&#x27;MAEAUC&#x27;, 0.001)</td><td style=\"text-align: right;\">0.01 </td><td style=\"text-align: right;\">       </td><td style=\"text-align: right;\">      </td><td style=\"text-align: right;\">                </td></tr>\n",
              "<tr><td>DEFAULT_5d087_00023</td><td>PENDING   </td><td>               </td><td style=\"text-align: right;\">         256</td><td style=\"text-align: right;\">         105</td><td>(&#x27;MAEAUC&#x27;, 0.001)</td><td style=\"text-align: right;\">0.01 </td><td style=\"text-align: right;\">       </td><td style=\"text-align: right;\">      </td><td style=\"text-align: right;\">                </td></tr>\n",
              "<tr><td>DEFAULT_5d087_00024</td><td>PENDING   </td><td>               </td><td style=\"text-align: right;\">         256</td><td style=\"text-align: right;\">          35</td><td>(&#x27;MAEAUC&#x27;, 0.01) </td><td style=\"text-align: right;\">0.01 </td><td style=\"text-align: right;\">       </td><td style=\"text-align: right;\">      </td><td style=\"text-align: right;\">                </td></tr>\n",
              "<tr><td>DEFAULT_5d087_00025</td><td>PENDING   </td><td>               </td><td style=\"text-align: right;\">         256</td><td style=\"text-align: right;\">          70</td><td>(&#x27;MAEAUC&#x27;, 0.01) </td><td style=\"text-align: right;\">0.01 </td><td style=\"text-align: right;\">       </td><td style=\"text-align: right;\">      </td><td style=\"text-align: right;\">                </td></tr>\n",
              "<tr><td>DEFAULT_5d087_00026</td><td>PENDING   </td><td>               </td><td style=\"text-align: right;\">         256</td><td style=\"text-align: right;\">         105</td><td>(&#x27;MAEAUC&#x27;, 0.01) </td><td style=\"text-align: right;\">0.01 </td><td style=\"text-align: right;\">       </td><td style=\"text-align: right;\">      </td><td style=\"text-align: right;\">                </td></tr>\n",
              "<tr><td>DEFAULT_5d087_00027</td><td>PENDING   </td><td>               </td><td style=\"text-align: right;\">         256</td><td style=\"text-align: right;\">          35</td><td>(&#x27;MAEAUC&#x27;, 0.1)  </td><td style=\"text-align: right;\">0.01 </td><td style=\"text-align: right;\">       </td><td style=\"text-align: right;\">      </td><td style=\"text-align: right;\">                </td></tr>\n",
              "<tr><td>DEFAULT_5d087_00028</td><td>PENDING   </td><td>               </td><td style=\"text-align: right;\">         256</td><td style=\"text-align: right;\">          70</td><td>(&#x27;MAEAUC&#x27;, 0.1)  </td><td style=\"text-align: right;\">0.01 </td><td style=\"text-align: right;\">       </td><td style=\"text-align: right;\">      </td><td style=\"text-align: right;\">                </td></tr>\n",
              "<tr><td>DEFAULT_5d087_00029</td><td>PENDING   </td><td>               </td><td style=\"text-align: right;\">         256</td><td style=\"text-align: right;\">         105</td><td>(&#x27;MAEAUC&#x27;, 0.1)  </td><td style=\"text-align: right;\">0.01 </td><td style=\"text-align: right;\">       </td><td style=\"text-align: right;\">      </td><td style=\"text-align: right;\">                </td></tr>\n",
              "<tr><td>DEFAULT_5d087_00000</td><td>TERMINATED</td><td>               </td><td style=\"text-align: right;\">         256</td><td style=\"text-align: right;\">          35</td><td>(&#x27;MAE&#x27;, 0)       </td><td style=\"text-align: right;\">0.001</td><td style=\"text-align: right;\">1.99559</td><td style=\"text-align: right;\">     1</td><td style=\"text-align: right;\">        12.3246 </td></tr>\n",
              "<tr><td>DEFAULT_5d087_00001</td><td>TERMINATED</td><td>               </td><td style=\"text-align: right;\">         256</td><td style=\"text-align: right;\">          70</td><td>(&#x27;MAE&#x27;, 0)       </td><td style=\"text-align: right;\">0.001</td><td style=\"text-align: right;\">1.98247</td><td style=\"text-align: right;\">     1</td><td style=\"text-align: right;\">         4.70409</td></tr>\n",
              "<tr><td>DEFAULT_5d087_00002</td><td>TERMINATED</td><td>               </td><td style=\"text-align: right;\">         256</td><td style=\"text-align: right;\">         105</td><td>(&#x27;MAE&#x27;, 0)       </td><td style=\"text-align: right;\">0.001</td><td style=\"text-align: right;\">1.98955</td><td style=\"text-align: right;\">     1</td><td style=\"text-align: right;\">         4.80142</td></tr>\n",
              "<tr><td>DEFAULT_5d087_00003</td><td>TERMINATED</td><td>               </td><td style=\"text-align: right;\">         256</td><td style=\"text-align: right;\">          35</td><td>(&#x27;MAEAUC&#x27;, 0.001)</td><td style=\"text-align: right;\">0.001</td><td style=\"text-align: right;\">1.99573</td><td style=\"text-align: right;\">     1</td><td style=\"text-align: right;\">         4.73747</td></tr>\n",
              "<tr><td>DEFAULT_5d087_00004</td><td>TERMINATED</td><td>               </td><td style=\"text-align: right;\">         256</td><td style=\"text-align: right;\">          70</td><td>(&#x27;MAEAUC&#x27;, 0.001)</td><td style=\"text-align: right;\">0.001</td><td style=\"text-align: right;\">1.99686</td><td style=\"text-align: right;\">     1</td><td style=\"text-align: right;\">         4.74517</td></tr>\n",
              "<tr><td>DEFAULT_5d087_00005</td><td>TERMINATED</td><td>               </td><td style=\"text-align: right;\">         256</td><td style=\"text-align: right;\">         105</td><td>(&#x27;MAEAUC&#x27;, 0.001)</td><td style=\"text-align: right;\">0.001</td><td style=\"text-align: right;\">1.97942</td><td style=\"text-align: right;\">     1</td><td style=\"text-align: right;\">         4.70129</td></tr>\n",
              "<tr><td>DEFAULT_5d087_00006</td><td>TERMINATED</td><td>               </td><td style=\"text-align: right;\">         256</td><td style=\"text-align: right;\">          35</td><td>(&#x27;MAEAUC&#x27;, 0.01) </td><td style=\"text-align: right;\">0.001</td><td style=\"text-align: right;\">1.99736</td><td style=\"text-align: right;\">     1</td><td style=\"text-align: right;\">         4.59657</td></tr>\n",
              "<tr><td>DEFAULT_5d087_00007</td><td>TERMINATED</td><td>               </td><td style=\"text-align: right;\">         256</td><td style=\"text-align: right;\">          70</td><td>(&#x27;MAEAUC&#x27;, 0.01) </td><td style=\"text-align: right;\">0.001</td><td style=\"text-align: right;\">1.99013</td><td style=\"text-align: right;\">     1</td><td style=\"text-align: right;\">         4.67644</td></tr>\n",
              "<tr><td>DEFAULT_5d087_00008</td><td>TERMINATED</td><td>               </td><td style=\"text-align: right;\">         256</td><td style=\"text-align: right;\">         105</td><td>(&#x27;MAEAUC&#x27;, 0.01) </td><td style=\"text-align: right;\">0.001</td><td style=\"text-align: right;\">1.97145</td><td style=\"text-align: right;\">     1</td><td style=\"text-align: right;\">         4.66659</td></tr>\n",
              "<tr><td>DEFAULT_5d087_00009</td><td>TERMINATED</td><td>               </td><td style=\"text-align: right;\">         256</td><td style=\"text-align: right;\">          35</td><td>(&#x27;MAEAUC&#x27;, 0.1)  </td><td style=\"text-align: right;\">0.001</td><td style=\"text-align: right;\">1.99685</td><td style=\"text-align: right;\">     1</td><td style=\"text-align: right;\">         4.698  </td></tr>\n",
              "</tbody>\n",
              "</table><br>... 16 more trials not shown (6 PENDING, 9 TERMINATED)<br><br>"
            ],
            "text/plain": [
              "<IPython.core.display.HTML object>"
            ]
          },
          "metadata": {
            "tags": []
          }
        },
        {
          "output_type": "stream",
          "text": [
            "2021-05-25 07:20:30,313\tINFO logger.py:690 -- Removed the following hyperparameter values when logging to tensorboard: {'loss_param': ('MAE', 0)}\n"
          ],
          "name": "stderr"
        },
        {
          "output_type": "stream",
          "text": [
            "Result for DEFAULT_5d087_00019:\n",
            "  date: 2021-05-25_07-20-30\n",
            "  done: true\n",
            "  experiment_id: 41b775fea52c4b4fa2bdc8be1c55305b\n",
            "  experiment_tag: 19_batch_size=256,latent_dim=70,loss_param=('MAE', 0),lr=0.01\n",
            "  hostname: d76bb801c9dd\n",
            "  iterations_since_restore: 1\n",
            "  mean_accuracy: 1.8907568454742432\n",
            "  node_ip: 172.28.0.2\n",
            "  pid: 1093\n",
            "  should_checkpoint: true\n",
            "  time_since_restore: 4.89584755897522\n",
            "  time_this_iter_s: 4.89584755897522\n",
            "  time_total_s: 4.89584755897522\n",
            "  timestamp: 1621927230\n",
            "  timesteps_since_restore: 0\n",
            "  training_iteration: 1\n",
            "  trial_id: 5d087_00019\n",
            "  \n"
          ],
          "name": "stdout"
        },
        {
          "output_type": "stream",
          "text": [
            "\u001b[2m\u001b[33m(raylet)\u001b[0m /usr/local/lib/python3.7/dist-packages/ray/autoscaler/_private/cli_logger.py:61: FutureWarning: Not all Ray CLI dependencies were found. In Ray 1.4+, the Ray CLI, autoscaler, and dashboard will only be usable via `pip install 'ray[default]'`. Please update your install command.\n",
            "\u001b[2m\u001b[33m(raylet)\u001b[0m   \"update your install command.\", FutureWarning)\n"
          ],
          "name": "stderr"
        },
        {
          "output_type": "stream",
          "text": [
            "\u001b[2m\u001b[36m(pid=1119)\u001b[0m Operation will be on *****GPU-CUDA***** \n",
            "Result for DEFAULT_5d087_00020:\n",
            "  date: 2021-05-25_07-20-36\n",
            "  done: false\n",
            "  experiment_id: 6ae8a24e5f894fe6a1f0c117f6bd3e37\n",
            "  hostname: d76bb801c9dd\n",
            "  iterations_since_restore: 1\n",
            "  mean_accuracy: 1.908906102180481\n",
            "  node_ip: 172.28.0.2\n",
            "  pid: 1119\n",
            "  should_checkpoint: true\n",
            "  time_since_restore: 4.815810680389404\n",
            "  time_this_iter_s: 4.815810680389404\n",
            "  time_total_s: 4.815810680389404\n",
            "  timestamp: 1621927236\n",
            "  timesteps_since_restore: 0\n",
            "  training_iteration: 1\n",
            "  trial_id: 5d087_00020\n",
            "  \n"
          ],
          "name": "stdout"
        },
        {
          "output_type": "display_data",
          "data": {
            "text/html": [
              "== Status ==<br>Memory usage on this node: 2.9/12.7 GiB<br>Using FIFO scheduling algorithm.<br>Resources requested: 2.0/2 CPUs, 1.0/1 GPUs, 0.0/7.33 GiB heap, 0.0/3.67 GiB objects (0.0/1.0 accelerator_type:T4)<br>Result logdir: /content/drive/MyDrive/RecAE/experiments/ECG_5000<br>Number of trials: 36/36 (15 PENDING, 1 RUNNING, 20 TERMINATED)<br><table>\n",
              "<thead>\n",
              "<tr><th>Trial name         </th><th>status    </th><th>loc            </th><th style=\"text-align: right;\">  batch_size</th><th style=\"text-align: right;\">  latent_dim</th><th>loss_param       </th><th style=\"text-align: right;\">   lr</th><th style=\"text-align: right;\">    acc</th><th style=\"text-align: right;\">  iter</th><th style=\"text-align: right;\">  total time (s)</th></tr>\n",
              "</thead>\n",
              "<tbody>\n",
              "<tr><td>DEFAULT_5d087_00020</td><td>RUNNING   </td><td>172.28.0.2:1119</td><td style=\"text-align: right;\">         256</td><td style=\"text-align: right;\">         105</td><td>(&#x27;MAE&#x27;, 0)       </td><td style=\"text-align: right;\">0.01 </td><td style=\"text-align: right;\">1.90891</td><td style=\"text-align: right;\">     1</td><td style=\"text-align: right;\">         4.81581</td></tr>\n",
              "<tr><td>DEFAULT_5d087_00021</td><td>PENDING   </td><td>               </td><td style=\"text-align: right;\">         256</td><td style=\"text-align: right;\">          35</td><td>(&#x27;MAEAUC&#x27;, 0.001)</td><td style=\"text-align: right;\">0.01 </td><td style=\"text-align: right;\">       </td><td style=\"text-align: right;\">      </td><td style=\"text-align: right;\">                </td></tr>\n",
              "<tr><td>DEFAULT_5d087_00022</td><td>PENDING   </td><td>               </td><td style=\"text-align: right;\">         256</td><td style=\"text-align: right;\">          70</td><td>(&#x27;MAEAUC&#x27;, 0.001)</td><td style=\"text-align: right;\">0.01 </td><td style=\"text-align: right;\">       </td><td style=\"text-align: right;\">      </td><td style=\"text-align: right;\">                </td></tr>\n",
              "<tr><td>DEFAULT_5d087_00023</td><td>PENDING   </td><td>               </td><td style=\"text-align: right;\">         256</td><td style=\"text-align: right;\">         105</td><td>(&#x27;MAEAUC&#x27;, 0.001)</td><td style=\"text-align: right;\">0.01 </td><td style=\"text-align: right;\">       </td><td style=\"text-align: right;\">      </td><td style=\"text-align: right;\">                </td></tr>\n",
              "<tr><td>DEFAULT_5d087_00024</td><td>PENDING   </td><td>               </td><td style=\"text-align: right;\">         256</td><td style=\"text-align: right;\">          35</td><td>(&#x27;MAEAUC&#x27;, 0.01) </td><td style=\"text-align: right;\">0.01 </td><td style=\"text-align: right;\">       </td><td style=\"text-align: right;\">      </td><td style=\"text-align: right;\">                </td></tr>\n",
              "<tr><td>DEFAULT_5d087_00025</td><td>PENDING   </td><td>               </td><td style=\"text-align: right;\">         256</td><td style=\"text-align: right;\">          70</td><td>(&#x27;MAEAUC&#x27;, 0.01) </td><td style=\"text-align: right;\">0.01 </td><td style=\"text-align: right;\">       </td><td style=\"text-align: right;\">      </td><td style=\"text-align: right;\">                </td></tr>\n",
              "<tr><td>DEFAULT_5d087_00026</td><td>PENDING   </td><td>               </td><td style=\"text-align: right;\">         256</td><td style=\"text-align: right;\">         105</td><td>(&#x27;MAEAUC&#x27;, 0.01) </td><td style=\"text-align: right;\">0.01 </td><td style=\"text-align: right;\">       </td><td style=\"text-align: right;\">      </td><td style=\"text-align: right;\">                </td></tr>\n",
              "<tr><td>DEFAULT_5d087_00027</td><td>PENDING   </td><td>               </td><td style=\"text-align: right;\">         256</td><td style=\"text-align: right;\">          35</td><td>(&#x27;MAEAUC&#x27;, 0.1)  </td><td style=\"text-align: right;\">0.01 </td><td style=\"text-align: right;\">       </td><td style=\"text-align: right;\">      </td><td style=\"text-align: right;\">                </td></tr>\n",
              "<tr><td>DEFAULT_5d087_00028</td><td>PENDING   </td><td>               </td><td style=\"text-align: right;\">         256</td><td style=\"text-align: right;\">          70</td><td>(&#x27;MAEAUC&#x27;, 0.1)  </td><td style=\"text-align: right;\">0.01 </td><td style=\"text-align: right;\">       </td><td style=\"text-align: right;\">      </td><td style=\"text-align: right;\">                </td></tr>\n",
              "<tr><td>DEFAULT_5d087_00029</td><td>PENDING   </td><td>               </td><td style=\"text-align: right;\">         256</td><td style=\"text-align: right;\">         105</td><td>(&#x27;MAEAUC&#x27;, 0.1)  </td><td style=\"text-align: right;\">0.01 </td><td style=\"text-align: right;\">       </td><td style=\"text-align: right;\">      </td><td style=\"text-align: right;\">                </td></tr>\n",
              "<tr><td>DEFAULT_5d087_00030</td><td>PENDING   </td><td>               </td><td style=\"text-align: right;\">         256</td><td style=\"text-align: right;\">          35</td><td>(&#x27;MAEAUC&#x27;, 1)    </td><td style=\"text-align: right;\">0.01 </td><td style=\"text-align: right;\">       </td><td style=\"text-align: right;\">      </td><td style=\"text-align: right;\">                </td></tr>\n",
              "<tr><td>DEFAULT_5d087_00000</td><td>TERMINATED</td><td>               </td><td style=\"text-align: right;\">         256</td><td style=\"text-align: right;\">          35</td><td>(&#x27;MAE&#x27;, 0)       </td><td style=\"text-align: right;\">0.001</td><td style=\"text-align: right;\">1.99559</td><td style=\"text-align: right;\">     1</td><td style=\"text-align: right;\">        12.3246 </td></tr>\n",
              "<tr><td>DEFAULT_5d087_00001</td><td>TERMINATED</td><td>               </td><td style=\"text-align: right;\">         256</td><td style=\"text-align: right;\">          70</td><td>(&#x27;MAE&#x27;, 0)       </td><td style=\"text-align: right;\">0.001</td><td style=\"text-align: right;\">1.98247</td><td style=\"text-align: right;\">     1</td><td style=\"text-align: right;\">         4.70409</td></tr>\n",
              "<tr><td>DEFAULT_5d087_00002</td><td>TERMINATED</td><td>               </td><td style=\"text-align: right;\">         256</td><td style=\"text-align: right;\">         105</td><td>(&#x27;MAE&#x27;, 0)       </td><td style=\"text-align: right;\">0.001</td><td style=\"text-align: right;\">1.98955</td><td style=\"text-align: right;\">     1</td><td style=\"text-align: right;\">         4.80142</td></tr>\n",
              "<tr><td>DEFAULT_5d087_00003</td><td>TERMINATED</td><td>               </td><td style=\"text-align: right;\">         256</td><td style=\"text-align: right;\">          35</td><td>(&#x27;MAEAUC&#x27;, 0.001)</td><td style=\"text-align: right;\">0.001</td><td style=\"text-align: right;\">1.99573</td><td style=\"text-align: right;\">     1</td><td style=\"text-align: right;\">         4.73747</td></tr>\n",
              "<tr><td>DEFAULT_5d087_00004</td><td>TERMINATED</td><td>               </td><td style=\"text-align: right;\">         256</td><td style=\"text-align: right;\">          70</td><td>(&#x27;MAEAUC&#x27;, 0.001)</td><td style=\"text-align: right;\">0.001</td><td style=\"text-align: right;\">1.99686</td><td style=\"text-align: right;\">     1</td><td style=\"text-align: right;\">         4.74517</td></tr>\n",
              "<tr><td>DEFAULT_5d087_00005</td><td>TERMINATED</td><td>               </td><td style=\"text-align: right;\">         256</td><td style=\"text-align: right;\">         105</td><td>(&#x27;MAEAUC&#x27;, 0.001)</td><td style=\"text-align: right;\">0.001</td><td style=\"text-align: right;\">1.97942</td><td style=\"text-align: right;\">     1</td><td style=\"text-align: right;\">         4.70129</td></tr>\n",
              "<tr><td>DEFAULT_5d087_00006</td><td>TERMINATED</td><td>               </td><td style=\"text-align: right;\">         256</td><td style=\"text-align: right;\">          35</td><td>(&#x27;MAEAUC&#x27;, 0.01) </td><td style=\"text-align: right;\">0.001</td><td style=\"text-align: right;\">1.99736</td><td style=\"text-align: right;\">     1</td><td style=\"text-align: right;\">         4.59657</td></tr>\n",
              "<tr><td>DEFAULT_5d087_00007</td><td>TERMINATED</td><td>               </td><td style=\"text-align: right;\">         256</td><td style=\"text-align: right;\">          70</td><td>(&#x27;MAEAUC&#x27;, 0.01) </td><td style=\"text-align: right;\">0.001</td><td style=\"text-align: right;\">1.99013</td><td style=\"text-align: right;\">     1</td><td style=\"text-align: right;\">         4.67644</td></tr>\n",
              "<tr><td>DEFAULT_5d087_00008</td><td>TERMINATED</td><td>               </td><td style=\"text-align: right;\">         256</td><td style=\"text-align: right;\">         105</td><td>(&#x27;MAEAUC&#x27;, 0.01) </td><td style=\"text-align: right;\">0.001</td><td style=\"text-align: right;\">1.97145</td><td style=\"text-align: right;\">     1</td><td style=\"text-align: right;\">         4.66659</td></tr>\n",
              "<tr><td>DEFAULT_5d087_00009</td><td>TERMINATED</td><td>               </td><td style=\"text-align: right;\">         256</td><td style=\"text-align: right;\">          35</td><td>(&#x27;MAEAUC&#x27;, 0.1)  </td><td style=\"text-align: right;\">0.001</td><td style=\"text-align: right;\">1.99685</td><td style=\"text-align: right;\">     1</td><td style=\"text-align: right;\">         4.698  </td></tr>\n",
              "</tbody>\n",
              "</table><br>... 16 more trials not shown (5 PENDING, 10 TERMINATED)<br><br>"
            ],
            "text/plain": [
              "<IPython.core.display.HTML object>"
            ]
          },
          "metadata": {
            "tags": []
          }
        },
        {
          "output_type": "stream",
          "text": [
            "2021-05-25 07:20:36,991\tINFO logger.py:690 -- Removed the following hyperparameter values when logging to tensorboard: {'loss_param': ('MAE', 0)}\n"
          ],
          "name": "stderr"
        },
        {
          "output_type": "stream",
          "text": [
            "Result for DEFAULT_5d087_00020:\n",
            "  date: 2021-05-25_07-20-36\n",
            "  done: true\n",
            "  experiment_id: 6ae8a24e5f894fe6a1f0c117f6bd3e37\n",
            "  experiment_tag: 20_batch_size=256,latent_dim=105,loss_param=('MAE', 0),lr=0.01\n",
            "  hostname: d76bb801c9dd\n",
            "  iterations_since_restore: 1\n",
            "  mean_accuracy: 1.908906102180481\n",
            "  node_ip: 172.28.0.2\n",
            "  pid: 1119\n",
            "  should_checkpoint: true\n",
            "  time_since_restore: 4.815810680389404\n",
            "  time_this_iter_s: 4.815810680389404\n",
            "  time_total_s: 4.815810680389404\n",
            "  timestamp: 1621927236\n",
            "  timesteps_since_restore: 0\n",
            "  training_iteration: 1\n",
            "  trial_id: 5d087_00020\n",
            "  \n"
          ],
          "name": "stdout"
        },
        {
          "output_type": "stream",
          "text": [
            "\u001b[2m\u001b[33m(raylet)\u001b[0m /usr/local/lib/python3.7/dist-packages/ray/autoscaler/_private/cli_logger.py:61: FutureWarning: Not all Ray CLI dependencies were found. In Ray 1.4+, the Ray CLI, autoscaler, and dashboard will only be usable via `pip install 'ray[default]'`. Please update your install command.\n",
            "\u001b[2m\u001b[33m(raylet)\u001b[0m   \"update your install command.\", FutureWarning)\n"
          ],
          "name": "stderr"
        },
        {
          "output_type": "stream",
          "text": [
            "\u001b[2m\u001b[36m(pid=1145)\u001b[0m Operation will be on *****GPU-CUDA***** \n"
          ],
          "name": "stdout"
        },
        {
          "output_type": "stream",
          "text": [
            "\u001b[2m\u001b[36m(pid=1145)\u001b[0m /usr/local/lib/python3.7/dist-packages/sklearn/model_selection/_split.py:667: UserWarning: The least populated class in y has only 2 members, which is less than n_splits=5.\n",
            "\u001b[2m\u001b[36m(pid=1145)\u001b[0m   % (min_groups, self.n_splits)), UserWarning)\n",
            "\u001b[2m\u001b[36m(pid=1145)\u001b[0m /usr/local/lib/python3.7/dist-packages/sklearn/model_selection/_split.py:667: UserWarning: The least populated class in y has only 2 members, which is less than n_splits=5.\n",
            "\u001b[2m\u001b[36m(pid=1145)\u001b[0m   % (min_groups, self.n_splits)), UserWarning)\n",
            "\u001b[2m\u001b[36m(pid=1145)\u001b[0m /usr/local/lib/python3.7/dist-packages/sklearn/model_selection/_split.py:667: UserWarning: The least populated class in y has only 2 members, which is less than n_splits=5.\n",
            "\u001b[2m\u001b[36m(pid=1145)\u001b[0m   % (min_groups, self.n_splits)), UserWarning)\n"
          ],
          "name": "stderr"
        },
        {
          "output_type": "stream",
          "text": [
            "Result for DEFAULT_5d087_00021:\n",
            "  date: 2021-05-25_07-20-43\n",
            "  done: false\n",
            "  experiment_id: f3e5fe8260c8493a9f0b0567af87276d\n",
            "  hostname: d76bb801c9dd\n",
            "  iterations_since_restore: 1\n",
            "  mean_accuracy: 1.9275322556495667\n",
            "  node_ip: 172.28.0.2\n",
            "  pid: 1145\n",
            "  should_checkpoint: true\n",
            "  time_since_restore: 4.6997199058532715\n",
            "  time_this_iter_s: 4.6997199058532715\n",
            "  time_total_s: 4.6997199058532715\n",
            "  timestamp: 1621927243\n",
            "  timesteps_since_restore: 0\n",
            "  training_iteration: 1\n",
            "  trial_id: 5d087_00021\n",
            "  \n"
          ],
          "name": "stdout"
        },
        {
          "output_type": "display_data",
          "data": {
            "text/html": [
              "== Status ==<br>Memory usage on this node: 2.9/12.7 GiB<br>Using FIFO scheduling algorithm.<br>Resources requested: 2.0/2 CPUs, 1.0/1 GPUs, 0.0/7.33 GiB heap, 0.0/3.67 GiB objects (0.0/1.0 accelerator_type:T4)<br>Result logdir: /content/drive/MyDrive/RecAE/experiments/ECG_5000<br>Number of trials: 36/36 (14 PENDING, 1 RUNNING, 21 TERMINATED)<br><table>\n",
              "<thead>\n",
              "<tr><th>Trial name         </th><th>status    </th><th>loc            </th><th style=\"text-align: right;\">  batch_size</th><th style=\"text-align: right;\">  latent_dim</th><th>loss_param       </th><th style=\"text-align: right;\">   lr</th><th style=\"text-align: right;\">    acc</th><th style=\"text-align: right;\">  iter</th><th style=\"text-align: right;\">  total time (s)</th></tr>\n",
              "</thead>\n",
              "<tbody>\n",
              "<tr><td>DEFAULT_5d087_00021</td><td>RUNNING   </td><td>172.28.0.2:1145</td><td style=\"text-align: right;\">         256</td><td style=\"text-align: right;\">          35</td><td>(&#x27;MAEAUC&#x27;, 0.001)</td><td style=\"text-align: right;\">0.01 </td><td style=\"text-align: right;\">1.92753</td><td style=\"text-align: right;\">     1</td><td style=\"text-align: right;\">         4.69972</td></tr>\n",
              "<tr><td>DEFAULT_5d087_00022</td><td>PENDING   </td><td>               </td><td style=\"text-align: right;\">         256</td><td style=\"text-align: right;\">          70</td><td>(&#x27;MAEAUC&#x27;, 0.001)</td><td style=\"text-align: right;\">0.01 </td><td style=\"text-align: right;\">       </td><td style=\"text-align: right;\">      </td><td style=\"text-align: right;\">                </td></tr>\n",
              "<tr><td>DEFAULT_5d087_00023</td><td>PENDING   </td><td>               </td><td style=\"text-align: right;\">         256</td><td style=\"text-align: right;\">         105</td><td>(&#x27;MAEAUC&#x27;, 0.001)</td><td style=\"text-align: right;\">0.01 </td><td style=\"text-align: right;\">       </td><td style=\"text-align: right;\">      </td><td style=\"text-align: right;\">                </td></tr>\n",
              "<tr><td>DEFAULT_5d087_00024</td><td>PENDING   </td><td>               </td><td style=\"text-align: right;\">         256</td><td style=\"text-align: right;\">          35</td><td>(&#x27;MAEAUC&#x27;, 0.01) </td><td style=\"text-align: right;\">0.01 </td><td style=\"text-align: right;\">       </td><td style=\"text-align: right;\">      </td><td style=\"text-align: right;\">                </td></tr>\n",
              "<tr><td>DEFAULT_5d087_00025</td><td>PENDING   </td><td>               </td><td style=\"text-align: right;\">         256</td><td style=\"text-align: right;\">          70</td><td>(&#x27;MAEAUC&#x27;, 0.01) </td><td style=\"text-align: right;\">0.01 </td><td style=\"text-align: right;\">       </td><td style=\"text-align: right;\">      </td><td style=\"text-align: right;\">                </td></tr>\n",
              "<tr><td>DEFAULT_5d087_00026</td><td>PENDING   </td><td>               </td><td style=\"text-align: right;\">         256</td><td style=\"text-align: right;\">         105</td><td>(&#x27;MAEAUC&#x27;, 0.01) </td><td style=\"text-align: right;\">0.01 </td><td style=\"text-align: right;\">       </td><td style=\"text-align: right;\">      </td><td style=\"text-align: right;\">                </td></tr>\n",
              "<tr><td>DEFAULT_5d087_00027</td><td>PENDING   </td><td>               </td><td style=\"text-align: right;\">         256</td><td style=\"text-align: right;\">          35</td><td>(&#x27;MAEAUC&#x27;, 0.1)  </td><td style=\"text-align: right;\">0.01 </td><td style=\"text-align: right;\">       </td><td style=\"text-align: right;\">      </td><td style=\"text-align: right;\">                </td></tr>\n",
              "<tr><td>DEFAULT_5d087_00028</td><td>PENDING   </td><td>               </td><td style=\"text-align: right;\">         256</td><td style=\"text-align: right;\">          70</td><td>(&#x27;MAEAUC&#x27;, 0.1)  </td><td style=\"text-align: right;\">0.01 </td><td style=\"text-align: right;\">       </td><td style=\"text-align: right;\">      </td><td style=\"text-align: right;\">                </td></tr>\n",
              "<tr><td>DEFAULT_5d087_00029</td><td>PENDING   </td><td>               </td><td style=\"text-align: right;\">         256</td><td style=\"text-align: right;\">         105</td><td>(&#x27;MAEAUC&#x27;, 0.1)  </td><td style=\"text-align: right;\">0.01 </td><td style=\"text-align: right;\">       </td><td style=\"text-align: right;\">      </td><td style=\"text-align: right;\">                </td></tr>\n",
              "<tr><td>DEFAULT_5d087_00030</td><td>PENDING   </td><td>               </td><td style=\"text-align: right;\">         256</td><td style=\"text-align: right;\">          35</td><td>(&#x27;MAEAUC&#x27;, 1)    </td><td style=\"text-align: right;\">0.01 </td><td style=\"text-align: right;\">       </td><td style=\"text-align: right;\">      </td><td style=\"text-align: right;\">                </td></tr>\n",
              "<tr><td>DEFAULT_5d087_00031</td><td>PENDING   </td><td>               </td><td style=\"text-align: right;\">         256</td><td style=\"text-align: right;\">          70</td><td>(&#x27;MAEAUC&#x27;, 1)    </td><td style=\"text-align: right;\">0.01 </td><td style=\"text-align: right;\">       </td><td style=\"text-align: right;\">      </td><td style=\"text-align: right;\">                </td></tr>\n",
              "<tr><td>DEFAULT_5d087_00000</td><td>TERMINATED</td><td>               </td><td style=\"text-align: right;\">         256</td><td style=\"text-align: right;\">          35</td><td>(&#x27;MAE&#x27;, 0)       </td><td style=\"text-align: right;\">0.001</td><td style=\"text-align: right;\">1.99559</td><td style=\"text-align: right;\">     1</td><td style=\"text-align: right;\">        12.3246 </td></tr>\n",
              "<tr><td>DEFAULT_5d087_00001</td><td>TERMINATED</td><td>               </td><td style=\"text-align: right;\">         256</td><td style=\"text-align: right;\">          70</td><td>(&#x27;MAE&#x27;, 0)       </td><td style=\"text-align: right;\">0.001</td><td style=\"text-align: right;\">1.98247</td><td style=\"text-align: right;\">     1</td><td style=\"text-align: right;\">         4.70409</td></tr>\n",
              "<tr><td>DEFAULT_5d087_00002</td><td>TERMINATED</td><td>               </td><td style=\"text-align: right;\">         256</td><td style=\"text-align: right;\">         105</td><td>(&#x27;MAE&#x27;, 0)       </td><td style=\"text-align: right;\">0.001</td><td style=\"text-align: right;\">1.98955</td><td style=\"text-align: right;\">     1</td><td style=\"text-align: right;\">         4.80142</td></tr>\n",
              "<tr><td>DEFAULT_5d087_00003</td><td>TERMINATED</td><td>               </td><td style=\"text-align: right;\">         256</td><td style=\"text-align: right;\">          35</td><td>(&#x27;MAEAUC&#x27;, 0.001)</td><td style=\"text-align: right;\">0.001</td><td style=\"text-align: right;\">1.99573</td><td style=\"text-align: right;\">     1</td><td style=\"text-align: right;\">         4.73747</td></tr>\n",
              "<tr><td>DEFAULT_5d087_00004</td><td>TERMINATED</td><td>               </td><td style=\"text-align: right;\">         256</td><td style=\"text-align: right;\">          70</td><td>(&#x27;MAEAUC&#x27;, 0.001)</td><td style=\"text-align: right;\">0.001</td><td style=\"text-align: right;\">1.99686</td><td style=\"text-align: right;\">     1</td><td style=\"text-align: right;\">         4.74517</td></tr>\n",
              "<tr><td>DEFAULT_5d087_00005</td><td>TERMINATED</td><td>               </td><td style=\"text-align: right;\">         256</td><td style=\"text-align: right;\">         105</td><td>(&#x27;MAEAUC&#x27;, 0.001)</td><td style=\"text-align: right;\">0.001</td><td style=\"text-align: right;\">1.97942</td><td style=\"text-align: right;\">     1</td><td style=\"text-align: right;\">         4.70129</td></tr>\n",
              "<tr><td>DEFAULT_5d087_00006</td><td>TERMINATED</td><td>               </td><td style=\"text-align: right;\">         256</td><td style=\"text-align: right;\">          35</td><td>(&#x27;MAEAUC&#x27;, 0.01) </td><td style=\"text-align: right;\">0.001</td><td style=\"text-align: right;\">1.99736</td><td style=\"text-align: right;\">     1</td><td style=\"text-align: right;\">         4.59657</td></tr>\n",
              "<tr><td>DEFAULT_5d087_00007</td><td>TERMINATED</td><td>               </td><td style=\"text-align: right;\">         256</td><td style=\"text-align: right;\">          70</td><td>(&#x27;MAEAUC&#x27;, 0.01) </td><td style=\"text-align: right;\">0.001</td><td style=\"text-align: right;\">1.99013</td><td style=\"text-align: right;\">     1</td><td style=\"text-align: right;\">         4.67644</td></tr>\n",
              "<tr><td>DEFAULT_5d087_00008</td><td>TERMINATED</td><td>               </td><td style=\"text-align: right;\">         256</td><td style=\"text-align: right;\">         105</td><td>(&#x27;MAEAUC&#x27;, 0.01) </td><td style=\"text-align: right;\">0.001</td><td style=\"text-align: right;\">1.97145</td><td style=\"text-align: right;\">     1</td><td style=\"text-align: right;\">         4.66659</td></tr>\n",
              "<tr><td>DEFAULT_5d087_00009</td><td>TERMINATED</td><td>               </td><td style=\"text-align: right;\">         256</td><td style=\"text-align: right;\">          35</td><td>(&#x27;MAEAUC&#x27;, 0.1)  </td><td style=\"text-align: right;\">0.001</td><td style=\"text-align: right;\">1.99685</td><td style=\"text-align: right;\">     1</td><td style=\"text-align: right;\">         4.698  </td></tr>\n",
              "</tbody>\n",
              "</table><br>... 16 more trials not shown (4 PENDING, 11 TERMINATED)<br><br>"
            ],
            "text/plain": [
              "<IPython.core.display.HTML object>"
            ]
          },
          "metadata": {
            "tags": []
          }
        },
        {
          "output_type": "stream",
          "text": [
            "2021-05-25 07:20:43,520\tINFO logger.py:690 -- Removed the following hyperparameter values when logging to tensorboard: {'loss_param': ('MAEAUC', 0.001)}\n"
          ],
          "name": "stderr"
        },
        {
          "output_type": "stream",
          "text": [
            "Result for DEFAULT_5d087_00021:\n",
            "  date: 2021-05-25_07-20-43\n",
            "  done: true\n",
            "  experiment_id: f3e5fe8260c8493a9f0b0567af87276d\n",
            "  experiment_tag: 21_batch_size=256,latent_dim=35,loss_param=('MAEAUC', 0.001),lr=0.01\n",
            "  hostname: d76bb801c9dd\n",
            "  iterations_since_restore: 1\n",
            "  mean_accuracy: 1.9275322556495667\n",
            "  node_ip: 172.28.0.2\n",
            "  pid: 1145\n",
            "  should_checkpoint: true\n",
            "  time_since_restore: 4.6997199058532715\n",
            "  time_this_iter_s: 4.6997199058532715\n",
            "  time_total_s: 4.6997199058532715\n",
            "  timestamp: 1621927243\n",
            "  timesteps_since_restore: 0\n",
            "  training_iteration: 1\n",
            "  trial_id: 5d087_00021\n",
            "  \n"
          ],
          "name": "stdout"
        },
        {
          "output_type": "stream",
          "text": [
            "\u001b[2m\u001b[33m(raylet)\u001b[0m /usr/local/lib/python3.7/dist-packages/ray/autoscaler/_private/cli_logger.py:61: FutureWarning: Not all Ray CLI dependencies were found. In Ray 1.4+, the Ray CLI, autoscaler, and dashboard will only be usable via `pip install 'ray[default]'`. Please update your install command.\n",
            "\u001b[2m\u001b[33m(raylet)\u001b[0m   \"update your install command.\", FutureWarning)\n"
          ],
          "name": "stderr"
        },
        {
          "output_type": "stream",
          "text": [
            "\u001b[2m\u001b[36m(pid=1173)\u001b[0m Operation will be on *****GPU-CUDA***** \n"
          ],
          "name": "stdout"
        },
        {
          "output_type": "stream",
          "text": [
            "\u001b[2m\u001b[36m(pid=1173)\u001b[0m /usr/local/lib/python3.7/dist-packages/sklearn/model_selection/_split.py:667: UserWarning: The least populated class in y has only 2 members, which is less than n_splits=5.\n",
            "\u001b[2m\u001b[36m(pid=1173)\u001b[0m   % (min_groups, self.n_splits)), UserWarning)\n",
            "\u001b[2m\u001b[36m(pid=1173)\u001b[0m /usr/local/lib/python3.7/dist-packages/sklearn/model_selection/_split.py:667: UserWarning: The least populated class in y has only 2 members, which is less than n_splits=5.\n",
            "\u001b[2m\u001b[36m(pid=1173)\u001b[0m   % (min_groups, self.n_splits)), UserWarning)\n",
            "\u001b[2m\u001b[36m(pid=1173)\u001b[0m /usr/local/lib/python3.7/dist-packages/sklearn/model_selection/_split.py:667: UserWarning: The least populated class in y has only 2 members, which is less than n_splits=5.\n",
            "\u001b[2m\u001b[36m(pid=1173)\u001b[0m   % (min_groups, self.n_splits)), UserWarning)\n"
          ],
          "name": "stderr"
        },
        {
          "output_type": "stream",
          "text": [
            "Result for DEFAULT_5d087_00022:\n",
            "  date: 2021-05-25_07-20-50\n",
            "  done: false\n",
            "  experiment_id: 20336b429b784a99a7499960c16273c9\n",
            "  hostname: d76bb801c9dd\n",
            "  iterations_since_restore: 1\n",
            "  mean_accuracy: 1.8844388127326965\n",
            "  node_ip: 172.28.0.2\n",
            "  pid: 1173\n",
            "  should_checkpoint: true\n",
            "  time_since_restore: 4.816900730133057\n",
            "  time_this_iter_s: 4.816900730133057\n",
            "  time_total_s: 4.816900730133057\n",
            "  timestamp: 1621927250\n",
            "  timesteps_since_restore: 0\n",
            "  training_iteration: 1\n",
            "  trial_id: 5d087_00022\n",
            "  \n"
          ],
          "name": "stdout"
        },
        {
          "output_type": "display_data",
          "data": {
            "text/html": [
              "== Status ==<br>Memory usage on this node: 2.9/12.7 GiB<br>Using FIFO scheduling algorithm.<br>Resources requested: 2.0/2 CPUs, 1.0/1 GPUs, 0.0/7.33 GiB heap, 0.0/3.67 GiB objects (0.0/1.0 accelerator_type:T4)<br>Result logdir: /content/drive/MyDrive/RecAE/experiments/ECG_5000<br>Number of trials: 36/36 (13 PENDING, 1 RUNNING, 22 TERMINATED)<br><table>\n",
              "<thead>\n",
              "<tr><th>Trial name         </th><th>status    </th><th>loc            </th><th style=\"text-align: right;\">  batch_size</th><th style=\"text-align: right;\">  latent_dim</th><th>loss_param       </th><th style=\"text-align: right;\">   lr</th><th style=\"text-align: right;\">    acc</th><th style=\"text-align: right;\">  iter</th><th style=\"text-align: right;\">  total time (s)</th></tr>\n",
              "</thead>\n",
              "<tbody>\n",
              "<tr><td>DEFAULT_5d087_00022</td><td>RUNNING   </td><td>172.28.0.2:1173</td><td style=\"text-align: right;\">         256</td><td style=\"text-align: right;\">          70</td><td>(&#x27;MAEAUC&#x27;, 0.001)</td><td style=\"text-align: right;\">0.01 </td><td style=\"text-align: right;\">1.88444</td><td style=\"text-align: right;\">     1</td><td style=\"text-align: right;\">         4.8169 </td></tr>\n",
              "<tr><td>DEFAULT_5d087_00023</td><td>PENDING   </td><td>               </td><td style=\"text-align: right;\">         256</td><td style=\"text-align: right;\">         105</td><td>(&#x27;MAEAUC&#x27;, 0.001)</td><td style=\"text-align: right;\">0.01 </td><td style=\"text-align: right;\">       </td><td style=\"text-align: right;\">      </td><td style=\"text-align: right;\">                </td></tr>\n",
              "<tr><td>DEFAULT_5d087_00024</td><td>PENDING   </td><td>               </td><td style=\"text-align: right;\">         256</td><td style=\"text-align: right;\">          35</td><td>(&#x27;MAEAUC&#x27;, 0.01) </td><td style=\"text-align: right;\">0.01 </td><td style=\"text-align: right;\">       </td><td style=\"text-align: right;\">      </td><td style=\"text-align: right;\">                </td></tr>\n",
              "<tr><td>DEFAULT_5d087_00025</td><td>PENDING   </td><td>               </td><td style=\"text-align: right;\">         256</td><td style=\"text-align: right;\">          70</td><td>(&#x27;MAEAUC&#x27;, 0.01) </td><td style=\"text-align: right;\">0.01 </td><td style=\"text-align: right;\">       </td><td style=\"text-align: right;\">      </td><td style=\"text-align: right;\">                </td></tr>\n",
              "<tr><td>DEFAULT_5d087_00026</td><td>PENDING   </td><td>               </td><td style=\"text-align: right;\">         256</td><td style=\"text-align: right;\">         105</td><td>(&#x27;MAEAUC&#x27;, 0.01) </td><td style=\"text-align: right;\">0.01 </td><td style=\"text-align: right;\">       </td><td style=\"text-align: right;\">      </td><td style=\"text-align: right;\">                </td></tr>\n",
              "<tr><td>DEFAULT_5d087_00027</td><td>PENDING   </td><td>               </td><td style=\"text-align: right;\">         256</td><td style=\"text-align: right;\">          35</td><td>(&#x27;MAEAUC&#x27;, 0.1)  </td><td style=\"text-align: right;\">0.01 </td><td style=\"text-align: right;\">       </td><td style=\"text-align: right;\">      </td><td style=\"text-align: right;\">                </td></tr>\n",
              "<tr><td>DEFAULT_5d087_00028</td><td>PENDING   </td><td>               </td><td style=\"text-align: right;\">         256</td><td style=\"text-align: right;\">          70</td><td>(&#x27;MAEAUC&#x27;, 0.1)  </td><td style=\"text-align: right;\">0.01 </td><td style=\"text-align: right;\">       </td><td style=\"text-align: right;\">      </td><td style=\"text-align: right;\">                </td></tr>\n",
              "<tr><td>DEFAULT_5d087_00029</td><td>PENDING   </td><td>               </td><td style=\"text-align: right;\">         256</td><td style=\"text-align: right;\">         105</td><td>(&#x27;MAEAUC&#x27;, 0.1)  </td><td style=\"text-align: right;\">0.01 </td><td style=\"text-align: right;\">       </td><td style=\"text-align: right;\">      </td><td style=\"text-align: right;\">                </td></tr>\n",
              "<tr><td>DEFAULT_5d087_00030</td><td>PENDING   </td><td>               </td><td style=\"text-align: right;\">         256</td><td style=\"text-align: right;\">          35</td><td>(&#x27;MAEAUC&#x27;, 1)    </td><td style=\"text-align: right;\">0.01 </td><td style=\"text-align: right;\">       </td><td style=\"text-align: right;\">      </td><td style=\"text-align: right;\">                </td></tr>\n",
              "<tr><td>DEFAULT_5d087_00031</td><td>PENDING   </td><td>               </td><td style=\"text-align: right;\">         256</td><td style=\"text-align: right;\">          70</td><td>(&#x27;MAEAUC&#x27;, 1)    </td><td style=\"text-align: right;\">0.01 </td><td style=\"text-align: right;\">       </td><td style=\"text-align: right;\">      </td><td style=\"text-align: right;\">                </td></tr>\n",
              "<tr><td>DEFAULT_5d087_00032</td><td>PENDING   </td><td>               </td><td style=\"text-align: right;\">         256</td><td style=\"text-align: right;\">         105</td><td>(&#x27;MAEAUC&#x27;, 1)    </td><td style=\"text-align: right;\">0.01 </td><td style=\"text-align: right;\">       </td><td style=\"text-align: right;\">      </td><td style=\"text-align: right;\">                </td></tr>\n",
              "<tr><td>DEFAULT_5d087_00000</td><td>TERMINATED</td><td>               </td><td style=\"text-align: right;\">         256</td><td style=\"text-align: right;\">          35</td><td>(&#x27;MAE&#x27;, 0)       </td><td style=\"text-align: right;\">0.001</td><td style=\"text-align: right;\">1.99559</td><td style=\"text-align: right;\">     1</td><td style=\"text-align: right;\">        12.3246 </td></tr>\n",
              "<tr><td>DEFAULT_5d087_00001</td><td>TERMINATED</td><td>               </td><td style=\"text-align: right;\">         256</td><td style=\"text-align: right;\">          70</td><td>(&#x27;MAE&#x27;, 0)       </td><td style=\"text-align: right;\">0.001</td><td style=\"text-align: right;\">1.98247</td><td style=\"text-align: right;\">     1</td><td style=\"text-align: right;\">         4.70409</td></tr>\n",
              "<tr><td>DEFAULT_5d087_00002</td><td>TERMINATED</td><td>               </td><td style=\"text-align: right;\">         256</td><td style=\"text-align: right;\">         105</td><td>(&#x27;MAE&#x27;, 0)       </td><td style=\"text-align: right;\">0.001</td><td style=\"text-align: right;\">1.98955</td><td style=\"text-align: right;\">     1</td><td style=\"text-align: right;\">         4.80142</td></tr>\n",
              "<tr><td>DEFAULT_5d087_00003</td><td>TERMINATED</td><td>               </td><td style=\"text-align: right;\">         256</td><td style=\"text-align: right;\">          35</td><td>(&#x27;MAEAUC&#x27;, 0.001)</td><td style=\"text-align: right;\">0.001</td><td style=\"text-align: right;\">1.99573</td><td style=\"text-align: right;\">     1</td><td style=\"text-align: right;\">         4.73747</td></tr>\n",
              "<tr><td>DEFAULT_5d087_00004</td><td>TERMINATED</td><td>               </td><td style=\"text-align: right;\">         256</td><td style=\"text-align: right;\">          70</td><td>(&#x27;MAEAUC&#x27;, 0.001)</td><td style=\"text-align: right;\">0.001</td><td style=\"text-align: right;\">1.99686</td><td style=\"text-align: right;\">     1</td><td style=\"text-align: right;\">         4.74517</td></tr>\n",
              "<tr><td>DEFAULT_5d087_00005</td><td>TERMINATED</td><td>               </td><td style=\"text-align: right;\">         256</td><td style=\"text-align: right;\">         105</td><td>(&#x27;MAEAUC&#x27;, 0.001)</td><td style=\"text-align: right;\">0.001</td><td style=\"text-align: right;\">1.97942</td><td style=\"text-align: right;\">     1</td><td style=\"text-align: right;\">         4.70129</td></tr>\n",
              "<tr><td>DEFAULT_5d087_00006</td><td>TERMINATED</td><td>               </td><td style=\"text-align: right;\">         256</td><td style=\"text-align: right;\">          35</td><td>(&#x27;MAEAUC&#x27;, 0.01) </td><td style=\"text-align: right;\">0.001</td><td style=\"text-align: right;\">1.99736</td><td style=\"text-align: right;\">     1</td><td style=\"text-align: right;\">         4.59657</td></tr>\n",
              "<tr><td>DEFAULT_5d087_00007</td><td>TERMINATED</td><td>               </td><td style=\"text-align: right;\">         256</td><td style=\"text-align: right;\">          70</td><td>(&#x27;MAEAUC&#x27;, 0.01) </td><td style=\"text-align: right;\">0.001</td><td style=\"text-align: right;\">1.99013</td><td style=\"text-align: right;\">     1</td><td style=\"text-align: right;\">         4.67644</td></tr>\n",
              "<tr><td>DEFAULT_5d087_00008</td><td>TERMINATED</td><td>               </td><td style=\"text-align: right;\">         256</td><td style=\"text-align: right;\">         105</td><td>(&#x27;MAEAUC&#x27;, 0.01) </td><td style=\"text-align: right;\">0.001</td><td style=\"text-align: right;\">1.97145</td><td style=\"text-align: right;\">     1</td><td style=\"text-align: right;\">         4.66659</td></tr>\n",
              "<tr><td>DEFAULT_5d087_00009</td><td>TERMINATED</td><td>               </td><td style=\"text-align: right;\">         256</td><td style=\"text-align: right;\">          35</td><td>(&#x27;MAEAUC&#x27;, 0.1)  </td><td style=\"text-align: right;\">0.001</td><td style=\"text-align: right;\">1.99685</td><td style=\"text-align: right;\">     1</td><td style=\"text-align: right;\">         4.698  </td></tr>\n",
              "</tbody>\n",
              "</table><br>... 16 more trials not shown (3 PENDING, 12 TERMINATED)<br><br>"
            ],
            "text/plain": [
              "<IPython.core.display.HTML object>"
            ]
          },
          "metadata": {
            "tags": []
          }
        },
        {
          "output_type": "stream",
          "text": [
            "2021-05-25 07:20:50,197\tINFO logger.py:690 -- Removed the following hyperparameter values when logging to tensorboard: {'loss_param': ('MAEAUC', 0.001)}\n"
          ],
          "name": "stderr"
        },
        {
          "output_type": "stream",
          "text": [
            "Result for DEFAULT_5d087_00022:\n",
            "  date: 2021-05-25_07-20-50\n",
            "  done: true\n",
            "  experiment_id: 20336b429b784a99a7499960c16273c9\n",
            "  experiment_tag: 22_batch_size=256,latent_dim=70,loss_param=('MAEAUC', 0.001),lr=0.01\n",
            "  hostname: d76bb801c9dd\n",
            "  iterations_since_restore: 1\n",
            "  mean_accuracy: 1.8844388127326965\n",
            "  node_ip: 172.28.0.2\n",
            "  pid: 1173\n",
            "  should_checkpoint: true\n",
            "  time_since_restore: 4.816900730133057\n",
            "  time_this_iter_s: 4.816900730133057\n",
            "  time_total_s: 4.816900730133057\n",
            "  timestamp: 1621927250\n",
            "  timesteps_since_restore: 0\n",
            "  training_iteration: 1\n",
            "  trial_id: 5d087_00022\n",
            "  \n"
          ],
          "name": "stdout"
        },
        {
          "output_type": "stream",
          "text": [
            "\u001b[2m\u001b[33m(raylet)\u001b[0m /usr/local/lib/python3.7/dist-packages/ray/autoscaler/_private/cli_logger.py:61: FutureWarning: Not all Ray CLI dependencies were found. In Ray 1.4+, the Ray CLI, autoscaler, and dashboard will only be usable via `pip install 'ray[default]'`. Please update your install command.\n",
            "\u001b[2m\u001b[33m(raylet)\u001b[0m   \"update your install command.\", FutureWarning)\n"
          ],
          "name": "stderr"
        },
        {
          "output_type": "stream",
          "text": [
            "\u001b[2m\u001b[36m(pid=1199)\u001b[0m Operation will be on *****GPU-CUDA***** \n"
          ],
          "name": "stdout"
        },
        {
          "output_type": "stream",
          "text": [
            "\u001b[2m\u001b[36m(pid=1199)\u001b[0m /usr/local/lib/python3.7/dist-packages/sklearn/model_selection/_split.py:667: UserWarning: The least populated class in y has only 2 members, which is less than n_splits=5.\n",
            "\u001b[2m\u001b[36m(pid=1199)\u001b[0m   % (min_groups, self.n_splits)), UserWarning)\n",
            "\u001b[2m\u001b[36m(pid=1199)\u001b[0m /usr/local/lib/python3.7/dist-packages/sklearn/model_selection/_split.py:667: UserWarning: The least populated class in y has only 2 members, which is less than n_splits=5.\n",
            "\u001b[2m\u001b[36m(pid=1199)\u001b[0m   % (min_groups, self.n_splits)), UserWarning)\n",
            "\u001b[2m\u001b[36m(pid=1199)\u001b[0m /usr/local/lib/python3.7/dist-packages/sklearn/model_selection/_split.py:667: UserWarning: The least populated class in y has only 2 members, which is less than n_splits=5.\n",
            "\u001b[2m\u001b[36m(pid=1199)\u001b[0m   % (min_groups, self.n_splits)), UserWarning)\n"
          ],
          "name": "stderr"
        },
        {
          "output_type": "stream",
          "text": [
            "Result for DEFAULT_5d087_00023:\n",
            "  date: 2021-05-25_07-20-56\n",
            "  done: false\n",
            "  experiment_id: bd0f829ec81440e08e7c5abd4184c97e\n",
            "  hostname: d76bb801c9dd\n",
            "  iterations_since_restore: 1\n",
            "  mean_accuracy: 1.9223697185516357\n",
            "  node_ip: 172.28.0.2\n",
            "  pid: 1199\n",
            "  should_checkpoint: true\n",
            "  time_since_restore: 4.84497332572937\n",
            "  time_this_iter_s: 4.84497332572937\n",
            "  time_total_s: 4.84497332572937\n",
            "  timestamp: 1621927256\n",
            "  timesteps_since_restore: 0\n",
            "  training_iteration: 1\n",
            "  trial_id: 5d087_00023\n",
            "  \n"
          ],
          "name": "stdout"
        },
        {
          "output_type": "display_data",
          "data": {
            "text/html": [
              "== Status ==<br>Memory usage on this node: 2.9/12.7 GiB<br>Using FIFO scheduling algorithm.<br>Resources requested: 2.0/2 CPUs, 1.0/1 GPUs, 0.0/7.33 GiB heap, 0.0/3.67 GiB objects (0.0/1.0 accelerator_type:T4)<br>Result logdir: /content/drive/MyDrive/RecAE/experiments/ECG_5000<br>Number of trials: 36/36 (12 PENDING, 1 RUNNING, 23 TERMINATED)<br><table>\n",
              "<thead>\n",
              "<tr><th>Trial name         </th><th>status    </th><th>loc            </th><th style=\"text-align: right;\">  batch_size</th><th style=\"text-align: right;\">  latent_dim</th><th>loss_param       </th><th style=\"text-align: right;\">   lr</th><th style=\"text-align: right;\">    acc</th><th style=\"text-align: right;\">  iter</th><th style=\"text-align: right;\">  total time (s)</th></tr>\n",
              "</thead>\n",
              "<tbody>\n",
              "<tr><td>DEFAULT_5d087_00023</td><td>RUNNING   </td><td>172.28.0.2:1199</td><td style=\"text-align: right;\">         256</td><td style=\"text-align: right;\">         105</td><td>(&#x27;MAEAUC&#x27;, 0.001)</td><td style=\"text-align: right;\">0.01 </td><td style=\"text-align: right;\">1.92237</td><td style=\"text-align: right;\">     1</td><td style=\"text-align: right;\">         4.84497</td></tr>\n",
              "<tr><td>DEFAULT_5d087_00024</td><td>PENDING   </td><td>               </td><td style=\"text-align: right;\">         256</td><td style=\"text-align: right;\">          35</td><td>(&#x27;MAEAUC&#x27;, 0.01) </td><td style=\"text-align: right;\">0.01 </td><td style=\"text-align: right;\">       </td><td style=\"text-align: right;\">      </td><td style=\"text-align: right;\">                </td></tr>\n",
              "<tr><td>DEFAULT_5d087_00025</td><td>PENDING   </td><td>               </td><td style=\"text-align: right;\">         256</td><td style=\"text-align: right;\">          70</td><td>(&#x27;MAEAUC&#x27;, 0.01) </td><td style=\"text-align: right;\">0.01 </td><td style=\"text-align: right;\">       </td><td style=\"text-align: right;\">      </td><td style=\"text-align: right;\">                </td></tr>\n",
              "<tr><td>DEFAULT_5d087_00026</td><td>PENDING   </td><td>               </td><td style=\"text-align: right;\">         256</td><td style=\"text-align: right;\">         105</td><td>(&#x27;MAEAUC&#x27;, 0.01) </td><td style=\"text-align: right;\">0.01 </td><td style=\"text-align: right;\">       </td><td style=\"text-align: right;\">      </td><td style=\"text-align: right;\">                </td></tr>\n",
              "<tr><td>DEFAULT_5d087_00027</td><td>PENDING   </td><td>               </td><td style=\"text-align: right;\">         256</td><td style=\"text-align: right;\">          35</td><td>(&#x27;MAEAUC&#x27;, 0.1)  </td><td style=\"text-align: right;\">0.01 </td><td style=\"text-align: right;\">       </td><td style=\"text-align: right;\">      </td><td style=\"text-align: right;\">                </td></tr>\n",
              "<tr><td>DEFAULT_5d087_00028</td><td>PENDING   </td><td>               </td><td style=\"text-align: right;\">         256</td><td style=\"text-align: right;\">          70</td><td>(&#x27;MAEAUC&#x27;, 0.1)  </td><td style=\"text-align: right;\">0.01 </td><td style=\"text-align: right;\">       </td><td style=\"text-align: right;\">      </td><td style=\"text-align: right;\">                </td></tr>\n",
              "<tr><td>DEFAULT_5d087_00029</td><td>PENDING   </td><td>               </td><td style=\"text-align: right;\">         256</td><td style=\"text-align: right;\">         105</td><td>(&#x27;MAEAUC&#x27;, 0.1)  </td><td style=\"text-align: right;\">0.01 </td><td style=\"text-align: right;\">       </td><td style=\"text-align: right;\">      </td><td style=\"text-align: right;\">                </td></tr>\n",
              "<tr><td>DEFAULT_5d087_00030</td><td>PENDING   </td><td>               </td><td style=\"text-align: right;\">         256</td><td style=\"text-align: right;\">          35</td><td>(&#x27;MAEAUC&#x27;, 1)    </td><td style=\"text-align: right;\">0.01 </td><td style=\"text-align: right;\">       </td><td style=\"text-align: right;\">      </td><td style=\"text-align: right;\">                </td></tr>\n",
              "<tr><td>DEFAULT_5d087_00031</td><td>PENDING   </td><td>               </td><td style=\"text-align: right;\">         256</td><td style=\"text-align: right;\">          70</td><td>(&#x27;MAEAUC&#x27;, 1)    </td><td style=\"text-align: right;\">0.01 </td><td style=\"text-align: right;\">       </td><td style=\"text-align: right;\">      </td><td style=\"text-align: right;\">                </td></tr>\n",
              "<tr><td>DEFAULT_5d087_00032</td><td>PENDING   </td><td>               </td><td style=\"text-align: right;\">         256</td><td style=\"text-align: right;\">         105</td><td>(&#x27;MAEAUC&#x27;, 1)    </td><td style=\"text-align: right;\">0.01 </td><td style=\"text-align: right;\">       </td><td style=\"text-align: right;\">      </td><td style=\"text-align: right;\">                </td></tr>\n",
              "<tr><td>DEFAULT_5d087_00033</td><td>PENDING   </td><td>               </td><td style=\"text-align: right;\">         256</td><td style=\"text-align: right;\">          35</td><td>(&#x27;MAEAUC&#x27;, 10)   </td><td style=\"text-align: right;\">0.01 </td><td style=\"text-align: right;\">       </td><td style=\"text-align: right;\">      </td><td style=\"text-align: right;\">                </td></tr>\n",
              "<tr><td>DEFAULT_5d087_00000</td><td>TERMINATED</td><td>               </td><td style=\"text-align: right;\">         256</td><td style=\"text-align: right;\">          35</td><td>(&#x27;MAE&#x27;, 0)       </td><td style=\"text-align: right;\">0.001</td><td style=\"text-align: right;\">1.99559</td><td style=\"text-align: right;\">     1</td><td style=\"text-align: right;\">        12.3246 </td></tr>\n",
              "<tr><td>DEFAULT_5d087_00001</td><td>TERMINATED</td><td>               </td><td style=\"text-align: right;\">         256</td><td style=\"text-align: right;\">          70</td><td>(&#x27;MAE&#x27;, 0)       </td><td style=\"text-align: right;\">0.001</td><td style=\"text-align: right;\">1.98247</td><td style=\"text-align: right;\">     1</td><td style=\"text-align: right;\">         4.70409</td></tr>\n",
              "<tr><td>DEFAULT_5d087_00002</td><td>TERMINATED</td><td>               </td><td style=\"text-align: right;\">         256</td><td style=\"text-align: right;\">         105</td><td>(&#x27;MAE&#x27;, 0)       </td><td style=\"text-align: right;\">0.001</td><td style=\"text-align: right;\">1.98955</td><td style=\"text-align: right;\">     1</td><td style=\"text-align: right;\">         4.80142</td></tr>\n",
              "<tr><td>DEFAULT_5d087_00003</td><td>TERMINATED</td><td>               </td><td style=\"text-align: right;\">         256</td><td style=\"text-align: right;\">          35</td><td>(&#x27;MAEAUC&#x27;, 0.001)</td><td style=\"text-align: right;\">0.001</td><td style=\"text-align: right;\">1.99573</td><td style=\"text-align: right;\">     1</td><td style=\"text-align: right;\">         4.73747</td></tr>\n",
              "<tr><td>DEFAULT_5d087_00004</td><td>TERMINATED</td><td>               </td><td style=\"text-align: right;\">         256</td><td style=\"text-align: right;\">          70</td><td>(&#x27;MAEAUC&#x27;, 0.001)</td><td style=\"text-align: right;\">0.001</td><td style=\"text-align: right;\">1.99686</td><td style=\"text-align: right;\">     1</td><td style=\"text-align: right;\">         4.74517</td></tr>\n",
              "<tr><td>DEFAULT_5d087_00005</td><td>TERMINATED</td><td>               </td><td style=\"text-align: right;\">         256</td><td style=\"text-align: right;\">         105</td><td>(&#x27;MAEAUC&#x27;, 0.001)</td><td style=\"text-align: right;\">0.001</td><td style=\"text-align: right;\">1.97942</td><td style=\"text-align: right;\">     1</td><td style=\"text-align: right;\">         4.70129</td></tr>\n",
              "<tr><td>DEFAULT_5d087_00006</td><td>TERMINATED</td><td>               </td><td style=\"text-align: right;\">         256</td><td style=\"text-align: right;\">          35</td><td>(&#x27;MAEAUC&#x27;, 0.01) </td><td style=\"text-align: right;\">0.001</td><td style=\"text-align: right;\">1.99736</td><td style=\"text-align: right;\">     1</td><td style=\"text-align: right;\">         4.59657</td></tr>\n",
              "<tr><td>DEFAULT_5d087_00007</td><td>TERMINATED</td><td>               </td><td style=\"text-align: right;\">         256</td><td style=\"text-align: right;\">          70</td><td>(&#x27;MAEAUC&#x27;, 0.01) </td><td style=\"text-align: right;\">0.001</td><td style=\"text-align: right;\">1.99013</td><td style=\"text-align: right;\">     1</td><td style=\"text-align: right;\">         4.67644</td></tr>\n",
              "<tr><td>DEFAULT_5d087_00008</td><td>TERMINATED</td><td>               </td><td style=\"text-align: right;\">         256</td><td style=\"text-align: right;\">         105</td><td>(&#x27;MAEAUC&#x27;, 0.01) </td><td style=\"text-align: right;\">0.001</td><td style=\"text-align: right;\">1.97145</td><td style=\"text-align: right;\">     1</td><td style=\"text-align: right;\">         4.66659</td></tr>\n",
              "<tr><td>DEFAULT_5d087_00009</td><td>TERMINATED</td><td>               </td><td style=\"text-align: right;\">         256</td><td style=\"text-align: right;\">          35</td><td>(&#x27;MAEAUC&#x27;, 0.1)  </td><td style=\"text-align: right;\">0.001</td><td style=\"text-align: right;\">1.99685</td><td style=\"text-align: right;\">     1</td><td style=\"text-align: right;\">         4.698  </td></tr>\n",
              "</tbody>\n",
              "</table><br>... 16 more trials not shown (2 PENDING, 13 TERMINATED)<br><br>"
            ],
            "text/plain": [
              "<IPython.core.display.HTML object>"
            ]
          },
          "metadata": {
            "tags": []
          }
        },
        {
          "output_type": "stream",
          "text": [
            "2021-05-25 07:20:56,864\tINFO logger.py:690 -- Removed the following hyperparameter values when logging to tensorboard: {'loss_param': ('MAEAUC', 0.001)}\n"
          ],
          "name": "stderr"
        },
        {
          "output_type": "stream",
          "text": [
            "Result for DEFAULT_5d087_00023:\n",
            "  date: 2021-05-25_07-20-56\n",
            "  done: true\n",
            "  experiment_id: bd0f829ec81440e08e7c5abd4184c97e\n",
            "  experiment_tag: 23_batch_size=256,latent_dim=105,loss_param=('MAEAUC', 0.001),lr=0.01\n",
            "  hostname: d76bb801c9dd\n",
            "  iterations_since_restore: 1\n",
            "  mean_accuracy: 1.9223697185516357\n",
            "  node_ip: 172.28.0.2\n",
            "  pid: 1199\n",
            "  should_checkpoint: true\n",
            "  time_since_restore: 4.84497332572937\n",
            "  time_this_iter_s: 4.84497332572937\n",
            "  time_total_s: 4.84497332572937\n",
            "  timestamp: 1621927256\n",
            "  timesteps_since_restore: 0\n",
            "  training_iteration: 1\n",
            "  trial_id: 5d087_00023\n",
            "  \n"
          ],
          "name": "stdout"
        },
        {
          "output_type": "stream",
          "text": [
            "\u001b[2m\u001b[33m(raylet)\u001b[0m /usr/local/lib/python3.7/dist-packages/ray/autoscaler/_private/cli_logger.py:61: FutureWarning: Not all Ray CLI dependencies were found. In Ray 1.4+, the Ray CLI, autoscaler, and dashboard will only be usable via `pip install 'ray[default]'`. Please update your install command.\n",
            "\u001b[2m\u001b[33m(raylet)\u001b[0m   \"update your install command.\", FutureWarning)\n"
          ],
          "name": "stderr"
        },
        {
          "output_type": "stream",
          "text": [
            "\u001b[2m\u001b[36m(pid=1227)\u001b[0m Operation will be on *****GPU-CUDA***** \n"
          ],
          "name": "stdout"
        },
        {
          "output_type": "stream",
          "text": [
            "\u001b[2m\u001b[36m(pid=1227)\u001b[0m /usr/local/lib/python3.7/dist-packages/sklearn/model_selection/_split.py:667: UserWarning: The least populated class in y has only 2 members, which is less than n_splits=5.\n",
            "\u001b[2m\u001b[36m(pid=1227)\u001b[0m   % (min_groups, self.n_splits)), UserWarning)\n",
            "\u001b[2m\u001b[36m(pid=1227)\u001b[0m /usr/local/lib/python3.7/dist-packages/sklearn/model_selection/_split.py:667: UserWarning: The least populated class in y has only 2 members, which is less than n_splits=5.\n",
            "\u001b[2m\u001b[36m(pid=1227)\u001b[0m   % (min_groups, self.n_splits)), UserWarning)\n",
            "\u001b[2m\u001b[36m(pid=1227)\u001b[0m /usr/local/lib/python3.7/dist-packages/sklearn/model_selection/_split.py:667: UserWarning: The least populated class in y has only 2 members, which is less than n_splits=5.\n",
            "\u001b[2m\u001b[36m(pid=1227)\u001b[0m   % (min_groups, self.n_splits)), UserWarning)\n"
          ],
          "name": "stderr"
        },
        {
          "output_type": "stream",
          "text": [
            "Result for DEFAULT_5d087_00024:\n",
            "  date: 2021-05-25_07-21-03\n",
            "  done: false\n",
            "  experiment_id: ccf0c466a63247a3bc80485b3af15085\n",
            "  hostname: d76bb801c9dd\n",
            "  iterations_since_restore: 1\n",
            "  mean_accuracy: 1.935082733631134\n",
            "  node_ip: 172.28.0.2\n",
            "  pid: 1227\n",
            "  should_checkpoint: true\n",
            "  time_since_restore: 4.786225318908691\n",
            "  time_this_iter_s: 4.786225318908691\n",
            "  time_total_s: 4.786225318908691\n",
            "  timestamp: 1621927263\n",
            "  timesteps_since_restore: 0\n",
            "  training_iteration: 1\n",
            "  trial_id: 5d087_00024\n",
            "  \n"
          ],
          "name": "stdout"
        },
        {
          "output_type": "display_data",
          "data": {
            "text/html": [
              "== Status ==<br>Memory usage on this node: 2.9/12.7 GiB<br>Using FIFO scheduling algorithm.<br>Resources requested: 2.0/2 CPUs, 1.0/1 GPUs, 0.0/7.33 GiB heap, 0.0/3.67 GiB objects (0.0/1.0 accelerator_type:T4)<br>Result logdir: /content/drive/MyDrive/RecAE/experiments/ECG_5000<br>Number of trials: 36/36 (11 PENDING, 1 RUNNING, 24 TERMINATED)<br><table>\n",
              "<thead>\n",
              "<tr><th>Trial name         </th><th>status    </th><th>loc            </th><th style=\"text-align: right;\">  batch_size</th><th style=\"text-align: right;\">  latent_dim</th><th>loss_param       </th><th style=\"text-align: right;\">   lr</th><th style=\"text-align: right;\">    acc</th><th style=\"text-align: right;\">  iter</th><th style=\"text-align: right;\">  total time (s)</th></tr>\n",
              "</thead>\n",
              "<tbody>\n",
              "<tr><td>DEFAULT_5d087_00024</td><td>RUNNING   </td><td>172.28.0.2:1227</td><td style=\"text-align: right;\">         256</td><td style=\"text-align: right;\">          35</td><td>(&#x27;MAEAUC&#x27;, 0.01) </td><td style=\"text-align: right;\">0.01 </td><td style=\"text-align: right;\">1.93508</td><td style=\"text-align: right;\">     1</td><td style=\"text-align: right;\">         4.78623</td></tr>\n",
              "<tr><td>DEFAULT_5d087_00025</td><td>PENDING   </td><td>               </td><td style=\"text-align: right;\">         256</td><td style=\"text-align: right;\">          70</td><td>(&#x27;MAEAUC&#x27;, 0.01) </td><td style=\"text-align: right;\">0.01 </td><td style=\"text-align: right;\">       </td><td style=\"text-align: right;\">      </td><td style=\"text-align: right;\">                </td></tr>\n",
              "<tr><td>DEFAULT_5d087_00026</td><td>PENDING   </td><td>               </td><td style=\"text-align: right;\">         256</td><td style=\"text-align: right;\">         105</td><td>(&#x27;MAEAUC&#x27;, 0.01) </td><td style=\"text-align: right;\">0.01 </td><td style=\"text-align: right;\">       </td><td style=\"text-align: right;\">      </td><td style=\"text-align: right;\">                </td></tr>\n",
              "<tr><td>DEFAULT_5d087_00027</td><td>PENDING   </td><td>               </td><td style=\"text-align: right;\">         256</td><td style=\"text-align: right;\">          35</td><td>(&#x27;MAEAUC&#x27;, 0.1)  </td><td style=\"text-align: right;\">0.01 </td><td style=\"text-align: right;\">       </td><td style=\"text-align: right;\">      </td><td style=\"text-align: right;\">                </td></tr>\n",
              "<tr><td>DEFAULT_5d087_00028</td><td>PENDING   </td><td>               </td><td style=\"text-align: right;\">         256</td><td style=\"text-align: right;\">          70</td><td>(&#x27;MAEAUC&#x27;, 0.1)  </td><td style=\"text-align: right;\">0.01 </td><td style=\"text-align: right;\">       </td><td style=\"text-align: right;\">      </td><td style=\"text-align: right;\">                </td></tr>\n",
              "<tr><td>DEFAULT_5d087_00029</td><td>PENDING   </td><td>               </td><td style=\"text-align: right;\">         256</td><td style=\"text-align: right;\">         105</td><td>(&#x27;MAEAUC&#x27;, 0.1)  </td><td style=\"text-align: right;\">0.01 </td><td style=\"text-align: right;\">       </td><td style=\"text-align: right;\">      </td><td style=\"text-align: right;\">                </td></tr>\n",
              "<tr><td>DEFAULT_5d087_00030</td><td>PENDING   </td><td>               </td><td style=\"text-align: right;\">         256</td><td style=\"text-align: right;\">          35</td><td>(&#x27;MAEAUC&#x27;, 1)    </td><td style=\"text-align: right;\">0.01 </td><td style=\"text-align: right;\">       </td><td style=\"text-align: right;\">      </td><td style=\"text-align: right;\">                </td></tr>\n",
              "<tr><td>DEFAULT_5d087_00031</td><td>PENDING   </td><td>               </td><td style=\"text-align: right;\">         256</td><td style=\"text-align: right;\">          70</td><td>(&#x27;MAEAUC&#x27;, 1)    </td><td style=\"text-align: right;\">0.01 </td><td style=\"text-align: right;\">       </td><td style=\"text-align: right;\">      </td><td style=\"text-align: right;\">                </td></tr>\n",
              "<tr><td>DEFAULT_5d087_00032</td><td>PENDING   </td><td>               </td><td style=\"text-align: right;\">         256</td><td style=\"text-align: right;\">         105</td><td>(&#x27;MAEAUC&#x27;, 1)    </td><td style=\"text-align: right;\">0.01 </td><td style=\"text-align: right;\">       </td><td style=\"text-align: right;\">      </td><td style=\"text-align: right;\">                </td></tr>\n",
              "<tr><td>DEFAULT_5d087_00033</td><td>PENDING   </td><td>               </td><td style=\"text-align: right;\">         256</td><td style=\"text-align: right;\">          35</td><td>(&#x27;MAEAUC&#x27;, 10)   </td><td style=\"text-align: right;\">0.01 </td><td style=\"text-align: right;\">       </td><td style=\"text-align: right;\">      </td><td style=\"text-align: right;\">                </td></tr>\n",
              "<tr><td>DEFAULT_5d087_00034</td><td>PENDING   </td><td>               </td><td style=\"text-align: right;\">         256</td><td style=\"text-align: right;\">          70</td><td>(&#x27;MAEAUC&#x27;, 10)   </td><td style=\"text-align: right;\">0.01 </td><td style=\"text-align: right;\">       </td><td style=\"text-align: right;\">      </td><td style=\"text-align: right;\">                </td></tr>\n",
              "<tr><td>DEFAULT_5d087_00000</td><td>TERMINATED</td><td>               </td><td style=\"text-align: right;\">         256</td><td style=\"text-align: right;\">          35</td><td>(&#x27;MAE&#x27;, 0)       </td><td style=\"text-align: right;\">0.001</td><td style=\"text-align: right;\">1.99559</td><td style=\"text-align: right;\">     1</td><td style=\"text-align: right;\">        12.3246 </td></tr>\n",
              "<tr><td>DEFAULT_5d087_00001</td><td>TERMINATED</td><td>               </td><td style=\"text-align: right;\">         256</td><td style=\"text-align: right;\">          70</td><td>(&#x27;MAE&#x27;, 0)       </td><td style=\"text-align: right;\">0.001</td><td style=\"text-align: right;\">1.98247</td><td style=\"text-align: right;\">     1</td><td style=\"text-align: right;\">         4.70409</td></tr>\n",
              "<tr><td>DEFAULT_5d087_00002</td><td>TERMINATED</td><td>               </td><td style=\"text-align: right;\">         256</td><td style=\"text-align: right;\">         105</td><td>(&#x27;MAE&#x27;, 0)       </td><td style=\"text-align: right;\">0.001</td><td style=\"text-align: right;\">1.98955</td><td style=\"text-align: right;\">     1</td><td style=\"text-align: right;\">         4.80142</td></tr>\n",
              "<tr><td>DEFAULT_5d087_00003</td><td>TERMINATED</td><td>               </td><td style=\"text-align: right;\">         256</td><td style=\"text-align: right;\">          35</td><td>(&#x27;MAEAUC&#x27;, 0.001)</td><td style=\"text-align: right;\">0.001</td><td style=\"text-align: right;\">1.99573</td><td style=\"text-align: right;\">     1</td><td style=\"text-align: right;\">         4.73747</td></tr>\n",
              "<tr><td>DEFAULT_5d087_00004</td><td>TERMINATED</td><td>               </td><td style=\"text-align: right;\">         256</td><td style=\"text-align: right;\">          70</td><td>(&#x27;MAEAUC&#x27;, 0.001)</td><td style=\"text-align: right;\">0.001</td><td style=\"text-align: right;\">1.99686</td><td style=\"text-align: right;\">     1</td><td style=\"text-align: right;\">         4.74517</td></tr>\n",
              "<tr><td>DEFAULT_5d087_00005</td><td>TERMINATED</td><td>               </td><td style=\"text-align: right;\">         256</td><td style=\"text-align: right;\">         105</td><td>(&#x27;MAEAUC&#x27;, 0.001)</td><td style=\"text-align: right;\">0.001</td><td style=\"text-align: right;\">1.97942</td><td style=\"text-align: right;\">     1</td><td style=\"text-align: right;\">         4.70129</td></tr>\n",
              "<tr><td>DEFAULT_5d087_00006</td><td>TERMINATED</td><td>               </td><td style=\"text-align: right;\">         256</td><td style=\"text-align: right;\">          35</td><td>(&#x27;MAEAUC&#x27;, 0.01) </td><td style=\"text-align: right;\">0.001</td><td style=\"text-align: right;\">1.99736</td><td style=\"text-align: right;\">     1</td><td style=\"text-align: right;\">         4.59657</td></tr>\n",
              "<tr><td>DEFAULT_5d087_00007</td><td>TERMINATED</td><td>               </td><td style=\"text-align: right;\">         256</td><td style=\"text-align: right;\">          70</td><td>(&#x27;MAEAUC&#x27;, 0.01) </td><td style=\"text-align: right;\">0.001</td><td style=\"text-align: right;\">1.99013</td><td style=\"text-align: right;\">     1</td><td style=\"text-align: right;\">         4.67644</td></tr>\n",
              "<tr><td>DEFAULT_5d087_00008</td><td>TERMINATED</td><td>               </td><td style=\"text-align: right;\">         256</td><td style=\"text-align: right;\">         105</td><td>(&#x27;MAEAUC&#x27;, 0.01) </td><td style=\"text-align: right;\">0.001</td><td style=\"text-align: right;\">1.97145</td><td style=\"text-align: right;\">     1</td><td style=\"text-align: right;\">         4.66659</td></tr>\n",
              "<tr><td>DEFAULT_5d087_00009</td><td>TERMINATED</td><td>               </td><td style=\"text-align: right;\">         256</td><td style=\"text-align: right;\">          35</td><td>(&#x27;MAEAUC&#x27;, 0.1)  </td><td style=\"text-align: right;\">0.001</td><td style=\"text-align: right;\">1.99685</td><td style=\"text-align: right;\">     1</td><td style=\"text-align: right;\">         4.698  </td></tr>\n",
              "</tbody>\n",
              "</table><br>... 16 more trials not shown (1 PENDING, 14 TERMINATED)<br><br>"
            ],
            "text/plain": [
              "<IPython.core.display.HTML object>"
            ]
          },
          "metadata": {
            "tags": []
          }
        },
        {
          "output_type": "stream",
          "text": [
            "2021-05-25 07:21:03,570\tINFO logger.py:690 -- Removed the following hyperparameter values when logging to tensorboard: {'loss_param': ('MAEAUC', 0.01)}\n"
          ],
          "name": "stderr"
        },
        {
          "output_type": "stream",
          "text": [
            "Result for DEFAULT_5d087_00024:\n",
            "  date: 2021-05-25_07-21-03\n",
            "  done: true\n",
            "  experiment_id: ccf0c466a63247a3bc80485b3af15085\n",
            "  experiment_tag: 24_batch_size=256,latent_dim=35,loss_param=('MAEAUC', 0.01),lr=0.01\n",
            "  hostname: d76bb801c9dd\n",
            "  iterations_since_restore: 1\n",
            "  mean_accuracy: 1.935082733631134\n",
            "  node_ip: 172.28.0.2\n",
            "  pid: 1227\n",
            "  should_checkpoint: true\n",
            "  time_since_restore: 4.786225318908691\n",
            "  time_this_iter_s: 4.786225318908691\n",
            "  time_total_s: 4.786225318908691\n",
            "  timestamp: 1621927263\n",
            "  timesteps_since_restore: 0\n",
            "  training_iteration: 1\n",
            "  trial_id: 5d087_00024\n",
            "  \n"
          ],
          "name": "stdout"
        },
        {
          "output_type": "stream",
          "text": [
            "\u001b[2m\u001b[33m(raylet)\u001b[0m /usr/local/lib/python3.7/dist-packages/ray/autoscaler/_private/cli_logger.py:61: FutureWarning: Not all Ray CLI dependencies were found. In Ray 1.4+, the Ray CLI, autoscaler, and dashboard will only be usable via `pip install 'ray[default]'`. Please update your install command.\n",
            "\u001b[2m\u001b[33m(raylet)\u001b[0m   \"update your install command.\", FutureWarning)\n"
          ],
          "name": "stderr"
        },
        {
          "output_type": "stream",
          "text": [
            "\u001b[2m\u001b[36m(pid=1257)\u001b[0m Operation will be on *****GPU-CUDA***** \n"
          ],
          "name": "stdout"
        },
        {
          "output_type": "stream",
          "text": [
            "\u001b[2m\u001b[36m(pid=1257)\u001b[0m /usr/local/lib/python3.7/dist-packages/sklearn/model_selection/_split.py:667: UserWarning: The least populated class in y has only 2 members, which is less than n_splits=5.\n",
            "\u001b[2m\u001b[36m(pid=1257)\u001b[0m   % (min_groups, self.n_splits)), UserWarning)\n",
            "\u001b[2m\u001b[36m(pid=1257)\u001b[0m /usr/local/lib/python3.7/dist-packages/sklearn/model_selection/_split.py:667: UserWarning: The least populated class in y has only 2 members, which is less than n_splits=5.\n",
            "\u001b[2m\u001b[36m(pid=1257)\u001b[0m   % (min_groups, self.n_splits)), UserWarning)\n",
            "\u001b[2m\u001b[36m(pid=1257)\u001b[0m /usr/local/lib/python3.7/dist-packages/sklearn/model_selection/_split.py:667: UserWarning: The least populated class in y has only 2 members, which is less than n_splits=5.\n",
            "\u001b[2m\u001b[36m(pid=1257)\u001b[0m   % (min_groups, self.n_splits)), UserWarning)\n"
          ],
          "name": "stderr"
        },
        {
          "output_type": "stream",
          "text": [
            "Result for DEFAULT_5d087_00025:\n",
            "  date: 2021-05-25_07-21-09\n",
            "  done: false\n",
            "  experiment_id: a8257d4af4c14b97b10520bcf805ebd7\n",
            "  hostname: d76bb801c9dd\n",
            "  iterations_since_restore: 1\n",
            "  mean_accuracy: 1.8849250078201294\n",
            "  node_ip: 172.28.0.2\n",
            "  pid: 1257\n",
            "  should_checkpoint: true\n",
            "  time_since_restore: 4.61107063293457\n",
            "  time_this_iter_s: 4.61107063293457\n",
            "  time_total_s: 4.61107063293457\n",
            "  timestamp: 1621927269\n",
            "  timesteps_since_restore: 0\n",
            "  training_iteration: 1\n",
            "  trial_id: 5d087_00025\n",
            "  \n"
          ],
          "name": "stdout"
        },
        {
          "output_type": "display_data",
          "data": {
            "text/html": [
              "== Status ==<br>Memory usage on this node: 2.9/12.7 GiB<br>Using FIFO scheduling algorithm.<br>Resources requested: 2.0/2 CPUs, 1.0/1 GPUs, 0.0/7.33 GiB heap, 0.0/3.67 GiB objects (0.0/1.0 accelerator_type:T4)<br>Result logdir: /content/drive/MyDrive/RecAE/experiments/ECG_5000<br>Number of trials: 36/36 (10 PENDING, 1 RUNNING, 25 TERMINATED)<br><table>\n",
              "<thead>\n",
              "<tr><th>Trial name         </th><th>status    </th><th>loc            </th><th style=\"text-align: right;\">  batch_size</th><th style=\"text-align: right;\">  latent_dim</th><th>loss_param       </th><th style=\"text-align: right;\">   lr</th><th style=\"text-align: right;\">    acc</th><th style=\"text-align: right;\">  iter</th><th style=\"text-align: right;\">  total time (s)</th></tr>\n",
              "</thead>\n",
              "<tbody>\n",
              "<tr><td>DEFAULT_5d087_00025</td><td>RUNNING   </td><td>172.28.0.2:1257</td><td style=\"text-align: right;\">         256</td><td style=\"text-align: right;\">          70</td><td>(&#x27;MAEAUC&#x27;, 0.01) </td><td style=\"text-align: right;\">0.01 </td><td style=\"text-align: right;\">1.88493</td><td style=\"text-align: right;\">     1</td><td style=\"text-align: right;\">         4.61107</td></tr>\n",
              "<tr><td>DEFAULT_5d087_00026</td><td>PENDING   </td><td>               </td><td style=\"text-align: right;\">         256</td><td style=\"text-align: right;\">         105</td><td>(&#x27;MAEAUC&#x27;, 0.01) </td><td style=\"text-align: right;\">0.01 </td><td style=\"text-align: right;\">       </td><td style=\"text-align: right;\">      </td><td style=\"text-align: right;\">                </td></tr>\n",
              "<tr><td>DEFAULT_5d087_00027</td><td>PENDING   </td><td>               </td><td style=\"text-align: right;\">         256</td><td style=\"text-align: right;\">          35</td><td>(&#x27;MAEAUC&#x27;, 0.1)  </td><td style=\"text-align: right;\">0.01 </td><td style=\"text-align: right;\">       </td><td style=\"text-align: right;\">      </td><td style=\"text-align: right;\">                </td></tr>\n",
              "<tr><td>DEFAULT_5d087_00028</td><td>PENDING   </td><td>               </td><td style=\"text-align: right;\">         256</td><td style=\"text-align: right;\">          70</td><td>(&#x27;MAEAUC&#x27;, 0.1)  </td><td style=\"text-align: right;\">0.01 </td><td style=\"text-align: right;\">       </td><td style=\"text-align: right;\">      </td><td style=\"text-align: right;\">                </td></tr>\n",
              "<tr><td>DEFAULT_5d087_00029</td><td>PENDING   </td><td>               </td><td style=\"text-align: right;\">         256</td><td style=\"text-align: right;\">         105</td><td>(&#x27;MAEAUC&#x27;, 0.1)  </td><td style=\"text-align: right;\">0.01 </td><td style=\"text-align: right;\">       </td><td style=\"text-align: right;\">      </td><td style=\"text-align: right;\">                </td></tr>\n",
              "<tr><td>DEFAULT_5d087_00030</td><td>PENDING   </td><td>               </td><td style=\"text-align: right;\">         256</td><td style=\"text-align: right;\">          35</td><td>(&#x27;MAEAUC&#x27;, 1)    </td><td style=\"text-align: right;\">0.01 </td><td style=\"text-align: right;\">       </td><td style=\"text-align: right;\">      </td><td style=\"text-align: right;\">                </td></tr>\n",
              "<tr><td>DEFAULT_5d087_00031</td><td>PENDING   </td><td>               </td><td style=\"text-align: right;\">         256</td><td style=\"text-align: right;\">          70</td><td>(&#x27;MAEAUC&#x27;, 1)    </td><td style=\"text-align: right;\">0.01 </td><td style=\"text-align: right;\">       </td><td style=\"text-align: right;\">      </td><td style=\"text-align: right;\">                </td></tr>\n",
              "<tr><td>DEFAULT_5d087_00032</td><td>PENDING   </td><td>               </td><td style=\"text-align: right;\">         256</td><td style=\"text-align: right;\">         105</td><td>(&#x27;MAEAUC&#x27;, 1)    </td><td style=\"text-align: right;\">0.01 </td><td style=\"text-align: right;\">       </td><td style=\"text-align: right;\">      </td><td style=\"text-align: right;\">                </td></tr>\n",
              "<tr><td>DEFAULT_5d087_00033</td><td>PENDING   </td><td>               </td><td style=\"text-align: right;\">         256</td><td style=\"text-align: right;\">          35</td><td>(&#x27;MAEAUC&#x27;, 10)   </td><td style=\"text-align: right;\">0.01 </td><td style=\"text-align: right;\">       </td><td style=\"text-align: right;\">      </td><td style=\"text-align: right;\">                </td></tr>\n",
              "<tr><td>DEFAULT_5d087_00034</td><td>PENDING   </td><td>               </td><td style=\"text-align: right;\">         256</td><td style=\"text-align: right;\">          70</td><td>(&#x27;MAEAUC&#x27;, 10)   </td><td style=\"text-align: right;\">0.01 </td><td style=\"text-align: right;\">       </td><td style=\"text-align: right;\">      </td><td style=\"text-align: right;\">                </td></tr>\n",
              "<tr><td>DEFAULT_5d087_00035</td><td>PENDING   </td><td>               </td><td style=\"text-align: right;\">         256</td><td style=\"text-align: right;\">         105</td><td>(&#x27;MAEAUC&#x27;, 10)   </td><td style=\"text-align: right;\">0.01 </td><td style=\"text-align: right;\">       </td><td style=\"text-align: right;\">      </td><td style=\"text-align: right;\">                </td></tr>\n",
              "<tr><td>DEFAULT_5d087_00000</td><td>TERMINATED</td><td>               </td><td style=\"text-align: right;\">         256</td><td style=\"text-align: right;\">          35</td><td>(&#x27;MAE&#x27;, 0)       </td><td style=\"text-align: right;\">0.001</td><td style=\"text-align: right;\">1.99559</td><td style=\"text-align: right;\">     1</td><td style=\"text-align: right;\">        12.3246 </td></tr>\n",
              "<tr><td>DEFAULT_5d087_00001</td><td>TERMINATED</td><td>               </td><td style=\"text-align: right;\">         256</td><td style=\"text-align: right;\">          70</td><td>(&#x27;MAE&#x27;, 0)       </td><td style=\"text-align: right;\">0.001</td><td style=\"text-align: right;\">1.98247</td><td style=\"text-align: right;\">     1</td><td style=\"text-align: right;\">         4.70409</td></tr>\n",
              "<tr><td>DEFAULT_5d087_00002</td><td>TERMINATED</td><td>               </td><td style=\"text-align: right;\">         256</td><td style=\"text-align: right;\">         105</td><td>(&#x27;MAE&#x27;, 0)       </td><td style=\"text-align: right;\">0.001</td><td style=\"text-align: right;\">1.98955</td><td style=\"text-align: right;\">     1</td><td style=\"text-align: right;\">         4.80142</td></tr>\n",
              "<tr><td>DEFAULT_5d087_00003</td><td>TERMINATED</td><td>               </td><td style=\"text-align: right;\">         256</td><td style=\"text-align: right;\">          35</td><td>(&#x27;MAEAUC&#x27;, 0.001)</td><td style=\"text-align: right;\">0.001</td><td style=\"text-align: right;\">1.99573</td><td style=\"text-align: right;\">     1</td><td style=\"text-align: right;\">         4.73747</td></tr>\n",
              "<tr><td>DEFAULT_5d087_00004</td><td>TERMINATED</td><td>               </td><td style=\"text-align: right;\">         256</td><td style=\"text-align: right;\">          70</td><td>(&#x27;MAEAUC&#x27;, 0.001)</td><td style=\"text-align: right;\">0.001</td><td style=\"text-align: right;\">1.99686</td><td style=\"text-align: right;\">     1</td><td style=\"text-align: right;\">         4.74517</td></tr>\n",
              "<tr><td>DEFAULT_5d087_00005</td><td>TERMINATED</td><td>               </td><td style=\"text-align: right;\">         256</td><td style=\"text-align: right;\">         105</td><td>(&#x27;MAEAUC&#x27;, 0.001)</td><td style=\"text-align: right;\">0.001</td><td style=\"text-align: right;\">1.97942</td><td style=\"text-align: right;\">     1</td><td style=\"text-align: right;\">         4.70129</td></tr>\n",
              "<tr><td>DEFAULT_5d087_00006</td><td>TERMINATED</td><td>               </td><td style=\"text-align: right;\">         256</td><td style=\"text-align: right;\">          35</td><td>(&#x27;MAEAUC&#x27;, 0.01) </td><td style=\"text-align: right;\">0.001</td><td style=\"text-align: right;\">1.99736</td><td style=\"text-align: right;\">     1</td><td style=\"text-align: right;\">         4.59657</td></tr>\n",
              "<tr><td>DEFAULT_5d087_00007</td><td>TERMINATED</td><td>               </td><td style=\"text-align: right;\">         256</td><td style=\"text-align: right;\">          70</td><td>(&#x27;MAEAUC&#x27;, 0.01) </td><td style=\"text-align: right;\">0.001</td><td style=\"text-align: right;\">1.99013</td><td style=\"text-align: right;\">     1</td><td style=\"text-align: right;\">         4.67644</td></tr>\n",
              "<tr><td>DEFAULT_5d087_00008</td><td>TERMINATED</td><td>               </td><td style=\"text-align: right;\">         256</td><td style=\"text-align: right;\">         105</td><td>(&#x27;MAEAUC&#x27;, 0.01) </td><td style=\"text-align: right;\">0.001</td><td style=\"text-align: right;\">1.97145</td><td style=\"text-align: right;\">     1</td><td style=\"text-align: right;\">         4.66659</td></tr>\n",
              "<tr><td>DEFAULT_5d087_00009</td><td>TERMINATED</td><td>               </td><td style=\"text-align: right;\">         256</td><td style=\"text-align: right;\">          35</td><td>(&#x27;MAEAUC&#x27;, 0.1)  </td><td style=\"text-align: right;\">0.001</td><td style=\"text-align: right;\">1.99685</td><td style=\"text-align: right;\">     1</td><td style=\"text-align: right;\">         4.698  </td></tr>\n",
              "</tbody>\n",
              "</table><br>... 16 more trials not shown (15 TERMINATED)<br><br>"
            ],
            "text/plain": [
              "<IPython.core.display.HTML object>"
            ]
          },
          "metadata": {
            "tags": []
          }
        },
        {
          "output_type": "stream",
          "text": [
            "Result for DEFAULT_5d087_00025:\n",
            "  date: 2021-05-25_07-21-09\n",
            "  done: true\n",
            "  experiment_id: a8257d4af4c14b97b10520bcf805ebd7\n",
            "  experiment_tag: 25_batch_size=256,latent_dim=70,loss_param=('MAEAUC', 0.01),lr=0.01\n",
            "  hostname: d76bb801c9dd\n",
            "  iterations_since_restore: 1\n",
            "  mean_accuracy: 1.8849250078201294\n",
            "  node_ip: 172.28.0.2\n",
            "  pid: 1257\n",
            "  should_checkpoint: true\n",
            "  time_since_restore: 4.61107063293457\n",
            "  time_this_iter_s: 4.61107063293457\n",
            "  time_total_s: 4.61107063293457\n",
            "  timestamp: 1621927269\n",
            "  timesteps_since_restore: 0\n",
            "  training_iteration: 1\n",
            "  trial_id: 5d087_00025\n",
            "  \n"
          ],
          "name": "stdout"
        },
        {
          "output_type": "stream",
          "text": [
            "2021-05-25 07:21:10,200\tINFO logger.py:690 -- Removed the following hyperparameter values when logging to tensorboard: {'loss_param': ('MAEAUC', 0.01)}\n",
            "\u001b[2m\u001b[33m(raylet)\u001b[0m /usr/local/lib/python3.7/dist-packages/ray/autoscaler/_private/cli_logger.py:61: FutureWarning: Not all Ray CLI dependencies were found. In Ray 1.4+, the Ray CLI, autoscaler, and dashboard will only be usable via `pip install 'ray[default]'`. Please update your install command.\n",
            "\u001b[2m\u001b[33m(raylet)\u001b[0m   \"update your install command.\", FutureWarning)\n"
          ],
          "name": "stderr"
        },
        {
          "output_type": "stream",
          "text": [
            "\u001b[2m\u001b[36m(pid=1283)\u001b[0m Operation will be on *****GPU-CUDA***** \n"
          ],
          "name": "stdout"
        },
        {
          "output_type": "stream",
          "text": [
            "\u001b[2m\u001b[36m(pid=1283)\u001b[0m /usr/local/lib/python3.7/dist-packages/sklearn/model_selection/_split.py:667: UserWarning: The least populated class in y has only 2 members, which is less than n_splits=5.\n",
            "\u001b[2m\u001b[36m(pid=1283)\u001b[0m   % (min_groups, self.n_splits)), UserWarning)\n",
            "\u001b[2m\u001b[36m(pid=1283)\u001b[0m /usr/local/lib/python3.7/dist-packages/sklearn/model_selection/_split.py:667: UserWarning: The least populated class in y has only 2 members, which is less than n_splits=5.\n",
            "\u001b[2m\u001b[36m(pid=1283)\u001b[0m   % (min_groups, self.n_splits)), UserWarning)\n",
            "\u001b[2m\u001b[36m(pid=1283)\u001b[0m /usr/local/lib/python3.7/dist-packages/sklearn/model_selection/_split.py:667: UserWarning: The least populated class in y has only 2 members, which is less than n_splits=5.\n",
            "\u001b[2m\u001b[36m(pid=1283)\u001b[0m   % (min_groups, self.n_splits)), UserWarning)\n"
          ],
          "name": "stderr"
        },
        {
          "output_type": "stream",
          "text": [
            "Result for DEFAULT_5d087_00026:\n",
            "  date: 2021-05-25_07-21-16\n",
            "  done: false\n",
            "  experiment_id: db29d1f8f918437593561778fcac106c\n",
            "  hostname: d76bb801c9dd\n",
            "  iterations_since_restore: 1\n",
            "  mean_accuracy: 1.9393603801727295\n",
            "  node_ip: 172.28.0.2\n",
            "  pid: 1283\n",
            "  should_checkpoint: true\n",
            "  time_since_restore: 4.699335098266602\n",
            "  time_this_iter_s: 4.699335098266602\n",
            "  time_total_s: 4.699335098266602\n",
            "  timestamp: 1621927276\n",
            "  timesteps_since_restore: 0\n",
            "  training_iteration: 1\n",
            "  trial_id: 5d087_00026\n",
            "  \n"
          ],
          "name": "stdout"
        },
        {
          "output_type": "display_data",
          "data": {
            "text/html": [
              "== Status ==<br>Memory usage on this node: 2.9/12.7 GiB<br>Using FIFO scheduling algorithm.<br>Resources requested: 2.0/2 CPUs, 1.0/1 GPUs, 0.0/7.33 GiB heap, 0.0/3.67 GiB objects (0.0/1.0 accelerator_type:T4)<br>Result logdir: /content/drive/MyDrive/RecAE/experiments/ECG_5000<br>Number of trials: 36/36 (9 PENDING, 1 RUNNING, 26 TERMINATED)<br><table>\n",
              "<thead>\n",
              "<tr><th>Trial name         </th><th>status    </th><th>loc            </th><th style=\"text-align: right;\">  batch_size</th><th style=\"text-align: right;\">  latent_dim</th><th>loss_param       </th><th style=\"text-align: right;\">   lr</th><th style=\"text-align: right;\">    acc</th><th style=\"text-align: right;\">  iter</th><th style=\"text-align: right;\">  total time (s)</th></tr>\n",
              "</thead>\n",
              "<tbody>\n",
              "<tr><td>DEFAULT_5d087_00026</td><td>RUNNING   </td><td>172.28.0.2:1283</td><td style=\"text-align: right;\">         256</td><td style=\"text-align: right;\">         105</td><td>(&#x27;MAEAUC&#x27;, 0.01) </td><td style=\"text-align: right;\">0.01 </td><td style=\"text-align: right;\">1.93936</td><td style=\"text-align: right;\">     1</td><td style=\"text-align: right;\">         4.69934</td></tr>\n",
              "<tr><td>DEFAULT_5d087_00027</td><td>PENDING   </td><td>               </td><td style=\"text-align: right;\">         256</td><td style=\"text-align: right;\">          35</td><td>(&#x27;MAEAUC&#x27;, 0.1)  </td><td style=\"text-align: right;\">0.01 </td><td style=\"text-align: right;\">       </td><td style=\"text-align: right;\">      </td><td style=\"text-align: right;\">                </td></tr>\n",
              "<tr><td>DEFAULT_5d087_00028</td><td>PENDING   </td><td>               </td><td style=\"text-align: right;\">         256</td><td style=\"text-align: right;\">          70</td><td>(&#x27;MAEAUC&#x27;, 0.1)  </td><td style=\"text-align: right;\">0.01 </td><td style=\"text-align: right;\">       </td><td style=\"text-align: right;\">      </td><td style=\"text-align: right;\">                </td></tr>\n",
              "<tr><td>DEFAULT_5d087_00029</td><td>PENDING   </td><td>               </td><td style=\"text-align: right;\">         256</td><td style=\"text-align: right;\">         105</td><td>(&#x27;MAEAUC&#x27;, 0.1)  </td><td style=\"text-align: right;\">0.01 </td><td style=\"text-align: right;\">       </td><td style=\"text-align: right;\">      </td><td style=\"text-align: right;\">                </td></tr>\n",
              "<tr><td>DEFAULT_5d087_00030</td><td>PENDING   </td><td>               </td><td style=\"text-align: right;\">         256</td><td style=\"text-align: right;\">          35</td><td>(&#x27;MAEAUC&#x27;, 1)    </td><td style=\"text-align: right;\">0.01 </td><td style=\"text-align: right;\">       </td><td style=\"text-align: right;\">      </td><td style=\"text-align: right;\">                </td></tr>\n",
              "<tr><td>DEFAULT_5d087_00031</td><td>PENDING   </td><td>               </td><td style=\"text-align: right;\">         256</td><td style=\"text-align: right;\">          70</td><td>(&#x27;MAEAUC&#x27;, 1)    </td><td style=\"text-align: right;\">0.01 </td><td style=\"text-align: right;\">       </td><td style=\"text-align: right;\">      </td><td style=\"text-align: right;\">                </td></tr>\n",
              "<tr><td>DEFAULT_5d087_00032</td><td>PENDING   </td><td>               </td><td style=\"text-align: right;\">         256</td><td style=\"text-align: right;\">         105</td><td>(&#x27;MAEAUC&#x27;, 1)    </td><td style=\"text-align: right;\">0.01 </td><td style=\"text-align: right;\">       </td><td style=\"text-align: right;\">      </td><td style=\"text-align: right;\">                </td></tr>\n",
              "<tr><td>DEFAULT_5d087_00033</td><td>PENDING   </td><td>               </td><td style=\"text-align: right;\">         256</td><td style=\"text-align: right;\">          35</td><td>(&#x27;MAEAUC&#x27;, 10)   </td><td style=\"text-align: right;\">0.01 </td><td style=\"text-align: right;\">       </td><td style=\"text-align: right;\">      </td><td style=\"text-align: right;\">                </td></tr>\n",
              "<tr><td>DEFAULT_5d087_00034</td><td>PENDING   </td><td>               </td><td style=\"text-align: right;\">         256</td><td style=\"text-align: right;\">          70</td><td>(&#x27;MAEAUC&#x27;, 10)   </td><td style=\"text-align: right;\">0.01 </td><td style=\"text-align: right;\">       </td><td style=\"text-align: right;\">      </td><td style=\"text-align: right;\">                </td></tr>\n",
              "<tr><td>DEFAULT_5d087_00035</td><td>PENDING   </td><td>               </td><td style=\"text-align: right;\">         256</td><td style=\"text-align: right;\">         105</td><td>(&#x27;MAEAUC&#x27;, 10)   </td><td style=\"text-align: right;\">0.01 </td><td style=\"text-align: right;\">       </td><td style=\"text-align: right;\">      </td><td style=\"text-align: right;\">                </td></tr>\n",
              "<tr><td>DEFAULT_5d087_00000</td><td>TERMINATED</td><td>               </td><td style=\"text-align: right;\">         256</td><td style=\"text-align: right;\">          35</td><td>(&#x27;MAE&#x27;, 0)       </td><td style=\"text-align: right;\">0.001</td><td style=\"text-align: right;\">1.99559</td><td style=\"text-align: right;\">     1</td><td style=\"text-align: right;\">        12.3246 </td></tr>\n",
              "<tr><td>DEFAULT_5d087_00001</td><td>TERMINATED</td><td>               </td><td style=\"text-align: right;\">         256</td><td style=\"text-align: right;\">          70</td><td>(&#x27;MAE&#x27;, 0)       </td><td style=\"text-align: right;\">0.001</td><td style=\"text-align: right;\">1.98247</td><td style=\"text-align: right;\">     1</td><td style=\"text-align: right;\">         4.70409</td></tr>\n",
              "<tr><td>DEFAULT_5d087_00002</td><td>TERMINATED</td><td>               </td><td style=\"text-align: right;\">         256</td><td style=\"text-align: right;\">         105</td><td>(&#x27;MAE&#x27;, 0)       </td><td style=\"text-align: right;\">0.001</td><td style=\"text-align: right;\">1.98955</td><td style=\"text-align: right;\">     1</td><td style=\"text-align: right;\">         4.80142</td></tr>\n",
              "<tr><td>DEFAULT_5d087_00003</td><td>TERMINATED</td><td>               </td><td style=\"text-align: right;\">         256</td><td style=\"text-align: right;\">          35</td><td>(&#x27;MAEAUC&#x27;, 0.001)</td><td style=\"text-align: right;\">0.001</td><td style=\"text-align: right;\">1.99573</td><td style=\"text-align: right;\">     1</td><td style=\"text-align: right;\">         4.73747</td></tr>\n",
              "<tr><td>DEFAULT_5d087_00004</td><td>TERMINATED</td><td>               </td><td style=\"text-align: right;\">         256</td><td style=\"text-align: right;\">          70</td><td>(&#x27;MAEAUC&#x27;, 0.001)</td><td style=\"text-align: right;\">0.001</td><td style=\"text-align: right;\">1.99686</td><td style=\"text-align: right;\">     1</td><td style=\"text-align: right;\">         4.74517</td></tr>\n",
              "<tr><td>DEFAULT_5d087_00005</td><td>TERMINATED</td><td>               </td><td style=\"text-align: right;\">         256</td><td style=\"text-align: right;\">         105</td><td>(&#x27;MAEAUC&#x27;, 0.001)</td><td style=\"text-align: right;\">0.001</td><td style=\"text-align: right;\">1.97942</td><td style=\"text-align: right;\">     1</td><td style=\"text-align: right;\">         4.70129</td></tr>\n",
              "<tr><td>DEFAULT_5d087_00006</td><td>TERMINATED</td><td>               </td><td style=\"text-align: right;\">         256</td><td style=\"text-align: right;\">          35</td><td>(&#x27;MAEAUC&#x27;, 0.01) </td><td style=\"text-align: right;\">0.001</td><td style=\"text-align: right;\">1.99736</td><td style=\"text-align: right;\">     1</td><td style=\"text-align: right;\">         4.59657</td></tr>\n",
              "<tr><td>DEFAULT_5d087_00007</td><td>TERMINATED</td><td>               </td><td style=\"text-align: right;\">         256</td><td style=\"text-align: right;\">          70</td><td>(&#x27;MAEAUC&#x27;, 0.01) </td><td style=\"text-align: right;\">0.001</td><td style=\"text-align: right;\">1.99013</td><td style=\"text-align: right;\">     1</td><td style=\"text-align: right;\">         4.67644</td></tr>\n",
              "<tr><td>DEFAULT_5d087_00008</td><td>TERMINATED</td><td>               </td><td style=\"text-align: right;\">         256</td><td style=\"text-align: right;\">         105</td><td>(&#x27;MAEAUC&#x27;, 0.01) </td><td style=\"text-align: right;\">0.001</td><td style=\"text-align: right;\">1.97145</td><td style=\"text-align: right;\">     1</td><td style=\"text-align: right;\">         4.66659</td></tr>\n",
              "<tr><td>DEFAULT_5d087_00009</td><td>TERMINATED</td><td>               </td><td style=\"text-align: right;\">         256</td><td style=\"text-align: right;\">          35</td><td>(&#x27;MAEAUC&#x27;, 0.1)  </td><td style=\"text-align: right;\">0.001</td><td style=\"text-align: right;\">1.99685</td><td style=\"text-align: right;\">     1</td><td style=\"text-align: right;\">         4.698  </td></tr>\n",
              "</tbody>\n",
              "</table><br>... 16 more trials not shown (16 TERMINATED)<br><br>"
            ],
            "text/plain": [
              "<IPython.core.display.HTML object>"
            ]
          },
          "metadata": {
            "tags": []
          }
        },
        {
          "output_type": "stream",
          "text": [
            "2021-05-25 07:21:16,948\tINFO logger.py:690 -- Removed the following hyperparameter values when logging to tensorboard: {'loss_param': ('MAEAUC', 0.01)}\n"
          ],
          "name": "stderr"
        },
        {
          "output_type": "stream",
          "text": [
            "Result for DEFAULT_5d087_00026:\n",
            "  date: 2021-05-25_07-21-16\n",
            "  done: true\n",
            "  experiment_id: db29d1f8f918437593561778fcac106c\n",
            "  experiment_tag: 26_batch_size=256,latent_dim=105,loss_param=('MAEAUC', 0.01),lr=0.01\n",
            "  hostname: d76bb801c9dd\n",
            "  iterations_since_restore: 1\n",
            "  mean_accuracy: 1.9393603801727295\n",
            "  node_ip: 172.28.0.2\n",
            "  pid: 1283\n",
            "  should_checkpoint: true\n",
            "  time_since_restore: 4.699335098266602\n",
            "  time_this_iter_s: 4.699335098266602\n",
            "  time_total_s: 4.699335098266602\n",
            "  timestamp: 1621927276\n",
            "  timesteps_since_restore: 0\n",
            "  training_iteration: 1\n",
            "  trial_id: 5d087_00026\n",
            "  \n"
          ],
          "name": "stdout"
        },
        {
          "output_type": "stream",
          "text": [
            "\u001b[2m\u001b[33m(raylet)\u001b[0m /usr/local/lib/python3.7/dist-packages/ray/autoscaler/_private/cli_logger.py:61: FutureWarning: Not all Ray CLI dependencies were found. In Ray 1.4+, the Ray CLI, autoscaler, and dashboard will only be usable via `pip install 'ray[default]'`. Please update your install command.\n",
            "\u001b[2m\u001b[33m(raylet)\u001b[0m   \"update your install command.\", FutureWarning)\n"
          ],
          "name": "stderr"
        },
        {
          "output_type": "stream",
          "text": [
            "\u001b[2m\u001b[36m(pid=1311)\u001b[0m Operation will be on *****GPU-CUDA***** \n"
          ],
          "name": "stdout"
        },
        {
          "output_type": "stream",
          "text": [
            "\u001b[2m\u001b[36m(pid=1311)\u001b[0m /usr/local/lib/python3.7/dist-packages/sklearn/model_selection/_split.py:667: UserWarning: The least populated class in y has only 2 members, which is less than n_splits=5.\n",
            "\u001b[2m\u001b[36m(pid=1311)\u001b[0m   % (min_groups, self.n_splits)), UserWarning)\n",
            "\u001b[2m\u001b[36m(pid=1311)\u001b[0m /usr/local/lib/python3.7/dist-packages/sklearn/model_selection/_split.py:667: UserWarning: The least populated class in y has only 2 members, which is less than n_splits=5.\n",
            "\u001b[2m\u001b[36m(pid=1311)\u001b[0m   % (min_groups, self.n_splits)), UserWarning)\n",
            "\u001b[2m\u001b[36m(pid=1311)\u001b[0m /usr/local/lib/python3.7/dist-packages/sklearn/model_selection/_split.py:667: UserWarning: The least populated class in y has only 2 members, which is less than n_splits=5.\n",
            "\u001b[2m\u001b[36m(pid=1311)\u001b[0m   % (min_groups, self.n_splits)), UserWarning)\n"
          ],
          "name": "stderr"
        }
      ]
    }
  ]
}
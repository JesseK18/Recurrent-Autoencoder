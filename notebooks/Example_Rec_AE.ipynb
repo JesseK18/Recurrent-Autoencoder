{
  "nbformat": 4,
  "nbformat_minor": 0,
  "metadata": {
    "colab": {
      "name": "Example Rec AE.ipynb",
      "provenance": [],
      "collapsed_sections": [],
      "mount_file_id": "18GuJipgF0Vu9SU1s0YwvJoCqmCyLzR7f",
      "authorship_tag": "ABX9TyOsH1hBMZ+2nFhmKMbkX9W+"
    },
    "kernelspec": {
      "name": "python3",
      "display_name": "Python 3"
    },
    "language_info": {
      "name": "python"
    },
    "accelerator": "GPU"
  },
  "cells": [
    {
      "cell_type": "markdown",
      "metadata": {
        "id": "CQZYJdi0WvH2"
      },
      "source": [
        "# **Installing required dependencies**\n",
        "\n",
        "Before installing dependencies, recall to set the \"Runtime\""
      ]
    },
    {
      "cell_type": "code",
      "metadata": {
        "id": "n2JW2QS4WTmU",
        "colab": {
          "base_uri": "https://localhost:8080/"
        },
        "outputId": "6c6506d5-dbb0-4f26-d686-c0efb87ee15c"
      },
      "source": [
        "# Installing the necessary dependencies before beginning \n",
        "\n",
        "print(\"Setting up colab environment\")\n",
        "!pip uninstall -y -q pyarrow\n",
        "!pip install -q -U ray[tune]\n",
        "!pip install -q ray[debug]\n",
        "\n",
        "# # A hack to force the runtime to restart, needed to include the above dependencies.\n",
        "print(\"Done installing! Restarting via forced crash.\")\n",
        "import os\n",
        "os._exit(0)"
      ],
      "execution_count": null,
      "outputs": [
        {
          "output_type": "stream",
          "text": [
            "Setting up colab environment\n",
            "\u001b[33mWARNING: Skipping pyarrow as it is not installed.\u001b[0m\n",
            "\u001b[33m  WARNING: ray 1.3.0 does not provide the extra 'debug'\u001b[0m\n"
          ],
          "name": "stdout"
        }
      ]
    },
    {
      "cell_type": "markdown",
      "metadata": {
        "id": "YMGJXVZEW7Fk"
      },
      "source": [
        "**# Setting the path (IMPORTANT!!!)**"
      ]
    },
    {
      "cell_type": "code",
      "metadata": {
        "id": "22r5oJjwXAI3"
      },
      "source": [
        "# Setting the path\n",
        "import os\n",
        "os.chdir('/content/drive/MyDrive/RecAE') # /content/drive/MyDrive/RecAE"
      ],
      "execution_count": 2,
      "outputs": []
    },
    {
      "cell_type": "markdown",
      "metadata": {
        "id": "WoHk8BcvXRa9"
      },
      "source": [
        "# **Data downloading and partitioning**\n"
      ]
    },
    {
      "cell_type": "code",
      "metadata": {
        "colab": {
          "base_uri": "https://localhost:8080/"
        },
        "id": "pgZYWF5wDJjc",
        "outputId": "ed344802-32e4-43af-f902-c7c769a17805"
      },
      "source": [
        "!python utils/data_preparation.py -h"
      ],
      "execution_count": 3,
      "outputs": [
        {
          "output_type": "stream",
          "text": [
            "usage: data_preparation.py [-h] download perc_tr_n perc_val_n perc_val_an\n",
            "\n",
            "Data downloading and partitioning\n",
            "\n",
            "positional arguments:\n",
            "  download     Download data 1, otherwise 0\n",
            "  perc_tr_n    Percentage of normal instances to be placed in the training\n",
            "               set.\n",
            "  perc_val_n   Percentage of normal instances to be placed in the validation\n",
            "               set:half of these are used to control model training, the\n",
            "               remaining ones for model selection.\n",
            "  perc_val_an  Percentage of anomalous instances w.r.t. normal instances in\n",
            "               the training setused for model selection(e.g, if the training\n",
            "               set contains 95 normal instances, if you set this parameter\n",
            "               equal to 0.05, then,5 anomalous instances will be selected).The\n",
            "               remamining anomalous instances are placed in the test set.\n",
            "\n",
            "optional arguments:\n",
            "  -h, --help   show this help message and exit\n"
          ],
          "name": "stdout"
        }
      ]
    },
    {
      "cell_type": "code",
      "metadata": {
        "colab": {
          "base_uri": "https://localhost:8080/"
        },
        "id": "5JcXFdYaXV6c",
        "outputId": "f0332a41-275c-4af1-d6f2-eb9bb2662c4f"
      },
      "source": [
        "!python utils/data_preparation.py 1 0.5 0.5 0.05"
      ],
      "execution_count": 2,
      "outputs": [
        {
          "output_type": "stream",
          "text": [
            "### Starting downloading ECG5000 data ###\n",
            "### Download done! ###\n",
            "Extracting all the files now...\n",
            "Extraction done!\n",
            "Saved data in numpy\n",
            "Data preparation done!\n"
          ],
          "name": "stdout"
        }
      ]
    },
    {
      "cell_type": "markdown",
      "metadata": {
        "id": "OlvDnm5HXfAt"
      },
      "source": [
        "# **Model training and grid search**\n",
        "\n",
        "For model training with grid search, you can run the following cell, alternatively you can open the file \"main_tune.py\", set your configuration and then running \n",
        "\n",
        "\n",
        "```\n",
        "!python main_tune.py\n",
        "```\n",
        "\n",
        "\n",
        "\n",
        "\n"
      ]
    },
    {
      "cell_type": "code",
      "metadata": {
        "id": "ojYtLbPfX598"
      },
      "source": [
        "import numpy as np\n",
        "import pandas as pd\n",
        "import os\n",
        "from ray import tune\n",
        "from easydict import EasyDict\n",
        "from functools import partial\n",
        "\n",
        "import torch\n",
        "import torch.nn as nn\n",
        "import torch.optim as optim\n",
        "\n",
        "from agents.rnn_autoencoder import RecurrentAEAgent\n",
        "from graphs.models.recurrent_autoencoder import RecurrentAE\n",
        "from datasets.common_loader import RecAEDataLoader \n",
        "\n",
        "import warnings\n",
        "warnings.filterwarnings(\"ignore\")\n",
        "\n",
        "# Project configuration\n",
        "config_rnn_ae = {\n",
        "\n",
        "    # Experiment information\n",
        "    \"agent\": \"RecurrentAEAgent\", # Fisso\n",
        "\n",
        "    # Architecture hyperparameters\n",
        "    \"rnn_type\": \"GRU\", # LSTM, RNN\n",
        "    \"rnn_act\": \"None\", # Da specificare solo se uso RNN\n",
        "    \"n_features\": 1, # Number of different input signals\n",
        "\n",
        "    # Optimization hyperparameters\n",
        "    \"batch_size_val\": 256,\n",
        "    \"max_epoch\": 2000, # Da mettere alto\n",
        "\n",
        "    # AUC hyperparameters\n",
        "    'sampler_random_state': 88, # Da non \n",
        "\n",
        "    # Folder where to retrieve the data and their names (IMPORTANT: it must be a global dir)\n",
        "    \"data_folder\":  \"/content/drive/MyDrive/RecAE/data/ECG5000/numpy/\",\n",
        "    \"X_train\": \"X_train.npy\",\n",
        "    \"y_train\": \"y_train.npy\",\n",
        "    \"X_train_p\": \"X_train_p.npy\",\n",
        "    \"y_train_p\": \"y_train_p.npy\",\n",
        "    \"X_val\": \"X_val.npy\",\n",
        "    \"y_val\": \"y_val.npy\",\n",
        "    \"X_test\": \"X_test.npy\",\n",
        "    \"y_test\": \"y_test.npy\",\n",
        "    \"X_val_p\": \"X_val_p.npy\",\n",
        "    \"y_val_p\": \"y_val_p.npy\",\n",
        "\n",
        "    # GPU settings\n",
        "    \"cuda\": True, # True or False\n",
        "    \"device\": \"cuda\", # se non si usa la GPU mettere \"cpu\"\n",
        "    \"gpu_device\": 0, # Non toccare\n",
        "    \"seed\": 58, # Non toccare\n",
        "\n",
        "    # Tune\n",
        "    'tune': True # Necessario per fare grid search\n",
        "}\n",
        "\n",
        "# From dict to easydict\n",
        "config_rnn_ae = EasyDict(config_rnn_ae)\n",
        "\n",
        "\n",
        "# First two parameters must be \"config\" and \"checkpoint_dir\"\n",
        "def tune_model(config, checkpoint_dir = None, config_rnn_ae = None):\n",
        "    \n",
        "    loss_type, lambda_reg = config['loss_param']\n",
        "    config['loss_type'] = loss_type\n",
        "    config['lambda_reg'] = lambda_reg\n",
        "\n",
        "    # TO DO add the following to directly to the agent class \n",
        "    if config[\"loss_type\"] == 'MAE':\n",
        "      config_rnn_ae.training_type = 'one_class'\n",
        "    else:\n",
        "      config_rnn_ae.training_type = 'more_class'\n",
        "\n",
        "    # Create an instance of the agent\n",
        "    agent = RecurrentAEAgent(config_rnn_ae)\n",
        "\n",
        "    # Create an instance from the data loader\n",
        "    agent.data_loader = RecAEDataLoader(config[\"batch_size\"], agent.config) \n",
        "\n",
        "    # Setting the model\n",
        "    agent.model = RecurrentAE(config[\"latent_dim\"], agent.config)\n",
        "    agent.model.to(agent.device)\n",
        "\n",
        "    # Setting the loss\n",
        "    agent.loss = agent.possible_loss[config[\"loss_type\"]]\n",
        "    agent.loss.to(agent.device)\n",
        "\n",
        "    # Setting the optimizer\n",
        "    agent.optimizer = torch.optim.Adam(agent.model.parameters(), lr = config[\"lr\"])\n",
        "    agent.train_tune(config['lambda_reg'], checkpoint_dir)\n",
        "\n",
        "    # Finalizing\n",
        "    agent.finalize_tune(checkpoint_dir)   \n",
        "    perf = agent.best_valid\n",
        "\n",
        "    # Metric to be reported by tune\n",
        "    tune.report(mean_accuracy = perf)\n",
        "\n",
        "\n",
        "# Folder where to save experiments the results\n",
        "my_dir = \"/content/drive/MyDrive/RecAE/experiments\"\n",
        "\n",
        "# Project name\n",
        "project_name ='ECG_5000' # Give a name like the dataset\n",
        "\n",
        "# Creating nested conditional grid \n",
        "def _iter_loss():\n",
        "    for loss in ['MAE','MAEAUC']:\n",
        "        if loss == 'MAE':\n",
        "            yield loss, 0\n",
        "        else:\n",
        "            for lambda_reg in [0.001,0.01, 0.1, 1, 10]:\n",
        "                yield loss, lambda_reg\n",
        "\n",
        "analysis = tune.run(partial(tune_model, config_rnn_ae = config_rnn_ae), \n",
        "                config = {\"latent_dim\": tune.grid_search([35, 70, 105]),\n",
        "                          \"lr\": tune.grid_search([0.001, 0.01]),\n",
        "                          \"batch_size\": tune.grid_search([256]),\n",
        "                          \"loss_param\": tune.grid_search(list(_iter_loss()))}, \n",
        "                resources_per_trial = {\"cpu\": 2, \"gpu\": 1}, \n",
        "                name = project_name, \n",
        "                local_dir = my_dir) #, resume = True)\n",
        "\n",
        "\n",
        "# Saving all results\n",
        "df = analysis.dataframe()\n",
        "df.to_pickle(my_dir + '/df_analysis.pkl')"
      ],
      "execution_count": null,
      "outputs": []
    }
  ]
}